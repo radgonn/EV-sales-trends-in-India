{
 "cells": [
  {
   "cell_type": "code",
   "execution_count": 1,
   "id": "7c525bd9",
   "metadata": {},
   "outputs": [
    {
     "data": {
      "text/html": [
       "<div>\n",
       "<style scoped>\n",
       "    .dataframe tbody tr th:only-of-type {\n",
       "        vertical-align: middle;\n",
       "    }\n",
       "\n",
       "    .dataframe tbody tr th {\n",
       "        vertical-align: top;\n",
       "    }\n",
       "\n",
       "    .dataframe thead th {\n",
       "        text-align: right;\n",
       "    }\n",
       "</style>\n",
       "<table border=\"1\" class=\"dataframe\">\n",
       "  <thead>\n",
       "    <tr style=\"text-align: right;\">\n",
       "      <th></th>\n",
       "      <th>date</th>\n",
       "      <th>vehicle_category</th>\n",
       "      <th>maker</th>\n",
       "      <th>electric_vehicles_sold</th>\n",
       "    </tr>\n",
       "  </thead>\n",
       "  <tbody>\n",
       "    <tr>\n",
       "      <th>0</th>\n",
       "      <td>01-Apr-21</td>\n",
       "      <td>2-Wheelers</td>\n",
       "      <td>OLA ELECTRIC</td>\n",
       "      <td>0</td>\n",
       "    </tr>\n",
       "    <tr>\n",
       "      <th>1</th>\n",
       "      <td>01-Apr-22</td>\n",
       "      <td>2-Wheelers</td>\n",
       "      <td>OKAYA EV</td>\n",
       "      <td>0</td>\n",
       "    </tr>\n",
       "    <tr>\n",
       "      <th>2</th>\n",
       "      <td>01-May-21</td>\n",
       "      <td>2-Wheelers</td>\n",
       "      <td>OLA ELECTRIC</td>\n",
       "      <td>0</td>\n",
       "    </tr>\n",
       "    <tr>\n",
       "      <th>3</th>\n",
       "      <td>01-Jun-21</td>\n",
       "      <td>2-Wheelers</td>\n",
       "      <td>OLA ELECTRIC</td>\n",
       "      <td>0</td>\n",
       "    </tr>\n",
       "    <tr>\n",
       "      <th>4</th>\n",
       "      <td>01-Jul-21</td>\n",
       "      <td>2-Wheelers</td>\n",
       "      <td>OLA ELECTRIC</td>\n",
       "      <td>0</td>\n",
       "    </tr>\n",
       "  </tbody>\n",
       "</table>\n",
       "</div>"
      ],
      "text/plain": [
       "        date vehicle_category         maker  electric_vehicles_sold\n",
       "0  01-Apr-21       2-Wheelers  OLA ELECTRIC                       0\n",
       "1  01-Apr-22       2-Wheelers      OKAYA EV                       0\n",
       "2  01-May-21       2-Wheelers  OLA ELECTRIC                       0\n",
       "3  01-Jun-21       2-Wheelers  OLA ELECTRIC                       0\n",
       "4  01-Jul-21       2-Wheelers  OLA ELECTRIC                       0"
      ]
     },
     "execution_count": 1,
     "metadata": {},
     "output_type": "execute_result"
    }
   ],
   "source": [
    "import pandas as pd\n",
    "import numpy as np \n",
    "import plotly.express as px\n",
    "import warnings\n",
    "warnings.filterwarnings(\"ignore\")\n",
    "\n",
    "\n",
    "df_makers=pd.read_csv('electric_vehicle_sales_by_makers.csv')\n",
    "df_makers.head()"
   ]
  },
  {
   "cell_type": "code",
   "execution_count": 2,
   "id": "12170748",
   "metadata": {},
   "outputs": [
    {
     "name": "stdout",
     "output_type": "stream",
     "text": [
      "<class 'pandas.core.frame.DataFrame'>\n",
      "RangeIndex: 816 entries, 0 to 815\n",
      "Data columns (total 4 columns):\n",
      " #   Column                  Non-Null Count  Dtype \n",
      "---  ------                  --------------  ----- \n",
      " 0   date                    816 non-null    object\n",
      " 1   vehicle_category        816 non-null    object\n",
      " 2   maker                   816 non-null    object\n",
      " 3   electric_vehicles_sold  816 non-null    int64 \n",
      "dtypes: int64(1), object(3)\n",
      "memory usage: 25.6+ KB\n"
     ]
    }
   ],
   "source": [
    "df_makers.info()"
   ]
  },
  {
   "cell_type": "code",
   "execution_count": 3,
   "id": "14deee7e",
   "metadata": {},
   "outputs": [
    {
     "data": {
      "text/plain": [
       "date                      0\n",
       "vehicle_category          0\n",
       "maker                     0\n",
       "electric_vehicles_sold    0\n",
       "dtype: int64"
      ]
     },
     "execution_count": 3,
     "metadata": {},
     "output_type": "execute_result"
    }
   ],
   "source": [
    "#check for null values\n",
    "df_makers.isnull().sum()"
   ]
  },
  {
   "cell_type": "code",
   "execution_count": 4,
   "id": "6c180b71",
   "metadata": {},
   "outputs": [],
   "source": [
    "#changing date object to date format\n",
    "df_makers['date']=pd.to_datetime(df_makers['date'],format='%d-%b-%y')"
   ]
  },
  {
   "cell_type": "code",
   "execution_count": 5,
   "id": "0c865ede",
   "metadata": {},
   "outputs": [
    {
     "name": "stdout",
     "output_type": "stream",
     "text": [
      "<class 'pandas.core.frame.DataFrame'>\n",
      "RangeIndex: 816 entries, 0 to 815\n",
      "Data columns (total 4 columns):\n",
      " #   Column                  Non-Null Count  Dtype         \n",
      "---  ------                  --------------  -----         \n",
      " 0   date                    816 non-null    datetime64[ns]\n",
      " 1   vehicle_category        816 non-null    object        \n",
      " 2   maker                   816 non-null    object        \n",
      " 3   electric_vehicles_sold  816 non-null    int64         \n",
      "dtypes: datetime64[ns](1), int64(1), object(2)\n",
      "memory usage: 25.6+ KB\n"
     ]
    }
   ],
   "source": [
    "df_makers.info()"
   ]
  },
  {
   "cell_type": "code",
   "execution_count": 6,
   "id": "23d8a191",
   "metadata": {},
   "outputs": [
    {
     "data": {
      "text/html": [
       "<div>\n",
       "<style scoped>\n",
       "    .dataframe tbody tr th:only-of-type {\n",
       "        vertical-align: middle;\n",
       "    }\n",
       "\n",
       "    .dataframe tbody tr th {\n",
       "        vertical-align: top;\n",
       "    }\n",
       "\n",
       "    .dataframe thead th {\n",
       "        text-align: right;\n",
       "    }\n",
       "</style>\n",
       "<table border=\"1\" class=\"dataframe\">\n",
       "  <thead>\n",
       "    <tr style=\"text-align: right;\">\n",
       "      <th></th>\n",
       "      <th>date</th>\n",
       "      <th>state</th>\n",
       "      <th>vehicle_category</th>\n",
       "      <th>electric_vehicles_sold</th>\n",
       "      <th>total_vehicles_sold</th>\n",
       "    </tr>\n",
       "  </thead>\n",
       "  <tbody>\n",
       "    <tr>\n",
       "      <th>0</th>\n",
       "      <td>01-Apr-21</td>\n",
       "      <td>Sikkim</td>\n",
       "      <td>2-Wheelers</td>\n",
       "      <td>0</td>\n",
       "      <td>398</td>\n",
       "    </tr>\n",
       "    <tr>\n",
       "      <th>1</th>\n",
       "      <td>01-Apr-21</td>\n",
       "      <td>Sikkim</td>\n",
       "      <td>4-Wheelers</td>\n",
       "      <td>0</td>\n",
       "      <td>361</td>\n",
       "    </tr>\n",
       "    <tr>\n",
       "      <th>2</th>\n",
       "      <td>01-May-21</td>\n",
       "      <td>Sikkim</td>\n",
       "      <td>2-Wheelers</td>\n",
       "      <td>0</td>\n",
       "      <td>113</td>\n",
       "    </tr>\n",
       "    <tr>\n",
       "      <th>3</th>\n",
       "      <td>01-May-21</td>\n",
       "      <td>Sikkim</td>\n",
       "      <td>4-Wheelers</td>\n",
       "      <td>0</td>\n",
       "      <td>98</td>\n",
       "    </tr>\n",
       "    <tr>\n",
       "      <th>4</th>\n",
       "      <td>01-Jun-21</td>\n",
       "      <td>Sikkim</td>\n",
       "      <td>2-Wheelers</td>\n",
       "      <td>0</td>\n",
       "      <td>229</td>\n",
       "    </tr>\n",
       "  </tbody>\n",
       "</table>\n",
       "</div>"
      ],
      "text/plain": [
       "        date   state vehicle_category  electric_vehicles_sold  \\\n",
       "0  01-Apr-21  Sikkim       2-Wheelers                       0   \n",
       "1  01-Apr-21  Sikkim       4-Wheelers                       0   \n",
       "2  01-May-21  Sikkim       2-Wheelers                       0   \n",
       "3  01-May-21  Sikkim       4-Wheelers                       0   \n",
       "4  01-Jun-21  Sikkim       2-Wheelers                       0   \n",
       "\n",
       "   total_vehicles_sold  \n",
       "0                  398  \n",
       "1                  361  \n",
       "2                  113  \n",
       "3                   98  \n",
       "4                  229  "
      ]
     },
     "execution_count": 6,
     "metadata": {},
     "output_type": "execute_result"
    }
   ],
   "source": [
    "df_state=pd.read_csv('electric_vehicle_sales_by_state.csv')\n",
    "df_state.head()"
   ]
  },
  {
   "cell_type": "code",
   "execution_count": 7,
   "id": "39b026dc",
   "metadata": {},
   "outputs": [
    {
     "data": {
      "text/plain": [
       "date                      0\n",
       "state                     0\n",
       "vehicle_category          0\n",
       "electric_vehicles_sold    0\n",
       "total_vehicles_sold       0\n",
       "dtype: int64"
      ]
     },
     "execution_count": 7,
     "metadata": {},
     "output_type": "execute_result"
    }
   ],
   "source": [
    "#check for null values\n",
    "df_state.isnull().sum()"
   ]
  },
  {
   "cell_type": "code",
   "execution_count": 8,
   "id": "a0e631a0",
   "metadata": {},
   "outputs": [
    {
     "name": "stdout",
     "output_type": "stream",
     "text": [
      "<class 'pandas.core.frame.DataFrame'>\n",
      "RangeIndex: 2445 entries, 0 to 2444\n",
      "Data columns (total 5 columns):\n",
      " #   Column                  Non-Null Count  Dtype \n",
      "---  ------                  --------------  ----- \n",
      " 0   date                    2445 non-null   object\n",
      " 1   state                   2445 non-null   object\n",
      " 2   vehicle_category        2445 non-null   object\n",
      " 3   electric_vehicles_sold  2445 non-null   int64 \n",
      " 4   total_vehicles_sold     2445 non-null   int64 \n",
      "dtypes: int64(2), object(3)\n",
      "memory usage: 95.6+ KB\n"
     ]
    }
   ],
   "source": [
    "df_state.info()"
   ]
  },
  {
   "cell_type": "code",
   "execution_count": 9,
   "id": "3380470a",
   "metadata": {},
   "outputs": [],
   "source": [
    "#changing date object to date format\n",
    "df_state['date']=pd.to_datetime(df_state['date'],format='%d-%b-%y')"
   ]
  },
  {
   "cell_type": "code",
   "execution_count": 10,
   "id": "3122c136",
   "metadata": {},
   "outputs": [
    {
     "name": "stdout",
     "output_type": "stream",
     "text": [
      "<class 'pandas.core.frame.DataFrame'>\n",
      "RangeIndex: 2445 entries, 0 to 2444\n",
      "Data columns (total 5 columns):\n",
      " #   Column                  Non-Null Count  Dtype         \n",
      "---  ------                  --------------  -----         \n",
      " 0   date                    2445 non-null   datetime64[ns]\n",
      " 1   state                   2445 non-null   object        \n",
      " 2   vehicle_category        2445 non-null   object        \n",
      " 3   electric_vehicles_sold  2445 non-null   int64         \n",
      " 4   total_vehicles_sold     2445 non-null   int64         \n",
      "dtypes: datetime64[ns](1), int64(2), object(2)\n",
      "memory usage: 95.6+ KB\n"
     ]
    }
   ],
   "source": [
    "df_state.info()"
   ]
  },
  {
   "cell_type": "code",
   "execution_count": 11,
   "id": "a302659e",
   "metadata": {},
   "outputs": [
    {
     "data": {
      "text/html": [
       "<div>\n",
       "<style scoped>\n",
       "    .dataframe tbody tr th:only-of-type {\n",
       "        vertical-align: middle;\n",
       "    }\n",
       "\n",
       "    .dataframe tbody tr th {\n",
       "        vertical-align: top;\n",
       "    }\n",
       "\n",
       "    .dataframe thead th {\n",
       "        text-align: right;\n",
       "    }\n",
       "</style>\n",
       "<table border=\"1\" class=\"dataframe\">\n",
       "  <thead>\n",
       "    <tr style=\"text-align: right;\">\n",
       "      <th></th>\n",
       "      <th>date</th>\n",
       "      <th>fiscal_year</th>\n",
       "      <th>quarter</th>\n",
       "    </tr>\n",
       "  </thead>\n",
       "  <tbody>\n",
       "    <tr>\n",
       "      <th>0</th>\n",
       "      <td>01-Apr-21</td>\n",
       "      <td>2022</td>\n",
       "      <td>Q1</td>\n",
       "    </tr>\n",
       "    <tr>\n",
       "      <th>1</th>\n",
       "      <td>01-May-21</td>\n",
       "      <td>2022</td>\n",
       "      <td>Q1</td>\n",
       "    </tr>\n",
       "    <tr>\n",
       "      <th>2</th>\n",
       "      <td>01-Jun-21</td>\n",
       "      <td>2022</td>\n",
       "      <td>Q1</td>\n",
       "    </tr>\n",
       "    <tr>\n",
       "      <th>3</th>\n",
       "      <td>01-Jul-21</td>\n",
       "      <td>2022</td>\n",
       "      <td>Q2</td>\n",
       "    </tr>\n",
       "    <tr>\n",
       "      <th>4</th>\n",
       "      <td>01-Aug-21</td>\n",
       "      <td>2022</td>\n",
       "      <td>Q2</td>\n",
       "    </tr>\n",
       "  </tbody>\n",
       "</table>\n",
       "</div>"
      ],
      "text/plain": [
       "        date  fiscal_year quarter\n",
       "0  01-Apr-21         2022      Q1\n",
       "1  01-May-21         2022      Q1\n",
       "2  01-Jun-21         2022      Q1\n",
       "3  01-Jul-21         2022      Q2\n",
       "4  01-Aug-21         2022      Q2"
      ]
     },
     "execution_count": 11,
     "metadata": {},
     "output_type": "execute_result"
    }
   ],
   "source": [
    "df_date=pd.read_csv('dim_date.csv')\n",
    "df_date.head()\n"
   ]
  },
  {
   "cell_type": "code",
   "execution_count": 12,
   "id": "0edb9a65",
   "metadata": {},
   "outputs": [
    {
     "name": "stdout",
     "output_type": "stream",
     "text": [
      "<class 'pandas.core.frame.DataFrame'>\n",
      "RangeIndex: 36 entries, 0 to 35\n",
      "Data columns (total 3 columns):\n",
      " #   Column       Non-Null Count  Dtype \n",
      "---  ------       --------------  ----- \n",
      " 0   date         36 non-null     object\n",
      " 1   fiscal_year  36 non-null     int64 \n",
      " 2   quarter      36 non-null     object\n",
      "dtypes: int64(1), object(2)\n",
      "memory usage: 996.0+ bytes\n"
     ]
    }
   ],
   "source": [
    "df_date.info()"
   ]
  },
  {
   "cell_type": "code",
   "execution_count": 13,
   "id": "4c6a1b2b",
   "metadata": {},
   "outputs": [],
   "source": [
    "#changing date object to date format\n",
    "df_date['date']=pd.to_datetime(df_date['date'],format='%d-%b-%y')"
   ]
  },
  {
   "cell_type": "code",
   "execution_count": 14,
   "id": "94d6918c",
   "metadata": {},
   "outputs": [
    {
     "data": {
      "text/html": [
       "<div>\n",
       "<style scoped>\n",
       "    .dataframe tbody tr th:only-of-type {\n",
       "        vertical-align: middle;\n",
       "    }\n",
       "\n",
       "    .dataframe tbody tr th {\n",
       "        vertical-align: top;\n",
       "    }\n",
       "\n",
       "    .dataframe thead th {\n",
       "        text-align: right;\n",
       "    }\n",
       "</style>\n",
       "<table border=\"1\" class=\"dataframe\">\n",
       "  <thead>\n",
       "    <tr style=\"text-align: right;\">\n",
       "      <th></th>\n",
       "      <th>date</th>\n",
       "      <th>fiscal_year</th>\n",
       "      <th>quarter</th>\n",
       "      <th>vehicle_category</th>\n",
       "      <th>maker</th>\n",
       "      <th>electric_vehicles_sold</th>\n",
       "    </tr>\n",
       "  </thead>\n",
       "  <tbody>\n",
       "    <tr>\n",
       "      <th>0</th>\n",
       "      <td>2021-04-01</td>\n",
       "      <td>2022</td>\n",
       "      <td>Q1</td>\n",
       "      <td>2-Wheelers</td>\n",
       "      <td>OLA ELECTRIC</td>\n",
       "      <td>0</td>\n",
       "    </tr>\n",
       "    <tr>\n",
       "      <th>1</th>\n",
       "      <td>2021-04-01</td>\n",
       "      <td>2022</td>\n",
       "      <td>Q1</td>\n",
       "      <td>4-Wheelers</td>\n",
       "      <td>BYD India</td>\n",
       "      <td>0</td>\n",
       "    </tr>\n",
       "    <tr>\n",
       "      <th>2</th>\n",
       "      <td>2021-04-01</td>\n",
       "      <td>2022</td>\n",
       "      <td>Q1</td>\n",
       "      <td>4-Wheelers</td>\n",
       "      <td>PCA Automobiles</td>\n",
       "      <td>0</td>\n",
       "    </tr>\n",
       "    <tr>\n",
       "      <th>3</th>\n",
       "      <td>2021-04-01</td>\n",
       "      <td>2022</td>\n",
       "      <td>Q1</td>\n",
       "      <td>4-Wheelers</td>\n",
       "      <td>BMW India</td>\n",
       "      <td>0</td>\n",
       "    </tr>\n",
       "    <tr>\n",
       "      <th>4</th>\n",
       "      <td>2021-04-01</td>\n",
       "      <td>2022</td>\n",
       "      <td>Q1</td>\n",
       "      <td>4-Wheelers</td>\n",
       "      <td>Volvo Auto India</td>\n",
       "      <td>0</td>\n",
       "    </tr>\n",
       "    <tr>\n",
       "      <th>...</th>\n",
       "      <td>...</td>\n",
       "      <td>...</td>\n",
       "      <td>...</td>\n",
       "      <td>...</td>\n",
       "      <td>...</td>\n",
       "      <td>...</td>\n",
       "    </tr>\n",
       "    <tr>\n",
       "      <th>811</th>\n",
       "      <td>2024-03-01</td>\n",
       "      <td>2024</td>\n",
       "      <td>Q4</td>\n",
       "      <td>2-Wheelers</td>\n",
       "      <td>BGAUSS</td>\n",
       "      <td>3070</td>\n",
       "    </tr>\n",
       "    <tr>\n",
       "      <th>812</th>\n",
       "      <td>2024-03-01</td>\n",
       "      <td>2024</td>\n",
       "      <td>Q4</td>\n",
       "      <td>2-Wheelers</td>\n",
       "      <td>BATTRE ELECTRIC</td>\n",
       "      <td>625</td>\n",
       "    </tr>\n",
       "    <tr>\n",
       "      <th>813</th>\n",
       "      <td>2024-03-01</td>\n",
       "      <td>2024</td>\n",
       "      <td>Q4</td>\n",
       "      <td>2-Wheelers</td>\n",
       "      <td>KINETIC GREEN</td>\n",
       "      <td>3915</td>\n",
       "    </tr>\n",
       "    <tr>\n",
       "      <th>814</th>\n",
       "      <td>2024-03-01</td>\n",
       "      <td>2024</td>\n",
       "      <td>Q4</td>\n",
       "      <td>2-Wheelers</td>\n",
       "      <td>REVOLT</td>\n",
       "      <td>585</td>\n",
       "    </tr>\n",
       "    <tr>\n",
       "      <th>815</th>\n",
       "      <td>2024-03-01</td>\n",
       "      <td>2024</td>\n",
       "      <td>Q4</td>\n",
       "      <td>2-Wheelers</td>\n",
       "      <td>OTHERS</td>\n",
       "      <td>10579</td>\n",
       "    </tr>\n",
       "  </tbody>\n",
       "</table>\n",
       "<p>816 rows × 6 columns</p>\n",
       "</div>"
      ],
      "text/plain": [
       "          date  fiscal_year quarter vehicle_category             maker  \\\n",
       "0   2021-04-01         2022      Q1       2-Wheelers      OLA ELECTRIC   \n",
       "1   2021-04-01         2022      Q1       4-Wheelers         BYD India   \n",
       "2   2021-04-01         2022      Q1       4-Wheelers   PCA Automobiles   \n",
       "3   2021-04-01         2022      Q1       4-Wheelers         BMW India   \n",
       "4   2021-04-01         2022      Q1       4-Wheelers  Volvo Auto India   \n",
       "..         ...          ...     ...              ...               ...   \n",
       "811 2024-03-01         2024      Q4       2-Wheelers            BGAUSS   \n",
       "812 2024-03-01         2024      Q4       2-Wheelers   BATTRE ELECTRIC   \n",
       "813 2024-03-01         2024      Q4       2-Wheelers     KINETIC GREEN   \n",
       "814 2024-03-01         2024      Q4       2-Wheelers            REVOLT   \n",
       "815 2024-03-01         2024      Q4       2-Wheelers            OTHERS   \n",
       "\n",
       "     electric_vehicles_sold  \n",
       "0                         0  \n",
       "1                         0  \n",
       "2                         0  \n",
       "3                         0  \n",
       "4                         0  \n",
       "..                      ...  \n",
       "811                    3070  \n",
       "812                     625  \n",
       "813                    3915  \n",
       "814                     585  \n",
       "815                   10579  \n",
       "\n",
       "[816 rows x 6 columns]"
      ]
     },
     "execution_count": 14,
     "metadata": {},
     "output_type": "execute_result"
    }
   ],
   "source": [
    "#merging dates data with makers data\n",
    "new_m=pd.merge(df_date,df_makers,on='date',how='inner')\n",
    "new_m"
   ]
  },
  {
   "cell_type": "code",
   "execution_count": 15,
   "id": "5677a4c7",
   "metadata": {},
   "outputs": [
    {
     "data": {
      "text/html": [
       "<div>\n",
       "<style scoped>\n",
       "    .dataframe tbody tr th:only-of-type {\n",
       "        vertical-align: middle;\n",
       "    }\n",
       "\n",
       "    .dataframe tbody tr th {\n",
       "        vertical-align: top;\n",
       "    }\n",
       "\n",
       "    .dataframe thead th {\n",
       "        text-align: right;\n",
       "    }\n",
       "</style>\n",
       "<table border=\"1\" class=\"dataframe\">\n",
       "  <thead>\n",
       "    <tr style=\"text-align: right;\">\n",
       "      <th></th>\n",
       "      <th>date</th>\n",
       "      <th>fiscal_year</th>\n",
       "      <th>quarter</th>\n",
       "      <th>state</th>\n",
       "      <th>vehicle_category</th>\n",
       "      <th>electric_vehicles_sold</th>\n",
       "      <th>total_vehicles_sold</th>\n",
       "    </tr>\n",
       "  </thead>\n",
       "  <tbody>\n",
       "    <tr>\n",
       "      <th>0</th>\n",
       "      <td>2021-04-01</td>\n",
       "      <td>2022</td>\n",
       "      <td>Q1</td>\n",
       "      <td>Sikkim</td>\n",
       "      <td>2-Wheelers</td>\n",
       "      <td>0</td>\n",
       "      <td>398</td>\n",
       "    </tr>\n",
       "    <tr>\n",
       "      <th>1</th>\n",
       "      <td>2021-04-01</td>\n",
       "      <td>2022</td>\n",
       "      <td>Q1</td>\n",
       "      <td>Sikkim</td>\n",
       "      <td>4-Wheelers</td>\n",
       "      <td>0</td>\n",
       "      <td>361</td>\n",
       "    </tr>\n",
       "    <tr>\n",
       "      <th>2</th>\n",
       "      <td>2021-04-01</td>\n",
       "      <td>2022</td>\n",
       "      <td>Q1</td>\n",
       "      <td>Andaman &amp; Nicobar Island</td>\n",
       "      <td>2-Wheelers</td>\n",
       "      <td>0</td>\n",
       "      <td>515</td>\n",
       "    </tr>\n",
       "    <tr>\n",
       "      <th>3</th>\n",
       "      <td>2021-04-01</td>\n",
       "      <td>2022</td>\n",
       "      <td>Q1</td>\n",
       "      <td>Arunachal Pradesh</td>\n",
       "      <td>2-Wheelers</td>\n",
       "      <td>0</td>\n",
       "      <td>1256</td>\n",
       "    </tr>\n",
       "    <tr>\n",
       "      <th>4</th>\n",
       "      <td>2021-04-01</td>\n",
       "      <td>2022</td>\n",
       "      <td>Q1</td>\n",
       "      <td>Arunachal Pradesh</td>\n",
       "      <td>4-Wheelers</td>\n",
       "      <td>0</td>\n",
       "      <td>724</td>\n",
       "    </tr>\n",
       "    <tr>\n",
       "      <th>...</th>\n",
       "      <td>...</td>\n",
       "      <td>...</td>\n",
       "      <td>...</td>\n",
       "      <td>...</td>\n",
       "      <td>...</td>\n",
       "      <td>...</td>\n",
       "      <td>...</td>\n",
       "    </tr>\n",
       "    <tr>\n",
       "      <th>2440</th>\n",
       "      <td>2024-03-01</td>\n",
       "      <td>2024</td>\n",
       "      <td>Q4</td>\n",
       "      <td>Mizoram</td>\n",
       "      <td>2-Wheelers</td>\n",
       "      <td>58</td>\n",
       "      <td>1932</td>\n",
       "    </tr>\n",
       "    <tr>\n",
       "      <th>2441</th>\n",
       "      <td>2024-03-01</td>\n",
       "      <td>2024</td>\n",
       "      <td>Q4</td>\n",
       "      <td>DNH and DD</td>\n",
       "      <td>2-Wheelers</td>\n",
       "      <td>25</td>\n",
       "      <td>780</td>\n",
       "    </tr>\n",
       "    <tr>\n",
       "      <th>2442</th>\n",
       "      <td>2024-03-01</td>\n",
       "      <td>2024</td>\n",
       "      <td>Q4</td>\n",
       "      <td>Manipur</td>\n",
       "      <td>2-Wheelers</td>\n",
       "      <td>13</td>\n",
       "      <td>1394</td>\n",
       "    </tr>\n",
       "    <tr>\n",
       "      <th>2443</th>\n",
       "      <td>2024-03-01</td>\n",
       "      <td>2024</td>\n",
       "      <td>Q4</td>\n",
       "      <td>Andaman &amp; Nicobar Island</td>\n",
       "      <td>2-Wheelers</td>\n",
       "      <td>2</td>\n",
       "      <td>447</td>\n",
       "    </tr>\n",
       "    <tr>\n",
       "      <th>2444</th>\n",
       "      <td>2024-03-01</td>\n",
       "      <td>2024</td>\n",
       "      <td>Q4</td>\n",
       "      <td>Nagaland</td>\n",
       "      <td>2-Wheelers</td>\n",
       "      <td>2</td>\n",
       "      <td>1180</td>\n",
       "    </tr>\n",
       "  </tbody>\n",
       "</table>\n",
       "<p>2445 rows × 7 columns</p>\n",
       "</div>"
      ],
      "text/plain": [
       "           date  fiscal_year quarter                     state  \\\n",
       "0    2021-04-01         2022      Q1                    Sikkim   \n",
       "1    2021-04-01         2022      Q1                    Sikkim   \n",
       "2    2021-04-01         2022      Q1  Andaman & Nicobar Island   \n",
       "3    2021-04-01         2022      Q1         Arunachal Pradesh   \n",
       "4    2021-04-01         2022      Q1         Arunachal Pradesh   \n",
       "...         ...          ...     ...                       ...   \n",
       "2440 2024-03-01         2024      Q4                   Mizoram   \n",
       "2441 2024-03-01         2024      Q4                DNH and DD   \n",
       "2442 2024-03-01         2024      Q4                   Manipur   \n",
       "2443 2024-03-01         2024      Q4  Andaman & Nicobar Island   \n",
       "2444 2024-03-01         2024      Q4                  Nagaland   \n",
       "\n",
       "     vehicle_category  electric_vehicles_sold  total_vehicles_sold  \n",
       "0          2-Wheelers                       0                  398  \n",
       "1          4-Wheelers                       0                  361  \n",
       "2          2-Wheelers                       0                  515  \n",
       "3          2-Wheelers                       0                 1256  \n",
       "4          4-Wheelers                       0                  724  \n",
       "...               ...                     ...                  ...  \n",
       "2440       2-Wheelers                      58                 1932  \n",
       "2441       2-Wheelers                      25                  780  \n",
       "2442       2-Wheelers                      13                 1394  \n",
       "2443       2-Wheelers                       2                  447  \n",
       "2444       2-Wheelers                       2                 1180  \n",
       "\n",
       "[2445 rows x 7 columns]"
      ]
     },
     "execution_count": 15,
     "metadata": {},
     "output_type": "execute_result"
    }
   ],
   "source": [
    "#merging dates data with state data\n",
    "new_s=pd.merge(df_date,df_state,on='date',how='inner')\n",
    "new_s"
   ]
  },
  {
   "cell_type": "code",
   "execution_count": 16,
   "id": "fe766df9",
   "metadata": {},
   "outputs": [
    {
     "data": {
      "text/html": [
       "<div>\n",
       "<style scoped>\n",
       "    .dataframe tbody tr th:only-of-type {\n",
       "        vertical-align: middle;\n",
       "    }\n",
       "\n",
       "    .dataframe tbody tr th {\n",
       "        vertical-align: top;\n",
       "    }\n",
       "\n",
       "    .dataframe thead th {\n",
       "        text-align: right;\n",
       "    }\n",
       "</style>\n",
       "<table border=\"1\" class=\"dataframe\">\n",
       "  <thead>\n",
       "    <tr style=\"text-align: right;\">\n",
       "      <th></th>\n",
       "      <th>date</th>\n",
       "      <th>fiscal_year</th>\n",
       "      <th>quarter</th>\n",
       "      <th>vehicle_category</th>\n",
       "      <th>maker</th>\n",
       "      <th>electric_vehicles_sold</th>\n",
       "    </tr>\n",
       "  </thead>\n",
       "  <tbody>\n",
       "  </tbody>\n",
       "</table>\n",
       "</div>"
      ],
      "text/plain": [
       "Empty DataFrame\n",
       "Columns: [date, fiscal_year, quarter, vehicle_category, maker, electric_vehicles_sold]\n",
       "Index: []"
      ]
     },
     "execution_count": 16,
     "metadata": {},
     "output_type": "execute_result"
    }
   ],
   "source": [
    "#checking for duplicates\n",
    "dup_rows=new_m[new_m.duplicated()]\n",
    "dup_rows"
   ]
  },
  {
   "cell_type": "code",
   "execution_count": 17,
   "id": "bad1a56b",
   "metadata": {},
   "outputs": [
    {
     "data": {
      "text/html": [
       "<div>\n",
       "<style scoped>\n",
       "    .dataframe tbody tr th:only-of-type {\n",
       "        vertical-align: middle;\n",
       "    }\n",
       "\n",
       "    .dataframe tbody tr th {\n",
       "        vertical-align: top;\n",
       "    }\n",
       "\n",
       "    .dataframe thead th {\n",
       "        text-align: right;\n",
       "    }\n",
       "</style>\n",
       "<table border=\"1\" class=\"dataframe\">\n",
       "  <thead>\n",
       "    <tr style=\"text-align: right;\">\n",
       "      <th></th>\n",
       "      <th>date</th>\n",
       "      <th>fiscal_year</th>\n",
       "      <th>quarter</th>\n",
       "      <th>state</th>\n",
       "      <th>vehicle_category</th>\n",
       "      <th>electric_vehicles_sold</th>\n",
       "      <th>total_vehicles_sold</th>\n",
       "    </tr>\n",
       "  </thead>\n",
       "  <tbody>\n",
       "  </tbody>\n",
       "</table>\n",
       "</div>"
      ],
      "text/plain": [
       "Empty DataFrame\n",
       "Columns: [date, fiscal_year, quarter, state, vehicle_category, electric_vehicles_sold, total_vehicles_sold]\n",
       "Index: []"
      ]
     },
     "execution_count": 17,
     "metadata": {},
     "output_type": "execute_result"
    }
   ],
   "source": [
    "#checking for duplicates\n",
    "dup_rows=new_s[new_s.duplicated()]\n",
    "dup_rows"
   ]
  },
  {
   "cell_type": "code",
   "execution_count": 18,
   "id": "16e5bc53",
   "metadata": {},
   "outputs": [
    {
     "data": {
      "text/html": [
       "<div>\n",
       "<style scoped>\n",
       "    .dataframe tbody tr th:only-of-type {\n",
       "        vertical-align: middle;\n",
       "    }\n",
       "\n",
       "    .dataframe tbody tr th {\n",
       "        vertical-align: top;\n",
       "    }\n",
       "\n",
       "    .dataframe thead th {\n",
       "        text-align: right;\n",
       "    }\n",
       "</style>\n",
       "<table border=\"1\" class=\"dataframe\">\n",
       "  <thead>\n",
       "    <tr style=\"text-align: right;\">\n",
       "      <th></th>\n",
       "      <th>date</th>\n",
       "      <th>fiscal_year</th>\n",
       "      <th>electric_vehicles_sold</th>\n",
       "    </tr>\n",
       "  </thead>\n",
       "  <tbody>\n",
       "    <tr>\n",
       "      <th>count</th>\n",
       "      <td>816</td>\n",
       "      <td>816.000000</td>\n",
       "      <td>816.000000</td>\n",
       "    </tr>\n",
       "    <tr>\n",
       "      <th>mean</th>\n",
       "      <td>2022-09-21 03:30:00</td>\n",
       "      <td>2023.014706</td>\n",
       "      <td>2531.998775</td>\n",
       "    </tr>\n",
       "    <tr>\n",
       "      <th>min</th>\n",
       "      <td>2021-04-01 00:00:00</td>\n",
       "      <td>2022.000000</td>\n",
       "      <td>0.000000</td>\n",
       "    </tr>\n",
       "    <tr>\n",
       "      <th>25%</th>\n",
       "      <td>2022-01-01 00:00:00</td>\n",
       "      <td>2022.000000</td>\n",
       "      <td>42.000000</td>\n",
       "    </tr>\n",
       "    <tr>\n",
       "      <th>50%</th>\n",
       "      <td>2022-10-01 00:00:00</td>\n",
       "      <td>2023.000000</td>\n",
       "      <td>662.000000</td>\n",
       "    </tr>\n",
       "    <tr>\n",
       "      <th>75%</th>\n",
       "      <td>2023-07-01 00:00:00</td>\n",
       "      <td>2024.000000</td>\n",
       "      <td>2636.500000</td>\n",
       "    </tr>\n",
       "    <tr>\n",
       "      <th>max</th>\n",
       "      <td>2024-03-01 00:00:00</td>\n",
       "      <td>2024.000000</td>\n",
       "      <td>44630.000000</td>\n",
       "    </tr>\n",
       "    <tr>\n",
       "      <th>std</th>\n",
       "      <td>NaN</td>\n",
       "      <td>0.813855</td>\n",
       "      <td>4771.077333</td>\n",
       "    </tr>\n",
       "  </tbody>\n",
       "</table>\n",
       "</div>"
      ],
      "text/plain": [
       "                      date  fiscal_year  electric_vehicles_sold\n",
       "count                  816   816.000000              816.000000\n",
       "mean   2022-09-21 03:30:00  2023.014706             2531.998775\n",
       "min    2021-04-01 00:00:00  2022.000000                0.000000\n",
       "25%    2022-01-01 00:00:00  2022.000000               42.000000\n",
       "50%    2022-10-01 00:00:00  2023.000000              662.000000\n",
       "75%    2023-07-01 00:00:00  2024.000000             2636.500000\n",
       "max    2024-03-01 00:00:00  2024.000000            44630.000000\n",
       "std                    NaN     0.813855             4771.077333"
      ]
     },
     "execution_count": 18,
     "metadata": {},
     "output_type": "execute_result"
    }
   ],
   "source": [
    "# Basic statistical Analysis\n",
    "new_m.describe()"
   ]
  },
  {
   "cell_type": "code",
   "execution_count": 19,
   "id": "994609cc",
   "metadata": {},
   "outputs": [
    {
     "data": {
      "text/html": [
       "<div>\n",
       "<style scoped>\n",
       "    .dataframe tbody tr th:only-of-type {\n",
       "        vertical-align: middle;\n",
       "    }\n",
       "\n",
       "    .dataframe tbody tr th {\n",
       "        vertical-align: top;\n",
       "    }\n",
       "\n",
       "    .dataframe thead th {\n",
       "        text-align: right;\n",
       "    }\n",
       "</style>\n",
       "<table border=\"1\" class=\"dataframe\">\n",
       "  <thead>\n",
       "    <tr style=\"text-align: right;\">\n",
       "      <th></th>\n",
       "      <th>date</th>\n",
       "      <th>fiscal_year</th>\n",
       "      <th>electric_vehicles_sold</th>\n",
       "      <th>total_vehicles_sold</th>\n",
       "    </tr>\n",
       "  </thead>\n",
       "  <tbody>\n",
       "    <tr>\n",
       "      <th>count</th>\n",
       "      <td>2445</td>\n",
       "      <td>2445.000000</td>\n",
       "      <td>2445.000000</td>\n",
       "      <td>2445.000000</td>\n",
       "    </tr>\n",
       "    <tr>\n",
       "      <th>mean</th>\n",
       "      <td>2022-09-15 12:50:56.687116800</td>\n",
       "      <td>2022.999591</td>\n",
       "      <td>845.035174</td>\n",
       "      <td>23402.966053</td>\n",
       "    </tr>\n",
       "    <tr>\n",
       "      <th>min</th>\n",
       "      <td>2021-04-01 00:00:00</td>\n",
       "      <td>2022.000000</td>\n",
       "      <td>0.000000</td>\n",
       "      <td>1.000000</td>\n",
       "    </tr>\n",
       "    <tr>\n",
       "      <th>25%</th>\n",
       "      <td>2022-01-01 00:00:00</td>\n",
       "      <td>2022.000000</td>\n",
       "      <td>2.000000</td>\n",
       "      <td>1158.000000</td>\n",
       "    </tr>\n",
       "    <tr>\n",
       "      <th>50%</th>\n",
       "      <td>2022-09-01 00:00:00</td>\n",
       "      <td>2023.000000</td>\n",
       "      <td>54.000000</td>\n",
       "      <td>6098.000000</td>\n",
       "    </tr>\n",
       "    <tr>\n",
       "      <th>75%</th>\n",
       "      <td>2023-06-01 00:00:00</td>\n",
       "      <td>2024.000000</td>\n",
       "      <td>534.000000</td>\n",
       "      <td>29396.000000</td>\n",
       "    </tr>\n",
       "    <tr>\n",
       "      <th>max</th>\n",
       "      <td>2024-03-01 00:00:00</td>\n",
       "      <td>2024.000000</td>\n",
       "      <td>26668.000000</td>\n",
       "      <td>387983.000000</td>\n",
       "    </tr>\n",
       "    <tr>\n",
       "      <th>std</th>\n",
       "      <td>NaN</td>\n",
       "      <td>0.816413</td>\n",
       "      <td>2185.167744</td>\n",
       "      <td>38353.266389</td>\n",
       "    </tr>\n",
       "  </tbody>\n",
       "</table>\n",
       "</div>"
      ],
      "text/plain": [
       "                                date  fiscal_year  electric_vehicles_sold  \\\n",
       "count                           2445  2445.000000             2445.000000   \n",
       "mean   2022-09-15 12:50:56.687116800  2022.999591              845.035174   \n",
       "min              2021-04-01 00:00:00  2022.000000                0.000000   \n",
       "25%              2022-01-01 00:00:00  2022.000000                2.000000   \n",
       "50%              2022-09-01 00:00:00  2023.000000               54.000000   \n",
       "75%              2023-06-01 00:00:00  2024.000000              534.000000   \n",
       "max              2024-03-01 00:00:00  2024.000000            26668.000000   \n",
       "std                              NaN     0.816413             2185.167744   \n",
       "\n",
       "       total_vehicles_sold  \n",
       "count          2445.000000  \n",
       "mean          23402.966053  \n",
       "min               1.000000  \n",
       "25%            1158.000000  \n",
       "50%            6098.000000  \n",
       "75%           29396.000000  \n",
       "max          387983.000000  \n",
       "std           38353.266389  "
      ]
     },
     "execution_count": 19,
     "metadata": {},
     "output_type": "execute_result"
    }
   ],
   "source": [
    "# Basic statistical Analysis\n",
    "new_s.describe()"
   ]
  },
  {
   "cell_type": "code",
   "execution_count": 20,
   "id": "e18f2013",
   "metadata": {},
   "outputs": [
    {
     "data": {
      "text/plain": [
       "2066111"
      ]
     },
     "execution_count": 20,
     "metadata": {},
     "output_type": "execute_result"
    }
   ],
   "source": [
    "#KPI\n",
    "Total_EV=sum(new_m['electric_vehicles_sold'])\n",
    "Total_EV"
   ]
  },
  {
   "cell_type": "code",
   "execution_count": 21,
   "id": "1b9ccbaa",
   "metadata": {},
   "outputs": [
    {
     "data": {
      "text/plain": [
       "2066111"
      ]
     },
     "execution_count": 21,
     "metadata": {},
     "output_type": "execute_result"
    }
   ],
   "source": [
    "#KPI\n",
    "Total_EV=sum(new_s['electric_vehicles_sold'])\n",
    "Total_EV"
   ]
  },
  {
   "cell_type": "code",
   "execution_count": 22,
   "id": "7cd6758d",
   "metadata": {},
   "outputs": [
    {
     "data": {
      "text/plain": [
       "57220252"
      ]
     },
     "execution_count": 22,
     "metadata": {},
     "output_type": "execute_result"
    }
   ],
   "source": [
    "#KPI\n",
    "Total_veh=sum(new_s['total_vehicles_sold'])\n",
    "Total_veh"
   ]
  },
  {
   "cell_type": "markdown",
   "id": "3320748e",
   "metadata": {},
   "source": [
    "# List the top 3 and bottom 3 makers for the fiscal years 2023 and 2024 in terms of the number of 2-wheelers sold."
   ]
  },
  {
   "cell_type": "code",
   "execution_count": 23,
   "id": "448bde83",
   "metadata": {},
   "outputs": [
    {
     "data": {
      "text/html": [
       "<div>\n",
       "<style scoped>\n",
       "    .dataframe tbody tr th:only-of-type {\n",
       "        vertical-align: middle;\n",
       "    }\n",
       "\n",
       "    .dataframe tbody tr th {\n",
       "        vertical-align: top;\n",
       "    }\n",
       "\n",
       "    .dataframe thead th {\n",
       "        text-align: right;\n",
       "    }\n",
       "</style>\n",
       "<table border=\"1\" class=\"dataframe\">\n",
       "  <thead>\n",
       "    <tr style=\"text-align: right;\">\n",
       "      <th></th>\n",
       "      <th>maker</th>\n",
       "      <th>vehicle_category</th>\n",
       "      <th>fiscal_year</th>\n",
       "      <th>electric_vehicles_sold</th>\n",
       "    </tr>\n",
       "  </thead>\n",
       "  <tbody>\n",
       "    <tr>\n",
       "      <th>0</th>\n",
       "      <td>AMPERE</td>\n",
       "      <td>2-Wheelers</td>\n",
       "      <td>2022</td>\n",
       "      <td>25510</td>\n",
       "    </tr>\n",
       "    <tr>\n",
       "      <th>1</th>\n",
       "      <td>AMPERE</td>\n",
       "      <td>2-Wheelers</td>\n",
       "      <td>2023</td>\n",
       "      <td>87376</td>\n",
       "    </tr>\n",
       "    <tr>\n",
       "      <th>2</th>\n",
       "      <td>AMPERE</td>\n",
       "      <td>2-Wheelers</td>\n",
       "      <td>2024</td>\n",
       "      <td>54388</td>\n",
       "    </tr>\n",
       "    <tr>\n",
       "      <th>3</th>\n",
       "      <td>ATHER</td>\n",
       "      <td>2-Wheelers</td>\n",
       "      <td>2022</td>\n",
       "      <td>19976</td>\n",
       "    </tr>\n",
       "    <tr>\n",
       "      <th>4</th>\n",
       "      <td>ATHER</td>\n",
       "      <td>2-Wheelers</td>\n",
       "      <td>2023</td>\n",
       "      <td>76921</td>\n",
       "    </tr>\n",
       "  </tbody>\n",
       "</table>\n",
       "</div>"
      ],
      "text/plain": [
       "    maker vehicle_category  fiscal_year  electric_vehicles_sold\n",
       "0  AMPERE       2-Wheelers         2022                   25510\n",
       "1  AMPERE       2-Wheelers         2023                   87376\n",
       "2  AMPERE       2-Wheelers         2024                   54388\n",
       "3   ATHER       2-Wheelers         2022                   19976\n",
       "4   ATHER       2-Wheelers         2023                   76921"
      ]
     },
     "execution_count": 23,
     "metadata": {},
     "output_type": "execute_result"
    }
   ],
   "source": [
    "maker=new_m.groupby(['maker','vehicle_category','fiscal_year'])['electric_vehicles_sold'].sum().reset_index()\n",
    "maker.head()"
   ]
  },
  {
   "cell_type": "code",
   "execution_count": 24,
   "id": "0025028c",
   "metadata": {},
   "outputs": [
    {
     "data": {
      "text/html": [
       "<div>\n",
       "<style scoped>\n",
       "    .dataframe tbody tr th:only-of-type {\n",
       "        vertical-align: middle;\n",
       "    }\n",
       "\n",
       "    .dataframe tbody tr th {\n",
       "        vertical-align: top;\n",
       "    }\n",
       "\n",
       "    .dataframe thead th {\n",
       "        text-align: right;\n",
       "    }\n",
       "</style>\n",
       "<table border=\"1\" class=\"dataframe\">\n",
       "  <thead>\n",
       "    <tr style=\"text-align: right;\">\n",
       "      <th></th>\n",
       "      <th>maker</th>\n",
       "      <th>vehicle_category</th>\n",
       "      <th>fiscal_year</th>\n",
       "      <th>electric_vehicles_sold</th>\n",
       "    </tr>\n",
       "  </thead>\n",
       "  <tbody>\n",
       "    <tr>\n",
       "      <th>1</th>\n",
       "      <td>AMPERE</td>\n",
       "      <td>2-Wheelers</td>\n",
       "      <td>2023</td>\n",
       "      <td>87376</td>\n",
       "    </tr>\n",
       "    <tr>\n",
       "      <th>2</th>\n",
       "      <td>AMPERE</td>\n",
       "      <td>2-Wheelers</td>\n",
       "      <td>2024</td>\n",
       "      <td>54388</td>\n",
       "    </tr>\n",
       "    <tr>\n",
       "      <th>4</th>\n",
       "      <td>ATHER</td>\n",
       "      <td>2-Wheelers</td>\n",
       "      <td>2023</td>\n",
       "      <td>76921</td>\n",
       "    </tr>\n",
       "    <tr>\n",
       "      <th>5</th>\n",
       "      <td>ATHER</td>\n",
       "      <td>2-Wheelers</td>\n",
       "      <td>2024</td>\n",
       "      <td>107552</td>\n",
       "    </tr>\n",
       "    <tr>\n",
       "      <th>7</th>\n",
       "      <td>BAJAJ</td>\n",
       "      <td>2-Wheelers</td>\n",
       "      <td>2023</td>\n",
       "      <td>32797</td>\n",
       "    </tr>\n",
       "    <tr>\n",
       "      <th>8</th>\n",
       "      <td>BAJAJ</td>\n",
       "      <td>2-Wheelers</td>\n",
       "      <td>2024</td>\n",
       "      <td>105695</td>\n",
       "    </tr>\n",
       "    <tr>\n",
       "      <th>9</th>\n",
       "      <td>BATTRE ELECTRIC</td>\n",
       "      <td>2-Wheelers</td>\n",
       "      <td>2024</td>\n",
       "      <td>4841</td>\n",
       "    </tr>\n",
       "    <tr>\n",
       "      <th>11</th>\n",
       "      <td>BEING</td>\n",
       "      <td>2-Wheelers</td>\n",
       "      <td>2023</td>\n",
       "      <td>11018</td>\n",
       "    </tr>\n",
       "    <tr>\n",
       "      <th>12</th>\n",
       "      <td>BGAUSS</td>\n",
       "      <td>2-Wheelers</td>\n",
       "      <td>2024</td>\n",
       "      <td>15051</td>\n",
       "    </tr>\n",
       "    <tr>\n",
       "      <th>20</th>\n",
       "      <td>HERO ELECTRIC</td>\n",
       "      <td>2-Wheelers</td>\n",
       "      <td>2023</td>\n",
       "      <td>88993</td>\n",
       "    </tr>\n",
       "    <tr>\n",
       "      <th>21</th>\n",
       "      <td>HERO ELECTRIC</td>\n",
       "      <td>2-Wheelers</td>\n",
       "      <td>2024</td>\n",
       "      <td>11949</td>\n",
       "    </tr>\n",
       "    <tr>\n",
       "      <th>26</th>\n",
       "      <td>JITENDRA</td>\n",
       "      <td>2-Wheelers</td>\n",
       "      <td>2023</td>\n",
       "      <td>8563</td>\n",
       "    </tr>\n",
       "    <tr>\n",
       "      <th>30</th>\n",
       "      <td>KINETIC GREEN</td>\n",
       "      <td>2-Wheelers</td>\n",
       "      <td>2024</td>\n",
       "      <td>9585</td>\n",
       "    </tr>\n",
       "    <tr>\n",
       "      <th>40</th>\n",
       "      <td>OKAYA EV</td>\n",
       "      <td>2-Wheelers</td>\n",
       "      <td>2023</td>\n",
       "      <td>13172</td>\n",
       "    </tr>\n",
       "    <tr>\n",
       "      <th>41</th>\n",
       "      <td>OKAYA EV</td>\n",
       "      <td>2-Wheelers</td>\n",
       "      <td>2024</td>\n",
       "      <td>13864</td>\n",
       "    </tr>\n",
       "    <tr>\n",
       "      <th>43</th>\n",
       "      <td>OKINAWA</td>\n",
       "      <td>2-Wheelers</td>\n",
       "      <td>2023</td>\n",
       "      <td>96945</td>\n",
       "    </tr>\n",
       "    <tr>\n",
       "      <th>44</th>\n",
       "      <td>OKINAWA</td>\n",
       "      <td>2-Wheelers</td>\n",
       "      <td>2024</td>\n",
       "      <td>20621</td>\n",
       "    </tr>\n",
       "    <tr>\n",
       "      <th>46</th>\n",
       "      <td>OLA ELECTRIC</td>\n",
       "      <td>2-Wheelers</td>\n",
       "      <td>2023</td>\n",
       "      <td>152583</td>\n",
       "    </tr>\n",
       "    <tr>\n",
       "      <th>47</th>\n",
       "      <td>OLA ELECTRIC</td>\n",
       "      <td>2-Wheelers</td>\n",
       "      <td>2024</td>\n",
       "      <td>322489</td>\n",
       "    </tr>\n",
       "    <tr>\n",
       "      <th>49</th>\n",
       "      <td>OTHERS</td>\n",
       "      <td>2-Wheelers</td>\n",
       "      <td>2023</td>\n",
       "      <td>52953</td>\n",
       "    </tr>\n",
       "    <tr>\n",
       "      <th>50</th>\n",
       "      <td>OTHERS</td>\n",
       "      <td>2-Wheelers</td>\n",
       "      <td>2024</td>\n",
       "      <td>78660</td>\n",
       "    </tr>\n",
       "    <tr>\n",
       "      <th>55</th>\n",
       "      <td>PURE EV</td>\n",
       "      <td>2-Wheelers</td>\n",
       "      <td>2023</td>\n",
       "      <td>11556</td>\n",
       "    </tr>\n",
       "    <tr>\n",
       "      <th>57</th>\n",
       "      <td>REVOLT</td>\n",
       "      <td>2-Wheelers</td>\n",
       "      <td>2023</td>\n",
       "      <td>12933</td>\n",
       "    </tr>\n",
       "    <tr>\n",
       "      <th>58</th>\n",
       "      <td>REVOLT</td>\n",
       "      <td>2-Wheelers</td>\n",
       "      <td>2024</td>\n",
       "      <td>7254</td>\n",
       "    </tr>\n",
       "    <tr>\n",
       "      <th>60</th>\n",
       "      <td>TVS</td>\n",
       "      <td>2-Wheelers</td>\n",
       "      <td>2023</td>\n",
       "      <td>82093</td>\n",
       "    </tr>\n",
       "    <tr>\n",
       "      <th>61</th>\n",
       "      <td>TVS</td>\n",
       "      <td>2-Wheelers</td>\n",
       "      <td>2024</td>\n",
       "      <td>180743</td>\n",
       "    </tr>\n",
       "  </tbody>\n",
       "</table>\n",
       "</div>"
      ],
      "text/plain": [
       "              maker vehicle_category  fiscal_year  electric_vehicles_sold\n",
       "1            AMPERE       2-Wheelers         2023                   87376\n",
       "2            AMPERE       2-Wheelers         2024                   54388\n",
       "4             ATHER       2-Wheelers         2023                   76921\n",
       "5             ATHER       2-Wheelers         2024                  107552\n",
       "7             BAJAJ       2-Wheelers         2023                   32797\n",
       "8             BAJAJ       2-Wheelers         2024                  105695\n",
       "9   BATTRE ELECTRIC       2-Wheelers         2024                    4841\n",
       "11            BEING       2-Wheelers         2023                   11018\n",
       "12           BGAUSS       2-Wheelers         2024                   15051\n",
       "20    HERO ELECTRIC       2-Wheelers         2023                   88993\n",
       "21    HERO ELECTRIC       2-Wheelers         2024                   11949\n",
       "26         JITENDRA       2-Wheelers         2023                    8563\n",
       "30    KINETIC GREEN       2-Wheelers         2024                    9585\n",
       "40         OKAYA EV       2-Wheelers         2023                   13172\n",
       "41         OKAYA EV       2-Wheelers         2024                   13864\n",
       "43          OKINAWA       2-Wheelers         2023                   96945\n",
       "44          OKINAWA       2-Wheelers         2024                   20621\n",
       "46     OLA ELECTRIC       2-Wheelers         2023                  152583\n",
       "47     OLA ELECTRIC       2-Wheelers         2024                  322489\n",
       "49           OTHERS       2-Wheelers         2023                   52953\n",
       "50           OTHERS       2-Wheelers         2024                   78660\n",
       "55          PURE EV       2-Wheelers         2023                   11556\n",
       "57           REVOLT       2-Wheelers         2023                   12933\n",
       "58           REVOLT       2-Wheelers         2024                    7254\n",
       "60              TVS       2-Wheelers         2023                   82093\n",
       "61              TVS       2-Wheelers         2024                  180743"
      ]
     },
     "execution_count": 24,
     "metadata": {},
     "output_type": "execute_result"
    }
   ],
   "source": [
    "maker1 = maker[(maker['vehicle_category'] == '2-Wheelers') & (maker['fiscal_year'].isin([2023,2024]))]\n",
    "maker1"
   ]
  },
  {
   "cell_type": "code",
   "execution_count": 25,
   "id": "a4f0775e",
   "metadata": {},
   "outputs": [
    {
     "data": {
      "text/html": [
       "<div>\n",
       "<style scoped>\n",
       "    .dataframe tbody tr th:only-of-type {\n",
       "        vertical-align: middle;\n",
       "    }\n",
       "\n",
       "    .dataframe tbody tr th {\n",
       "        vertical-align: top;\n",
       "    }\n",
       "\n",
       "    .dataframe thead th {\n",
       "        text-align: right;\n",
       "    }\n",
       "</style>\n",
       "<table border=\"1\" class=\"dataframe\">\n",
       "  <thead>\n",
       "    <tr style=\"text-align: right;\">\n",
       "      <th></th>\n",
       "      <th>maker</th>\n",
       "      <th>vehicle_category</th>\n",
       "      <th>fiscal_year</th>\n",
       "      <th>electric_vehicles_sold</th>\n",
       "    </tr>\n",
       "  </thead>\n",
       "  <tbody>\n",
       "    <tr>\n",
       "      <th>47</th>\n",
       "      <td>OLA ELECTRIC</td>\n",
       "      <td>2-Wheelers</td>\n",
       "      <td>2024</td>\n",
       "      <td>322489</td>\n",
       "    </tr>\n",
       "    <tr>\n",
       "      <th>61</th>\n",
       "      <td>TVS</td>\n",
       "      <td>2-Wheelers</td>\n",
       "      <td>2024</td>\n",
       "      <td>180743</td>\n",
       "    </tr>\n",
       "    <tr>\n",
       "      <th>46</th>\n",
       "      <td>OLA ELECTRIC</td>\n",
       "      <td>2-Wheelers</td>\n",
       "      <td>2023</td>\n",
       "      <td>152583</td>\n",
       "    </tr>\n",
       "    <tr>\n",
       "      <th>5</th>\n",
       "      <td>ATHER</td>\n",
       "      <td>2-Wheelers</td>\n",
       "      <td>2024</td>\n",
       "      <td>107552</td>\n",
       "    </tr>\n",
       "    <tr>\n",
       "      <th>8</th>\n",
       "      <td>BAJAJ</td>\n",
       "      <td>2-Wheelers</td>\n",
       "      <td>2024</td>\n",
       "      <td>105695</td>\n",
       "    </tr>\n",
       "    <tr>\n",
       "      <th>43</th>\n",
       "      <td>OKINAWA</td>\n",
       "      <td>2-Wheelers</td>\n",
       "      <td>2023</td>\n",
       "      <td>96945</td>\n",
       "    </tr>\n",
       "    <tr>\n",
       "      <th>20</th>\n",
       "      <td>HERO ELECTRIC</td>\n",
       "      <td>2-Wheelers</td>\n",
       "      <td>2023</td>\n",
       "      <td>88993</td>\n",
       "    </tr>\n",
       "    <tr>\n",
       "      <th>1</th>\n",
       "      <td>AMPERE</td>\n",
       "      <td>2-Wheelers</td>\n",
       "      <td>2023</td>\n",
       "      <td>87376</td>\n",
       "    </tr>\n",
       "    <tr>\n",
       "      <th>60</th>\n",
       "      <td>TVS</td>\n",
       "      <td>2-Wheelers</td>\n",
       "      <td>2023</td>\n",
       "      <td>82093</td>\n",
       "    </tr>\n",
       "    <tr>\n",
       "      <th>50</th>\n",
       "      <td>OTHERS</td>\n",
       "      <td>2-Wheelers</td>\n",
       "      <td>2024</td>\n",
       "      <td>78660</td>\n",
       "    </tr>\n",
       "    <tr>\n",
       "      <th>4</th>\n",
       "      <td>ATHER</td>\n",
       "      <td>2-Wheelers</td>\n",
       "      <td>2023</td>\n",
       "      <td>76921</td>\n",
       "    </tr>\n",
       "    <tr>\n",
       "      <th>2</th>\n",
       "      <td>AMPERE</td>\n",
       "      <td>2-Wheelers</td>\n",
       "      <td>2024</td>\n",
       "      <td>54388</td>\n",
       "    </tr>\n",
       "    <tr>\n",
       "      <th>49</th>\n",
       "      <td>OTHERS</td>\n",
       "      <td>2-Wheelers</td>\n",
       "      <td>2023</td>\n",
       "      <td>52953</td>\n",
       "    </tr>\n",
       "    <tr>\n",
       "      <th>7</th>\n",
       "      <td>BAJAJ</td>\n",
       "      <td>2-Wheelers</td>\n",
       "      <td>2023</td>\n",
       "      <td>32797</td>\n",
       "    </tr>\n",
       "    <tr>\n",
       "      <th>44</th>\n",
       "      <td>OKINAWA</td>\n",
       "      <td>2-Wheelers</td>\n",
       "      <td>2024</td>\n",
       "      <td>20621</td>\n",
       "    </tr>\n",
       "    <tr>\n",
       "      <th>12</th>\n",
       "      <td>BGAUSS</td>\n",
       "      <td>2-Wheelers</td>\n",
       "      <td>2024</td>\n",
       "      <td>15051</td>\n",
       "    </tr>\n",
       "    <tr>\n",
       "      <th>41</th>\n",
       "      <td>OKAYA EV</td>\n",
       "      <td>2-Wheelers</td>\n",
       "      <td>2024</td>\n",
       "      <td>13864</td>\n",
       "    </tr>\n",
       "    <tr>\n",
       "      <th>40</th>\n",
       "      <td>OKAYA EV</td>\n",
       "      <td>2-Wheelers</td>\n",
       "      <td>2023</td>\n",
       "      <td>13172</td>\n",
       "    </tr>\n",
       "    <tr>\n",
       "      <th>57</th>\n",
       "      <td>REVOLT</td>\n",
       "      <td>2-Wheelers</td>\n",
       "      <td>2023</td>\n",
       "      <td>12933</td>\n",
       "    </tr>\n",
       "    <tr>\n",
       "      <th>21</th>\n",
       "      <td>HERO ELECTRIC</td>\n",
       "      <td>2-Wheelers</td>\n",
       "      <td>2024</td>\n",
       "      <td>11949</td>\n",
       "    </tr>\n",
       "    <tr>\n",
       "      <th>55</th>\n",
       "      <td>PURE EV</td>\n",
       "      <td>2-Wheelers</td>\n",
       "      <td>2023</td>\n",
       "      <td>11556</td>\n",
       "    </tr>\n",
       "    <tr>\n",
       "      <th>11</th>\n",
       "      <td>BEING</td>\n",
       "      <td>2-Wheelers</td>\n",
       "      <td>2023</td>\n",
       "      <td>11018</td>\n",
       "    </tr>\n",
       "    <tr>\n",
       "      <th>30</th>\n",
       "      <td>KINETIC GREEN</td>\n",
       "      <td>2-Wheelers</td>\n",
       "      <td>2024</td>\n",
       "      <td>9585</td>\n",
       "    </tr>\n",
       "    <tr>\n",
       "      <th>26</th>\n",
       "      <td>JITENDRA</td>\n",
       "      <td>2-Wheelers</td>\n",
       "      <td>2023</td>\n",
       "      <td>8563</td>\n",
       "    </tr>\n",
       "    <tr>\n",
       "      <th>58</th>\n",
       "      <td>REVOLT</td>\n",
       "      <td>2-Wheelers</td>\n",
       "      <td>2024</td>\n",
       "      <td>7254</td>\n",
       "    </tr>\n",
       "    <tr>\n",
       "      <th>9</th>\n",
       "      <td>BATTRE ELECTRIC</td>\n",
       "      <td>2-Wheelers</td>\n",
       "      <td>2024</td>\n",
       "      <td>4841</td>\n",
       "    </tr>\n",
       "  </tbody>\n",
       "</table>\n",
       "</div>"
      ],
      "text/plain": [
       "              maker vehicle_category  fiscal_year  electric_vehicles_sold\n",
       "47     OLA ELECTRIC       2-Wheelers         2024                  322489\n",
       "61              TVS       2-Wheelers         2024                  180743\n",
       "46     OLA ELECTRIC       2-Wheelers         2023                  152583\n",
       "5             ATHER       2-Wheelers         2024                  107552\n",
       "8             BAJAJ       2-Wheelers         2024                  105695\n",
       "43          OKINAWA       2-Wheelers         2023                   96945\n",
       "20    HERO ELECTRIC       2-Wheelers         2023                   88993\n",
       "1            AMPERE       2-Wheelers         2023                   87376\n",
       "60              TVS       2-Wheelers         2023                   82093\n",
       "50           OTHERS       2-Wheelers         2024                   78660\n",
       "4             ATHER       2-Wheelers         2023                   76921\n",
       "2            AMPERE       2-Wheelers         2024                   54388\n",
       "49           OTHERS       2-Wheelers         2023                   52953\n",
       "7             BAJAJ       2-Wheelers         2023                   32797\n",
       "44          OKINAWA       2-Wheelers         2024                   20621\n",
       "12           BGAUSS       2-Wheelers         2024                   15051\n",
       "41         OKAYA EV       2-Wheelers         2024                   13864\n",
       "40         OKAYA EV       2-Wheelers         2023                   13172\n",
       "57           REVOLT       2-Wheelers         2023                   12933\n",
       "21    HERO ELECTRIC       2-Wheelers         2024                   11949\n",
       "55          PURE EV       2-Wheelers         2023                   11556\n",
       "11            BEING       2-Wheelers         2023                   11018\n",
       "30    KINETIC GREEN       2-Wheelers         2024                    9585\n",
       "26         JITENDRA       2-Wheelers         2023                    8563\n",
       "58           REVOLT       2-Wheelers         2024                    7254\n",
       "9   BATTRE ELECTRIC       2-Wheelers         2024                    4841"
      ]
     },
     "execution_count": 25,
     "metadata": {},
     "output_type": "execute_result"
    }
   ],
   "source": [
    "maker2=maker1.sort_values(by='electric_vehicles_sold',ascending=False)\n",
    "maker2"
   ]
  },
  {
   "cell_type": "code",
   "execution_count": 163,
   "id": "bbc9435f",
   "metadata": {},
   "outputs": [
    {
     "data": {
      "application/vnd.plotly.v1+json": {
       "config": {
        "plotlyServerURL": "https://plot.ly"
       },
       "data": [
        {
         "alignmentgroup": "True",
         "hovertemplate": "maker=%{x}<br>electric_vehicles_sold=%{y}<br>fiscal_year=%{marker.color}<extra></extra>",
         "legendgroup": "",
         "marker": {
          "color": [
           2024,
           2024,
           2023,
           2024,
           2024,
           2023,
           2023,
           2023,
           2023,
           2024,
           2023,
           2024,
           2023,
           2023,
           2024,
           2024,
           2024,
           2023,
           2023,
           2024,
           2023,
           2023,
           2024,
           2023,
           2024,
           2024
          ],
          "coloraxis": "coloraxis",
          "pattern": {
           "shape": ""
          }
         },
         "name": "",
         "offsetgroup": "",
         "orientation": "v",
         "showlegend": false,
         "textposition": "auto",
         "texttemplate": "%{y}",
         "type": "bar",
         "x": [
          "OLA ELECTRIC",
          "TVS",
          "OLA ELECTRIC",
          "ATHER",
          "BAJAJ",
          "OKINAWA",
          "HERO ELECTRIC",
          "AMPERE",
          "TVS",
          "OTHERS",
          "ATHER",
          "AMPERE",
          "OTHERS",
          "BAJAJ",
          "OKINAWA",
          "BGAUSS",
          "OKAYA EV",
          "OKAYA EV",
          "REVOLT",
          "HERO ELECTRIC",
          "PURE EV",
          "BEING",
          "KINETIC GREEN",
          "JITENDRA",
          "REVOLT",
          "BATTRE ELECTRIC"
         ],
         "xaxis": "x",
         "y": [
          322489,
          180743,
          152583,
          107552,
          105695,
          96945,
          88993,
          87376,
          82093,
          78660,
          76921,
          54388,
          52953,
          32797,
          20621,
          15051,
          13864,
          13172,
          12933,
          11949,
          11556,
          11018,
          9585,
          8563,
          7254,
          4841
         ],
         "yaxis": "y"
        }
       ],
       "layout": {
        "barmode": "relative",
        "coloraxis": {
         "colorbar": {
          "title": {
           "text": "fiscal_year"
          }
         },
         "colorscale": [
          [
           0,
           "#0d0887"
          ],
          [
           0.1111111111111111,
           "#46039f"
          ],
          [
           0.2222222222222222,
           "#7201a8"
          ],
          [
           0.3333333333333333,
           "#9c179e"
          ],
          [
           0.4444444444444444,
           "#bd3786"
          ],
          [
           0.5555555555555556,
           "#d8576b"
          ],
          [
           0.6666666666666666,
           "#ed7953"
          ],
          [
           0.7777777777777778,
           "#fb9f3a"
          ],
          [
           0.8888888888888888,
           "#fdca26"
          ],
          [
           1,
           "#f0f921"
          ]
         ]
        },
        "legend": {
         "tracegroupgap": 0
        },
        "margin": {
         "t": 60
        },
        "template": {
         "data": {
          "bar": [
           {
            "error_x": {
             "color": "#2a3f5f"
            },
            "error_y": {
             "color": "#2a3f5f"
            },
            "marker": {
             "line": {
              "color": "#E5ECF6",
              "width": 0.5
             },
             "pattern": {
              "fillmode": "overlay",
              "size": 10,
              "solidity": 0.2
             }
            },
            "type": "bar"
           }
          ],
          "barpolar": [
           {
            "marker": {
             "line": {
              "color": "#E5ECF6",
              "width": 0.5
             },
             "pattern": {
              "fillmode": "overlay",
              "size": 10,
              "solidity": 0.2
             }
            },
            "type": "barpolar"
           }
          ],
          "carpet": [
           {
            "aaxis": {
             "endlinecolor": "#2a3f5f",
             "gridcolor": "white",
             "linecolor": "white",
             "minorgridcolor": "white",
             "startlinecolor": "#2a3f5f"
            },
            "baxis": {
             "endlinecolor": "#2a3f5f",
             "gridcolor": "white",
             "linecolor": "white",
             "minorgridcolor": "white",
             "startlinecolor": "#2a3f5f"
            },
            "type": "carpet"
           }
          ],
          "choropleth": [
           {
            "colorbar": {
             "outlinewidth": 0,
             "ticks": ""
            },
            "type": "choropleth"
           }
          ],
          "contour": [
           {
            "colorbar": {
             "outlinewidth": 0,
             "ticks": ""
            },
            "colorscale": [
             [
              0,
              "#0d0887"
             ],
             [
              0.1111111111111111,
              "#46039f"
             ],
             [
              0.2222222222222222,
              "#7201a8"
             ],
             [
              0.3333333333333333,
              "#9c179e"
             ],
             [
              0.4444444444444444,
              "#bd3786"
             ],
             [
              0.5555555555555556,
              "#d8576b"
             ],
             [
              0.6666666666666666,
              "#ed7953"
             ],
             [
              0.7777777777777778,
              "#fb9f3a"
             ],
             [
              0.8888888888888888,
              "#fdca26"
             ],
             [
              1,
              "#f0f921"
             ]
            ],
            "type": "contour"
           }
          ],
          "contourcarpet": [
           {
            "colorbar": {
             "outlinewidth": 0,
             "ticks": ""
            },
            "type": "contourcarpet"
           }
          ],
          "heatmap": [
           {
            "colorbar": {
             "outlinewidth": 0,
             "ticks": ""
            },
            "colorscale": [
             [
              0,
              "#0d0887"
             ],
             [
              0.1111111111111111,
              "#46039f"
             ],
             [
              0.2222222222222222,
              "#7201a8"
             ],
             [
              0.3333333333333333,
              "#9c179e"
             ],
             [
              0.4444444444444444,
              "#bd3786"
             ],
             [
              0.5555555555555556,
              "#d8576b"
             ],
             [
              0.6666666666666666,
              "#ed7953"
             ],
             [
              0.7777777777777778,
              "#fb9f3a"
             ],
             [
              0.8888888888888888,
              "#fdca26"
             ],
             [
              1,
              "#f0f921"
             ]
            ],
            "type": "heatmap"
           }
          ],
          "heatmapgl": [
           {
            "colorbar": {
             "outlinewidth": 0,
             "ticks": ""
            },
            "colorscale": [
             [
              0,
              "#0d0887"
             ],
             [
              0.1111111111111111,
              "#46039f"
             ],
             [
              0.2222222222222222,
              "#7201a8"
             ],
             [
              0.3333333333333333,
              "#9c179e"
             ],
             [
              0.4444444444444444,
              "#bd3786"
             ],
             [
              0.5555555555555556,
              "#d8576b"
             ],
             [
              0.6666666666666666,
              "#ed7953"
             ],
             [
              0.7777777777777778,
              "#fb9f3a"
             ],
             [
              0.8888888888888888,
              "#fdca26"
             ],
             [
              1,
              "#f0f921"
             ]
            ],
            "type": "heatmapgl"
           }
          ],
          "histogram": [
           {
            "marker": {
             "pattern": {
              "fillmode": "overlay",
              "size": 10,
              "solidity": 0.2
             }
            },
            "type": "histogram"
           }
          ],
          "histogram2d": [
           {
            "colorbar": {
             "outlinewidth": 0,
             "ticks": ""
            },
            "colorscale": [
             [
              0,
              "#0d0887"
             ],
             [
              0.1111111111111111,
              "#46039f"
             ],
             [
              0.2222222222222222,
              "#7201a8"
             ],
             [
              0.3333333333333333,
              "#9c179e"
             ],
             [
              0.4444444444444444,
              "#bd3786"
             ],
             [
              0.5555555555555556,
              "#d8576b"
             ],
             [
              0.6666666666666666,
              "#ed7953"
             ],
             [
              0.7777777777777778,
              "#fb9f3a"
             ],
             [
              0.8888888888888888,
              "#fdca26"
             ],
             [
              1,
              "#f0f921"
             ]
            ],
            "type": "histogram2d"
           }
          ],
          "histogram2dcontour": [
           {
            "colorbar": {
             "outlinewidth": 0,
             "ticks": ""
            },
            "colorscale": [
             [
              0,
              "#0d0887"
             ],
             [
              0.1111111111111111,
              "#46039f"
             ],
             [
              0.2222222222222222,
              "#7201a8"
             ],
             [
              0.3333333333333333,
              "#9c179e"
             ],
             [
              0.4444444444444444,
              "#bd3786"
             ],
             [
              0.5555555555555556,
              "#d8576b"
             ],
             [
              0.6666666666666666,
              "#ed7953"
             ],
             [
              0.7777777777777778,
              "#fb9f3a"
             ],
             [
              0.8888888888888888,
              "#fdca26"
             ],
             [
              1,
              "#f0f921"
             ]
            ],
            "type": "histogram2dcontour"
           }
          ],
          "mesh3d": [
           {
            "colorbar": {
             "outlinewidth": 0,
             "ticks": ""
            },
            "type": "mesh3d"
           }
          ],
          "parcoords": [
           {
            "line": {
             "colorbar": {
              "outlinewidth": 0,
              "ticks": ""
             }
            },
            "type": "parcoords"
           }
          ],
          "pie": [
           {
            "automargin": true,
            "type": "pie"
           }
          ],
          "scatter": [
           {
            "fillpattern": {
             "fillmode": "overlay",
             "size": 10,
             "solidity": 0.2
            },
            "type": "scatter"
           }
          ],
          "scatter3d": [
           {
            "line": {
             "colorbar": {
              "outlinewidth": 0,
              "ticks": ""
             }
            },
            "marker": {
             "colorbar": {
              "outlinewidth": 0,
              "ticks": ""
             }
            },
            "type": "scatter3d"
           }
          ],
          "scattercarpet": [
           {
            "marker": {
             "colorbar": {
              "outlinewidth": 0,
              "ticks": ""
             }
            },
            "type": "scattercarpet"
           }
          ],
          "scattergeo": [
           {
            "marker": {
             "colorbar": {
              "outlinewidth": 0,
              "ticks": ""
             }
            },
            "type": "scattergeo"
           }
          ],
          "scattergl": [
           {
            "marker": {
             "colorbar": {
              "outlinewidth": 0,
              "ticks": ""
             }
            },
            "type": "scattergl"
           }
          ],
          "scattermapbox": [
           {
            "marker": {
             "colorbar": {
              "outlinewidth": 0,
              "ticks": ""
             }
            },
            "type": "scattermapbox"
           }
          ],
          "scatterpolar": [
           {
            "marker": {
             "colorbar": {
              "outlinewidth": 0,
              "ticks": ""
             }
            },
            "type": "scatterpolar"
           }
          ],
          "scatterpolargl": [
           {
            "marker": {
             "colorbar": {
              "outlinewidth": 0,
              "ticks": ""
             }
            },
            "type": "scatterpolargl"
           }
          ],
          "scatterternary": [
           {
            "marker": {
             "colorbar": {
              "outlinewidth": 0,
              "ticks": ""
             }
            },
            "type": "scatterternary"
           }
          ],
          "surface": [
           {
            "colorbar": {
             "outlinewidth": 0,
             "ticks": ""
            },
            "colorscale": [
             [
              0,
              "#0d0887"
             ],
             [
              0.1111111111111111,
              "#46039f"
             ],
             [
              0.2222222222222222,
              "#7201a8"
             ],
             [
              0.3333333333333333,
              "#9c179e"
             ],
             [
              0.4444444444444444,
              "#bd3786"
             ],
             [
              0.5555555555555556,
              "#d8576b"
             ],
             [
              0.6666666666666666,
              "#ed7953"
             ],
             [
              0.7777777777777778,
              "#fb9f3a"
             ],
             [
              0.8888888888888888,
              "#fdca26"
             ],
             [
              1,
              "#f0f921"
             ]
            ],
            "type": "surface"
           }
          ],
          "table": [
           {
            "cells": {
             "fill": {
              "color": "#EBF0F8"
             },
             "line": {
              "color": "white"
             }
            },
            "header": {
             "fill": {
              "color": "#C8D4E3"
             },
             "line": {
              "color": "white"
             }
            },
            "type": "table"
           }
          ]
         },
         "layout": {
          "annotationdefaults": {
           "arrowcolor": "#2a3f5f",
           "arrowhead": 0,
           "arrowwidth": 1
          },
          "autotypenumbers": "strict",
          "coloraxis": {
           "colorbar": {
            "outlinewidth": 0,
            "ticks": ""
           }
          },
          "colorscale": {
           "diverging": [
            [
             0,
             "#8e0152"
            ],
            [
             0.1,
             "#c51b7d"
            ],
            [
             0.2,
             "#de77ae"
            ],
            [
             0.3,
             "#f1b6da"
            ],
            [
             0.4,
             "#fde0ef"
            ],
            [
             0.5,
             "#f7f7f7"
            ],
            [
             0.6,
             "#e6f5d0"
            ],
            [
             0.7,
             "#b8e186"
            ],
            [
             0.8,
             "#7fbc41"
            ],
            [
             0.9,
             "#4d9221"
            ],
            [
             1,
             "#276419"
            ]
           ],
           "sequential": [
            [
             0,
             "#0d0887"
            ],
            [
             0.1111111111111111,
             "#46039f"
            ],
            [
             0.2222222222222222,
             "#7201a8"
            ],
            [
             0.3333333333333333,
             "#9c179e"
            ],
            [
             0.4444444444444444,
             "#bd3786"
            ],
            [
             0.5555555555555556,
             "#d8576b"
            ],
            [
             0.6666666666666666,
             "#ed7953"
            ],
            [
             0.7777777777777778,
             "#fb9f3a"
            ],
            [
             0.8888888888888888,
             "#fdca26"
            ],
            [
             1,
             "#f0f921"
            ]
           ],
           "sequentialminus": [
            [
             0,
             "#0d0887"
            ],
            [
             0.1111111111111111,
             "#46039f"
            ],
            [
             0.2222222222222222,
             "#7201a8"
            ],
            [
             0.3333333333333333,
             "#9c179e"
            ],
            [
             0.4444444444444444,
             "#bd3786"
            ],
            [
             0.5555555555555556,
             "#d8576b"
            ],
            [
             0.6666666666666666,
             "#ed7953"
            ],
            [
             0.7777777777777778,
             "#fb9f3a"
            ],
            [
             0.8888888888888888,
             "#fdca26"
            ],
            [
             1,
             "#f0f921"
            ]
           ]
          },
          "colorway": [
           "#636efa",
           "#EF553B",
           "#00cc96",
           "#ab63fa",
           "#FFA15A",
           "#19d3f3",
           "#FF6692",
           "#B6E880",
           "#FF97FF",
           "#FECB52"
          ],
          "font": {
           "color": "#2a3f5f"
          },
          "geo": {
           "bgcolor": "white",
           "lakecolor": "white",
           "landcolor": "#E5ECF6",
           "showlakes": true,
           "showland": true,
           "subunitcolor": "white"
          },
          "hoverlabel": {
           "align": "left"
          },
          "hovermode": "closest",
          "mapbox": {
           "style": "light"
          },
          "paper_bgcolor": "white",
          "plot_bgcolor": "#E5ECF6",
          "polar": {
           "angularaxis": {
            "gridcolor": "white",
            "linecolor": "white",
            "ticks": ""
           },
           "bgcolor": "#E5ECF6",
           "radialaxis": {
            "gridcolor": "white",
            "linecolor": "white",
            "ticks": ""
           }
          },
          "scene": {
           "xaxis": {
            "backgroundcolor": "#E5ECF6",
            "gridcolor": "white",
            "gridwidth": 2,
            "linecolor": "white",
            "showbackground": true,
            "ticks": "",
            "zerolinecolor": "white"
           },
           "yaxis": {
            "backgroundcolor": "#E5ECF6",
            "gridcolor": "white",
            "gridwidth": 2,
            "linecolor": "white",
            "showbackground": true,
            "ticks": "",
            "zerolinecolor": "white"
           },
           "zaxis": {
            "backgroundcolor": "#E5ECF6",
            "gridcolor": "white",
            "gridwidth": 2,
            "linecolor": "white",
            "showbackground": true,
            "ticks": "",
            "zerolinecolor": "white"
           }
          },
          "shapedefaults": {
           "line": {
            "color": "#2a3f5f"
           }
          },
          "ternary": {
           "aaxis": {
            "gridcolor": "white",
            "linecolor": "white",
            "ticks": ""
           },
           "baxis": {
            "gridcolor": "white",
            "linecolor": "white",
            "ticks": ""
           },
           "bgcolor": "#E5ECF6",
           "caxis": {
            "gridcolor": "white",
            "linecolor": "white",
            "ticks": ""
           }
          },
          "title": {
           "x": 0.05
          },
          "xaxis": {
           "automargin": true,
           "gridcolor": "white",
           "linecolor": "white",
           "ticks": "",
           "title": {
            "standoff": 15
           },
           "zerolinecolor": "white",
           "zerolinewidth": 2
          },
          "yaxis": {
           "automargin": true,
           "gridcolor": "white",
           "linecolor": "white",
           "ticks": "",
           "title": {
            "standoff": 15
           },
           "zerolinecolor": "white",
           "zerolinewidth": 2
          }
         }
        },
        "xaxis": {
         "anchor": "y",
         "domain": [
          0,
          1
         ],
         "title": {
          "text": "maker"
         }
        },
        "yaxis": {
         "anchor": "x",
         "domain": [
          0,
          1
         ],
         "title": {
          "text": "electric_vehicles_sold"
         }
        }
       }
      },
      "text/html": [
       "<div>                            <div id=\"1f0053b4-fe91-4a7b-9241-40a1abc0344e\" class=\"plotly-graph-div\" style=\"height:525px; width:100%;\"></div>            <script type=\"text/javascript\">                require([\"plotly\"], function(Plotly) {                    window.PLOTLYENV=window.PLOTLYENV || {};                                    if (document.getElementById(\"1f0053b4-fe91-4a7b-9241-40a1abc0344e\")) {                    Plotly.newPlot(                        \"1f0053b4-fe91-4a7b-9241-40a1abc0344e\",                        [{\"alignmentgroup\":\"True\",\"hovertemplate\":\"maker=%{x}<br>electric_vehicles_sold=%{y}<br>fiscal_year=%{marker.color}<extra></extra>\",\"legendgroup\":\"\",\"marker\":{\"color\":[2024,2024,2023,2024,2024,2023,2023,2023,2023,2024,2023,2024,2023,2023,2024,2024,2024,2023,2023,2024,2023,2023,2024,2023,2024,2024],\"coloraxis\":\"coloraxis\",\"pattern\":{\"shape\":\"\"}},\"name\":\"\",\"offsetgroup\":\"\",\"orientation\":\"v\",\"showlegend\":false,\"textposition\":\"auto\",\"texttemplate\":\"%{y}\",\"x\":[\"OLA ELECTRIC\",\"TVS\",\"OLA ELECTRIC\",\"ATHER\",\"BAJAJ\",\"OKINAWA\",\"HERO ELECTRIC\",\"AMPERE\",\"TVS\",\"OTHERS\",\"ATHER\",\"AMPERE\",\"OTHERS\",\"BAJAJ\",\"OKINAWA\",\"BGAUSS\",\"OKAYA EV\",\"OKAYA EV\",\"REVOLT\",\"HERO ELECTRIC\",\"PURE EV\",\"BEING\",\"KINETIC GREEN\",\"JITENDRA\",\"REVOLT\",\"BATTRE ELECTRIC\"],\"xaxis\":\"x\",\"y\":[322489,180743,152583,107552,105695,96945,88993,87376,82093,78660,76921,54388,52953,32797,20621,15051,13864,13172,12933,11949,11556,11018,9585,8563,7254,4841],\"yaxis\":\"y\",\"type\":\"bar\"}],                        {\"template\":{\"data\":{\"histogram2dcontour\":[{\"type\":\"histogram2dcontour\",\"colorbar\":{\"outlinewidth\":0,\"ticks\":\"\"},\"colorscale\":[[0.0,\"#0d0887\"],[0.1111111111111111,\"#46039f\"],[0.2222222222222222,\"#7201a8\"],[0.3333333333333333,\"#9c179e\"],[0.4444444444444444,\"#bd3786\"],[0.5555555555555556,\"#d8576b\"],[0.6666666666666666,\"#ed7953\"],[0.7777777777777778,\"#fb9f3a\"],[0.8888888888888888,\"#fdca26\"],[1.0,\"#f0f921\"]]}],\"choropleth\":[{\"type\":\"choropleth\",\"colorbar\":{\"outlinewidth\":0,\"ticks\":\"\"}}],\"histogram2d\":[{\"type\":\"histogram2d\",\"colorbar\":{\"outlinewidth\":0,\"ticks\":\"\"},\"colorscale\":[[0.0,\"#0d0887\"],[0.1111111111111111,\"#46039f\"],[0.2222222222222222,\"#7201a8\"],[0.3333333333333333,\"#9c179e\"],[0.4444444444444444,\"#bd3786\"],[0.5555555555555556,\"#d8576b\"],[0.6666666666666666,\"#ed7953\"],[0.7777777777777778,\"#fb9f3a\"],[0.8888888888888888,\"#fdca26\"],[1.0,\"#f0f921\"]]}],\"heatmap\":[{\"type\":\"heatmap\",\"colorbar\":{\"outlinewidth\":0,\"ticks\":\"\"},\"colorscale\":[[0.0,\"#0d0887\"],[0.1111111111111111,\"#46039f\"],[0.2222222222222222,\"#7201a8\"],[0.3333333333333333,\"#9c179e\"],[0.4444444444444444,\"#bd3786\"],[0.5555555555555556,\"#d8576b\"],[0.6666666666666666,\"#ed7953\"],[0.7777777777777778,\"#fb9f3a\"],[0.8888888888888888,\"#fdca26\"],[1.0,\"#f0f921\"]]}],\"heatmapgl\":[{\"type\":\"heatmapgl\",\"colorbar\":{\"outlinewidth\":0,\"ticks\":\"\"},\"colorscale\":[[0.0,\"#0d0887\"],[0.1111111111111111,\"#46039f\"],[0.2222222222222222,\"#7201a8\"],[0.3333333333333333,\"#9c179e\"],[0.4444444444444444,\"#bd3786\"],[0.5555555555555556,\"#d8576b\"],[0.6666666666666666,\"#ed7953\"],[0.7777777777777778,\"#fb9f3a\"],[0.8888888888888888,\"#fdca26\"],[1.0,\"#f0f921\"]]}],\"contourcarpet\":[{\"type\":\"contourcarpet\",\"colorbar\":{\"outlinewidth\":0,\"ticks\":\"\"}}],\"contour\":[{\"type\":\"contour\",\"colorbar\":{\"outlinewidth\":0,\"ticks\":\"\"},\"colorscale\":[[0.0,\"#0d0887\"],[0.1111111111111111,\"#46039f\"],[0.2222222222222222,\"#7201a8\"],[0.3333333333333333,\"#9c179e\"],[0.4444444444444444,\"#bd3786\"],[0.5555555555555556,\"#d8576b\"],[0.6666666666666666,\"#ed7953\"],[0.7777777777777778,\"#fb9f3a\"],[0.8888888888888888,\"#fdca26\"],[1.0,\"#f0f921\"]]}],\"surface\":[{\"type\":\"surface\",\"colorbar\":{\"outlinewidth\":0,\"ticks\":\"\"},\"colorscale\":[[0.0,\"#0d0887\"],[0.1111111111111111,\"#46039f\"],[0.2222222222222222,\"#7201a8\"],[0.3333333333333333,\"#9c179e\"],[0.4444444444444444,\"#bd3786\"],[0.5555555555555556,\"#d8576b\"],[0.6666666666666666,\"#ed7953\"],[0.7777777777777778,\"#fb9f3a\"],[0.8888888888888888,\"#fdca26\"],[1.0,\"#f0f921\"]]}],\"mesh3d\":[{\"type\":\"mesh3d\",\"colorbar\":{\"outlinewidth\":0,\"ticks\":\"\"}}],\"scatter\":[{\"fillpattern\":{\"fillmode\":\"overlay\",\"size\":10,\"solidity\":0.2},\"type\":\"scatter\"}],\"parcoords\":[{\"type\":\"parcoords\",\"line\":{\"colorbar\":{\"outlinewidth\":0,\"ticks\":\"\"}}}],\"scatterpolargl\":[{\"type\":\"scatterpolargl\",\"marker\":{\"colorbar\":{\"outlinewidth\":0,\"ticks\":\"\"}}}],\"bar\":[{\"error_x\":{\"color\":\"#2a3f5f\"},\"error_y\":{\"color\":\"#2a3f5f\"},\"marker\":{\"line\":{\"color\":\"#E5ECF6\",\"width\":0.5},\"pattern\":{\"fillmode\":\"overlay\",\"size\":10,\"solidity\":0.2}},\"type\":\"bar\"}],\"scattergeo\":[{\"type\":\"scattergeo\",\"marker\":{\"colorbar\":{\"outlinewidth\":0,\"ticks\":\"\"}}}],\"scatterpolar\":[{\"type\":\"scatterpolar\",\"marker\":{\"colorbar\":{\"outlinewidth\":0,\"ticks\":\"\"}}}],\"histogram\":[{\"marker\":{\"pattern\":{\"fillmode\":\"overlay\",\"size\":10,\"solidity\":0.2}},\"type\":\"histogram\"}],\"scattergl\":[{\"type\":\"scattergl\",\"marker\":{\"colorbar\":{\"outlinewidth\":0,\"ticks\":\"\"}}}],\"scatter3d\":[{\"type\":\"scatter3d\",\"line\":{\"colorbar\":{\"outlinewidth\":0,\"ticks\":\"\"}},\"marker\":{\"colorbar\":{\"outlinewidth\":0,\"ticks\":\"\"}}}],\"scattermapbox\":[{\"type\":\"scattermapbox\",\"marker\":{\"colorbar\":{\"outlinewidth\":0,\"ticks\":\"\"}}}],\"scatterternary\":[{\"type\":\"scatterternary\",\"marker\":{\"colorbar\":{\"outlinewidth\":0,\"ticks\":\"\"}}}],\"scattercarpet\":[{\"type\":\"scattercarpet\",\"marker\":{\"colorbar\":{\"outlinewidth\":0,\"ticks\":\"\"}}}],\"carpet\":[{\"aaxis\":{\"endlinecolor\":\"#2a3f5f\",\"gridcolor\":\"white\",\"linecolor\":\"white\",\"minorgridcolor\":\"white\",\"startlinecolor\":\"#2a3f5f\"},\"baxis\":{\"endlinecolor\":\"#2a3f5f\",\"gridcolor\":\"white\",\"linecolor\":\"white\",\"minorgridcolor\":\"white\",\"startlinecolor\":\"#2a3f5f\"},\"type\":\"carpet\"}],\"table\":[{\"cells\":{\"fill\":{\"color\":\"#EBF0F8\"},\"line\":{\"color\":\"white\"}},\"header\":{\"fill\":{\"color\":\"#C8D4E3\"},\"line\":{\"color\":\"white\"}},\"type\":\"table\"}],\"barpolar\":[{\"marker\":{\"line\":{\"color\":\"#E5ECF6\",\"width\":0.5},\"pattern\":{\"fillmode\":\"overlay\",\"size\":10,\"solidity\":0.2}},\"type\":\"barpolar\"}],\"pie\":[{\"automargin\":true,\"type\":\"pie\"}]},\"layout\":{\"autotypenumbers\":\"strict\",\"colorway\":[\"#636efa\",\"#EF553B\",\"#00cc96\",\"#ab63fa\",\"#FFA15A\",\"#19d3f3\",\"#FF6692\",\"#B6E880\",\"#FF97FF\",\"#FECB52\"],\"font\":{\"color\":\"#2a3f5f\"},\"hovermode\":\"closest\",\"hoverlabel\":{\"align\":\"left\"},\"paper_bgcolor\":\"white\",\"plot_bgcolor\":\"#E5ECF6\",\"polar\":{\"bgcolor\":\"#E5ECF6\",\"angularaxis\":{\"gridcolor\":\"white\",\"linecolor\":\"white\",\"ticks\":\"\"},\"radialaxis\":{\"gridcolor\":\"white\",\"linecolor\":\"white\",\"ticks\":\"\"}},\"ternary\":{\"bgcolor\":\"#E5ECF6\",\"aaxis\":{\"gridcolor\":\"white\",\"linecolor\":\"white\",\"ticks\":\"\"},\"baxis\":{\"gridcolor\":\"white\",\"linecolor\":\"white\",\"ticks\":\"\"},\"caxis\":{\"gridcolor\":\"white\",\"linecolor\":\"white\",\"ticks\":\"\"}},\"coloraxis\":{\"colorbar\":{\"outlinewidth\":0,\"ticks\":\"\"}},\"colorscale\":{\"sequential\":[[0.0,\"#0d0887\"],[0.1111111111111111,\"#46039f\"],[0.2222222222222222,\"#7201a8\"],[0.3333333333333333,\"#9c179e\"],[0.4444444444444444,\"#bd3786\"],[0.5555555555555556,\"#d8576b\"],[0.6666666666666666,\"#ed7953\"],[0.7777777777777778,\"#fb9f3a\"],[0.8888888888888888,\"#fdca26\"],[1.0,\"#f0f921\"]],\"sequentialminus\":[[0.0,\"#0d0887\"],[0.1111111111111111,\"#46039f\"],[0.2222222222222222,\"#7201a8\"],[0.3333333333333333,\"#9c179e\"],[0.4444444444444444,\"#bd3786\"],[0.5555555555555556,\"#d8576b\"],[0.6666666666666666,\"#ed7953\"],[0.7777777777777778,\"#fb9f3a\"],[0.8888888888888888,\"#fdca26\"],[1.0,\"#f0f921\"]],\"diverging\":[[0,\"#8e0152\"],[0.1,\"#c51b7d\"],[0.2,\"#de77ae\"],[0.3,\"#f1b6da\"],[0.4,\"#fde0ef\"],[0.5,\"#f7f7f7\"],[0.6,\"#e6f5d0\"],[0.7,\"#b8e186\"],[0.8,\"#7fbc41\"],[0.9,\"#4d9221\"],[1,\"#276419\"]]},\"xaxis\":{\"gridcolor\":\"white\",\"linecolor\":\"white\",\"ticks\":\"\",\"title\":{\"standoff\":15},\"zerolinecolor\":\"white\",\"automargin\":true,\"zerolinewidth\":2},\"yaxis\":{\"gridcolor\":\"white\",\"linecolor\":\"white\",\"ticks\":\"\",\"title\":{\"standoff\":15},\"zerolinecolor\":\"white\",\"automargin\":true,\"zerolinewidth\":2},\"scene\":{\"xaxis\":{\"backgroundcolor\":\"#E5ECF6\",\"gridcolor\":\"white\",\"linecolor\":\"white\",\"showbackground\":true,\"ticks\":\"\",\"zerolinecolor\":\"white\",\"gridwidth\":2},\"yaxis\":{\"backgroundcolor\":\"#E5ECF6\",\"gridcolor\":\"white\",\"linecolor\":\"white\",\"showbackground\":true,\"ticks\":\"\",\"zerolinecolor\":\"white\",\"gridwidth\":2},\"zaxis\":{\"backgroundcolor\":\"#E5ECF6\",\"gridcolor\":\"white\",\"linecolor\":\"white\",\"showbackground\":true,\"ticks\":\"\",\"zerolinecolor\":\"white\",\"gridwidth\":2}},\"shapedefaults\":{\"line\":{\"color\":\"#2a3f5f\"}},\"annotationdefaults\":{\"arrowcolor\":\"#2a3f5f\",\"arrowhead\":0,\"arrowwidth\":1},\"geo\":{\"bgcolor\":\"white\",\"landcolor\":\"#E5ECF6\",\"subunitcolor\":\"white\",\"showland\":true,\"showlakes\":true,\"lakecolor\":\"white\"},\"title\":{\"x\":0.05},\"mapbox\":{\"style\":\"light\"}}},\"xaxis\":{\"anchor\":\"y\",\"domain\":[0.0,1.0],\"title\":{\"text\":\"maker\"}},\"yaxis\":{\"anchor\":\"x\",\"domain\":[0.0,1.0],\"title\":{\"text\":\"electric_vehicles_sold\"}},\"coloraxis\":{\"colorbar\":{\"title\":{\"text\":\"fiscal_year\"}},\"colorscale\":[[0.0,\"#0d0887\"],[0.1111111111111111,\"#46039f\"],[0.2222222222222222,\"#7201a8\"],[0.3333333333333333,\"#9c179e\"],[0.4444444444444444,\"#bd3786\"],[0.5555555555555556,\"#d8576b\"],[0.6666666666666666,\"#ed7953\"],[0.7777777777777778,\"#fb9f3a\"],[0.8888888888888888,\"#fdca26\"],[1.0,\"#f0f921\"]]},\"legend\":{\"tracegroupgap\":0},\"margin\":{\"t\":60},\"barmode\":\"relative\"},                        {\"responsive\": true}                    ).then(function(){\n",
       "                            \n",
       "var gd = document.getElementById('1f0053b4-fe91-4a7b-9241-40a1abc0344e');\n",
       "var x = new MutationObserver(function (mutations, observer) {{\n",
       "        var display = window.getComputedStyle(gd).display;\n",
       "        if (!display || display === 'none') {{\n",
       "            console.log([gd, 'removed!']);\n",
       "            Plotly.purge(gd);\n",
       "            observer.disconnect();\n",
       "        }}\n",
       "}});\n",
       "\n",
       "// Listen for the removal of the full notebook cells\n",
       "var notebookContainer = gd.closest('#notebook-container');\n",
       "if (notebookContainer) {{\n",
       "    x.observe(notebookContainer, {childList: true});\n",
       "}}\n",
       "\n",
       "// Listen for the clearing of the current output cell\n",
       "var outputEl = gd.closest('.output');\n",
       "if (outputEl) {{\n",
       "    x.observe(outputEl, {childList: true});\n",
       "}}\n",
       "\n",
       "                        })                };                });            </script>        </div>"
      ]
     },
     "metadata": {},
     "output_type": "display_data"
    }
   ],
   "source": [
    "fig=px.bar(maker2,x='maker',y='electric_vehicles_sold',color='fiscal_year',text_auto=True)\n",
    "fig.show()"
   ]
  },
  {
   "cell_type": "code",
   "execution_count": 27,
   "id": "4ac637ba",
   "metadata": {},
   "outputs": [
    {
     "data": {
      "text/html": [
       "<div>\n",
       "<style scoped>\n",
       "    .dataframe tbody tr th:only-of-type {\n",
       "        vertical-align: middle;\n",
       "    }\n",
       "\n",
       "    .dataframe tbody tr th {\n",
       "        vertical-align: top;\n",
       "    }\n",
       "\n",
       "    .dataframe thead th {\n",
       "        text-align: right;\n",
       "    }\n",
       "</style>\n",
       "<table border=\"1\" class=\"dataframe\">\n",
       "  <thead>\n",
       "    <tr style=\"text-align: right;\">\n",
       "      <th></th>\n",
       "      <th>maker</th>\n",
       "      <th>electric_vehicles_sold</th>\n",
       "    </tr>\n",
       "  </thead>\n",
       "  <tbody>\n",
       "    <tr>\n",
       "      <th>0</th>\n",
       "      <td>AMPERE</td>\n",
       "      <td>141764</td>\n",
       "    </tr>\n",
       "    <tr>\n",
       "      <th>1</th>\n",
       "      <td>ATHER</td>\n",
       "      <td>184473</td>\n",
       "    </tr>\n",
       "    <tr>\n",
       "      <th>2</th>\n",
       "      <td>BAJAJ</td>\n",
       "      <td>138492</td>\n",
       "    </tr>\n",
       "    <tr>\n",
       "      <th>3</th>\n",
       "      <td>BATTRE ELECTRIC</td>\n",
       "      <td>4841</td>\n",
       "    </tr>\n",
       "    <tr>\n",
       "      <th>4</th>\n",
       "      <td>BEING</td>\n",
       "      <td>11018</td>\n",
       "    </tr>\n",
       "    <tr>\n",
       "      <th>5</th>\n",
       "      <td>BGAUSS</td>\n",
       "      <td>15051</td>\n",
       "    </tr>\n",
       "    <tr>\n",
       "      <th>6</th>\n",
       "      <td>HERO ELECTRIC</td>\n",
       "      <td>100942</td>\n",
       "    </tr>\n",
       "    <tr>\n",
       "      <th>7</th>\n",
       "      <td>JITENDRA</td>\n",
       "      <td>8563</td>\n",
       "    </tr>\n",
       "    <tr>\n",
       "      <th>8</th>\n",
       "      <td>KINETIC GREEN</td>\n",
       "      <td>9585</td>\n",
       "    </tr>\n",
       "    <tr>\n",
       "      <th>9</th>\n",
       "      <td>OKAYA EV</td>\n",
       "      <td>27036</td>\n",
       "    </tr>\n",
       "    <tr>\n",
       "      <th>10</th>\n",
       "      <td>OKINAWA</td>\n",
       "      <td>117566</td>\n",
       "    </tr>\n",
       "    <tr>\n",
       "      <th>11</th>\n",
       "      <td>OLA ELECTRIC</td>\n",
       "      <td>475072</td>\n",
       "    </tr>\n",
       "    <tr>\n",
       "      <th>12</th>\n",
       "      <td>OTHERS</td>\n",
       "      <td>131613</td>\n",
       "    </tr>\n",
       "    <tr>\n",
       "      <th>13</th>\n",
       "      <td>PURE EV</td>\n",
       "      <td>11556</td>\n",
       "    </tr>\n",
       "    <tr>\n",
       "      <th>14</th>\n",
       "      <td>REVOLT</td>\n",
       "      <td>20187</td>\n",
       "    </tr>\n",
       "    <tr>\n",
       "      <th>15</th>\n",
       "      <td>TVS</td>\n",
       "      <td>262836</td>\n",
       "    </tr>\n",
       "  </tbody>\n",
       "</table>\n",
       "</div>"
      ],
      "text/plain": [
       "              maker  electric_vehicles_sold\n",
       "0            AMPERE                  141764\n",
       "1             ATHER                  184473\n",
       "2             BAJAJ                  138492\n",
       "3   BATTRE ELECTRIC                    4841\n",
       "4             BEING                   11018\n",
       "5            BGAUSS                   15051\n",
       "6     HERO ELECTRIC                  100942\n",
       "7          JITENDRA                    8563\n",
       "8     KINETIC GREEN                    9585\n",
       "9          OKAYA EV                   27036\n",
       "10          OKINAWA                  117566\n",
       "11     OLA ELECTRIC                  475072\n",
       "12           OTHERS                  131613\n",
       "13          PURE EV                   11556\n",
       "14           REVOLT                   20187\n",
       "15              TVS                  262836"
      ]
     },
     "execution_count": 27,
     "metadata": {},
     "output_type": "execute_result"
    }
   ],
   "source": [
    "maker3=maker2.groupby('maker')['electric_vehicles_sold'].sum().reset_index()\n",
    "maker3"
   ]
  },
  {
   "cell_type": "code",
   "execution_count": 28,
   "id": "2c637dba",
   "metadata": {},
   "outputs": [],
   "source": [
    "maker4=maker3.sort_values(by='electric_vehicles_sold',ascending=False)\n",
    "maker4\n",
    "top3=maker4.head(3)\n",
    "bottom3=maker4.tail(3)"
   ]
  },
  {
   "cell_type": "code",
   "execution_count": 151,
   "id": "ad1765d3",
   "metadata": {},
   "outputs": [
    {
     "data": {
      "image/png": "[encoded data removed]",
      "text/plain": [
       "<Figure size 1200x600 with 2 Axes>"
      ]
     },
     "metadata": {},
     "output_type": "display_data"
    }
   ],
   "source": [
    "import seaborn as sns\n",
    "import matplotlib.pyplot as plt\n",
    "\n",
    "fig, axes = plt.subplots(1, 2, figsize=(12, 6)) \n",
    "\n",
    "sns.barplot(x='maker', y='electric_vehicles_sold', data=top3, ax=axes[0], palette='viridis')\n",
    "axes[0].set_title('Top 3 Makers')\n",
    "axes[0].set_xlabel('Maker')\n",
    "axes[0].set_ylabel('Electric Vehicles Sold')\n",
    "\n",
    "for container in axes[0].containers:\n",
    "    axes[0].bar_label(container, fmt='%.0f')  \n",
    "\n",
    "sns.barplot(x='maker', y='electric_vehicles_sold', data=bottom3, ax=axes[1], palette='magma')\n",
    "axes[1].set_title('Bottom 3 Makers')\n",
    "axes[1].set_xlabel('Maker')\n",
    "axes[1].set_ylabel('')\n",
    "\n",
    "for container in axes[1].containers:\n",
    "    axes[1].bar_label(container, fmt='%.0f')  \n",
    "\n",
    "fig.suptitle('Top and Bottom 3 Makers in 2-Wheelers Category for 2023-2024', fontsize=16)\n",
    "\n",
    "plt.tight_layout(rect=[0, 0, 1, 0.95])\n",
    "\n",
    "\n",
    "plt.show()\n"
   ]
  },
  {
   "cell_type": "markdown",
   "id": "dc76353d",
   "metadata": {},
   "source": [
    "# What are the peak and low season months for EV sales based on the data from 2022 to 2024?"
   ]
  },
  {
   "cell_type": "code",
   "execution_count": 30,
   "id": "f5b5e1d2",
   "metadata": {},
   "outputs": [
    {
     "data": {
      "text/html": [
       "<div>\n",
       "<style scoped>\n",
       "    .dataframe tbody tr th:only-of-type {\n",
       "        vertical-align: middle;\n",
       "    }\n",
       "\n",
       "    .dataframe tbody tr th {\n",
       "        vertical-align: top;\n",
       "    }\n",
       "\n",
       "    .dataframe thead th {\n",
       "        text-align: right;\n",
       "    }\n",
       "</style>\n",
       "<table border=\"1\" class=\"dataframe\">\n",
       "  <thead>\n",
       "    <tr style=\"text-align: right;\">\n",
       "      <th></th>\n",
       "      <th>date</th>\n",
       "      <th>fiscal_year</th>\n",
       "      <th>electric_vehicles_sold</th>\n",
       "    </tr>\n",
       "  </thead>\n",
       "  <tbody>\n",
       "    <tr>\n",
       "      <th>0</th>\n",
       "      <td>2021-04-30</td>\n",
       "      <td>2022</td>\n",
       "      <td>6315</td>\n",
       "    </tr>\n",
       "    <tr>\n",
       "      <th>1</th>\n",
       "      <td>2021-05-31</td>\n",
       "      <td>2022</td>\n",
       "      <td>1499</td>\n",
       "    </tr>\n",
       "    <tr>\n",
       "      <th>2</th>\n",
       "      <td>2021-06-30</td>\n",
       "      <td>2022</td>\n",
       "      <td>5487</td>\n",
       "    </tr>\n",
       "    <tr>\n",
       "      <th>3</th>\n",
       "      <td>2021-07-31</td>\n",
       "      <td>2022</td>\n",
       "      <td>15794</td>\n",
       "    </tr>\n",
       "    <tr>\n",
       "      <th>4</th>\n",
       "      <td>2021-08-31</td>\n",
       "      <td>2022</td>\n",
       "      <td>17153</td>\n",
       "    </tr>\n",
       "  </tbody>\n",
       "</table>\n",
       "</div>"
      ],
      "text/plain": [
       "        date  fiscal_year  electric_vehicles_sold\n",
       "0 2021-04-30         2022                    6315\n",
       "1 2021-05-31         2022                    1499\n",
       "2 2021-06-30         2022                    5487\n",
       "3 2021-07-31         2022                   15794\n",
       "4 2021-08-31         2022                   17153"
      ]
     },
     "execution_count": 30,
     "metadata": {},
     "output_type": "execute_result"
    }
   ],
   "source": [
    "maker_month=new_m.set_index('date')\n",
    "maker_month=maker_month.groupby([pd.Grouper(freq='M'),'fiscal_year'])['electric_vehicles_sold'].sum().reset_index()\n",
    "maker_month.head()"
   ]
  },
  {
   "cell_type": "code",
   "execution_count": 31,
   "id": "cbf0f092",
   "metadata": {},
   "outputs": [
    {
     "data": {
      "application/vnd.plotly.v1+json": {
       "config": {
        "plotlyServerURL": "https://plot.ly"
       },
       "data": [
        {
         "hovertemplate": "fiscal_year=2022<br>date=%{x}<br>electric_vehicles_sold=%{y}<extra></extra>",
         "legendgroup": "2022",
         "line": {
          "color": "#636efa",
          "dash": "solid"
         },
         "marker": {
          "symbol": "circle"
         },
         "mode": "markers+lines",
         "name": "2022",
         "orientation": "v",
         "showlegend": true,
         "type": "scatter",
         "x": [
          "2021-04-30T00:00:00",
          "2021-05-31T00:00:00",
          "2021-06-30T00:00:00",
          "2021-07-31T00:00:00",
          "2021-08-31T00:00:00",
          "2021-09-30T00:00:00",
          "2021-10-31T00:00:00",
          "2021-11-30T00:00:00",
          "2021-12-31T00:00:00",
          "2022-01-31T00:00:00",
          "2022-02-28T00:00:00",
          "2022-03-31T00:00:00"
         ],
         "xaxis": "x",
         "y": [
          6315,
          1499,
          5487,
          15794,
          17153,
          19351,
          22190,
          26159,
          29241,
          31672,
          38171,
          58118
         ],
         "yaxis": "y"
        },
        {
         "hovertemplate": "fiscal_year=2023<br>date=%{x}<br>electric_vehicles_sold=%{y}<extra></extra>",
         "legendgroup": "2023",
         "line": {
          "color": "#EF553B",
          "dash": "solid"
         },
         "marker": {
          "symbol": "circle"
         },
         "mode": "markers+lines",
         "name": "2023",
         "orientation": "v",
         "showlegend": true,
         "type": "scatter",
         "x": [
          "2022-04-30T00:00:00",
          "2022-05-31T00:00:00",
          "2022-06-30T00:00:00",
          "2022-07-31T00:00:00",
          "2022-08-31T00:00:00",
          "2022-09-30T00:00:00",
          "2022-10-31T00:00:00",
          "2022-11-30T00:00:00",
          "2022-12-31T00:00:00",
          "2023-01-31T00:00:00",
          "2023-02-28T00:00:00",
          "2023-03-31T00:00:00"
         ],
         "xaxis": "x",
         "y": [
          55524,
          45373,
          47591,
          50010,
          55584,
          56828,
          81162,
          80752,
          68475,
          68116,
          70827,
          95126
         ],
         "yaxis": "y"
        },
        {
         "hovertemplate": "fiscal_year=2024<br>date=%{x}<br>electric_vehicles_sold=%{y}<extra></extra>",
         "legendgroup": "2024",
         "line": {
          "color": "#00cc96",
          "dash": "solid"
         },
         "marker": {
          "symbol": "circle"
         },
         "mode": "markers+lines",
         "name": "2024",
         "orientation": "v",
         "showlegend": true,
         "type": "scatter",
         "x": [
          "2023-04-30T00:00:00",
          "2023-05-31T00:00:00",
          "2023-06-30T00:00:00",
          "2023-07-31T00:00:00",
          "2023-08-31T00:00:00",
          "2023-09-30T00:00:00",
          "2023-10-31T00:00:00",
          "2023-11-30T00:00:00",
          "2023-12-31T00:00:00",
          "2024-01-31T00:00:00",
          "2024-02-29T00:00:00",
          "2024-03-31T00:00:00"
         ],
         "xaxis": "x",
         "y": [
          72818,
          112997,
          53631,
          61622,
          69224,
          69793,
          81833,
          98285,
          82685,
          89311,
          89051,
          138343
         ],
         "yaxis": "y"
        }
       ],
       "layout": {
        "legend": {
         "title": {
          "text": "fiscal_year"
         },
         "tracegroupgap": 0
        },
        "template": {
         "data": {
          "bar": [
           {
            "error_x": {
             "color": "#2a3f5f"
            },
            "error_y": {
             "color": "#2a3f5f"
            },
            "marker": {
             "line": {
              "color": "#E5ECF6",
              "width": 0.5
             },
             "pattern": {
              "fillmode": "overlay",
              "size": 10,
              "solidity": 0.2
             }
            },
            "type": "bar"
           }
          ],
          "barpolar": [
           {
            "marker": {
             "line": {
              "color": "#E5ECF6",
              "width": 0.5
             },
             "pattern": {
              "fillmode": "overlay",
              "size": 10,
              "solidity": 0.2
             }
            },
            "type": "barpolar"
           }
          ],
          "carpet": [
           {
            "aaxis": {
             "endlinecolor": "#2a3f5f",
             "gridcolor": "white",
             "linecolor": "white",
             "minorgridcolor": "white",
             "startlinecolor": "#2a3f5f"
            },
            "baxis": {
             "endlinecolor": "#2a3f5f",
             "gridcolor": "white",
             "linecolor": "white",
             "minorgridcolor": "white",
             "startlinecolor": "#2a3f5f"
            },
            "type": "carpet"
           }
          ],
          "choropleth": [
           {
            "colorbar": {
             "outlinewidth": 0,
             "ticks": ""
            },
            "type": "choropleth"
           }
          ],
          "contour": [
           {
            "colorbar": {
             "outlinewidth": 0,
             "ticks": ""
            },
            "colorscale": [
             [
              0,
              "#0d0887"
             ],
             [
              0.1111111111111111,
              "#46039f"
             ],
             [
              0.2222222222222222,
              "#7201a8"
             ],
             [
              0.3333333333333333,
              "#9c179e"
             ],
             [
              0.4444444444444444,
              "#bd3786"
             ],
             [
              0.5555555555555556,
              "#d8576b"
             ],
             [
              0.6666666666666666,
              "#ed7953"
             ],
             [
              0.7777777777777778,
              "#fb9f3a"
             ],
             [
              0.8888888888888888,
              "#fdca26"
             ],
             [
              1,
              "#f0f921"
             ]
            ],
            "type": "contour"
           }
          ],
          "contourcarpet": [
           {
            "colorbar": {
             "outlinewidth": 0,
             "ticks": ""
            },
            "type": "contourcarpet"
           }
          ],
          "heatmap": [
           {
            "colorbar": {
             "outlinewidth": 0,
             "ticks": ""
            },
            "colorscale": [
             [
              0,
              "#0d0887"
             ],
             [
              0.1111111111111111,
              "#46039f"
             ],
             [
              0.2222222222222222,
              "#7201a8"
             ],
             [
              0.3333333333333333,
              "#9c179e"
             ],
             [
              0.4444444444444444,
              "#bd3786"
             ],
             [
              0.5555555555555556,
              "#d8576b"
             ],
             [
              0.6666666666666666,
              "#ed7953"
             ],
             [
              0.7777777777777778,
              "#fb9f3a"
             ],
             [
              0.8888888888888888,
              "#fdca26"
             ],
             [
              1,
              "#f0f921"
             ]
            ],
            "type": "heatmap"
           }
          ],
          "heatmapgl": [
           {
            "colorbar": {
             "outlinewidth": 0,
             "ticks": ""
            },
            "colorscale": [
             [
              0,
              "#0d0887"
             ],
             [
              0.1111111111111111,
              "#46039f"
             ],
             [
              0.2222222222222222,
              "#7201a8"
             ],
             [
              0.3333333333333333,
              "#9c179e"
             ],
             [
              0.4444444444444444,
              "#bd3786"
             ],
             [
              0.5555555555555556,
              "#d8576b"
             ],
             [
              0.6666666666666666,
              "#ed7953"
             ],
             [
              0.7777777777777778,
              "#fb9f3a"
             ],
             [
              0.8888888888888888,
              "#fdca26"
             ],
             [
              1,
              "#f0f921"
             ]
            ],
            "type": "heatmapgl"
           }
          ],
          "histogram": [
           {
            "marker": {
             "pattern": {
              "fillmode": "overlay",
              "size": 10,
              "solidity": 0.2
             }
            },
            "type": "histogram"
           }
          ],
          "histogram2d": [
           {
            "colorbar": {
             "outlinewidth": 0,
             "ticks": ""
            },
            "colorscale": [
             [
              0,
              "#0d0887"
             ],
             [
              0.1111111111111111,
              "#46039f"
             ],
             [
              0.2222222222222222,
              "#7201a8"
             ],
             [
              0.3333333333333333,
              "#9c179e"
             ],
             [
              0.4444444444444444,
              "#bd3786"
             ],
             [
              0.5555555555555556,
              "#d8576b"
             ],
             [
              0.6666666666666666,
              "#ed7953"
             ],
             [
              0.7777777777777778,
              "#fb9f3a"
             ],
             [
              0.8888888888888888,
              "#fdca26"
             ],
             [
              1,
              "#f0f921"
             ]
            ],
            "type": "histogram2d"
           }
          ],
          "histogram2dcontour": [
           {
            "colorbar": {
             "outlinewidth": 0,
             "ticks": ""
            },
            "colorscale": [
             [
              0,
              "#0d0887"
             ],
             [
              0.1111111111111111,
              "#46039f"
             ],
             [
              0.2222222222222222,
              "#7201a8"
             ],
             [
              0.3333333333333333,
              "#9c179e"
             ],
             [
              0.4444444444444444,
              "#bd3786"
             ],
             [
              0.5555555555555556,
              "#d8576b"
             ],
             [
              0.6666666666666666,
              "#ed7953"
             ],
             [
              0.7777777777777778,
              "#fb9f3a"
             ],
             [
              0.8888888888888888,
              "#fdca26"
             ],
             [
              1,
              "#f0f921"
             ]
            ],
            "type": "histogram2dcontour"
           }
          ],
          "mesh3d": [
           {
            "colorbar": {
             "outlinewidth": 0,
             "ticks": ""
            },
            "type": "mesh3d"
           }
          ],
          "parcoords": [
           {
            "line": {
             "colorbar": {
              "outlinewidth": 0,
              "ticks": ""
             }
            },
            "type": "parcoords"
           }
          ],
          "pie": [
           {
            "automargin": true,
            "type": "pie"
           }
          ],
          "scatter": [
           {
            "fillpattern": {
             "fillmode": "overlay",
             "size": 10,
             "solidity": 0.2
            },
            "type": "scatter"
           }
          ],
          "scatter3d": [
           {
            "line": {
             "colorbar": {
              "outlinewidth": 0,
              "ticks": ""
             }
            },
            "marker": {
             "colorbar": {
              "outlinewidth": 0,
              "ticks": ""
             }
            },
            "type": "scatter3d"
           }
          ],
          "scattercarpet": [
           {
            "marker": {
             "colorbar": {
              "outlinewidth": 0,
              "ticks": ""
             }
            },
            "type": "scattercarpet"
           }
          ],
          "scattergeo": [
           {
            "marker": {
             "colorbar": {
              "outlinewidth": 0,
              "ticks": ""
             }
            },
            "type": "scattergeo"
           }
          ],
          "scattergl": [
           {
            "marker": {
             "colorbar": {
              "outlinewidth": 0,
              "ticks": ""
             }
            },
            "type": "scattergl"
           }
          ],
          "scattermapbox": [
           {
            "marker": {
             "colorbar": {
              "outlinewidth": 0,
              "ticks": ""
             }
            },
            "type": "scattermapbox"
           }
          ],
          "scatterpolar": [
           {
            "marker": {
             "colorbar": {
              "outlinewidth": 0,
              "ticks": ""
             }
            },
            "type": "scatterpolar"
           }
          ],
          "scatterpolargl": [
           {
            "marker": {
             "colorbar": {
              "outlinewidth": 0,
              "ticks": ""
             }
            },
            "type": "scatterpolargl"
           }
          ],
          "scatterternary": [
           {
            "marker": {
             "colorbar": {
              "outlinewidth": 0,
              "ticks": ""
             }
            },
            "type": "scatterternary"
           }
          ],
          "surface": [
           {
            "colorbar": {
             "outlinewidth": 0,
             "ticks": ""
            },
            "colorscale": [
             [
              0,
              "#0d0887"
             ],
             [
              0.1111111111111111,
              "#46039f"
             ],
             [
              0.2222222222222222,
              "#7201a8"
             ],
             [
              0.3333333333333333,
              "#9c179e"
             ],
             [
              0.4444444444444444,
              "#bd3786"
             ],
             [
              0.5555555555555556,
              "#d8576b"
             ],
             [
              0.6666666666666666,
              "#ed7953"
             ],
             [
              0.7777777777777778,
              "#fb9f3a"
             ],
             [
              0.8888888888888888,
              "#fdca26"
             ],
             [
              1,
              "#f0f921"
             ]
            ],
            "type": "surface"
           }
          ],
          "table": [
           {
            "cells": {
             "fill": {
              "color": "#EBF0F8"
             },
             "line": {
              "color": "white"
             }
            },
            "header": {
             "fill": {
              "color": "#C8D4E3"
             },
             "line": {
              "color": "white"
             }
            },
            "type": "table"
           }
          ]
         },
         "layout": {
          "annotationdefaults": {
           "arrowcolor": "#2a3f5f",
           "arrowhead": 0,
           "arrowwidth": 1
          },
          "autotypenumbers": "strict",
          "coloraxis": {
           "colorbar": {
            "outlinewidth": 0,
            "ticks": ""
           }
          },
          "colorscale": {
           "diverging": [
            [
             0,
             "#8e0152"
            ],
            [
             0.1,
             "#c51b7d"
            ],
            [
             0.2,
             "#de77ae"
            ],
            [
             0.3,
             "#f1b6da"
            ],
            [
             0.4,
             "#fde0ef"
            ],
            [
             0.5,
             "#f7f7f7"
            ],
            [
             0.6,
             "#e6f5d0"
            ],
            [
             0.7,
             "#b8e186"
            ],
            [
             0.8,
             "#7fbc41"
            ],
            [
             0.9,
             "#4d9221"
            ],
            [
             1,
             "#276419"
            ]
           ],
           "sequential": [
            [
             0,
             "#0d0887"
            ],
            [
             0.1111111111111111,
             "#46039f"
            ],
            [
             0.2222222222222222,
             "#7201a8"
            ],
            [
             0.3333333333333333,
             "#9c179e"
            ],
            [
             0.4444444444444444,
             "#bd3786"
            ],
            [
             0.5555555555555556,
             "#d8576b"
            ],
            [
             0.6666666666666666,
             "#ed7953"
            ],
            [
             0.7777777777777778,
             "#fb9f3a"
            ],
            [
             0.8888888888888888,
             "#fdca26"
            ],
            [
             1,
             "#f0f921"
            ]
           ],
           "sequentialminus": [
            [
             0,
             "#0d0887"
            ],
            [
             0.1111111111111111,
             "#46039f"
            ],
            [
             0.2222222222222222,
             "#7201a8"
            ],
            [
             0.3333333333333333,
             "#9c179e"
            ],
            [
             0.4444444444444444,
             "#bd3786"
            ],
            [
             0.5555555555555556,
             "#d8576b"
            ],
            [
             0.6666666666666666,
             "#ed7953"
            ],
            [
             0.7777777777777778,
             "#fb9f3a"
            ],
            [
             0.8888888888888888,
             "#fdca26"
            ],
            [
             1,
             "#f0f921"
            ]
           ]
          },
          "colorway": [
           "#636efa",
           "#EF553B",
           "#00cc96",
           "#ab63fa",
           "#FFA15A",
           "#19d3f3",
           "#FF6692",
           "#B6E880",
           "#FF97FF",
           "#FECB52"
          ],
          "font": {
           "color": "#2a3f5f"
          },
          "geo": {
           "bgcolor": "white",
           "lakecolor": "white",
           "landcolor": "#E5ECF6",
           "showlakes": true,
           "showland": true,
           "subunitcolor": "white"
          },
          "hoverlabel": {
           "align": "left"
          },
          "hovermode": "closest",
          "mapbox": {
           "style": "light"
          },
          "paper_bgcolor": "white",
          "plot_bgcolor": "#E5ECF6",
          "polar": {
           "angularaxis": {
            "gridcolor": "white",
            "linecolor": "white",
            "ticks": ""
           },
           "bgcolor": "#E5ECF6",
           "radialaxis": {
            "gridcolor": "white",
            "linecolor": "white",
            "ticks": ""
           }
          },
          "scene": {
           "xaxis": {
            "backgroundcolor": "#E5ECF6",
            "gridcolor": "white",
            "gridwidth": 2,
            "linecolor": "white",
            "showbackground": true,
            "ticks": "",
            "zerolinecolor": "white"
           },
           "yaxis": {
            "backgroundcolor": "#E5ECF6",
            "gridcolor": "white",
            "gridwidth": 2,
            "linecolor": "white",
            "showbackground": true,
            "ticks": "",
            "zerolinecolor": "white"
           },
           "zaxis": {
            "backgroundcolor": "#E5ECF6",
            "gridcolor": "white",
            "gridwidth": 2,
            "linecolor": "white",
            "showbackground": true,
            "ticks": "",
            "zerolinecolor": "white"
           }
          },
          "shapedefaults": {
           "line": {
            "color": "#2a3f5f"
           }
          },
          "ternary": {
           "aaxis": {
            "gridcolor": "white",
            "linecolor": "white",
            "ticks": ""
           },
           "baxis": {
            "gridcolor": "white",
            "linecolor": "white",
            "ticks": ""
           },
           "bgcolor": "#E5ECF6",
           "caxis": {
            "gridcolor": "white",
            "linecolor": "white",
            "ticks": ""
           }
          },
          "title": {
           "x": 0.05
          },
          "xaxis": {
           "automargin": true,
           "gridcolor": "white",
           "linecolor": "white",
           "ticks": "",
           "title": {
            "standoff": 15
           },
           "zerolinecolor": "white",
           "zerolinewidth": 2
          },
          "yaxis": {
           "automargin": true,
           "gridcolor": "white",
           "linecolor": "white",
           "ticks": "",
           "title": {
            "standoff": 15
           },
           "zerolinecolor": "white",
           "zerolinewidth": 2
          }
         }
        },
        "title": {
         "text": "Peak and low season months on EV sales from 2022 to 2024"
        },
        "xaxis": {
         "anchor": "y",
         "domain": [
          0,
          1
         ],
         "title": {
          "text": "date"
         }
        },
        "yaxis": {
         "anchor": "x",
         "domain": [
          0,
          1
         ],
         "title": {
          "text": "electric_vehicles_sold"
         }
        }
       }
      },
      "text/html": [
       "<div>                            <div id=\"33d88bb4-02fb-4e3d-a436-1a245ce61642\" class=\"plotly-graph-div\" style=\"height:525px; width:100%;\"></div>            <script type=\"text/javascript\">                require([\"plotly\"], function(Plotly) {                    window.PLOTLYENV=window.PLOTLYENV || {};                                    if (document.getElementById(\"33d88bb4-02fb-4e3d-a436-1a245ce61642\")) {                    Plotly.newPlot(                        \"33d88bb4-02fb-4e3d-a436-1a245ce61642\",                        [{\"hovertemplate\":\"fiscal_year=2022<br>date=%{x}<br>electric_vehicles_sold=%{y}<extra></extra>\",\"legendgroup\":\"2022\",\"line\":{\"color\":\"#636efa\",\"dash\":\"solid\"},\"marker\":{\"symbol\":\"circle\"},\"mode\":\"markers+lines\",\"name\":\"2022\",\"orientation\":\"v\",\"showlegend\":true,\"x\":[\"2021-04-30T00:00:00\",\"2021-05-31T00:00:00\",\"2021-06-30T00:00:00\",\"2021-07-31T00:00:00\",\"2021-08-31T00:00:00\",\"2021-09-30T00:00:00\",\"2021-10-31T00:00:00\",\"2021-11-30T00:00:00\",\"2021-12-31T00:00:00\",\"2022-01-31T00:00:00\",\"2022-02-28T00:00:00\",\"2022-03-31T00:00:00\"],\"xaxis\":\"x\",\"y\":[6315,1499,5487,15794,17153,19351,22190,26159,29241,31672,38171,58118],\"yaxis\":\"y\",\"type\":\"scatter\"},{\"hovertemplate\":\"fiscal_year=2023<br>date=%{x}<br>electric_vehicles_sold=%{y}<extra></extra>\",\"legendgroup\":\"2023\",\"line\":{\"color\":\"#EF553B\",\"dash\":\"solid\"},\"marker\":{\"symbol\":\"circle\"},\"mode\":\"markers+lines\",\"name\":\"2023\",\"orientation\":\"v\",\"showlegend\":true,\"x\":[\"2022-04-30T00:00:00\",\"2022-05-31T00:00:00\",\"2022-06-30T00:00:00\",\"2022-07-31T00:00:00\",\"2022-08-31T00:00:00\",\"2022-09-30T00:00:00\",\"2022-10-31T00:00:00\",\"2022-11-30T00:00:00\",\"2022-12-31T00:00:00\",\"2023-01-31T00:00:00\",\"2023-02-28T00:00:00\",\"2023-03-31T00:00:00\"],\"xaxis\":\"x\",\"y\":[55524,45373,47591,50010,55584,56828,81162,80752,68475,68116,70827,95126],\"yaxis\":\"y\",\"type\":\"scatter\"},{\"hovertemplate\":\"fiscal_year=2024<br>date=%{x}<br>electric_vehicles_sold=%{y}<extra></extra>\",\"legendgroup\":\"2024\",\"line\":{\"color\":\"#00cc96\",\"dash\":\"solid\"},\"marker\":{\"symbol\":\"circle\"},\"mode\":\"markers+lines\",\"name\":\"2024\",\"orientation\":\"v\",\"showlegend\":true,\"x\":[\"2023-04-30T00:00:00\",\"2023-05-31T00:00:00\",\"2023-06-30T00:00:00\",\"2023-07-31T00:00:00\",\"2023-08-31T00:00:00\",\"2023-09-30T00:00:00\",\"2023-10-31T00:00:00\",\"2023-11-30T00:00:00\",\"2023-12-31T00:00:00\",\"2024-01-31T00:00:00\",\"2024-02-29T00:00:00\",\"2024-03-31T00:00:00\"],\"xaxis\":\"x\",\"y\":[72818,112997,53631,61622,69224,69793,81833,98285,82685,89311,89051,138343],\"yaxis\":\"y\",\"type\":\"scatter\"}],                        {\"template\":{\"data\":{\"histogram2dcontour\":[{\"type\":\"histogram2dcontour\",\"colorbar\":{\"outlinewidth\":0,\"ticks\":\"\"},\"colorscale\":[[0.0,\"#0d0887\"],[0.1111111111111111,\"#46039f\"],[0.2222222222222222,\"#7201a8\"],[0.3333333333333333,\"#9c179e\"],[0.4444444444444444,\"#bd3786\"],[0.5555555555555556,\"#d8576b\"],[0.6666666666666666,\"#ed7953\"],[0.7777777777777778,\"#fb9f3a\"],[0.8888888888888888,\"#fdca26\"],[1.0,\"#f0f921\"]]}],\"choropleth\":[{\"type\":\"choropleth\",\"colorbar\":{\"outlinewidth\":0,\"ticks\":\"\"}}],\"histogram2d\":[{\"type\":\"histogram2d\",\"colorbar\":{\"outlinewidth\":0,\"ticks\":\"\"},\"colorscale\":[[0.0,\"#0d0887\"],[0.1111111111111111,\"#46039f\"],[0.2222222222222222,\"#7201a8\"],[0.3333333333333333,\"#9c179e\"],[0.4444444444444444,\"#bd3786\"],[0.5555555555555556,\"#d8576b\"],[0.6666666666666666,\"#ed7953\"],[0.7777777777777778,\"#fb9f3a\"],[0.8888888888888888,\"#fdca26\"],[1.0,\"#f0f921\"]]}],\"heatmap\":[{\"type\":\"heatmap\",\"colorbar\":{\"outlinewidth\":0,\"ticks\":\"\"},\"colorscale\":[[0.0,\"#0d0887\"],[0.1111111111111111,\"#46039f\"],[0.2222222222222222,\"#7201a8\"],[0.3333333333333333,\"#9c179e\"],[0.4444444444444444,\"#bd3786\"],[0.5555555555555556,\"#d8576b\"],[0.6666666666666666,\"#ed7953\"],[0.7777777777777778,\"#fb9f3a\"],[0.8888888888888888,\"#fdca26\"],[1.0,\"#f0f921\"]]}],\"heatmapgl\":[{\"type\":\"heatmapgl\",\"colorbar\":{\"outlinewidth\":0,\"ticks\":\"\"},\"colorscale\":[[0.0,\"#0d0887\"],[0.1111111111111111,\"#46039f\"],[0.2222222222222222,\"#7201a8\"],[0.3333333333333333,\"#9c179e\"],[0.4444444444444444,\"#bd3786\"],[0.5555555555555556,\"#d8576b\"],[0.6666666666666666,\"#ed7953\"],[0.7777777777777778,\"#fb9f3a\"],[0.8888888888888888,\"#fdca26\"],[1.0,\"#f0f921\"]]}],\"contourcarpet\":[{\"type\":\"contourcarpet\",\"colorbar\":{\"outlinewidth\":0,\"ticks\":\"\"}}],\"contour\":[{\"type\":\"contour\",\"colorbar\":{\"outlinewidth\":0,\"ticks\":\"\"},\"colorscale\":[[0.0,\"#0d0887\"],[0.1111111111111111,\"#46039f\"],[0.2222222222222222,\"#7201a8\"],[0.3333333333333333,\"#9c179e\"],[0.4444444444444444,\"#bd3786\"],[0.5555555555555556,\"#d8576b\"],[0.6666666666666666,\"#ed7953\"],[0.7777777777777778,\"#fb9f3a\"],[0.8888888888888888,\"#fdca26\"],[1.0,\"#f0f921\"]]}],\"surface\":[{\"type\":\"surface\",\"colorbar\":{\"outlinewidth\":0,\"ticks\":\"\"},\"colorscale\":[[0.0,\"#0d0887\"],[0.1111111111111111,\"#46039f\"],[0.2222222222222222,\"#7201a8\"],[0.3333333333333333,\"#9c179e\"],[0.4444444444444444,\"#bd3786\"],[0.5555555555555556,\"#d8576b\"],[0.6666666666666666,\"#ed7953\"],[0.7777777777777778,\"#fb9f3a\"],[0.8888888888888888,\"#fdca26\"],[1.0,\"#f0f921\"]]}],\"mesh3d\":[{\"type\":\"mesh3d\",\"colorbar\":{\"outlinewidth\":0,\"ticks\":\"\"}}],\"scatter\":[{\"fillpattern\":{\"fillmode\":\"overlay\",\"size\":10,\"solidity\":0.2},\"type\":\"scatter\"}],\"parcoords\":[{\"type\":\"parcoords\",\"line\":{\"colorbar\":{\"outlinewidth\":0,\"ticks\":\"\"}}}],\"scatterpolargl\":[{\"type\":\"scatterpolargl\",\"marker\":{\"colorbar\":{\"outlinewidth\":0,\"ticks\":\"\"}}}],\"bar\":[{\"error_x\":{\"color\":\"#2a3f5f\"},\"error_y\":{\"color\":\"#2a3f5f\"},\"marker\":{\"line\":{\"color\":\"#E5ECF6\",\"width\":0.5},\"pattern\":{\"fillmode\":\"overlay\",\"size\":10,\"solidity\":0.2}},\"type\":\"bar\"}],\"scattergeo\":[{\"type\":\"scattergeo\",\"marker\":{\"colorbar\":{\"outlinewidth\":0,\"ticks\":\"\"}}}],\"scatterpolar\":[{\"type\":\"scatterpolar\",\"marker\":{\"colorbar\":{\"outlinewidth\":0,\"ticks\":\"\"}}}],\"histogram\":[{\"marker\":{\"pattern\":{\"fillmode\":\"overlay\",\"size\":10,\"solidity\":0.2}},\"type\":\"histogram\"}],\"scattergl\":[{\"type\":\"scattergl\",\"marker\":{\"colorbar\":{\"outlinewidth\":0,\"ticks\":\"\"}}}],\"scatter3d\":[{\"type\":\"scatter3d\",\"line\":{\"colorbar\":{\"outlinewidth\":0,\"ticks\":\"\"}},\"marker\":{\"colorbar\":{\"outlinewidth\":0,\"ticks\":\"\"}}}],\"scattermapbox\":[{\"type\":\"scattermapbox\",\"marker\":{\"colorbar\":{\"outlinewidth\":0,\"ticks\":\"\"}}}],\"scatterternary\":[{\"type\":\"scatterternary\",\"marker\":{\"colorbar\":{\"outlinewidth\":0,\"ticks\":\"\"}}}],\"scattercarpet\":[{\"type\":\"scattercarpet\",\"marker\":{\"colorbar\":{\"outlinewidth\":0,\"ticks\":\"\"}}}],\"carpet\":[{\"aaxis\":{\"endlinecolor\":\"#2a3f5f\",\"gridcolor\":\"white\",\"linecolor\":\"white\",\"minorgridcolor\":\"white\",\"startlinecolor\":\"#2a3f5f\"},\"baxis\":{\"endlinecolor\":\"#2a3f5f\",\"gridcolor\":\"white\",\"linecolor\":\"white\",\"minorgridcolor\":\"white\",\"startlinecolor\":\"#2a3f5f\"},\"type\":\"carpet\"}],\"table\":[{\"cells\":{\"fill\":{\"color\":\"#EBF0F8\"},\"line\":{\"color\":\"white\"}},\"header\":{\"fill\":{\"color\":\"#C8D4E3\"},\"line\":{\"color\":\"white\"}},\"type\":\"table\"}],\"barpolar\":[{\"marker\":{\"line\":{\"color\":\"#E5ECF6\",\"width\":0.5},\"pattern\":{\"fillmode\":\"overlay\",\"size\":10,\"solidity\":0.2}},\"type\":\"barpolar\"}],\"pie\":[{\"automargin\":true,\"type\":\"pie\"}]},\"layout\":{\"autotypenumbers\":\"strict\",\"colorway\":[\"#636efa\",\"#EF553B\",\"#00cc96\",\"#ab63fa\",\"#FFA15A\",\"#19d3f3\",\"#FF6692\",\"#B6E880\",\"#FF97FF\",\"#FECB52\"],\"font\":{\"color\":\"#2a3f5f\"},\"hovermode\":\"closest\",\"hoverlabel\":{\"align\":\"left\"},\"paper_bgcolor\":\"white\",\"plot_bgcolor\":\"#E5ECF6\",\"polar\":{\"bgcolor\":\"#E5ECF6\",\"angularaxis\":{\"gridcolor\":\"white\",\"linecolor\":\"white\",\"ticks\":\"\"},\"radialaxis\":{\"gridcolor\":\"white\",\"linecolor\":\"white\",\"ticks\":\"\"}},\"ternary\":{\"bgcolor\":\"#E5ECF6\",\"aaxis\":{\"gridcolor\":\"white\",\"linecolor\":\"white\",\"ticks\":\"\"},\"baxis\":{\"gridcolor\":\"white\",\"linecolor\":\"white\",\"ticks\":\"\"},\"caxis\":{\"gridcolor\":\"white\",\"linecolor\":\"white\",\"ticks\":\"\"}},\"coloraxis\":{\"colorbar\":{\"outlinewidth\":0,\"ticks\":\"\"}},\"colorscale\":{\"sequential\":[[0.0,\"#0d0887\"],[0.1111111111111111,\"#46039f\"],[0.2222222222222222,\"#7201a8\"],[0.3333333333333333,\"#9c179e\"],[0.4444444444444444,\"#bd3786\"],[0.5555555555555556,\"#d8576b\"],[0.6666666666666666,\"#ed7953\"],[0.7777777777777778,\"#fb9f3a\"],[0.8888888888888888,\"#fdca26\"],[1.0,\"#f0f921\"]],\"sequentialminus\":[[0.0,\"#0d0887\"],[0.1111111111111111,\"#46039f\"],[0.2222222222222222,\"#7201a8\"],[0.3333333333333333,\"#9c179e\"],[0.4444444444444444,\"#bd3786\"],[0.5555555555555556,\"#d8576b\"],[0.6666666666666666,\"#ed7953\"],[0.7777777777777778,\"#fb9f3a\"],[0.8888888888888888,\"#fdca26\"],[1.0,\"#f0f921\"]],\"diverging\":[[0,\"#8e0152\"],[0.1,\"#c51b7d\"],[0.2,\"#de77ae\"],[0.3,\"#f1b6da\"],[0.4,\"#fde0ef\"],[0.5,\"#f7f7f7\"],[0.6,\"#e6f5d0\"],[0.7,\"#b8e186\"],[0.8,\"#7fbc41\"],[0.9,\"#4d9221\"],[1,\"#276419\"]]},\"xaxis\":{\"gridcolor\":\"white\",\"linecolor\":\"white\",\"ticks\":\"\",\"title\":{\"standoff\":15},\"zerolinecolor\":\"white\",\"automargin\":true,\"zerolinewidth\":2},\"yaxis\":{\"gridcolor\":\"white\",\"linecolor\":\"white\",\"ticks\":\"\",\"title\":{\"standoff\":15},\"zerolinecolor\":\"white\",\"automargin\":true,\"zerolinewidth\":2},\"scene\":{\"xaxis\":{\"backgroundcolor\":\"#E5ECF6\",\"gridcolor\":\"white\",\"linecolor\":\"white\",\"showbackground\":true,\"ticks\":\"\",\"zerolinecolor\":\"white\",\"gridwidth\":2},\"yaxis\":{\"backgroundcolor\":\"#E5ECF6\",\"gridcolor\":\"white\",\"linecolor\":\"white\",\"showbackground\":true,\"ticks\":\"\",\"zerolinecolor\":\"white\",\"gridwidth\":2},\"zaxis\":{\"backgroundcolor\":\"#E5ECF6\",\"gridcolor\":\"white\",\"linecolor\":\"white\",\"showbackground\":true,\"ticks\":\"\",\"zerolinecolor\":\"white\",\"gridwidth\":2}},\"shapedefaults\":{\"line\":{\"color\":\"#2a3f5f\"}},\"annotationdefaults\":{\"arrowcolor\":\"#2a3f5f\",\"arrowhead\":0,\"arrowwidth\":1},\"geo\":{\"bgcolor\":\"white\",\"landcolor\":\"#E5ECF6\",\"subunitcolor\":\"white\",\"showland\":true,\"showlakes\":true,\"lakecolor\":\"white\"},\"title\":{\"x\":0.05},\"mapbox\":{\"style\":\"light\"}}},\"xaxis\":{\"anchor\":\"y\",\"domain\":[0.0,1.0],\"title\":{\"text\":\"date\"}},\"yaxis\":{\"anchor\":\"x\",\"domain\":[0.0,1.0],\"title\":{\"text\":\"electric_vehicles_sold\"}},\"legend\":{\"title\":{\"text\":\"fiscal_year\"},\"tracegroupgap\":0},\"title\":{\"text\":\"Peak and low season months on EV sales from 2022 to 2024\"}},                        {\"responsive\": true}                    ).then(function(){\n",
       "                            \n",
       "var gd = document.getElementById('33d88bb4-02fb-4e3d-a436-1a245ce61642');\n",
       "var x = new MutationObserver(function (mutations, observer) {{\n",
       "        var display = window.getComputedStyle(gd).display;\n",
       "        if (!display || display === 'none') {{\n",
       "            console.log([gd, 'removed!']);\n",
       "            Plotly.purge(gd);\n",
       "            observer.disconnect();\n",
       "        }}\n",
       "}});\n",
       "\n",
       "// Listen for the removal of the full notebook cells\n",
       "var notebookContainer = gd.closest('#notebook-container');\n",
       "if (notebookContainer) {{\n",
       "    x.observe(notebookContainer, {childList: true});\n",
       "}}\n",
       "\n",
       "// Listen for the clearing of the current output cell\n",
       "var outputEl = gd.closest('.output');\n",
       "if (outputEl) {{\n",
       "    x.observe(outputEl, {childList: true});\n",
       "}}\n",
       "\n",
       "                        })                };                });            </script>        </div>"
      ]
     },
     "metadata": {},
     "output_type": "display_data"
    }
   ],
   "source": [
    "fig=px.line(maker_month,x='date',y='electric_vehicles_sold',color='fiscal_year',markers=True,title='Peak and low season months on EV sales from 2022 to 2024')\n",
    "fig.show()"
   ]
  },
  {
   "cell_type": "markdown",
   "id": "d91b5e53",
   "metadata": {},
   "source": [
    "In FY 2022 may is low season and march is peak season\n",
    "In FY 2023 may is low season and march is peak season\n",
    "In FY 2022 June is low season and march is peak season"
   ]
  },
  {
   "cell_type": "markdown",
   "id": "97baafc1",
   "metadata": {},
   "source": [
    "# Identify the top 5 states with the highest penetration rate in 2-wheeler and 4-wheeler EV sales in FY 2024."
   ]
  },
  {
   "cell_type": "code",
   "execution_count": 32,
   "id": "35560787",
   "metadata": {},
   "outputs": [
    {
     "data": {
      "text/html": [
       "<div>\n",
       "<style scoped>\n",
       "    .dataframe tbody tr th:only-of-type {\n",
       "        vertical-align: middle;\n",
       "    }\n",
       "\n",
       "    .dataframe tbody tr th {\n",
       "        vertical-align: top;\n",
       "    }\n",
       "\n",
       "    .dataframe thead th {\n",
       "        text-align: right;\n",
       "    }\n",
       "</style>\n",
       "<table border=\"1\" class=\"dataframe\">\n",
       "  <thead>\n",
       "    <tr style=\"text-align: right;\">\n",
       "      <th></th>\n",
       "      <th>date</th>\n",
       "      <th>fiscal_year</th>\n",
       "      <th>quarter</th>\n",
       "      <th>state</th>\n",
       "      <th>vehicle_category</th>\n",
       "      <th>electric_vehicles_sold</th>\n",
       "      <th>total_vehicles_sold</th>\n",
       "    </tr>\n",
       "  </thead>\n",
       "  <tbody>\n",
       "    <tr>\n",
       "      <th>1631</th>\n",
       "      <td>2023-04-01</td>\n",
       "      <td>2024</td>\n",
       "      <td>Q1</td>\n",
       "      <td>Sikkim</td>\n",
       "      <td>2-Wheelers</td>\n",
       "      <td>0</td>\n",
       "      <td>465</td>\n",
       "    </tr>\n",
       "    <tr>\n",
       "      <th>1632</th>\n",
       "      <td>2023-04-01</td>\n",
       "      <td>2024</td>\n",
       "      <td>Q1</td>\n",
       "      <td>Sikkim</td>\n",
       "      <td>4-Wheelers</td>\n",
       "      <td>0</td>\n",
       "      <td>439</td>\n",
       "    </tr>\n",
       "    <tr>\n",
       "      <th>1633</th>\n",
       "      <td>2023-04-01</td>\n",
       "      <td>2024</td>\n",
       "      <td>Q1</td>\n",
       "      <td>Andaman &amp; Nicobar Island</td>\n",
       "      <td>2-Wheelers</td>\n",
       "      <td>0</td>\n",
       "      <td>325</td>\n",
       "    </tr>\n",
       "    <tr>\n",
       "      <th>1634</th>\n",
       "      <td>2023-04-01</td>\n",
       "      <td>2024</td>\n",
       "      <td>Q1</td>\n",
       "      <td>Arunachal Pradesh</td>\n",
       "      <td>2-Wheelers</td>\n",
       "      <td>0</td>\n",
       "      <td>971</td>\n",
       "    </tr>\n",
       "    <tr>\n",
       "      <th>1635</th>\n",
       "      <td>2023-04-01</td>\n",
       "      <td>2024</td>\n",
       "      <td>Q1</td>\n",
       "      <td>Ladakh</td>\n",
       "      <td>2-Wheelers</td>\n",
       "      <td>0</td>\n",
       "      <td>43</td>\n",
       "    </tr>\n",
       "    <tr>\n",
       "      <th>...</th>\n",
       "      <td>...</td>\n",
       "      <td>...</td>\n",
       "      <td>...</td>\n",
       "      <td>...</td>\n",
       "      <td>...</td>\n",
       "      <td>...</td>\n",
       "      <td>...</td>\n",
       "    </tr>\n",
       "    <tr>\n",
       "      <th>2440</th>\n",
       "      <td>2024-03-01</td>\n",
       "      <td>2024</td>\n",
       "      <td>Q4</td>\n",
       "      <td>Mizoram</td>\n",
       "      <td>2-Wheelers</td>\n",
       "      <td>58</td>\n",
       "      <td>1932</td>\n",
       "    </tr>\n",
       "    <tr>\n",
       "      <th>2441</th>\n",
       "      <td>2024-03-01</td>\n",
       "      <td>2024</td>\n",
       "      <td>Q4</td>\n",
       "      <td>DNH and DD</td>\n",
       "      <td>2-Wheelers</td>\n",
       "      <td>25</td>\n",
       "      <td>780</td>\n",
       "    </tr>\n",
       "    <tr>\n",
       "      <th>2442</th>\n",
       "      <td>2024-03-01</td>\n",
       "      <td>2024</td>\n",
       "      <td>Q4</td>\n",
       "      <td>Manipur</td>\n",
       "      <td>2-Wheelers</td>\n",
       "      <td>13</td>\n",
       "      <td>1394</td>\n",
       "    </tr>\n",
       "    <tr>\n",
       "      <th>2443</th>\n",
       "      <td>2024-03-01</td>\n",
       "      <td>2024</td>\n",
       "      <td>Q4</td>\n",
       "      <td>Andaman &amp; Nicobar Island</td>\n",
       "      <td>2-Wheelers</td>\n",
       "      <td>2</td>\n",
       "      <td>447</td>\n",
       "    </tr>\n",
       "    <tr>\n",
       "      <th>2444</th>\n",
       "      <td>2024-03-01</td>\n",
       "      <td>2024</td>\n",
       "      <td>Q4</td>\n",
       "      <td>Nagaland</td>\n",
       "      <td>2-Wheelers</td>\n",
       "      <td>2</td>\n",
       "      <td>1180</td>\n",
       "    </tr>\n",
       "  </tbody>\n",
       "</table>\n",
       "<p>814 rows × 7 columns</p>\n",
       "</div>"
      ],
      "text/plain": [
       "           date  fiscal_year quarter                     state  \\\n",
       "1631 2023-04-01         2024      Q1                    Sikkim   \n",
       "1632 2023-04-01         2024      Q1                    Sikkim   \n",
       "1633 2023-04-01         2024      Q1  Andaman & Nicobar Island   \n",
       "1634 2023-04-01         2024      Q1         Arunachal Pradesh   \n",
       "1635 2023-04-01         2024      Q1                    Ladakh   \n",
       "...         ...          ...     ...                       ...   \n",
       "2440 2024-03-01         2024      Q4                   Mizoram   \n",
       "2441 2024-03-01         2024      Q4                DNH and DD   \n",
       "2442 2024-03-01         2024      Q4                   Manipur   \n",
       "2443 2024-03-01         2024      Q4  Andaman & Nicobar Island   \n",
       "2444 2024-03-01         2024      Q4                  Nagaland   \n",
       "\n",
       "     vehicle_category  electric_vehicles_sold  total_vehicles_sold  \n",
       "1631       2-Wheelers                       0                  465  \n",
       "1632       4-Wheelers                       0                  439  \n",
       "1633       2-Wheelers                       0                  325  \n",
       "1634       2-Wheelers                       0                  971  \n",
       "1635       2-Wheelers                       0                   43  \n",
       "...               ...                     ...                  ...  \n",
       "2440       2-Wheelers                      58                 1932  \n",
       "2441       2-Wheelers                      25                  780  \n",
       "2442       2-Wheelers                      13                 1394  \n",
       "2443       2-Wheelers                       2                  447  \n",
       "2444       2-Wheelers                       2                 1180  \n",
       "\n",
       "[814 rows x 7 columns]"
      ]
     },
     "execution_count": 32,
     "metadata": {},
     "output_type": "execute_result"
    }
   ],
   "source": [
    "fy24=new_s[(new_s['fiscal_year']==2024)]\n",
    "fy24"
   ]
  },
  {
   "cell_type": "code",
   "execution_count": 33,
   "id": "1c08fa97",
   "metadata": {},
   "outputs": [
    {
     "data": {
      "text/html": [
       "<div>\n",
       "<style scoped>\n",
       "    .dataframe tbody tr th:only-of-type {\n",
       "        vertical-align: middle;\n",
       "    }\n",
       "\n",
       "    .dataframe tbody tr th {\n",
       "        vertical-align: top;\n",
       "    }\n",
       "\n",
       "    .dataframe thead th {\n",
       "        text-align: right;\n",
       "    }\n",
       "</style>\n",
       "<table border=\"1\" class=\"dataframe\">\n",
       "  <thead>\n",
       "    <tr style=\"text-align: right;\">\n",
       "      <th></th>\n",
       "      <th>state</th>\n",
       "      <th>fiscal_year</th>\n",
       "      <th>electric_vehicles_sold</th>\n",
       "      <th>total_vehicles_sold</th>\n",
       "    </tr>\n",
       "  </thead>\n",
       "  <tbody>\n",
       "    <tr>\n",
       "      <th>0</th>\n",
       "      <td>Andaman &amp; Nicobar</td>\n",
       "      <td>4048</td>\n",
       "      <td>2</td>\n",
       "      <td>660</td>\n",
       "    </tr>\n",
       "    <tr>\n",
       "      <th>1</th>\n",
       "      <td>Andaman &amp; Nicobar Island</td>\n",
       "      <td>44528</td>\n",
       "      <td>33</td>\n",
       "      <td>6543</td>\n",
       "    </tr>\n",
       "    <tr>\n",
       "      <th>2</th>\n",
       "      <td>Andhra Pradesh</td>\n",
       "      <td>48576</td>\n",
       "      <td>33183</td>\n",
       "      <td>782865</td>\n",
       "    </tr>\n",
       "    <tr>\n",
       "      <th>3</th>\n",
       "      <td>Arunachal Pradesh</td>\n",
       "      <td>48576</td>\n",
       "      <td>31</td>\n",
       "      <td>27892</td>\n",
       "    </tr>\n",
       "    <tr>\n",
       "      <th>4</th>\n",
       "      <td>Assam</td>\n",
       "      <td>48576</td>\n",
       "      <td>3497</td>\n",
       "      <td>547626</td>\n",
       "    </tr>\n",
       "    <tr>\n",
       "      <th>5</th>\n",
       "      <td>Bihar</td>\n",
       "      <td>48576</td>\n",
       "      <td>15069</td>\n",
       "      <td>1132703</td>\n",
       "    </tr>\n",
       "    <tr>\n",
       "      <th>6</th>\n",
       "      <td>Chandigarh</td>\n",
       "      <td>48576</td>\n",
       "      <td>2877</td>\n",
       "      <td>45147</td>\n",
       "    </tr>\n",
       "    <tr>\n",
       "      <th>7</th>\n",
       "      <td>Chhattisgarh</td>\n",
       "      <td>48576</td>\n",
       "      <td>28540</td>\n",
       "      <td>503068</td>\n",
       "    </tr>\n",
       "    <tr>\n",
       "      <th>8</th>\n",
       "      <td>DNH and DD</td>\n",
       "      <td>48576</td>\n",
       "      <td>198</td>\n",
       "      <td>16400</td>\n",
       "    </tr>\n",
       "    <tr>\n",
       "      <th>9</th>\n",
       "      <td>Delhi</td>\n",
       "      <td>48576</td>\n",
       "      <td>46724</td>\n",
       "      <td>606348</td>\n",
       "    </tr>\n",
       "    <tr>\n",
       "      <th>10</th>\n",
       "      <td>Goa</td>\n",
       "      <td>48576</td>\n",
       "      <td>10799</td>\n",
       "      <td>78524</td>\n",
       "    </tr>\n",
       "    <tr>\n",
       "      <th>11</th>\n",
       "      <td>Gujarat</td>\n",
       "      <td>48576</td>\n",
       "      <td>84359</td>\n",
       "      <td>1590987</td>\n",
       "    </tr>\n",
       "    <tr>\n",
       "      <th>12</th>\n",
       "      <td>Haryana</td>\n",
       "      <td>48576</td>\n",
       "      <td>11793</td>\n",
       "      <td>732029</td>\n",
       "    </tr>\n",
       "    <tr>\n",
       "      <th>13</th>\n",
       "      <td>Himachal Pradesh</td>\n",
       "      <td>48576</td>\n",
       "      <td>1048</td>\n",
       "      <td>117084</td>\n",
       "    </tr>\n",
       "    <tr>\n",
       "      <th>14</th>\n",
       "      <td>Jammu and Kashmir</td>\n",
       "      <td>48576</td>\n",
       "      <td>2283</td>\n",
       "      <td>139359</td>\n",
       "    </tr>\n",
       "    <tr>\n",
       "      <th>15</th>\n",
       "      <td>Jharkhand</td>\n",
       "      <td>48576</td>\n",
       "      <td>7830</td>\n",
       "      <td>495011</td>\n",
       "    </tr>\n",
       "    <tr>\n",
       "      <th>16</th>\n",
       "      <td>Karnataka</td>\n",
       "      <td>48576</td>\n",
       "      <td>160989</td>\n",
       "      <td>1581988</td>\n",
       "    </tr>\n",
       "    <tr>\n",
       "      <th>17</th>\n",
       "      <td>Kerala</td>\n",
       "      <td>48576</td>\n",
       "      <td>73938</td>\n",
       "      <td>638114</td>\n",
       "    </tr>\n",
       "    <tr>\n",
       "      <th>18</th>\n",
       "      <td>Ladakh</td>\n",
       "      <td>48576</td>\n",
       "      <td>31</td>\n",
       "      <td>3206</td>\n",
       "    </tr>\n",
       "    <tr>\n",
       "      <th>19</th>\n",
       "      <td>Madhya Pradesh</td>\n",
       "      <td>48576</td>\n",
       "      <td>43223</td>\n",
       "      <td>1286182</td>\n",
       "    </tr>\n",
       "    <tr>\n",
       "      <th>20</th>\n",
       "      <td>Maharashtra</td>\n",
       "      <td>48576</td>\n",
       "      <td>197169</td>\n",
       "      <td>2293994</td>\n",
       "    </tr>\n",
       "    <tr>\n",
       "      <th>21</th>\n",
       "      <td>Manipur</td>\n",
       "      <td>48576</td>\n",
       "      <td>126</td>\n",
       "      <td>18422</td>\n",
       "    </tr>\n",
       "    <tr>\n",
       "      <th>22</th>\n",
       "      <td>Meghalaya</td>\n",
       "      <td>48576</td>\n",
       "      <td>133</td>\n",
       "      <td>36628</td>\n",
       "    </tr>\n",
       "    <tr>\n",
       "      <th>23</th>\n",
       "      <td>Mizoram</td>\n",
       "      <td>48576</td>\n",
       "      <td>275</td>\n",
       "      <td>27422</td>\n",
       "    </tr>\n",
       "    <tr>\n",
       "      <th>24</th>\n",
       "      <td>Nagaland</td>\n",
       "      <td>48576</td>\n",
       "      <td>9</td>\n",
       "      <td>16972</td>\n",
       "    </tr>\n",
       "    <tr>\n",
       "      <th>25</th>\n",
       "      <td>Odisha</td>\n",
       "      <td>44528</td>\n",
       "      <td>39118</td>\n",
       "      <td>618149</td>\n",
       "    </tr>\n",
       "    <tr>\n",
       "      <th>26</th>\n",
       "      <td>Puducherry</td>\n",
       "      <td>48576</td>\n",
       "      <td>3098</td>\n",
       "      <td>57692</td>\n",
       "    </tr>\n",
       "    <tr>\n",
       "      <th>27</th>\n",
       "      <td>Punjab</td>\n",
       "      <td>48576</td>\n",
       "      <td>11198</td>\n",
       "      <td>574486</td>\n",
       "    </tr>\n",
       "    <tr>\n",
       "      <th>28</th>\n",
       "      <td>Rajasthan</td>\n",
       "      <td>48576</td>\n",
       "      <td>66444</td>\n",
       "      <td>1300476</td>\n",
       "    </tr>\n",
       "    <tr>\n",
       "      <th>29</th>\n",
       "      <td>Sikkim</td>\n",
       "      <td>48576</td>\n",
       "      <td>0</td>\n",
       "      <td>10518</td>\n",
       "    </tr>\n",
       "    <tr>\n",
       "      <th>30</th>\n",
       "      <td>Tamil Nadu</td>\n",
       "      <td>48576</td>\n",
       "      <td>94314</td>\n",
       "      <td>1716940</td>\n",
       "    </tr>\n",
       "    <tr>\n",
       "      <th>31</th>\n",
       "      <td>Tripura</td>\n",
       "      <td>48576</td>\n",
       "      <td>304</td>\n",
       "      <td>46447</td>\n",
       "    </tr>\n",
       "    <tr>\n",
       "      <th>32</th>\n",
       "      <td>Uttar Pradesh</td>\n",
       "      <td>48576</td>\n",
       "      <td>57758</td>\n",
       "      <td>2932347</td>\n",
       "    </tr>\n",
       "    <tr>\n",
       "      <th>33</th>\n",
       "      <td>Uttarakhand</td>\n",
       "      <td>48576</td>\n",
       "      <td>6336</td>\n",
       "      <td>233111</td>\n",
       "    </tr>\n",
       "    <tr>\n",
       "      <th>34</th>\n",
       "      <td>West Bengal</td>\n",
       "      <td>48576</td>\n",
       "      <td>16864</td>\n",
       "      <td>961909</td>\n",
       "    </tr>\n",
       "  </tbody>\n",
       "</table>\n",
       "</div>"
      ],
      "text/plain": [
       "                       state  fiscal_year  electric_vehicles_sold  \\\n",
       "0          Andaman & Nicobar         4048                       2   \n",
       "1   Andaman & Nicobar Island        44528                      33   \n",
       "2             Andhra Pradesh        48576                   33183   \n",
       "3          Arunachal Pradesh        48576                      31   \n",
       "4                      Assam        48576                    3497   \n",
       "5                      Bihar        48576                   15069   \n",
       "6                 Chandigarh        48576                    2877   \n",
       "7               Chhattisgarh        48576                   28540   \n",
       "8                 DNH and DD        48576                     198   \n",
       "9                      Delhi        48576                   46724   \n",
       "10                       Goa        48576                   10799   \n",
       "11                   Gujarat        48576                   84359   \n",
       "12                   Haryana        48576                   11793   \n",
       "13          Himachal Pradesh        48576                    1048   \n",
       "14         Jammu and Kashmir        48576                    2283   \n",
       "15                 Jharkhand        48576                    7830   \n",
       "16                 Karnataka        48576                  160989   \n",
       "17                    Kerala        48576                   73938   \n",
       "18                    Ladakh        48576                      31   \n",
       "19            Madhya Pradesh        48576                   43223   \n",
       "20               Maharashtra        48576                  197169   \n",
       "21                   Manipur        48576                     126   \n",
       "22                 Meghalaya        48576                     133   \n",
       "23                   Mizoram        48576                     275   \n",
       "24                  Nagaland        48576                       9   \n",
       "25                    Odisha        44528                   39118   \n",
       "26                Puducherry        48576                    3098   \n",
       "27                    Punjab        48576                   11198   \n",
       "28                 Rajasthan        48576                   66444   \n",
       "29                    Sikkim        48576                       0   \n",
       "30                Tamil Nadu        48576                   94314   \n",
       "31                   Tripura        48576                     304   \n",
       "32             Uttar Pradesh        48576                   57758   \n",
       "33               Uttarakhand        48576                    6336   \n",
       "34               West Bengal        48576                   16864   \n",
       "\n",
       "    total_vehicles_sold  \n",
       "0                   660  \n",
       "1                  6543  \n",
       "2                782865  \n",
       "3                 27892  \n",
       "4                547626  \n",
       "5               1132703  \n",
       "6                 45147  \n",
       "7                503068  \n",
       "8                 16400  \n",
       "9                606348  \n",
       "10                78524  \n",
       "11              1590987  \n",
       "12               732029  \n",
       "13               117084  \n",
       "14               139359  \n",
       "15               495011  \n",
       "16              1581988  \n",
       "17               638114  \n",
       "18                 3206  \n",
       "19              1286182  \n",
       "20              2293994  \n",
       "21                18422  \n",
       "22                36628  \n",
       "23                27422  \n",
       "24                16972  \n",
       "25               618149  \n",
       "26                57692  \n",
       "27               574486  \n",
       "28              1300476  \n",
       "29                10518  \n",
       "30              1716940  \n",
       "31                46447  \n",
       "32              2932347  \n",
       "33               233111  \n",
       "34               961909  "
      ]
     },
     "execution_count": 33,
     "metadata": {},
     "output_type": "execute_result"
    }
   ],
   "source": [
    "state_group=fy24.groupby('state').sum(['electric_vehicles_sold','total_vehicles_sold']).reset_index()\n",
    "state_group"
   ]
  },
  {
   "cell_type": "code",
   "execution_count": 34,
   "id": "36905568",
   "metadata": {},
   "outputs": [
    {
     "data": {
      "text/html": [
       "<div>\n",
       "<style scoped>\n",
       "    .dataframe tbody tr th:only-of-type {\n",
       "        vertical-align: middle;\n",
       "    }\n",
       "\n",
       "    .dataframe tbody tr th {\n",
       "        vertical-align: top;\n",
       "    }\n",
       "\n",
       "    .dataframe thead th {\n",
       "        text-align: right;\n",
       "    }\n",
       "</style>\n",
       "<table border=\"1\" class=\"dataframe\">\n",
       "  <thead>\n",
       "    <tr style=\"text-align: right;\">\n",
       "      <th></th>\n",
       "      <th>state</th>\n",
       "      <th>fiscal_year</th>\n",
       "      <th>electric_vehicles_sold</th>\n",
       "      <th>total_vehicles_sold</th>\n",
       "      <th>PRate</th>\n",
       "    </tr>\n",
       "  </thead>\n",
       "  <tbody>\n",
       "    <tr>\n",
       "      <th>0</th>\n",
       "      <td>Andaman &amp; Nicobar</td>\n",
       "      <td>4048</td>\n",
       "      <td>2</td>\n",
       "      <td>660</td>\n",
       "      <td>0.303030</td>\n",
       "    </tr>\n",
       "    <tr>\n",
       "      <th>1</th>\n",
       "      <td>Andaman &amp; Nicobar Island</td>\n",
       "      <td>44528</td>\n",
       "      <td>33</td>\n",
       "      <td>6543</td>\n",
       "      <td>0.504356</td>\n",
       "    </tr>\n",
       "    <tr>\n",
       "      <th>2</th>\n",
       "      <td>Andhra Pradesh</td>\n",
       "      <td>48576</td>\n",
       "      <td>33183</td>\n",
       "      <td>782865</td>\n",
       "      <td>4.238662</td>\n",
       "    </tr>\n",
       "    <tr>\n",
       "      <th>3</th>\n",
       "      <td>Arunachal Pradesh</td>\n",
       "      <td>48576</td>\n",
       "      <td>31</td>\n",
       "      <td>27892</td>\n",
       "      <td>0.111143</td>\n",
       "    </tr>\n",
       "    <tr>\n",
       "      <th>4</th>\n",
       "      <td>Assam</td>\n",
       "      <td>48576</td>\n",
       "      <td>3497</td>\n",
       "      <td>547626</td>\n",
       "      <td>0.638575</td>\n",
       "    </tr>\n",
       "    <tr>\n",
       "      <th>5</th>\n",
       "      <td>Bihar</td>\n",
       "      <td>48576</td>\n",
       "      <td>15069</td>\n",
       "      <td>1132703</td>\n",
       "      <td>1.330358</td>\n",
       "    </tr>\n",
       "    <tr>\n",
       "      <th>6</th>\n",
       "      <td>Chandigarh</td>\n",
       "      <td>48576</td>\n",
       "      <td>2877</td>\n",
       "      <td>45147</td>\n",
       "      <td>6.372516</td>\n",
       "    </tr>\n",
       "    <tr>\n",
       "      <th>7</th>\n",
       "      <td>Chhattisgarh</td>\n",
       "      <td>48576</td>\n",
       "      <td>28540</td>\n",
       "      <td>503068</td>\n",
       "      <td>5.673189</td>\n",
       "    </tr>\n",
       "    <tr>\n",
       "      <th>8</th>\n",
       "      <td>DNH and DD</td>\n",
       "      <td>48576</td>\n",
       "      <td>198</td>\n",
       "      <td>16400</td>\n",
       "      <td>1.207317</td>\n",
       "    </tr>\n",
       "    <tr>\n",
       "      <th>9</th>\n",
       "      <td>Delhi</td>\n",
       "      <td>48576</td>\n",
       "      <td>46724</td>\n",
       "      <td>606348</td>\n",
       "      <td>7.705806</td>\n",
       "    </tr>\n",
       "    <tr>\n",
       "      <th>10</th>\n",
       "      <td>Goa</td>\n",
       "      <td>48576</td>\n",
       "      <td>10799</td>\n",
       "      <td>78524</td>\n",
       "      <td>13.752483</td>\n",
       "    </tr>\n",
       "    <tr>\n",
       "      <th>11</th>\n",
       "      <td>Gujarat</td>\n",
       "      <td>48576</td>\n",
       "      <td>84359</td>\n",
       "      <td>1590987</td>\n",
       "      <td>5.302306</td>\n",
       "    </tr>\n",
       "    <tr>\n",
       "      <th>12</th>\n",
       "      <td>Haryana</td>\n",
       "      <td>48576</td>\n",
       "      <td>11793</td>\n",
       "      <td>732029</td>\n",
       "      <td>1.611002</td>\n",
       "    </tr>\n",
       "    <tr>\n",
       "      <th>13</th>\n",
       "      <td>Himachal Pradesh</td>\n",
       "      <td>48576</td>\n",
       "      <td>1048</td>\n",
       "      <td>117084</td>\n",
       "      <td>0.895084</td>\n",
       "    </tr>\n",
       "    <tr>\n",
       "      <th>14</th>\n",
       "      <td>Jammu and Kashmir</td>\n",
       "      <td>48576</td>\n",
       "      <td>2283</td>\n",
       "      <td>139359</td>\n",
       "      <td>1.638215</td>\n",
       "    </tr>\n",
       "    <tr>\n",
       "      <th>15</th>\n",
       "      <td>Jharkhand</td>\n",
       "      <td>48576</td>\n",
       "      <td>7830</td>\n",
       "      <td>495011</td>\n",
       "      <td>1.581783</td>\n",
       "    </tr>\n",
       "    <tr>\n",
       "      <th>16</th>\n",
       "      <td>Karnataka</td>\n",
       "      <td>48576</td>\n",
       "      <td>160989</td>\n",
       "      <td>1581988</td>\n",
       "      <td>10.176373</td>\n",
       "    </tr>\n",
       "    <tr>\n",
       "      <th>17</th>\n",
       "      <td>Kerala</td>\n",
       "      <td>48576</td>\n",
       "      <td>73938</td>\n",
       "      <td>638114</td>\n",
       "      <td>11.586958</td>\n",
       "    </tr>\n",
       "    <tr>\n",
       "      <th>18</th>\n",
       "      <td>Ladakh</td>\n",
       "      <td>48576</td>\n",
       "      <td>31</td>\n",
       "      <td>3206</td>\n",
       "      <td>0.966937</td>\n",
       "    </tr>\n",
       "    <tr>\n",
       "      <th>19</th>\n",
       "      <td>Madhya Pradesh</td>\n",
       "      <td>48576</td>\n",
       "      <td>43223</td>\n",
       "      <td>1286182</td>\n",
       "      <td>3.360566</td>\n",
       "    </tr>\n",
       "    <tr>\n",
       "      <th>20</th>\n",
       "      <td>Maharashtra</td>\n",
       "      <td>48576</td>\n",
       "      <td>197169</td>\n",
       "      <td>2293994</td>\n",
       "      <td>8.595009</td>\n",
       "    </tr>\n",
       "    <tr>\n",
       "      <th>21</th>\n",
       "      <td>Manipur</td>\n",
       "      <td>48576</td>\n",
       "      <td>126</td>\n",
       "      <td>18422</td>\n",
       "      <td>0.683965</td>\n",
       "    </tr>\n",
       "    <tr>\n",
       "      <th>22</th>\n",
       "      <td>Meghalaya</td>\n",
       "      <td>48576</td>\n",
       "      <td>133</td>\n",
       "      <td>36628</td>\n",
       "      <td>0.363110</td>\n",
       "    </tr>\n",
       "    <tr>\n",
       "      <th>23</th>\n",
       "      <td>Mizoram</td>\n",
       "      <td>48576</td>\n",
       "      <td>275</td>\n",
       "      <td>27422</td>\n",
       "      <td>1.002844</td>\n",
       "    </tr>\n",
       "    <tr>\n",
       "      <th>24</th>\n",
       "      <td>Nagaland</td>\n",
       "      <td>48576</td>\n",
       "      <td>9</td>\n",
       "      <td>16972</td>\n",
       "      <td>0.053029</td>\n",
       "    </tr>\n",
       "    <tr>\n",
       "      <th>25</th>\n",
       "      <td>Odisha</td>\n",
       "      <td>44528</td>\n",
       "      <td>39118</td>\n",
       "      <td>618149</td>\n",
       "      <td>6.328248</td>\n",
       "    </tr>\n",
       "    <tr>\n",
       "      <th>26</th>\n",
       "      <td>Puducherry</td>\n",
       "      <td>48576</td>\n",
       "      <td>3098</td>\n",
       "      <td>57692</td>\n",
       "      <td>5.369895</td>\n",
       "    </tr>\n",
       "    <tr>\n",
       "      <th>27</th>\n",
       "      <td>Punjab</td>\n",
       "      <td>48576</td>\n",
       "      <td>11198</td>\n",
       "      <td>574486</td>\n",
       "      <td>1.949221</td>\n",
       "    </tr>\n",
       "    <tr>\n",
       "      <th>28</th>\n",
       "      <td>Rajasthan</td>\n",
       "      <td>48576</td>\n",
       "      <td>66444</td>\n",
       "      <td>1300476</td>\n",
       "      <td>5.109206</td>\n",
       "    </tr>\n",
       "    <tr>\n",
       "      <th>29</th>\n",
       "      <td>Sikkim</td>\n",
       "      <td>48576</td>\n",
       "      <td>0</td>\n",
       "      <td>10518</td>\n",
       "      <td>0.000000</td>\n",
       "    </tr>\n",
       "    <tr>\n",
       "      <th>30</th>\n",
       "      <td>Tamil Nadu</td>\n",
       "      <td>48576</td>\n",
       "      <td>94314</td>\n",
       "      <td>1716940</td>\n",
       "      <td>5.493145</td>\n",
       "    </tr>\n",
       "    <tr>\n",
       "      <th>31</th>\n",
       "      <td>Tripura</td>\n",
       "      <td>48576</td>\n",
       "      <td>304</td>\n",
       "      <td>46447</td>\n",
       "      <td>0.654509</td>\n",
       "    </tr>\n",
       "    <tr>\n",
       "      <th>32</th>\n",
       "      <td>Uttar Pradesh</td>\n",
       "      <td>48576</td>\n",
       "      <td>57758</td>\n",
       "      <td>2932347</td>\n",
       "      <td>1.969685</td>\n",
       "    </tr>\n",
       "    <tr>\n",
       "      <th>33</th>\n",
       "      <td>Uttarakhand</td>\n",
       "      <td>48576</td>\n",
       "      <td>6336</td>\n",
       "      <td>233111</td>\n",
       "      <td>2.718018</td>\n",
       "    </tr>\n",
       "    <tr>\n",
       "      <th>34</th>\n",
       "      <td>West Bengal</td>\n",
       "      <td>48576</td>\n",
       "      <td>16864</td>\n",
       "      <td>961909</td>\n",
       "      <td>1.753180</td>\n",
       "    </tr>\n",
       "  </tbody>\n",
       "</table>\n",
       "</div>"
      ],
      "text/plain": [
       "                       state  fiscal_year  electric_vehicles_sold  \\\n",
       "0          Andaman & Nicobar         4048                       2   \n",
       "1   Andaman & Nicobar Island        44528                      33   \n",
       "2             Andhra Pradesh        48576                   33183   \n",
       "3          Arunachal Pradesh        48576                      31   \n",
       "4                      Assam        48576                    3497   \n",
       "5                      Bihar        48576                   15069   \n",
       "6                 Chandigarh        48576                    2877   \n",
       "7               Chhattisgarh        48576                   28540   \n",
       "8                 DNH and DD        48576                     198   \n",
       "9                      Delhi        48576                   46724   \n",
       "10                       Goa        48576                   10799   \n",
       "11                   Gujarat        48576                   84359   \n",
       "12                   Haryana        48576                   11793   \n",
       "13          Himachal Pradesh        48576                    1048   \n",
       "14         Jammu and Kashmir        48576                    2283   \n",
       "15                 Jharkhand        48576                    7830   \n",
       "16                 Karnataka        48576                  160989   \n",
       "17                    Kerala        48576                   73938   \n",
       "18                    Ladakh        48576                      31   \n",
       "19            Madhya Pradesh        48576                   43223   \n",
       "20               Maharashtra        48576                  197169   \n",
       "21                   Manipur        48576                     126   \n",
       "22                 Meghalaya        48576                     133   \n",
       "23                   Mizoram        48576                     275   \n",
       "24                  Nagaland        48576                       9   \n",
       "25                    Odisha        44528                   39118   \n",
       "26                Puducherry        48576                    3098   \n",
       "27                    Punjab        48576                   11198   \n",
       "28                 Rajasthan        48576                   66444   \n",
       "29                    Sikkim        48576                       0   \n",
       "30                Tamil Nadu        48576                   94314   \n",
       "31                   Tripura        48576                     304   \n",
       "32             Uttar Pradesh        48576                   57758   \n",
       "33               Uttarakhand        48576                    6336   \n",
       "34               West Bengal        48576                   16864   \n",
       "\n",
       "    total_vehicles_sold      PRate  \n",
       "0                   660   0.303030  \n",
       "1                  6543   0.504356  \n",
       "2                782865   4.238662  \n",
       "3                 27892   0.111143  \n",
       "4                547626   0.638575  \n",
       "5               1132703   1.330358  \n",
       "6                 45147   6.372516  \n",
       "7                503068   5.673189  \n",
       "8                 16400   1.207317  \n",
       "9                606348   7.705806  \n",
       "10                78524  13.752483  \n",
       "11              1590987   5.302306  \n",
       "12               732029   1.611002  \n",
       "13               117084   0.895084  \n",
       "14               139359   1.638215  \n",
       "15               495011   1.581783  \n",
       "16              1581988  10.176373  \n",
       "17               638114  11.586958  \n",
       "18                 3206   0.966937  \n",
       "19              1286182   3.360566  \n",
       "20              2293994   8.595009  \n",
       "21                18422   0.683965  \n",
       "22                36628   0.363110  \n",
       "23                27422   1.002844  \n",
       "24                16972   0.053029  \n",
       "25               618149   6.328248  \n",
       "26                57692   5.369895  \n",
       "27               574486   1.949221  \n",
       "28              1300476   5.109206  \n",
       "29                10518   0.000000  \n",
       "30              1716940   5.493145  \n",
       "31                46447   0.654509  \n",
       "32              2932347   1.969685  \n",
       "33               233111   2.718018  \n",
       "34               961909   1.753180  "
      ]
     },
     "execution_count": 34,
     "metadata": {},
     "output_type": "execute_result"
    }
   ],
   "source": [
    "state_group['PRate']=((state_group['electric_vehicles_sold'])/(state_group['total_vehicles_sold']))*100\n",
    "state_group"
   ]
  },
  {
   "cell_type": "code",
   "execution_count": 35,
   "id": "b2c9cd54",
   "metadata": {},
   "outputs": [],
   "source": [
    "Topstates=state_group.sort_values(by='PRate',ascending=False)\n",
    "top5=Topstates.head()"
   ]
  },
  {
   "cell_type": "code",
   "execution_count": 150,
   "id": "c2b47e5c",
   "metadata": {},
   "outputs": [
    {
     "data": {
      "image/png": "[encoded data removed]",
      "text/plain": [
       "<Figure size 1000x600 with 1 Axes>"
      ]
     },
     "metadata": {},
     "output_type": "display_data"
    }
   ],
   "source": [
    "import seaborn as sns\n",
    "import matplotlib.pyplot as plt\n",
    "\n",
    "sns.set_palette(\"viridis\") \n",
    "\n",
    "fig, ax = plt.subplots(figsize=(10, 6))\n",
    "\n",
    "bar_plot = sns.barplot(data=top5, \n",
    "                       x='PRate', \n",
    "                       y='state', \n",
    "                       palette=sns.color_palette(\"viridis\"))  \n",
    "\n",
    "for container in ax.containers:\n",
    "    ax.bar_label(container, fmt='%.2f')  \n",
    "\n",
    "ax.set_title('Top 5 States in EV Penetration Rate in FY2024')\n",
    "ax.set_xlabel('Penetration Rate (%)')\n",
    "ax.set_ylabel('State')\n",
    "\n",
    "plt.tight_layout()\n",
    "\n",
    "plt.show()\n"
   ]
  },
  {
   "cell_type": "code",
   "execution_count": 37,
   "id": "f624b5f7",
   "metadata": {},
   "outputs": [
    {
     "data": {
      "text/html": [
       "<div>\n",
       "<style scoped>\n",
       "    .dataframe tbody tr th:only-of-type {\n",
       "        vertical-align: middle;\n",
       "    }\n",
       "\n",
       "    .dataframe tbody tr th {\n",
       "        vertical-align: top;\n",
       "    }\n",
       "\n",
       "    .dataframe thead th {\n",
       "        text-align: right;\n",
       "    }\n",
       "</style>\n",
       "<table border=\"1\" class=\"dataframe\">\n",
       "  <thead>\n",
       "    <tr style=\"text-align: right;\">\n",
       "      <th></th>\n",
       "      <th>state</th>\n",
       "      <th>fiscal_year</th>\n",
       "      <th>electric_vehicles_sold</th>\n",
       "      <th>total_vehicles_sold</th>\n",
       "    </tr>\n",
       "  </thead>\n",
       "  <tbody>\n",
       "    <tr>\n",
       "      <th>0</th>\n",
       "      <td>Andaman &amp; Nicobar</td>\n",
       "      <td>2024</td>\n",
       "      <td>2</td>\n",
       "      <td>660</td>\n",
       "    </tr>\n",
       "    <tr>\n",
       "      <th>1</th>\n",
       "      <td>Andaman &amp; Nicobar Island</td>\n",
       "      <td>2022</td>\n",
       "      <td>22</td>\n",
       "      <td>5148</td>\n",
       "    </tr>\n",
       "    <tr>\n",
       "      <th>2</th>\n",
       "      <td>Andaman &amp; Nicobar Island</td>\n",
       "      <td>2023</td>\n",
       "      <td>23</td>\n",
       "      <td>6534</td>\n",
       "    </tr>\n",
       "    <tr>\n",
       "      <th>3</th>\n",
       "      <td>Andaman &amp; Nicobar Island</td>\n",
       "      <td>2024</td>\n",
       "      <td>33</td>\n",
       "      <td>6543</td>\n",
       "    </tr>\n",
       "    <tr>\n",
       "      <th>4</th>\n",
       "      <td>Andhra Pradesh</td>\n",
       "      <td>2022</td>\n",
       "      <td>13928</td>\n",
       "      <td>772748</td>\n",
       "    </tr>\n",
       "    <tr>\n",
       "      <th>...</th>\n",
       "      <td>...</td>\n",
       "      <td>...</td>\n",
       "      <td>...</td>\n",
       "      <td>...</td>\n",
       "    </tr>\n",
       "    <tr>\n",
       "      <th>98</th>\n",
       "      <td>Uttarakhand</td>\n",
       "      <td>2023</td>\n",
       "      <td>6712</td>\n",
       "      <td>216265</td>\n",
       "    </tr>\n",
       "    <tr>\n",
       "      <th>99</th>\n",
       "      <td>Uttarakhand</td>\n",
       "      <td>2024</td>\n",
       "      <td>6336</td>\n",
       "      <td>233111</td>\n",
       "    </tr>\n",
       "    <tr>\n",
       "      <th>100</th>\n",
       "      <td>West Bengal</td>\n",
       "      <td>2022</td>\n",
       "      <td>2685</td>\n",
       "      <td>860709</td>\n",
       "    </tr>\n",
       "    <tr>\n",
       "      <th>101</th>\n",
       "      <td>West Bengal</td>\n",
       "      <td>2023</td>\n",
       "      <td>11011</td>\n",
       "      <td>913558</td>\n",
       "    </tr>\n",
       "    <tr>\n",
       "      <th>102</th>\n",
       "      <td>West Bengal</td>\n",
       "      <td>2024</td>\n",
       "      <td>16864</td>\n",
       "      <td>961909</td>\n",
       "    </tr>\n",
       "  </tbody>\n",
       "</table>\n",
       "<p>103 rows × 4 columns</p>\n",
       "</div>"
      ],
      "text/plain": [
       "                        state  fiscal_year  electric_vehicles_sold  \\\n",
       "0           Andaman & Nicobar         2024                       2   \n",
       "1    Andaman & Nicobar Island         2022                      22   \n",
       "2    Andaman & Nicobar Island         2023                      23   \n",
       "3    Andaman & Nicobar Island         2024                      33   \n",
       "4              Andhra Pradesh         2022                   13928   \n",
       "..                        ...          ...                     ...   \n",
       "98                Uttarakhand         2023                    6712   \n",
       "99                Uttarakhand         2024                    6336   \n",
       "100               West Bengal         2022                    2685   \n",
       "101               West Bengal         2023                   11011   \n",
       "102               West Bengal         2024                   16864   \n",
       "\n",
       "     total_vehicles_sold  \n",
       "0                    660  \n",
       "1                   5148  \n",
       "2                   6534  \n",
       "3                   6543  \n",
       "4                 772748  \n",
       "..                   ...  \n",
       "98                216265  \n",
       "99                233111  \n",
       "100               860709  \n",
       "101               913558  \n",
       "102               961909  \n",
       "\n",
       "[103 rows x 4 columns]"
      ]
     },
     "execution_count": 37,
     "metadata": {},
     "output_type": "execute_result"
    }
   ],
   "source": [
    "stateP=new_s.groupby(['state','fiscal_year']).sum(['electric_vehicles_sold','total_vehicles_sold']).reset_index()\n",
    "stateP"
   ]
  },
  {
   "cell_type": "code",
   "execution_count": 38,
   "id": "063a74fd",
   "metadata": {},
   "outputs": [
    {
     "data": {
      "text/html": [
       "<div>\n",
       "<style scoped>\n",
       "    .dataframe tbody tr th:only-of-type {\n",
       "        vertical-align: middle;\n",
       "    }\n",
       "\n",
       "    .dataframe tbody tr th {\n",
       "        vertical-align: top;\n",
       "    }\n",
       "\n",
       "    .dataframe thead th {\n",
       "        text-align: right;\n",
       "    }\n",
       "</style>\n",
       "<table border=\"1\" class=\"dataframe\">\n",
       "  <thead>\n",
       "    <tr style=\"text-align: right;\">\n",
       "      <th></th>\n",
       "      <th>state</th>\n",
       "      <th>fiscal_year</th>\n",
       "      <th>electric_vehicles_sold</th>\n",
       "      <th>total_vehicles_sold</th>\n",
       "      <th>PRate22</th>\n",
       "      <th>PRate23</th>\n",
       "      <th>PRate24</th>\n",
       "    </tr>\n",
       "  </thead>\n",
       "  <tbody>\n",
       "    <tr>\n",
       "      <th>0</th>\n",
       "      <td>Andaman &amp; Nicobar</td>\n",
       "      <td>2024</td>\n",
       "      <td>2</td>\n",
       "      <td>660</td>\n",
       "      <td>0.000000</td>\n",
       "      <td>0.000000</td>\n",
       "      <td>0.303030</td>\n",
       "    </tr>\n",
       "    <tr>\n",
       "      <th>1</th>\n",
       "      <td>Andaman &amp; Nicobar Island</td>\n",
       "      <td>2022</td>\n",
       "      <td>22</td>\n",
       "      <td>5148</td>\n",
       "      <td>0.427350</td>\n",
       "      <td>0.000000</td>\n",
       "      <td>0.000000</td>\n",
       "    </tr>\n",
       "    <tr>\n",
       "      <th>2</th>\n",
       "      <td>Andaman &amp; Nicobar Island</td>\n",
       "      <td>2023</td>\n",
       "      <td>23</td>\n",
       "      <td>6534</td>\n",
       "      <td>0.000000</td>\n",
       "      <td>0.352005</td>\n",
       "      <td>0.000000</td>\n",
       "    </tr>\n",
       "    <tr>\n",
       "      <th>3</th>\n",
       "      <td>Andaman &amp; Nicobar Island</td>\n",
       "      <td>2024</td>\n",
       "      <td>33</td>\n",
       "      <td>6543</td>\n",
       "      <td>0.000000</td>\n",
       "      <td>0.000000</td>\n",
       "      <td>0.504356</td>\n",
       "    </tr>\n",
       "    <tr>\n",
       "      <th>4</th>\n",
       "      <td>Andhra Pradesh</td>\n",
       "      <td>2022</td>\n",
       "      <td>13928</td>\n",
       "      <td>772748</td>\n",
       "      <td>1.802399</td>\n",
       "      <td>0.000000</td>\n",
       "      <td>0.000000</td>\n",
       "    </tr>\n",
       "    <tr>\n",
       "      <th>...</th>\n",
       "      <td>...</td>\n",
       "      <td>...</td>\n",
       "      <td>...</td>\n",
       "      <td>...</td>\n",
       "      <td>...</td>\n",
       "      <td>...</td>\n",
       "      <td>...</td>\n",
       "    </tr>\n",
       "    <tr>\n",
       "      <th>98</th>\n",
       "      <td>Uttarakhand</td>\n",
       "      <td>2023</td>\n",
       "      <td>6712</td>\n",
       "      <td>216265</td>\n",
       "      <td>0.000000</td>\n",
       "      <td>3.103600</td>\n",
       "      <td>0.000000</td>\n",
       "    </tr>\n",
       "    <tr>\n",
       "      <th>99</th>\n",
       "      <td>Uttarakhand</td>\n",
       "      <td>2024</td>\n",
       "      <td>6336</td>\n",
       "      <td>233111</td>\n",
       "      <td>0.000000</td>\n",
       "      <td>0.000000</td>\n",
       "      <td>2.718018</td>\n",
       "    </tr>\n",
       "    <tr>\n",
       "      <th>100</th>\n",
       "      <td>West Bengal</td>\n",
       "      <td>2022</td>\n",
       "      <td>2685</td>\n",
       "      <td>860709</td>\n",
       "      <td>0.311952</td>\n",
       "      <td>0.000000</td>\n",
       "      <td>0.000000</td>\n",
       "    </tr>\n",
       "    <tr>\n",
       "      <th>101</th>\n",
       "      <td>West Bengal</td>\n",
       "      <td>2023</td>\n",
       "      <td>11011</td>\n",
       "      <td>913558</td>\n",
       "      <td>0.000000</td>\n",
       "      <td>1.205287</td>\n",
       "      <td>0.000000</td>\n",
       "    </tr>\n",
       "    <tr>\n",
       "      <th>102</th>\n",
       "      <td>West Bengal</td>\n",
       "      <td>2024</td>\n",
       "      <td>16864</td>\n",
       "      <td>961909</td>\n",
       "      <td>0.000000</td>\n",
       "      <td>0.000000</td>\n",
       "      <td>1.753180</td>\n",
       "    </tr>\n",
       "  </tbody>\n",
       "</table>\n",
       "<p>103 rows × 7 columns</p>\n",
       "</div>"
      ],
      "text/plain": [
       "                        state  fiscal_year  electric_vehicles_sold  \\\n",
       "0           Andaman & Nicobar         2024                       2   \n",
       "1    Andaman & Nicobar Island         2022                      22   \n",
       "2    Andaman & Nicobar Island         2023                      23   \n",
       "3    Andaman & Nicobar Island         2024                      33   \n",
       "4              Andhra Pradesh         2022                   13928   \n",
       "..                        ...          ...                     ...   \n",
       "98                Uttarakhand         2023                    6712   \n",
       "99                Uttarakhand         2024                    6336   \n",
       "100               West Bengal         2022                    2685   \n",
       "101               West Bengal         2023                   11011   \n",
       "102               West Bengal         2024                   16864   \n",
       "\n",
       "     total_vehicles_sold   PRate22   PRate23   PRate24  \n",
       "0                    660  0.000000  0.000000  0.303030  \n",
       "1                   5148  0.427350  0.000000  0.000000  \n",
       "2                   6534  0.000000  0.352005  0.000000  \n",
       "3                   6543  0.000000  0.000000  0.504356  \n",
       "4                 772748  1.802399  0.000000  0.000000  \n",
       "..                   ...       ...       ...       ...  \n",
       "98                216265  0.000000  3.103600  0.000000  \n",
       "99                233111  0.000000  0.000000  2.718018  \n",
       "100               860709  0.311952  0.000000  0.000000  \n",
       "101               913558  0.000000  1.205287  0.000000  \n",
       "102               961909  0.000000  0.000000  1.753180  \n",
       "\n",
       "[103 rows x 7 columns]"
      ]
     },
     "execution_count": 38,
     "metadata": {},
     "output_type": "execute_result"
    }
   ],
   "source": [
    "def PRate(stateP):\n",
    "    stateP['PRate22'] = stateP.apply(lambda row: ((row['electric_vehicles_sold'] / row['total_vehicles_sold']) * 100) \n",
    "                                     if row['fiscal_year'] == 2022 else 0, axis=1)\n",
    "    \n",
    "    stateP['PRate23'] = stateP.apply(lambda row: ((row['electric_vehicles_sold'] / row['total_vehicles_sold']) * 100) \n",
    "                                     if row['fiscal_year'] == 2023 else 0, axis=1)\n",
    "    \n",
    "    stateP['PRate24'] = stateP.apply(lambda row: ((row['electric_vehicles_sold'] / row['total_vehicles_sold']) * 100) \n",
    "                                     if row['fiscal_year'] == 2024 else 0, axis=1)\n",
    "    \n",
    "    return stateP\n",
    "statePRate = PRate(stateP)\n",
    "statePRate"
   ]
  },
  {
   "cell_type": "code",
   "execution_count": 39,
   "id": "6fc8f0ac",
   "metadata": {},
   "outputs": [
    {
     "data": {
      "text/html": [
       "<div>\n",
       "<style scoped>\n",
       "    .dataframe tbody tr th:only-of-type {\n",
       "        vertical-align: middle;\n",
       "    }\n",
       "\n",
       "    .dataframe tbody tr th {\n",
       "        vertical-align: top;\n",
       "    }\n",
       "\n",
       "    .dataframe thead th {\n",
       "        text-align: right;\n",
       "    }\n",
       "</style>\n",
       "<table border=\"1\" class=\"dataframe\">\n",
       "  <thead>\n",
       "    <tr style=\"text-align: right;\">\n",
       "      <th></th>\n",
       "      <th>state</th>\n",
       "      <th>fiscal_year</th>\n",
       "      <th>electric_vehicles_sold</th>\n",
       "      <th>total_vehicles_sold</th>\n",
       "      <th>PRate22</th>\n",
       "      <th>PRate23</th>\n",
       "      <th>PRate24</th>\n",
       "    </tr>\n",
       "  </thead>\n",
       "  <tbody>\n",
       "    <tr>\n",
       "      <th>0</th>\n",
       "      <td>Andaman &amp; Nicobar</td>\n",
       "      <td>2024</td>\n",
       "      <td>2</td>\n",
       "      <td>660</td>\n",
       "      <td>NaN</td>\n",
       "      <td>NaN</td>\n",
       "      <td>0.303030</td>\n",
       "    </tr>\n",
       "    <tr>\n",
       "      <th>1</th>\n",
       "      <td>Andaman &amp; Nicobar Island</td>\n",
       "      <td>2022</td>\n",
       "      <td>22</td>\n",
       "      <td>5148</td>\n",
       "      <td>0.427350</td>\n",
       "      <td>NaN</td>\n",
       "      <td>NaN</td>\n",
       "    </tr>\n",
       "    <tr>\n",
       "      <th>2</th>\n",
       "      <td>Andaman &amp; Nicobar Island</td>\n",
       "      <td>2023</td>\n",
       "      <td>23</td>\n",
       "      <td>6534</td>\n",
       "      <td>NaN</td>\n",
       "      <td>0.352005</td>\n",
       "      <td>NaN</td>\n",
       "    </tr>\n",
       "    <tr>\n",
       "      <th>3</th>\n",
       "      <td>Andaman &amp; Nicobar Island</td>\n",
       "      <td>2024</td>\n",
       "      <td>33</td>\n",
       "      <td>6543</td>\n",
       "      <td>NaN</td>\n",
       "      <td>NaN</td>\n",
       "      <td>0.504356</td>\n",
       "    </tr>\n",
       "    <tr>\n",
       "      <th>4</th>\n",
       "      <td>Andhra Pradesh</td>\n",
       "      <td>2022</td>\n",
       "      <td>13928</td>\n",
       "      <td>772748</td>\n",
       "      <td>1.802399</td>\n",
       "      <td>NaN</td>\n",
       "      <td>NaN</td>\n",
       "    </tr>\n",
       "    <tr>\n",
       "      <th>...</th>\n",
       "      <td>...</td>\n",
       "      <td>...</td>\n",
       "      <td>...</td>\n",
       "      <td>...</td>\n",
       "      <td>...</td>\n",
       "      <td>...</td>\n",
       "      <td>...</td>\n",
       "    </tr>\n",
       "    <tr>\n",
       "      <th>98</th>\n",
       "      <td>Uttarakhand</td>\n",
       "      <td>2023</td>\n",
       "      <td>6712</td>\n",
       "      <td>216265</td>\n",
       "      <td>NaN</td>\n",
       "      <td>3.103600</td>\n",
       "      <td>NaN</td>\n",
       "    </tr>\n",
       "    <tr>\n",
       "      <th>99</th>\n",
       "      <td>Uttarakhand</td>\n",
       "      <td>2024</td>\n",
       "      <td>6336</td>\n",
       "      <td>233111</td>\n",
       "      <td>NaN</td>\n",
       "      <td>NaN</td>\n",
       "      <td>2.718018</td>\n",
       "    </tr>\n",
       "    <tr>\n",
       "      <th>100</th>\n",
       "      <td>West Bengal</td>\n",
       "      <td>2022</td>\n",
       "      <td>2685</td>\n",
       "      <td>860709</td>\n",
       "      <td>0.311952</td>\n",
       "      <td>NaN</td>\n",
       "      <td>NaN</td>\n",
       "    </tr>\n",
       "    <tr>\n",
       "      <th>101</th>\n",
       "      <td>West Bengal</td>\n",
       "      <td>2023</td>\n",
       "      <td>11011</td>\n",
       "      <td>913558</td>\n",
       "      <td>NaN</td>\n",
       "      <td>1.205287</td>\n",
       "      <td>NaN</td>\n",
       "    </tr>\n",
       "    <tr>\n",
       "      <th>102</th>\n",
       "      <td>West Bengal</td>\n",
       "      <td>2024</td>\n",
       "      <td>16864</td>\n",
       "      <td>961909</td>\n",
       "      <td>NaN</td>\n",
       "      <td>NaN</td>\n",
       "      <td>1.753180</td>\n",
       "    </tr>\n",
       "  </tbody>\n",
       "</table>\n",
       "<p>103 rows × 7 columns</p>\n",
       "</div>"
      ],
      "text/plain": [
       "                        state  fiscal_year  electric_vehicles_sold  \\\n",
       "0           Andaman & Nicobar         2024                       2   \n",
       "1    Andaman & Nicobar Island         2022                      22   \n",
       "2    Andaman & Nicobar Island         2023                      23   \n",
       "3    Andaman & Nicobar Island         2024                      33   \n",
       "4              Andhra Pradesh         2022                   13928   \n",
       "..                        ...          ...                     ...   \n",
       "98                Uttarakhand         2023                    6712   \n",
       "99                Uttarakhand         2024                    6336   \n",
       "100               West Bengal         2022                    2685   \n",
       "101               West Bengal         2023                   11011   \n",
       "102               West Bengal         2024                   16864   \n",
       "\n",
       "     total_vehicles_sold   PRate22   PRate23   PRate24  \n",
       "0                    660       NaN       NaN  0.303030  \n",
       "1                   5148  0.427350       NaN       NaN  \n",
       "2                   6534       NaN  0.352005       NaN  \n",
       "3                   6543       NaN       NaN  0.504356  \n",
       "4                 772748  1.802399       NaN       NaN  \n",
       "..                   ...       ...       ...       ...  \n",
       "98                216265       NaN  3.103600       NaN  \n",
       "99                233111       NaN       NaN  2.718018  \n",
       "100               860709  0.311952       NaN       NaN  \n",
       "101               913558       NaN  1.205287       NaN  \n",
       "102               961909       NaN       NaN  1.753180  \n",
       "\n",
       "[103 rows x 7 columns]"
      ]
     },
     "execution_count": 39,
     "metadata": {},
     "output_type": "execute_result"
    }
   ],
   "source": [
    "statePRate['PRate22'] = statePRate['PRate22'].replace(0, np.nan).dropna()\n",
    "statePRate['PRate23'] = statePRate['PRate23'].replace(0, np.nan).dropna()\n",
    "statePRate['PRate24'] = statePRate['PRate24'].replace(0, np.nan).dropna()\n",
    "statePRate"
   ]
  },
  {
   "cell_type": "code",
   "execution_count": 40,
   "id": "b20df160",
   "metadata": {},
   "outputs": [
    {
     "data": {
      "text/html": [
       "<div>\n",
       "<style scoped>\n",
       "    .dataframe tbody tr th:only-of-type {\n",
       "        vertical-align: middle;\n",
       "    }\n",
       "\n",
       "    .dataframe tbody tr th {\n",
       "        vertical-align: top;\n",
       "    }\n",
       "\n",
       "    .dataframe thead th {\n",
       "        text-align: right;\n",
       "    }\n",
       "</style>\n",
       "<table border=\"1\" class=\"dataframe\">\n",
       "  <thead>\n",
       "    <tr style=\"text-align: right;\">\n",
       "      <th></th>\n",
       "      <th>state</th>\n",
       "      <th>fiscal_year</th>\n",
       "      <th>electric_vehicles_sold</th>\n",
       "      <th>total_vehicles_sold</th>\n",
       "    </tr>\n",
       "  </thead>\n",
       "  <tbody>\n",
       "    <tr>\n",
       "      <th>0</th>\n",
       "      <td>Andaman &amp; Nicobar</td>\n",
       "      <td>2024</td>\n",
       "      <td>2</td>\n",
       "      <td>660</td>\n",
       "    </tr>\n",
       "    <tr>\n",
       "      <th>1</th>\n",
       "      <td>Andaman &amp; Nicobar Island</td>\n",
       "      <td>2022</td>\n",
       "      <td>22</td>\n",
       "      <td>5148</td>\n",
       "    </tr>\n",
       "    <tr>\n",
       "      <th>2</th>\n",
       "      <td>Andaman &amp; Nicobar Island</td>\n",
       "      <td>2023</td>\n",
       "      <td>23</td>\n",
       "      <td>6534</td>\n",
       "    </tr>\n",
       "    <tr>\n",
       "      <th>3</th>\n",
       "      <td>Andaman &amp; Nicobar Island</td>\n",
       "      <td>2024</td>\n",
       "      <td>33</td>\n",
       "      <td>6543</td>\n",
       "    </tr>\n",
       "    <tr>\n",
       "      <th>4</th>\n",
       "      <td>Andhra Pradesh</td>\n",
       "      <td>2022</td>\n",
       "      <td>13928</td>\n",
       "      <td>772748</td>\n",
       "    </tr>\n",
       "    <tr>\n",
       "      <th>...</th>\n",
       "      <td>...</td>\n",
       "      <td>...</td>\n",
       "      <td>...</td>\n",
       "      <td>...</td>\n",
       "    </tr>\n",
       "    <tr>\n",
       "      <th>98</th>\n",
       "      <td>Uttarakhand</td>\n",
       "      <td>2023</td>\n",
       "      <td>6712</td>\n",
       "      <td>216265</td>\n",
       "    </tr>\n",
       "    <tr>\n",
       "      <th>99</th>\n",
       "      <td>Uttarakhand</td>\n",
       "      <td>2024</td>\n",
       "      <td>6336</td>\n",
       "      <td>233111</td>\n",
       "    </tr>\n",
       "    <tr>\n",
       "      <th>100</th>\n",
       "      <td>West Bengal</td>\n",
       "      <td>2022</td>\n",
       "      <td>2685</td>\n",
       "      <td>860709</td>\n",
       "    </tr>\n",
       "    <tr>\n",
       "      <th>101</th>\n",
       "      <td>West Bengal</td>\n",
       "      <td>2023</td>\n",
       "      <td>11011</td>\n",
       "      <td>913558</td>\n",
       "    </tr>\n",
       "    <tr>\n",
       "      <th>102</th>\n",
       "      <td>West Bengal</td>\n",
       "      <td>2024</td>\n",
       "      <td>16864</td>\n",
       "      <td>961909</td>\n",
       "    </tr>\n",
       "  </tbody>\n",
       "</table>\n",
       "<p>103 rows × 4 columns</p>\n",
       "</div>"
      ],
      "text/plain": [
       "                        state  fiscal_year  electric_vehicles_sold  \\\n",
       "0           Andaman & Nicobar         2024                       2   \n",
       "1    Andaman & Nicobar Island         2022                      22   \n",
       "2    Andaman & Nicobar Island         2023                      23   \n",
       "3    Andaman & Nicobar Island         2024                      33   \n",
       "4              Andhra Pradesh         2022                   13928   \n",
       "..                        ...          ...                     ...   \n",
       "98                Uttarakhand         2023                    6712   \n",
       "99                Uttarakhand         2024                    6336   \n",
       "100               West Bengal         2022                    2685   \n",
       "101               West Bengal         2023                   11011   \n",
       "102               West Bengal         2024                   16864   \n",
       "\n",
       "     total_vehicles_sold  \n",
       "0                    660  \n",
       "1                   5148  \n",
       "2                   6534  \n",
       "3                   6543  \n",
       "4                 772748  \n",
       "..                   ...  \n",
       "98                216265  \n",
       "99                233111  \n",
       "100               860709  \n",
       "101               913558  \n",
       "102               961909  \n",
       "\n",
       "[103 rows x 4 columns]"
      ]
     },
     "execution_count": 40,
     "metadata": {},
     "output_type": "execute_result"
    }
   ],
   "source": [
    "state_group = new_s.groupby(['state', 'fiscal_year']).agg(\n",
    "    electric_vehicles_sold=('electric_vehicles_sold', 'sum'),\n",
    "    total_vehicles_sold=('total_vehicles_sold', 'sum')\n",
    ").reset_index()\n",
    "state_group"
   ]
  },
  {
   "cell_type": "code",
   "execution_count": 41,
   "id": "920364c7",
   "metadata": {},
   "outputs": [
    {
     "data": {
      "text/html": [
       "<div>\n",
       "<style scoped>\n",
       "    .dataframe tbody tr th:only-of-type {\n",
       "        vertical-align: middle;\n",
       "    }\n",
       "\n",
       "    .dataframe tbody tr th {\n",
       "        vertical-align: top;\n",
       "    }\n",
       "\n",
       "    .dataframe thead th {\n",
       "        text-align: right;\n",
       "    }\n",
       "</style>\n",
       "<table border=\"1\" class=\"dataframe\">\n",
       "  <thead>\n",
       "    <tr style=\"text-align: right;\">\n",
       "      <th></th>\n",
       "      <th>state</th>\n",
       "      <th>fiscal_year</th>\n",
       "      <th>electric_vehicles_sold</th>\n",
       "      <th>total_vehicles_sold</th>\n",
       "      <th>PRate</th>\n",
       "    </tr>\n",
       "  </thead>\n",
       "  <tbody>\n",
       "    <tr>\n",
       "      <th>0</th>\n",
       "      <td>Andaman &amp; Nicobar</td>\n",
       "      <td>2024</td>\n",
       "      <td>2</td>\n",
       "      <td>660</td>\n",
       "      <td>0.303030</td>\n",
       "    </tr>\n",
       "    <tr>\n",
       "      <th>1</th>\n",
       "      <td>Andaman &amp; Nicobar Island</td>\n",
       "      <td>2022</td>\n",
       "      <td>22</td>\n",
       "      <td>5148</td>\n",
       "      <td>0.427350</td>\n",
       "    </tr>\n",
       "    <tr>\n",
       "      <th>2</th>\n",
       "      <td>Andaman &amp; Nicobar Island</td>\n",
       "      <td>2023</td>\n",
       "      <td>23</td>\n",
       "      <td>6534</td>\n",
       "      <td>0.352005</td>\n",
       "    </tr>\n",
       "    <tr>\n",
       "      <th>3</th>\n",
       "      <td>Andaman &amp; Nicobar Island</td>\n",
       "      <td>2024</td>\n",
       "      <td>33</td>\n",
       "      <td>6543</td>\n",
       "      <td>0.504356</td>\n",
       "    </tr>\n",
       "    <tr>\n",
       "      <th>4</th>\n",
       "      <td>Andhra Pradesh</td>\n",
       "      <td>2022</td>\n",
       "      <td>13928</td>\n",
       "      <td>772748</td>\n",
       "      <td>1.802399</td>\n",
       "    </tr>\n",
       "    <tr>\n",
       "      <th>...</th>\n",
       "      <td>...</td>\n",
       "      <td>...</td>\n",
       "      <td>...</td>\n",
       "      <td>...</td>\n",
       "      <td>...</td>\n",
       "    </tr>\n",
       "    <tr>\n",
       "      <th>98</th>\n",
       "      <td>Uttarakhand</td>\n",
       "      <td>2023</td>\n",
       "      <td>6712</td>\n",
       "      <td>216265</td>\n",
       "      <td>3.103600</td>\n",
       "    </tr>\n",
       "    <tr>\n",
       "      <th>99</th>\n",
       "      <td>Uttarakhand</td>\n",
       "      <td>2024</td>\n",
       "      <td>6336</td>\n",
       "      <td>233111</td>\n",
       "      <td>2.718018</td>\n",
       "    </tr>\n",
       "    <tr>\n",
       "      <th>100</th>\n",
       "      <td>West Bengal</td>\n",
       "      <td>2022</td>\n",
       "      <td>2685</td>\n",
       "      <td>860709</td>\n",
       "      <td>0.311952</td>\n",
       "    </tr>\n",
       "    <tr>\n",
       "      <th>101</th>\n",
       "      <td>West Bengal</td>\n",
       "      <td>2023</td>\n",
       "      <td>11011</td>\n",
       "      <td>913558</td>\n",
       "      <td>1.205287</td>\n",
       "    </tr>\n",
       "    <tr>\n",
       "      <th>102</th>\n",
       "      <td>West Bengal</td>\n",
       "      <td>2024</td>\n",
       "      <td>16864</td>\n",
       "      <td>961909</td>\n",
       "      <td>1.753180</td>\n",
       "    </tr>\n",
       "  </tbody>\n",
       "</table>\n",
       "<p>103 rows × 5 columns</p>\n",
       "</div>"
      ],
      "text/plain": [
       "                        state  fiscal_year  electric_vehicles_sold  \\\n",
       "0           Andaman & Nicobar         2024                       2   \n",
       "1    Andaman & Nicobar Island         2022                      22   \n",
       "2    Andaman & Nicobar Island         2023                      23   \n",
       "3    Andaman & Nicobar Island         2024                      33   \n",
       "4              Andhra Pradesh         2022                   13928   \n",
       "..                        ...          ...                     ...   \n",
       "98                Uttarakhand         2023                    6712   \n",
       "99                Uttarakhand         2024                    6336   \n",
       "100               West Bengal         2022                    2685   \n",
       "101               West Bengal         2023                   11011   \n",
       "102               West Bengal         2024                   16864   \n",
       "\n",
       "     total_vehicles_sold     PRate  \n",
       "0                    660  0.303030  \n",
       "1                   5148  0.427350  \n",
       "2                   6534  0.352005  \n",
       "3                   6543  0.504356  \n",
       "4                 772748  1.802399  \n",
       "..                   ...       ...  \n",
       "98                216265  3.103600  \n",
       "99                233111  2.718018  \n",
       "100               860709  0.311952  \n",
       "101               913558  1.205287  \n",
       "102               961909  1.753180  \n",
       "\n",
       "[103 rows x 5 columns]"
      ]
     },
     "execution_count": 41,
     "metadata": {},
     "output_type": "execute_result"
    }
   ],
   "source": [
    "state_group['PRate'] = (state_group['electric_vehicles_sold'] / state_group['total_vehicles_sold']) * 100\n",
    "state_group"
   ]
  },
  {
   "cell_type": "code",
   "execution_count": 42,
   "id": "c6596d05",
   "metadata": {},
   "outputs": [
    {
     "data": {
      "text/html": [
       "<div>\n",
       "<style scoped>\n",
       "    .dataframe tbody tr th:only-of-type {\n",
       "        vertical-align: middle;\n",
       "    }\n",
       "\n",
       "    .dataframe tbody tr th {\n",
       "        vertical-align: top;\n",
       "    }\n",
       "\n",
       "    .dataframe thead th {\n",
       "        text-align: right;\n",
       "    }\n",
       "</style>\n",
       "<table border=\"1\" class=\"dataframe\">\n",
       "  <thead>\n",
       "    <tr style=\"text-align: right;\">\n",
       "      <th>fiscal_year</th>\n",
       "      <th>state</th>\n",
       "      <th>2022</th>\n",
       "      <th>2023</th>\n",
       "      <th>2024</th>\n",
       "    </tr>\n",
       "  </thead>\n",
       "  <tbody>\n",
       "    <tr>\n",
       "      <th>0</th>\n",
       "      <td>Andaman &amp; Nicobar</td>\n",
       "      <td>NaN</td>\n",
       "      <td>NaN</td>\n",
       "      <td>0.303030</td>\n",
       "    </tr>\n",
       "    <tr>\n",
       "      <th>1</th>\n",
       "      <td>Andaman &amp; Nicobar Island</td>\n",
       "      <td>0.427350</td>\n",
       "      <td>0.352005</td>\n",
       "      <td>0.504356</td>\n",
       "    </tr>\n",
       "    <tr>\n",
       "      <th>2</th>\n",
       "      <td>Andhra Pradesh</td>\n",
       "      <td>1.802399</td>\n",
       "      <td>4.162124</td>\n",
       "      <td>4.238662</td>\n",
       "    </tr>\n",
       "    <tr>\n",
       "      <th>3</th>\n",
       "      <td>Arunachal Pradesh</td>\n",
       "      <td>0.000000</td>\n",
       "      <td>0.008430</td>\n",
       "      <td>0.111143</td>\n",
       "    </tr>\n",
       "    <tr>\n",
       "      <th>4</th>\n",
       "      <td>Assam</td>\n",
       "      <td>0.192384</td>\n",
       "      <td>0.460106</td>\n",
       "      <td>0.638575</td>\n",
       "    </tr>\n",
       "    <tr>\n",
       "      <th>5</th>\n",
       "      <td>Bihar</td>\n",
       "      <td>0.540838</td>\n",
       "      <td>1.087313</td>\n",
       "      <td>1.330358</td>\n",
       "    </tr>\n",
       "    <tr>\n",
       "      <th>6</th>\n",
       "      <td>Chandigarh</td>\n",
       "      <td>1.112194</td>\n",
       "      <td>4.102871</td>\n",
       "      <td>6.372516</td>\n",
       "    </tr>\n",
       "    <tr>\n",
       "      <th>7</th>\n",
       "      <td>Chhattisgarh</td>\n",
       "      <td>1.161754</td>\n",
       "      <td>4.693773</td>\n",
       "      <td>5.673189</td>\n",
       "    </tr>\n",
       "    <tr>\n",
       "      <th>8</th>\n",
       "      <td>DNH and DD</td>\n",
       "      <td>0.281962</td>\n",
       "      <td>0.836533</td>\n",
       "      <td>1.207317</td>\n",
       "    </tr>\n",
       "    <tr>\n",
       "      <th>9</th>\n",
       "      <td>Delhi</td>\n",
       "      <td>4.117896</td>\n",
       "      <td>7.588175</td>\n",
       "      <td>7.705806</td>\n",
       "    </tr>\n",
       "    <tr>\n",
       "      <th>10</th>\n",
       "      <td>Goa</td>\n",
       "      <td>3.675680</td>\n",
       "      <td>9.725757</td>\n",
       "      <td>13.752483</td>\n",
       "    </tr>\n",
       "    <tr>\n",
       "      <th>11</th>\n",
       "      <td>Gujarat</td>\n",
       "      <td>1.646403</td>\n",
       "      <td>5.487563</td>\n",
       "      <td>5.302306</td>\n",
       "    </tr>\n",
       "    <tr>\n",
       "      <th>12</th>\n",
       "      <td>Haryana</td>\n",
       "      <td>1.121094</td>\n",
       "      <td>2.036602</td>\n",
       "      <td>1.611002</td>\n",
       "    </tr>\n",
       "    <tr>\n",
       "      <th>13</th>\n",
       "      <td>Himachal Pradesh</td>\n",
       "      <td>0.450817</td>\n",
       "      <td>1.003490</td>\n",
       "      <td>0.895084</td>\n",
       "    </tr>\n",
       "    <tr>\n",
       "      <th>14</th>\n",
       "      <td>Jammu and Kashmir</td>\n",
       "      <td>1.070605</td>\n",
       "      <td>1.595741</td>\n",
       "      <td>1.638215</td>\n",
       "    </tr>\n",
       "    <tr>\n",
       "      <th>15</th>\n",
       "      <td>Jharkhand</td>\n",
       "      <td>0.659114</td>\n",
       "      <td>1.727833</td>\n",
       "      <td>1.581783</td>\n",
       "    </tr>\n",
       "    <tr>\n",
       "      <th>16</th>\n",
       "      <td>Karnataka</td>\n",
       "      <td>4.277335</td>\n",
       "      <td>7.753586</td>\n",
       "      <td>10.176373</td>\n",
       "    </tr>\n",
       "    <tr>\n",
       "      <th>17</th>\n",
       "      <td>Kerala</td>\n",
       "      <td>1.977885</td>\n",
       "      <td>6.714221</td>\n",
       "      <td>11.586958</td>\n",
       "    </tr>\n",
       "    <tr>\n",
       "      <th>18</th>\n",
       "      <td>Ladakh</td>\n",
       "      <td>0.412229</td>\n",
       "      <td>0.570907</td>\n",
       "      <td>0.966937</td>\n",
       "    </tr>\n",
       "    <tr>\n",
       "      <th>19</th>\n",
       "      <td>Madhya Pradesh</td>\n",
       "      <td>0.818463</td>\n",
       "      <td>2.235539</td>\n",
       "      <td>3.360566</td>\n",
       "    </tr>\n",
       "    <tr>\n",
       "      <th>20</th>\n",
       "      <td>Maharashtra</td>\n",
       "      <td>2.901856</td>\n",
       "      <td>7.031381</td>\n",
       "      <td>8.595009</td>\n",
       "    </tr>\n",
       "    <tr>\n",
       "      <th>21</th>\n",
       "      <td>Manipur</td>\n",
       "      <td>0.069196</td>\n",
       "      <td>0.296225</td>\n",
       "      <td>0.683965</td>\n",
       "    </tr>\n",
       "    <tr>\n",
       "      <th>22</th>\n",
       "      <td>Meghalaya</td>\n",
       "      <td>0.018024</td>\n",
       "      <td>0.127543</td>\n",
       "      <td>0.363110</td>\n",
       "    </tr>\n",
       "    <tr>\n",
       "      <th>23</th>\n",
       "      <td>Mizoram</td>\n",
       "      <td>0.000000</td>\n",
       "      <td>0.265892</td>\n",
       "      <td>1.002844</td>\n",
       "    </tr>\n",
       "    <tr>\n",
       "      <th>24</th>\n",
       "      <td>Nagaland</td>\n",
       "      <td>0.007781</td>\n",
       "      <td>0.021026</td>\n",
       "      <td>0.053029</td>\n",
       "    </tr>\n",
       "    <tr>\n",
       "      <th>25</th>\n",
       "      <td>Odisha</td>\n",
       "      <td>1.980702</td>\n",
       "      <td>5.016088</td>\n",
       "      <td>6.328248</td>\n",
       "    </tr>\n",
       "    <tr>\n",
       "      <th>26</th>\n",
       "      <td>Puducherry</td>\n",
       "      <td>1.709163</td>\n",
       "      <td>3.397061</td>\n",
       "      <td>5.369895</td>\n",
       "    </tr>\n",
       "    <tr>\n",
       "      <th>27</th>\n",
       "      <td>Punjab</td>\n",
       "      <td>1.021587</td>\n",
       "      <td>1.540540</td>\n",
       "      <td>1.949221</td>\n",
       "    </tr>\n",
       "    <tr>\n",
       "      <th>28</th>\n",
       "      <td>Rajasthan</td>\n",
       "      <td>2.280062</td>\n",
       "      <td>5.668529</td>\n",
       "      <td>5.109206</td>\n",
       "    </tr>\n",
       "    <tr>\n",
       "      <th>29</th>\n",
       "      <td>Sikkim</td>\n",
       "      <td>0.000000</td>\n",
       "      <td>0.000000</td>\n",
       "      <td>0.000000</td>\n",
       "    </tr>\n",
       "    <tr>\n",
       "      <th>30</th>\n",
       "      <td>Tamil Nadu</td>\n",
       "      <td>2.740709</td>\n",
       "      <td>4.331284</td>\n",
       "      <td>5.493145</td>\n",
       "    </tr>\n",
       "    <tr>\n",
       "      <th>31</th>\n",
       "      <td>Tripura</td>\n",
       "      <td>0.074202</td>\n",
       "      <td>0.560511</td>\n",
       "      <td>0.654509</td>\n",
       "    </tr>\n",
       "    <tr>\n",
       "      <th>32</th>\n",
       "      <td>Uttar Pradesh</td>\n",
       "      <td>0.409324</td>\n",
       "      <td>1.009213</td>\n",
       "      <td>1.969685</td>\n",
       "    </tr>\n",
       "    <tr>\n",
       "      <th>33</th>\n",
       "      <td>Uttarakhand</td>\n",
       "      <td>1.199439</td>\n",
       "      <td>3.103600</td>\n",
       "      <td>2.718018</td>\n",
       "    </tr>\n",
       "    <tr>\n",
       "      <th>34</th>\n",
       "      <td>West Bengal</td>\n",
       "      <td>0.311952</td>\n",
       "      <td>1.205287</td>\n",
       "      <td>1.753180</td>\n",
       "    </tr>\n",
       "  </tbody>\n",
       "</table>\n",
       "</div>"
      ],
      "text/plain": [
       "fiscal_year                     state      2022      2023       2024\n",
       "0                   Andaman & Nicobar       NaN       NaN   0.303030\n",
       "1            Andaman & Nicobar Island  0.427350  0.352005   0.504356\n",
       "2                      Andhra Pradesh  1.802399  4.162124   4.238662\n",
       "3                   Arunachal Pradesh  0.000000  0.008430   0.111143\n",
       "4                               Assam  0.192384  0.460106   0.638575\n",
       "5                               Bihar  0.540838  1.087313   1.330358\n",
       "6                          Chandigarh  1.112194  4.102871   6.372516\n",
       "7                        Chhattisgarh  1.161754  4.693773   5.673189\n",
       "8                          DNH and DD  0.281962  0.836533   1.207317\n",
       "9                               Delhi  4.117896  7.588175   7.705806\n",
       "10                                Goa  3.675680  9.725757  13.752483\n",
       "11                            Gujarat  1.646403  5.487563   5.302306\n",
       "12                            Haryana  1.121094  2.036602   1.611002\n",
       "13                   Himachal Pradesh  0.450817  1.003490   0.895084\n",
       "14                  Jammu and Kashmir  1.070605  1.595741   1.638215\n",
       "15                          Jharkhand  0.659114  1.727833   1.581783\n",
       "16                          Karnataka  4.277335  7.753586  10.176373\n",
       "17                             Kerala  1.977885  6.714221  11.586958\n",
       "18                             Ladakh  0.412229  0.570907   0.966937\n",
       "19                     Madhya Pradesh  0.818463  2.235539   3.360566\n",
       "20                        Maharashtra  2.901856  7.031381   8.595009\n",
       "21                            Manipur  0.069196  0.296225   0.683965\n",
       "22                          Meghalaya  0.018024  0.127543   0.363110\n",
       "23                            Mizoram  0.000000  0.265892   1.002844\n",
       "24                           Nagaland  0.007781  0.021026   0.053029\n",
       "25                             Odisha  1.980702  5.016088   6.328248\n",
       "26                         Puducherry  1.709163  3.397061   5.369895\n",
       "27                             Punjab  1.021587  1.540540   1.949221\n",
       "28                          Rajasthan  2.280062  5.668529   5.109206\n",
       "29                             Sikkim  0.000000  0.000000   0.000000\n",
       "30                         Tamil Nadu  2.740709  4.331284   5.493145\n",
       "31                            Tripura  0.074202  0.560511   0.654509\n",
       "32                      Uttar Pradesh  0.409324  1.009213   1.969685\n",
       "33                        Uttarakhand  1.199439  3.103600   2.718018\n",
       "34                        West Bengal  0.311952  1.205287   1.753180"
      ]
     },
     "execution_count": 42,
     "metadata": {},
     "output_type": "execute_result"
    }
   ],
   "source": [
    "penetration_rate = state_group.pivot(index='state', columns='fiscal_year', values='PRate').reset_index()\n",
    "penetration_rate"
   ]
  },
  {
   "cell_type": "code",
   "execution_count": 43,
   "id": "8c91e0b8",
   "metadata": {},
   "outputs": [
    {
     "data": {
      "text/html": [
       "<div>\n",
       "<style scoped>\n",
       "    .dataframe tbody tr th:only-of-type {\n",
       "        vertical-align: middle;\n",
       "    }\n",
       "\n",
       "    .dataframe tbody tr th {\n",
       "        vertical-align: top;\n",
       "    }\n",
       "\n",
       "    .dataframe thead th {\n",
       "        text-align: right;\n",
       "    }\n",
       "</style>\n",
       "<table border=\"1\" class=\"dataframe\">\n",
       "  <thead>\n",
       "    <tr style=\"text-align: right;\">\n",
       "      <th>fiscal_year</th>\n",
       "      <th>state</th>\n",
       "      <th>PRate22</th>\n",
       "      <th>PRate23</th>\n",
       "      <th>PRate24</th>\n",
       "    </tr>\n",
       "  </thead>\n",
       "  <tbody>\n",
       "    <tr>\n",
       "      <th>0</th>\n",
       "      <td>Andaman &amp; Nicobar</td>\n",
       "      <td>NaN</td>\n",
       "      <td>NaN</td>\n",
       "      <td>0.303030</td>\n",
       "    </tr>\n",
       "    <tr>\n",
       "      <th>1</th>\n",
       "      <td>Andaman &amp; Nicobar Island</td>\n",
       "      <td>0.427350</td>\n",
       "      <td>0.352005</td>\n",
       "      <td>0.504356</td>\n",
       "    </tr>\n",
       "    <tr>\n",
       "      <th>2</th>\n",
       "      <td>Andhra Pradesh</td>\n",
       "      <td>1.802399</td>\n",
       "      <td>4.162124</td>\n",
       "      <td>4.238662</td>\n",
       "    </tr>\n",
       "    <tr>\n",
       "      <th>3</th>\n",
       "      <td>Arunachal Pradesh</td>\n",
       "      <td>0.000000</td>\n",
       "      <td>0.008430</td>\n",
       "      <td>0.111143</td>\n",
       "    </tr>\n",
       "    <tr>\n",
       "      <th>4</th>\n",
       "      <td>Assam</td>\n",
       "      <td>0.192384</td>\n",
       "      <td>0.460106</td>\n",
       "      <td>0.638575</td>\n",
       "    </tr>\n",
       "    <tr>\n",
       "      <th>5</th>\n",
       "      <td>Bihar</td>\n",
       "      <td>0.540838</td>\n",
       "      <td>1.087313</td>\n",
       "      <td>1.330358</td>\n",
       "    </tr>\n",
       "    <tr>\n",
       "      <th>6</th>\n",
       "      <td>Chandigarh</td>\n",
       "      <td>1.112194</td>\n",
       "      <td>4.102871</td>\n",
       "      <td>6.372516</td>\n",
       "    </tr>\n",
       "    <tr>\n",
       "      <th>7</th>\n",
       "      <td>Chhattisgarh</td>\n",
       "      <td>1.161754</td>\n",
       "      <td>4.693773</td>\n",
       "      <td>5.673189</td>\n",
       "    </tr>\n",
       "    <tr>\n",
       "      <th>8</th>\n",
       "      <td>DNH and DD</td>\n",
       "      <td>0.281962</td>\n",
       "      <td>0.836533</td>\n",
       "      <td>1.207317</td>\n",
       "    </tr>\n",
       "    <tr>\n",
       "      <th>9</th>\n",
       "      <td>Delhi</td>\n",
       "      <td>4.117896</td>\n",
       "      <td>7.588175</td>\n",
       "      <td>7.705806</td>\n",
       "    </tr>\n",
       "    <tr>\n",
       "      <th>10</th>\n",
       "      <td>Goa</td>\n",
       "      <td>3.675680</td>\n",
       "      <td>9.725757</td>\n",
       "      <td>13.752483</td>\n",
       "    </tr>\n",
       "    <tr>\n",
       "      <th>11</th>\n",
       "      <td>Gujarat</td>\n",
       "      <td>1.646403</td>\n",
       "      <td>5.487563</td>\n",
       "      <td>5.302306</td>\n",
       "    </tr>\n",
       "    <tr>\n",
       "      <th>12</th>\n",
       "      <td>Haryana</td>\n",
       "      <td>1.121094</td>\n",
       "      <td>2.036602</td>\n",
       "      <td>1.611002</td>\n",
       "    </tr>\n",
       "    <tr>\n",
       "      <th>13</th>\n",
       "      <td>Himachal Pradesh</td>\n",
       "      <td>0.450817</td>\n",
       "      <td>1.003490</td>\n",
       "      <td>0.895084</td>\n",
       "    </tr>\n",
       "    <tr>\n",
       "      <th>14</th>\n",
       "      <td>Jammu and Kashmir</td>\n",
       "      <td>1.070605</td>\n",
       "      <td>1.595741</td>\n",
       "      <td>1.638215</td>\n",
       "    </tr>\n",
       "    <tr>\n",
       "      <th>15</th>\n",
       "      <td>Jharkhand</td>\n",
       "      <td>0.659114</td>\n",
       "      <td>1.727833</td>\n",
       "      <td>1.581783</td>\n",
       "    </tr>\n",
       "    <tr>\n",
       "      <th>16</th>\n",
       "      <td>Karnataka</td>\n",
       "      <td>4.277335</td>\n",
       "      <td>7.753586</td>\n",
       "      <td>10.176373</td>\n",
       "    </tr>\n",
       "    <tr>\n",
       "      <th>17</th>\n",
       "      <td>Kerala</td>\n",
       "      <td>1.977885</td>\n",
       "      <td>6.714221</td>\n",
       "      <td>11.586958</td>\n",
       "    </tr>\n",
       "    <tr>\n",
       "      <th>18</th>\n",
       "      <td>Ladakh</td>\n",
       "      <td>0.412229</td>\n",
       "      <td>0.570907</td>\n",
       "      <td>0.966937</td>\n",
       "    </tr>\n",
       "    <tr>\n",
       "      <th>19</th>\n",
       "      <td>Madhya Pradesh</td>\n",
       "      <td>0.818463</td>\n",
       "      <td>2.235539</td>\n",
       "      <td>3.360566</td>\n",
       "    </tr>\n",
       "    <tr>\n",
       "      <th>20</th>\n",
       "      <td>Maharashtra</td>\n",
       "      <td>2.901856</td>\n",
       "      <td>7.031381</td>\n",
       "      <td>8.595009</td>\n",
       "    </tr>\n",
       "    <tr>\n",
       "      <th>21</th>\n",
       "      <td>Manipur</td>\n",
       "      <td>0.069196</td>\n",
       "      <td>0.296225</td>\n",
       "      <td>0.683965</td>\n",
       "    </tr>\n",
       "    <tr>\n",
       "      <th>22</th>\n",
       "      <td>Meghalaya</td>\n",
       "      <td>0.018024</td>\n",
       "      <td>0.127543</td>\n",
       "      <td>0.363110</td>\n",
       "    </tr>\n",
       "    <tr>\n",
       "      <th>23</th>\n",
       "      <td>Mizoram</td>\n",
       "      <td>0.000000</td>\n",
       "      <td>0.265892</td>\n",
       "      <td>1.002844</td>\n",
       "    </tr>\n",
       "    <tr>\n",
       "      <th>24</th>\n",
       "      <td>Nagaland</td>\n",
       "      <td>0.007781</td>\n",
       "      <td>0.021026</td>\n",
       "      <td>0.053029</td>\n",
       "    </tr>\n",
       "    <tr>\n",
       "      <th>25</th>\n",
       "      <td>Odisha</td>\n",
       "      <td>1.980702</td>\n",
       "      <td>5.016088</td>\n",
       "      <td>6.328248</td>\n",
       "    </tr>\n",
       "    <tr>\n",
       "      <th>26</th>\n",
       "      <td>Puducherry</td>\n",
       "      <td>1.709163</td>\n",
       "      <td>3.397061</td>\n",
       "      <td>5.369895</td>\n",
       "    </tr>\n",
       "    <tr>\n",
       "      <th>27</th>\n",
       "      <td>Punjab</td>\n",
       "      <td>1.021587</td>\n",
       "      <td>1.540540</td>\n",
       "      <td>1.949221</td>\n",
       "    </tr>\n",
       "    <tr>\n",
       "      <th>28</th>\n",
       "      <td>Rajasthan</td>\n",
       "      <td>2.280062</td>\n",
       "      <td>5.668529</td>\n",
       "      <td>5.109206</td>\n",
       "    </tr>\n",
       "    <tr>\n",
       "      <th>29</th>\n",
       "      <td>Sikkim</td>\n",
       "      <td>0.000000</td>\n",
       "      <td>0.000000</td>\n",
       "      <td>0.000000</td>\n",
       "    </tr>\n",
       "    <tr>\n",
       "      <th>30</th>\n",
       "      <td>Tamil Nadu</td>\n",
       "      <td>2.740709</td>\n",
       "      <td>4.331284</td>\n",
       "      <td>5.493145</td>\n",
       "    </tr>\n",
       "    <tr>\n",
       "      <th>31</th>\n",
       "      <td>Tripura</td>\n",
       "      <td>0.074202</td>\n",
       "      <td>0.560511</td>\n",
       "      <td>0.654509</td>\n",
       "    </tr>\n",
       "    <tr>\n",
       "      <th>32</th>\n",
       "      <td>Uttar Pradesh</td>\n",
       "      <td>0.409324</td>\n",
       "      <td>1.009213</td>\n",
       "      <td>1.969685</td>\n",
       "    </tr>\n",
       "    <tr>\n",
       "      <th>33</th>\n",
       "      <td>Uttarakhand</td>\n",
       "      <td>1.199439</td>\n",
       "      <td>3.103600</td>\n",
       "      <td>2.718018</td>\n",
       "    </tr>\n",
       "    <tr>\n",
       "      <th>34</th>\n",
       "      <td>West Bengal</td>\n",
       "      <td>0.311952</td>\n",
       "      <td>1.205287</td>\n",
       "      <td>1.753180</td>\n",
       "    </tr>\n",
       "  </tbody>\n",
       "</table>\n",
       "</div>"
      ],
      "text/plain": [
       "fiscal_year                     state   PRate22   PRate23    PRate24\n",
       "0                   Andaman & Nicobar       NaN       NaN   0.303030\n",
       "1            Andaman & Nicobar Island  0.427350  0.352005   0.504356\n",
       "2                      Andhra Pradesh  1.802399  4.162124   4.238662\n",
       "3                   Arunachal Pradesh  0.000000  0.008430   0.111143\n",
       "4                               Assam  0.192384  0.460106   0.638575\n",
       "5                               Bihar  0.540838  1.087313   1.330358\n",
       "6                          Chandigarh  1.112194  4.102871   6.372516\n",
       "7                        Chhattisgarh  1.161754  4.693773   5.673189\n",
       "8                          DNH and DD  0.281962  0.836533   1.207317\n",
       "9                               Delhi  4.117896  7.588175   7.705806\n",
       "10                                Goa  3.675680  9.725757  13.752483\n",
       "11                            Gujarat  1.646403  5.487563   5.302306\n",
       "12                            Haryana  1.121094  2.036602   1.611002\n",
       "13                   Himachal Pradesh  0.450817  1.003490   0.895084\n",
       "14                  Jammu and Kashmir  1.070605  1.595741   1.638215\n",
       "15                          Jharkhand  0.659114  1.727833   1.581783\n",
       "16                          Karnataka  4.277335  7.753586  10.176373\n",
       "17                             Kerala  1.977885  6.714221  11.586958\n",
       "18                             Ladakh  0.412229  0.570907   0.966937\n",
       "19                     Madhya Pradesh  0.818463  2.235539   3.360566\n",
       "20                        Maharashtra  2.901856  7.031381   8.595009\n",
       "21                            Manipur  0.069196  0.296225   0.683965\n",
       "22                          Meghalaya  0.018024  0.127543   0.363110\n",
       "23                            Mizoram  0.000000  0.265892   1.002844\n",
       "24                           Nagaland  0.007781  0.021026   0.053029\n",
       "25                             Odisha  1.980702  5.016088   6.328248\n",
       "26                         Puducherry  1.709163  3.397061   5.369895\n",
       "27                             Punjab  1.021587  1.540540   1.949221\n",
       "28                          Rajasthan  2.280062  5.668529   5.109206\n",
       "29                             Sikkim  0.000000  0.000000   0.000000\n",
       "30                         Tamil Nadu  2.740709  4.331284   5.493145\n",
       "31                            Tripura  0.074202  0.560511   0.654509\n",
       "32                      Uttar Pradesh  0.409324  1.009213   1.969685\n",
       "33                        Uttarakhand  1.199439  3.103600   2.718018\n",
       "34                        West Bengal  0.311952  1.205287   1.753180"
      ]
     },
     "execution_count": 43,
     "metadata": {},
     "output_type": "execute_result"
    }
   ],
   "source": [
    "penetration_rate.rename(columns={2022: 'PRate22', 2023: 'PRate23', 2024: 'PRate24'}, inplace=True)\n",
    "penetration_rate"
   ]
  },
  {
   "cell_type": "code",
   "execution_count": 44,
   "id": "49f56e8d",
   "metadata": {},
   "outputs": [
    {
     "data": {
      "text/html": [
       "<div>\n",
       "<style scoped>\n",
       "    .dataframe tbody tr th:only-of-type {\n",
       "        vertical-align: middle;\n",
       "    }\n",
       "\n",
       "    .dataframe tbody tr th {\n",
       "        vertical-align: top;\n",
       "    }\n",
       "\n",
       "    .dataframe thead th {\n",
       "        text-align: right;\n",
       "    }\n",
       "</style>\n",
       "<table border=\"1\" class=\"dataframe\">\n",
       "  <thead>\n",
       "    <tr style=\"text-align: right;\">\n",
       "      <th>fiscal_year</th>\n",
       "      <th>state</th>\n",
       "      <th>PRate22</th>\n",
       "      <th>PRate23</th>\n",
       "      <th>PRate24</th>\n",
       "    </tr>\n",
       "  </thead>\n",
       "  <tbody>\n",
       "    <tr>\n",
       "      <th>0</th>\n",
       "      <td>Andaman &amp; Nicobar</td>\n",
       "      <td>NaN</td>\n",
       "      <td>NaN</td>\n",
       "      <td>0.303030</td>\n",
       "    </tr>\n",
       "    <tr>\n",
       "      <th>1</th>\n",
       "      <td>Andaman &amp; Nicobar Island</td>\n",
       "      <td>0.427350</td>\n",
       "      <td>0.352005</td>\n",
       "      <td>0.504356</td>\n",
       "    </tr>\n",
       "    <tr>\n",
       "      <th>2</th>\n",
       "      <td>Andhra Pradesh</td>\n",
       "      <td>1.802399</td>\n",
       "      <td>4.162124</td>\n",
       "      <td>4.238662</td>\n",
       "    </tr>\n",
       "    <tr>\n",
       "      <th>3</th>\n",
       "      <td>Arunachal Pradesh</td>\n",
       "      <td>0.000000</td>\n",
       "      <td>0.008430</td>\n",
       "      <td>0.111143</td>\n",
       "    </tr>\n",
       "    <tr>\n",
       "      <th>4</th>\n",
       "      <td>Assam</td>\n",
       "      <td>0.192384</td>\n",
       "      <td>0.460106</td>\n",
       "      <td>0.638575</td>\n",
       "    </tr>\n",
       "    <tr>\n",
       "      <th>5</th>\n",
       "      <td>Bihar</td>\n",
       "      <td>0.540838</td>\n",
       "      <td>1.087313</td>\n",
       "      <td>1.330358</td>\n",
       "    </tr>\n",
       "    <tr>\n",
       "      <th>6</th>\n",
       "      <td>Chandigarh</td>\n",
       "      <td>1.112194</td>\n",
       "      <td>4.102871</td>\n",
       "      <td>6.372516</td>\n",
       "    </tr>\n",
       "    <tr>\n",
       "      <th>7</th>\n",
       "      <td>Chhattisgarh</td>\n",
       "      <td>1.161754</td>\n",
       "      <td>4.693773</td>\n",
       "      <td>5.673189</td>\n",
       "    </tr>\n",
       "    <tr>\n",
       "      <th>8</th>\n",
       "      <td>DNH and DD</td>\n",
       "      <td>0.281962</td>\n",
       "      <td>0.836533</td>\n",
       "      <td>1.207317</td>\n",
       "    </tr>\n",
       "    <tr>\n",
       "      <th>9</th>\n",
       "      <td>Delhi</td>\n",
       "      <td>4.117896</td>\n",
       "      <td>7.588175</td>\n",
       "      <td>7.705806</td>\n",
       "    </tr>\n",
       "    <tr>\n",
       "      <th>10</th>\n",
       "      <td>Goa</td>\n",
       "      <td>3.675680</td>\n",
       "      <td>9.725757</td>\n",
       "      <td>13.752483</td>\n",
       "    </tr>\n",
       "    <tr>\n",
       "      <th>11</th>\n",
       "      <td>Gujarat</td>\n",
       "      <td>1.646403</td>\n",
       "      <td>5.487563</td>\n",
       "      <td>5.302306</td>\n",
       "    </tr>\n",
       "    <tr>\n",
       "      <th>12</th>\n",
       "      <td>Haryana</td>\n",
       "      <td>1.121094</td>\n",
       "      <td>2.036602</td>\n",
       "      <td>1.611002</td>\n",
       "    </tr>\n",
       "    <tr>\n",
       "      <th>13</th>\n",
       "      <td>Himachal Pradesh</td>\n",
       "      <td>0.450817</td>\n",
       "      <td>1.003490</td>\n",
       "      <td>0.895084</td>\n",
       "    </tr>\n",
       "    <tr>\n",
       "      <th>14</th>\n",
       "      <td>Jammu and Kashmir</td>\n",
       "      <td>1.070605</td>\n",
       "      <td>1.595741</td>\n",
       "      <td>1.638215</td>\n",
       "    </tr>\n",
       "    <tr>\n",
       "      <th>15</th>\n",
       "      <td>Jharkhand</td>\n",
       "      <td>0.659114</td>\n",
       "      <td>1.727833</td>\n",
       "      <td>1.581783</td>\n",
       "    </tr>\n",
       "    <tr>\n",
       "      <th>16</th>\n",
       "      <td>Karnataka</td>\n",
       "      <td>4.277335</td>\n",
       "      <td>7.753586</td>\n",
       "      <td>10.176373</td>\n",
       "    </tr>\n",
       "    <tr>\n",
       "      <th>17</th>\n",
       "      <td>Kerala</td>\n",
       "      <td>1.977885</td>\n",
       "      <td>6.714221</td>\n",
       "      <td>11.586958</td>\n",
       "    </tr>\n",
       "    <tr>\n",
       "      <th>18</th>\n",
       "      <td>Ladakh</td>\n",
       "      <td>0.412229</td>\n",
       "      <td>0.570907</td>\n",
       "      <td>0.966937</td>\n",
       "    </tr>\n",
       "    <tr>\n",
       "      <th>19</th>\n",
       "      <td>Madhya Pradesh</td>\n",
       "      <td>0.818463</td>\n",
       "      <td>2.235539</td>\n",
       "      <td>3.360566</td>\n",
       "    </tr>\n",
       "    <tr>\n",
       "      <th>20</th>\n",
       "      <td>Maharashtra</td>\n",
       "      <td>2.901856</td>\n",
       "      <td>7.031381</td>\n",
       "      <td>8.595009</td>\n",
       "    </tr>\n",
       "    <tr>\n",
       "      <th>21</th>\n",
       "      <td>Manipur</td>\n",
       "      <td>0.069196</td>\n",
       "      <td>0.296225</td>\n",
       "      <td>0.683965</td>\n",
       "    </tr>\n",
       "    <tr>\n",
       "      <th>22</th>\n",
       "      <td>Meghalaya</td>\n",
       "      <td>0.018024</td>\n",
       "      <td>0.127543</td>\n",
       "      <td>0.363110</td>\n",
       "    </tr>\n",
       "    <tr>\n",
       "      <th>23</th>\n",
       "      <td>Mizoram</td>\n",
       "      <td>0.000000</td>\n",
       "      <td>0.265892</td>\n",
       "      <td>1.002844</td>\n",
       "    </tr>\n",
       "    <tr>\n",
       "      <th>24</th>\n",
       "      <td>Nagaland</td>\n",
       "      <td>0.007781</td>\n",
       "      <td>0.021026</td>\n",
       "      <td>0.053029</td>\n",
       "    </tr>\n",
       "    <tr>\n",
       "      <th>25</th>\n",
       "      <td>Odisha</td>\n",
       "      <td>1.980702</td>\n",
       "      <td>5.016088</td>\n",
       "      <td>6.328248</td>\n",
       "    </tr>\n",
       "    <tr>\n",
       "      <th>26</th>\n",
       "      <td>Puducherry</td>\n",
       "      <td>1.709163</td>\n",
       "      <td>3.397061</td>\n",
       "      <td>5.369895</td>\n",
       "    </tr>\n",
       "    <tr>\n",
       "      <th>27</th>\n",
       "      <td>Punjab</td>\n",
       "      <td>1.021587</td>\n",
       "      <td>1.540540</td>\n",
       "      <td>1.949221</td>\n",
       "    </tr>\n",
       "    <tr>\n",
       "      <th>28</th>\n",
       "      <td>Rajasthan</td>\n",
       "      <td>2.280062</td>\n",
       "      <td>5.668529</td>\n",
       "      <td>5.109206</td>\n",
       "    </tr>\n",
       "    <tr>\n",
       "      <th>29</th>\n",
       "      <td>Sikkim</td>\n",
       "      <td>0.000000</td>\n",
       "      <td>0.000000</td>\n",
       "      <td>0.000000</td>\n",
       "    </tr>\n",
       "    <tr>\n",
       "      <th>30</th>\n",
       "      <td>Tamil Nadu</td>\n",
       "      <td>2.740709</td>\n",
       "      <td>4.331284</td>\n",
       "      <td>5.493145</td>\n",
       "    </tr>\n",
       "    <tr>\n",
       "      <th>31</th>\n",
       "      <td>Tripura</td>\n",
       "      <td>0.074202</td>\n",
       "      <td>0.560511</td>\n",
       "      <td>0.654509</td>\n",
       "    </tr>\n",
       "    <tr>\n",
       "      <th>32</th>\n",
       "      <td>Uttar Pradesh</td>\n",
       "      <td>0.409324</td>\n",
       "      <td>1.009213</td>\n",
       "      <td>1.969685</td>\n",
       "    </tr>\n",
       "    <tr>\n",
       "      <th>33</th>\n",
       "      <td>Uttarakhand</td>\n",
       "      <td>1.199439</td>\n",
       "      <td>3.103600</td>\n",
       "      <td>2.718018</td>\n",
       "    </tr>\n",
       "    <tr>\n",
       "      <th>34</th>\n",
       "      <td>West Bengal</td>\n",
       "      <td>0.311952</td>\n",
       "      <td>1.205287</td>\n",
       "      <td>1.753180</td>\n",
       "    </tr>\n",
       "  </tbody>\n",
       "</table>\n",
       "</div>"
      ],
      "text/plain": [
       "fiscal_year                     state   PRate22   PRate23    PRate24\n",
       "0                   Andaman & Nicobar       NaN       NaN   0.303030\n",
       "1            Andaman & Nicobar Island  0.427350  0.352005   0.504356\n",
       "2                      Andhra Pradesh  1.802399  4.162124   4.238662\n",
       "3                   Arunachal Pradesh  0.000000  0.008430   0.111143\n",
       "4                               Assam  0.192384  0.460106   0.638575\n",
       "5                               Bihar  0.540838  1.087313   1.330358\n",
       "6                          Chandigarh  1.112194  4.102871   6.372516\n",
       "7                        Chhattisgarh  1.161754  4.693773   5.673189\n",
       "8                          DNH and DD  0.281962  0.836533   1.207317\n",
       "9                               Delhi  4.117896  7.588175   7.705806\n",
       "10                                Goa  3.675680  9.725757  13.752483\n",
       "11                            Gujarat  1.646403  5.487563   5.302306\n",
       "12                            Haryana  1.121094  2.036602   1.611002\n",
       "13                   Himachal Pradesh  0.450817  1.003490   0.895084\n",
       "14                  Jammu and Kashmir  1.070605  1.595741   1.638215\n",
       "15                          Jharkhand  0.659114  1.727833   1.581783\n",
       "16                          Karnataka  4.277335  7.753586  10.176373\n",
       "17                             Kerala  1.977885  6.714221  11.586958\n",
       "18                             Ladakh  0.412229  0.570907   0.966937\n",
       "19                     Madhya Pradesh  0.818463  2.235539   3.360566\n",
       "20                        Maharashtra  2.901856  7.031381   8.595009\n",
       "21                            Manipur  0.069196  0.296225   0.683965\n",
       "22                          Meghalaya  0.018024  0.127543   0.363110\n",
       "23                            Mizoram  0.000000  0.265892   1.002844\n",
       "24                           Nagaland  0.007781  0.021026   0.053029\n",
       "25                             Odisha  1.980702  5.016088   6.328248\n",
       "26                         Puducherry  1.709163  3.397061   5.369895\n",
       "27                             Punjab  1.021587  1.540540   1.949221\n",
       "28                          Rajasthan  2.280062  5.668529   5.109206\n",
       "29                             Sikkim  0.000000  0.000000   0.000000\n",
       "30                         Tamil Nadu  2.740709  4.331284   5.493145\n",
       "31                            Tripura  0.074202  0.560511   0.654509\n",
       "32                      Uttar Pradesh  0.409324  1.009213   1.969685\n",
       "33                        Uttarakhand  1.199439  3.103600   2.718018\n",
       "34                        West Bengal  0.311952  1.205287   1.753180"
      ]
     },
     "execution_count": 44,
     "metadata": {},
     "output_type": "execute_result"
    }
   ],
   "source": [
    "penetration_rate['PRate22']=pd.to_numeric(penetration_rate['PRate22'],errors='coerce')\n",
    "penetration_rate['PRate23']=pd.to_numeric(penetration_rate['PRate23'],errors='coerce')\n",
    "penetration_rate['PRate24']=pd.to_numeric(penetration_rate['PRate24'],errors='coerce')\n",
    "penetration_rate"
   ]
  },
  {
   "cell_type": "code",
   "execution_count": 45,
   "id": "e92325fa",
   "metadata": {},
   "outputs": [
    {
     "data": {
      "text/html": [
       "<div>\n",
       "<style scoped>\n",
       "    .dataframe tbody tr th:only-of-type {\n",
       "        vertical-align: middle;\n",
       "    }\n",
       "\n",
       "    .dataframe tbody tr th {\n",
       "        vertical-align: top;\n",
       "    }\n",
       "\n",
       "    .dataframe thead th {\n",
       "        text-align: right;\n",
       "    }\n",
       "</style>\n",
       "<table border=\"1\" class=\"dataframe\">\n",
       "  <thead>\n",
       "    <tr style=\"text-align: right;\">\n",
       "      <th>fiscal_year</th>\n",
       "      <th>state</th>\n",
       "      <th>PRate22</th>\n",
       "      <th>PRate23</th>\n",
       "      <th>PRate24</th>\n",
       "      <th>22_23</th>\n",
       "      <th>23_24</th>\n",
       "    </tr>\n",
       "  </thead>\n",
       "  <tbody>\n",
       "    <tr>\n",
       "      <th>0</th>\n",
       "      <td>Andaman &amp; Nicobar</td>\n",
       "      <td>NaN</td>\n",
       "      <td>NaN</td>\n",
       "      <td>0.303030</td>\n",
       "      <td>NaN</td>\n",
       "      <td>NaN</td>\n",
       "    </tr>\n",
       "    <tr>\n",
       "      <th>1</th>\n",
       "      <td>Andaman &amp; Nicobar Island</td>\n",
       "      <td>0.427350</td>\n",
       "      <td>0.352005</td>\n",
       "      <td>0.504356</td>\n",
       "      <td>-0.075346</td>\n",
       "      <td>0.152351</td>\n",
       "    </tr>\n",
       "    <tr>\n",
       "      <th>2</th>\n",
       "      <td>Andhra Pradesh</td>\n",
       "      <td>1.802399</td>\n",
       "      <td>4.162124</td>\n",
       "      <td>4.238662</td>\n",
       "      <td>2.359725</td>\n",
       "      <td>0.076538</td>\n",
       "    </tr>\n",
       "    <tr>\n",
       "      <th>3</th>\n",
       "      <td>Arunachal Pradesh</td>\n",
       "      <td>0.000000</td>\n",
       "      <td>0.008430</td>\n",
       "      <td>0.111143</td>\n",
       "      <td>0.008430</td>\n",
       "      <td>0.102713</td>\n",
       "    </tr>\n",
       "    <tr>\n",
       "      <th>4</th>\n",
       "      <td>Assam</td>\n",
       "      <td>0.192384</td>\n",
       "      <td>0.460106</td>\n",
       "      <td>0.638575</td>\n",
       "      <td>0.267722</td>\n",
       "      <td>0.178469</td>\n",
       "    </tr>\n",
       "    <tr>\n",
       "      <th>5</th>\n",
       "      <td>Bihar</td>\n",
       "      <td>0.540838</td>\n",
       "      <td>1.087313</td>\n",
       "      <td>1.330358</td>\n",
       "      <td>0.546474</td>\n",
       "      <td>0.243045</td>\n",
       "    </tr>\n",
       "    <tr>\n",
       "      <th>6</th>\n",
       "      <td>Chandigarh</td>\n",
       "      <td>1.112194</td>\n",
       "      <td>4.102871</td>\n",
       "      <td>6.372516</td>\n",
       "      <td>2.990677</td>\n",
       "      <td>2.269646</td>\n",
       "    </tr>\n",
       "    <tr>\n",
       "      <th>7</th>\n",
       "      <td>Chhattisgarh</td>\n",
       "      <td>1.161754</td>\n",
       "      <td>4.693773</td>\n",
       "      <td>5.673189</td>\n",
       "      <td>3.532019</td>\n",
       "      <td>0.979417</td>\n",
       "    </tr>\n",
       "    <tr>\n",
       "      <th>8</th>\n",
       "      <td>DNH and DD</td>\n",
       "      <td>0.281962</td>\n",
       "      <td>0.836533</td>\n",
       "      <td>1.207317</td>\n",
       "      <td>0.554571</td>\n",
       "      <td>0.370784</td>\n",
       "    </tr>\n",
       "    <tr>\n",
       "      <th>9</th>\n",
       "      <td>Delhi</td>\n",
       "      <td>4.117896</td>\n",
       "      <td>7.588175</td>\n",
       "      <td>7.705806</td>\n",
       "      <td>3.470279</td>\n",
       "      <td>0.117631</td>\n",
       "    </tr>\n",
       "    <tr>\n",
       "      <th>10</th>\n",
       "      <td>Goa</td>\n",
       "      <td>3.675680</td>\n",
       "      <td>9.725757</td>\n",
       "      <td>13.752483</td>\n",
       "      <td>6.050077</td>\n",
       "      <td>4.026726</td>\n",
       "    </tr>\n",
       "    <tr>\n",
       "      <th>11</th>\n",
       "      <td>Gujarat</td>\n",
       "      <td>1.646403</td>\n",
       "      <td>5.487563</td>\n",
       "      <td>5.302306</td>\n",
       "      <td>3.841160</td>\n",
       "      <td>-0.185257</td>\n",
       "    </tr>\n",
       "    <tr>\n",
       "      <th>12</th>\n",
       "      <td>Haryana</td>\n",
       "      <td>1.121094</td>\n",
       "      <td>2.036602</td>\n",
       "      <td>1.611002</td>\n",
       "      <td>0.915509</td>\n",
       "      <td>-0.425600</td>\n",
       "    </tr>\n",
       "    <tr>\n",
       "      <th>13</th>\n",
       "      <td>Himachal Pradesh</td>\n",
       "      <td>0.450817</td>\n",
       "      <td>1.003490</td>\n",
       "      <td>0.895084</td>\n",
       "      <td>0.552673</td>\n",
       "      <td>-0.108407</td>\n",
       "    </tr>\n",
       "    <tr>\n",
       "      <th>14</th>\n",
       "      <td>Jammu and Kashmir</td>\n",
       "      <td>1.070605</td>\n",
       "      <td>1.595741</td>\n",
       "      <td>1.638215</td>\n",
       "      <td>0.525136</td>\n",
       "      <td>0.042474</td>\n",
       "    </tr>\n",
       "    <tr>\n",
       "      <th>15</th>\n",
       "      <td>Jharkhand</td>\n",
       "      <td>0.659114</td>\n",
       "      <td>1.727833</td>\n",
       "      <td>1.581783</td>\n",
       "      <td>1.068718</td>\n",
       "      <td>-0.146050</td>\n",
       "    </tr>\n",
       "    <tr>\n",
       "      <th>16</th>\n",
       "      <td>Karnataka</td>\n",
       "      <td>4.277335</td>\n",
       "      <td>7.753586</td>\n",
       "      <td>10.176373</td>\n",
       "      <td>3.476251</td>\n",
       "      <td>2.422787</td>\n",
       "    </tr>\n",
       "    <tr>\n",
       "      <th>17</th>\n",
       "      <td>Kerala</td>\n",
       "      <td>1.977885</td>\n",
       "      <td>6.714221</td>\n",
       "      <td>11.586958</td>\n",
       "      <td>4.736336</td>\n",
       "      <td>4.872737</td>\n",
       "    </tr>\n",
       "    <tr>\n",
       "      <th>18</th>\n",
       "      <td>Ladakh</td>\n",
       "      <td>0.412229</td>\n",
       "      <td>0.570907</td>\n",
       "      <td>0.966937</td>\n",
       "      <td>0.158677</td>\n",
       "      <td>0.396030</td>\n",
       "    </tr>\n",
       "    <tr>\n",
       "      <th>19</th>\n",
       "      <td>Madhya Pradesh</td>\n",
       "      <td>0.818463</td>\n",
       "      <td>2.235539</td>\n",
       "      <td>3.360566</td>\n",
       "      <td>1.417077</td>\n",
       "      <td>1.125027</td>\n",
       "    </tr>\n",
       "    <tr>\n",
       "      <th>20</th>\n",
       "      <td>Maharashtra</td>\n",
       "      <td>2.901856</td>\n",
       "      <td>7.031381</td>\n",
       "      <td>8.595009</td>\n",
       "      <td>4.129525</td>\n",
       "      <td>1.563628</td>\n",
       "    </tr>\n",
       "    <tr>\n",
       "      <th>21</th>\n",
       "      <td>Manipur</td>\n",
       "      <td>0.069196</td>\n",
       "      <td>0.296225</td>\n",
       "      <td>0.683965</td>\n",
       "      <td>0.227029</td>\n",
       "      <td>0.387740</td>\n",
       "    </tr>\n",
       "    <tr>\n",
       "      <th>22</th>\n",
       "      <td>Meghalaya</td>\n",
       "      <td>0.018024</td>\n",
       "      <td>0.127543</td>\n",
       "      <td>0.363110</td>\n",
       "      <td>0.109519</td>\n",
       "      <td>0.235567</td>\n",
       "    </tr>\n",
       "    <tr>\n",
       "      <th>23</th>\n",
       "      <td>Mizoram</td>\n",
       "      <td>0.000000</td>\n",
       "      <td>0.265892</td>\n",
       "      <td>1.002844</td>\n",
       "      <td>0.265892</td>\n",
       "      <td>0.736952</td>\n",
       "    </tr>\n",
       "    <tr>\n",
       "      <th>24</th>\n",
       "      <td>Nagaland</td>\n",
       "      <td>0.007781</td>\n",
       "      <td>0.021026</td>\n",
       "      <td>0.053029</td>\n",
       "      <td>0.013245</td>\n",
       "      <td>0.032002</td>\n",
       "    </tr>\n",
       "    <tr>\n",
       "      <th>25</th>\n",
       "      <td>Odisha</td>\n",
       "      <td>1.980702</td>\n",
       "      <td>5.016088</td>\n",
       "      <td>6.328248</td>\n",
       "      <td>3.035386</td>\n",
       "      <td>1.312160</td>\n",
       "    </tr>\n",
       "    <tr>\n",
       "      <th>26</th>\n",
       "      <td>Puducherry</td>\n",
       "      <td>1.709163</td>\n",
       "      <td>3.397061</td>\n",
       "      <td>5.369895</td>\n",
       "      <td>1.687899</td>\n",
       "      <td>1.972834</td>\n",
       "    </tr>\n",
       "    <tr>\n",
       "      <th>27</th>\n",
       "      <td>Punjab</td>\n",
       "      <td>1.021587</td>\n",
       "      <td>1.540540</td>\n",
       "      <td>1.949221</td>\n",
       "      <td>0.518953</td>\n",
       "      <td>0.408681</td>\n",
       "    </tr>\n",
       "    <tr>\n",
       "      <th>28</th>\n",
       "      <td>Rajasthan</td>\n",
       "      <td>2.280062</td>\n",
       "      <td>5.668529</td>\n",
       "      <td>5.109206</td>\n",
       "      <td>3.388467</td>\n",
       "      <td>-0.559322</td>\n",
       "    </tr>\n",
       "    <tr>\n",
       "      <th>29</th>\n",
       "      <td>Sikkim</td>\n",
       "      <td>0.000000</td>\n",
       "      <td>0.000000</td>\n",
       "      <td>0.000000</td>\n",
       "      <td>0.000000</td>\n",
       "      <td>0.000000</td>\n",
       "    </tr>\n",
       "    <tr>\n",
       "      <th>30</th>\n",
       "      <td>Tamil Nadu</td>\n",
       "      <td>2.740709</td>\n",
       "      <td>4.331284</td>\n",
       "      <td>5.493145</td>\n",
       "      <td>1.590575</td>\n",
       "      <td>1.161861</td>\n",
       "    </tr>\n",
       "    <tr>\n",
       "      <th>31</th>\n",
       "      <td>Tripura</td>\n",
       "      <td>0.074202</td>\n",
       "      <td>0.560511</td>\n",
       "      <td>0.654509</td>\n",
       "      <td>0.486309</td>\n",
       "      <td>0.093999</td>\n",
       "    </tr>\n",
       "    <tr>\n",
       "      <th>32</th>\n",
       "      <td>Uttar Pradesh</td>\n",
       "      <td>0.409324</td>\n",
       "      <td>1.009213</td>\n",
       "      <td>1.969685</td>\n",
       "      <td>0.599889</td>\n",
       "      <td>0.960472</td>\n",
       "    </tr>\n",
       "    <tr>\n",
       "      <th>33</th>\n",
       "      <td>Uttarakhand</td>\n",
       "      <td>1.199439</td>\n",
       "      <td>3.103600</td>\n",
       "      <td>2.718018</td>\n",
       "      <td>1.904161</td>\n",
       "      <td>-0.385581</td>\n",
       "    </tr>\n",
       "    <tr>\n",
       "      <th>34</th>\n",
       "      <td>West Bengal</td>\n",
       "      <td>0.311952</td>\n",
       "      <td>1.205287</td>\n",
       "      <td>1.753180</td>\n",
       "      <td>0.893335</td>\n",
       "      <td>0.547893</td>\n",
       "    </tr>\n",
       "  </tbody>\n",
       "</table>\n",
       "</div>"
      ],
      "text/plain": [
       "fiscal_year                     state   PRate22   PRate23    PRate24  \\\n",
       "0                   Andaman & Nicobar       NaN       NaN   0.303030   \n",
       "1            Andaman & Nicobar Island  0.427350  0.352005   0.504356   \n",
       "2                      Andhra Pradesh  1.802399  4.162124   4.238662   \n",
       "3                   Arunachal Pradesh  0.000000  0.008430   0.111143   \n",
       "4                               Assam  0.192384  0.460106   0.638575   \n",
       "5                               Bihar  0.540838  1.087313   1.330358   \n",
       "6                          Chandigarh  1.112194  4.102871   6.372516   \n",
       "7                        Chhattisgarh  1.161754  4.693773   5.673189   \n",
       "8                          DNH and DD  0.281962  0.836533   1.207317   \n",
       "9                               Delhi  4.117896  7.588175   7.705806   \n",
       "10                                Goa  3.675680  9.725757  13.752483   \n",
       "11                            Gujarat  1.646403  5.487563   5.302306   \n",
       "12                            Haryana  1.121094  2.036602   1.611002   \n",
       "13                   Himachal Pradesh  0.450817  1.003490   0.895084   \n",
       "14                  Jammu and Kashmir  1.070605  1.595741   1.638215   \n",
       "15                          Jharkhand  0.659114  1.727833   1.581783   \n",
       "16                          Karnataka  4.277335  7.753586  10.176373   \n",
       "17                             Kerala  1.977885  6.714221  11.586958   \n",
       "18                             Ladakh  0.412229  0.570907   0.966937   \n",
       "19                     Madhya Pradesh  0.818463  2.235539   3.360566   \n",
       "20                        Maharashtra  2.901856  7.031381   8.595009   \n",
       "21                            Manipur  0.069196  0.296225   0.683965   \n",
       "22                          Meghalaya  0.018024  0.127543   0.363110   \n",
       "23                            Mizoram  0.000000  0.265892   1.002844   \n",
       "24                           Nagaland  0.007781  0.021026   0.053029   \n",
       "25                             Odisha  1.980702  5.016088   6.328248   \n",
       "26                         Puducherry  1.709163  3.397061   5.369895   \n",
       "27                             Punjab  1.021587  1.540540   1.949221   \n",
       "28                          Rajasthan  2.280062  5.668529   5.109206   \n",
       "29                             Sikkim  0.000000  0.000000   0.000000   \n",
       "30                         Tamil Nadu  2.740709  4.331284   5.493145   \n",
       "31                            Tripura  0.074202  0.560511   0.654509   \n",
       "32                      Uttar Pradesh  0.409324  1.009213   1.969685   \n",
       "33                        Uttarakhand  1.199439  3.103600   2.718018   \n",
       "34                        West Bengal  0.311952  1.205287   1.753180   \n",
       "\n",
       "fiscal_year     22_23     23_24  \n",
       "0                 NaN       NaN  \n",
       "1           -0.075346  0.152351  \n",
       "2            2.359725  0.076538  \n",
       "3            0.008430  0.102713  \n",
       "4            0.267722  0.178469  \n",
       "5            0.546474  0.243045  \n",
       "6            2.990677  2.269646  \n",
       "7            3.532019  0.979417  \n",
       "8            0.554571  0.370784  \n",
       "9            3.470279  0.117631  \n",
       "10           6.050077  4.026726  \n",
       "11           3.841160 -0.185257  \n",
       "12           0.915509 -0.425600  \n",
       "13           0.552673 -0.108407  \n",
       "14           0.525136  0.042474  \n",
       "15           1.068718 -0.146050  \n",
       "16           3.476251  2.422787  \n",
       "17           4.736336  4.872737  \n",
       "18           0.158677  0.396030  \n",
       "19           1.417077  1.125027  \n",
       "20           4.129525  1.563628  \n",
       "21           0.227029  0.387740  \n",
       "22           0.109519  0.235567  \n",
       "23           0.265892  0.736952  \n",
       "24           0.013245  0.032002  \n",
       "25           3.035386  1.312160  \n",
       "26           1.687899  1.972834  \n",
       "27           0.518953  0.408681  \n",
       "28           3.388467 -0.559322  \n",
       "29           0.000000  0.000000  \n",
       "30           1.590575  1.161861  \n",
       "31           0.486309  0.093999  \n",
       "32           0.599889  0.960472  \n",
       "33           1.904161 -0.385581  \n",
       "34           0.893335  0.547893  "
      ]
     },
     "execution_count": 45,
     "metadata": {},
     "output_type": "execute_result"
    }
   ],
   "source": [
    "penetration_rate['22_23'] = penetration_rate['PRate23'] - penetration_rate['PRate22']\n",
    "penetration_rate['23_24'] = penetration_rate['PRate24'] - penetration_rate['PRate23']\n",
    "penetration_rate"
   ]
  },
  {
   "cell_type": "code",
   "execution_count": 46,
   "id": "3ce0b490",
   "metadata": {},
   "outputs": [
    {
     "data": {
      "text/html": [
       "<div>\n",
       "<style scoped>\n",
       "    .dataframe tbody tr th:only-of-type {\n",
       "        vertical-align: middle;\n",
       "    }\n",
       "\n",
       "    .dataframe tbody tr th {\n",
       "        vertical-align: top;\n",
       "    }\n",
       "\n",
       "    .dataframe thead th {\n",
       "        text-align: right;\n",
       "    }\n",
       "</style>\n",
       "<table border=\"1\" class=\"dataframe\">\n",
       "  <thead>\n",
       "    <tr style=\"text-align: right;\">\n",
       "      <th>fiscal_year</th>\n",
       "      <th>state</th>\n",
       "      <th>22_23</th>\n",
       "      <th>23_24</th>\n",
       "    </tr>\n",
       "  </thead>\n",
       "  <tbody>\n",
       "    <tr>\n",
       "      <th>1</th>\n",
       "      <td>Andaman &amp; Nicobar Island</td>\n",
       "      <td>-0.075346</td>\n",
       "      <td>0.152351</td>\n",
       "    </tr>\n",
       "    <tr>\n",
       "      <th>29</th>\n",
       "      <td>Sikkim</td>\n",
       "      <td>0.000000</td>\n",
       "      <td>0.000000</td>\n",
       "    </tr>\n",
       "    <tr>\n",
       "      <th>3</th>\n",
       "      <td>Arunachal Pradesh</td>\n",
       "      <td>0.008430</td>\n",
       "      <td>0.102713</td>\n",
       "    </tr>\n",
       "    <tr>\n",
       "      <th>24</th>\n",
       "      <td>Nagaland</td>\n",
       "      <td>0.013245</td>\n",
       "      <td>0.032002</td>\n",
       "    </tr>\n",
       "    <tr>\n",
       "      <th>22</th>\n",
       "      <td>Meghalaya</td>\n",
       "      <td>0.109519</td>\n",
       "      <td>0.235567</td>\n",
       "    </tr>\n",
       "    <tr>\n",
       "      <th>18</th>\n",
       "      <td>Ladakh</td>\n",
       "      <td>0.158677</td>\n",
       "      <td>0.396030</td>\n",
       "    </tr>\n",
       "    <tr>\n",
       "      <th>21</th>\n",
       "      <td>Manipur</td>\n",
       "      <td>0.227029</td>\n",
       "      <td>0.387740</td>\n",
       "    </tr>\n",
       "    <tr>\n",
       "      <th>23</th>\n",
       "      <td>Mizoram</td>\n",
       "      <td>0.265892</td>\n",
       "      <td>0.736952</td>\n",
       "    </tr>\n",
       "    <tr>\n",
       "      <th>4</th>\n",
       "      <td>Assam</td>\n",
       "      <td>0.267722</td>\n",
       "      <td>0.178469</td>\n",
       "    </tr>\n",
       "    <tr>\n",
       "      <th>31</th>\n",
       "      <td>Tripura</td>\n",
       "      <td>0.486309</td>\n",
       "      <td>0.093999</td>\n",
       "    </tr>\n",
       "    <tr>\n",
       "      <th>27</th>\n",
       "      <td>Punjab</td>\n",
       "      <td>0.518953</td>\n",
       "      <td>0.408681</td>\n",
       "    </tr>\n",
       "    <tr>\n",
       "      <th>14</th>\n",
       "      <td>Jammu and Kashmir</td>\n",
       "      <td>0.525136</td>\n",
       "      <td>0.042474</td>\n",
       "    </tr>\n",
       "    <tr>\n",
       "      <th>5</th>\n",
       "      <td>Bihar</td>\n",
       "      <td>0.546474</td>\n",
       "      <td>0.243045</td>\n",
       "    </tr>\n",
       "    <tr>\n",
       "      <th>13</th>\n",
       "      <td>Himachal Pradesh</td>\n",
       "      <td>0.552673</td>\n",
       "      <td>-0.108407</td>\n",
       "    </tr>\n",
       "    <tr>\n",
       "      <th>8</th>\n",
       "      <td>DNH and DD</td>\n",
       "      <td>0.554571</td>\n",
       "      <td>0.370784</td>\n",
       "    </tr>\n",
       "    <tr>\n",
       "      <th>32</th>\n",
       "      <td>Uttar Pradesh</td>\n",
       "      <td>0.599889</td>\n",
       "      <td>0.960472</td>\n",
       "    </tr>\n",
       "    <tr>\n",
       "      <th>34</th>\n",
       "      <td>West Bengal</td>\n",
       "      <td>0.893335</td>\n",
       "      <td>0.547893</td>\n",
       "    </tr>\n",
       "    <tr>\n",
       "      <th>12</th>\n",
       "      <td>Haryana</td>\n",
       "      <td>0.915509</td>\n",
       "      <td>-0.425600</td>\n",
       "    </tr>\n",
       "    <tr>\n",
       "      <th>15</th>\n",
       "      <td>Jharkhand</td>\n",
       "      <td>1.068718</td>\n",
       "      <td>-0.146050</td>\n",
       "    </tr>\n",
       "    <tr>\n",
       "      <th>19</th>\n",
       "      <td>Madhya Pradesh</td>\n",
       "      <td>1.417077</td>\n",
       "      <td>1.125027</td>\n",
       "    </tr>\n",
       "    <tr>\n",
       "      <th>30</th>\n",
       "      <td>Tamil Nadu</td>\n",
       "      <td>1.590575</td>\n",
       "      <td>1.161861</td>\n",
       "    </tr>\n",
       "    <tr>\n",
       "      <th>26</th>\n",
       "      <td>Puducherry</td>\n",
       "      <td>1.687899</td>\n",
       "      <td>1.972834</td>\n",
       "    </tr>\n",
       "    <tr>\n",
       "      <th>33</th>\n",
       "      <td>Uttarakhand</td>\n",
       "      <td>1.904161</td>\n",
       "      <td>-0.385581</td>\n",
       "    </tr>\n",
       "    <tr>\n",
       "      <th>2</th>\n",
       "      <td>Andhra Pradesh</td>\n",
       "      <td>2.359725</td>\n",
       "      <td>0.076538</td>\n",
       "    </tr>\n",
       "    <tr>\n",
       "      <th>6</th>\n",
       "      <td>Chandigarh</td>\n",
       "      <td>2.990677</td>\n",
       "      <td>2.269646</td>\n",
       "    </tr>\n",
       "    <tr>\n",
       "      <th>25</th>\n",
       "      <td>Odisha</td>\n",
       "      <td>3.035386</td>\n",
       "      <td>1.312160</td>\n",
       "    </tr>\n",
       "    <tr>\n",
       "      <th>28</th>\n",
       "      <td>Rajasthan</td>\n",
       "      <td>3.388467</td>\n",
       "      <td>-0.559322</td>\n",
       "    </tr>\n",
       "    <tr>\n",
       "      <th>9</th>\n",
       "      <td>Delhi</td>\n",
       "      <td>3.470279</td>\n",
       "      <td>0.117631</td>\n",
       "    </tr>\n",
       "    <tr>\n",
       "      <th>16</th>\n",
       "      <td>Karnataka</td>\n",
       "      <td>3.476251</td>\n",
       "      <td>2.422787</td>\n",
       "    </tr>\n",
       "    <tr>\n",
       "      <th>7</th>\n",
       "      <td>Chhattisgarh</td>\n",
       "      <td>3.532019</td>\n",
       "      <td>0.979417</td>\n",
       "    </tr>\n",
       "    <tr>\n",
       "      <th>11</th>\n",
       "      <td>Gujarat</td>\n",
       "      <td>3.841160</td>\n",
       "      <td>-0.185257</td>\n",
       "    </tr>\n",
       "    <tr>\n",
       "      <th>20</th>\n",
       "      <td>Maharashtra</td>\n",
       "      <td>4.129525</td>\n",
       "      <td>1.563628</td>\n",
       "    </tr>\n",
       "    <tr>\n",
       "      <th>17</th>\n",
       "      <td>Kerala</td>\n",
       "      <td>4.736336</td>\n",
       "      <td>4.872737</td>\n",
       "    </tr>\n",
       "    <tr>\n",
       "      <th>10</th>\n",
       "      <td>Goa</td>\n",
       "      <td>6.050077</td>\n",
       "      <td>4.026726</td>\n",
       "    </tr>\n",
       "    <tr>\n",
       "      <th>0</th>\n",
       "      <td>Andaman &amp; Nicobar</td>\n",
       "      <td>NaN</td>\n",
       "      <td>NaN</td>\n",
       "    </tr>\n",
       "  </tbody>\n",
       "</table>\n",
       "</div>"
      ],
      "text/plain": [
       "fiscal_year                     state     22_23     23_24\n",
       "1            Andaman & Nicobar Island -0.075346  0.152351\n",
       "29                             Sikkim  0.000000  0.000000\n",
       "3                   Arunachal Pradesh  0.008430  0.102713\n",
       "24                           Nagaland  0.013245  0.032002\n",
       "22                          Meghalaya  0.109519  0.235567\n",
       "18                             Ladakh  0.158677  0.396030\n",
       "21                            Manipur  0.227029  0.387740\n",
       "23                            Mizoram  0.265892  0.736952\n",
       "4                               Assam  0.267722  0.178469\n",
       "31                            Tripura  0.486309  0.093999\n",
       "27                             Punjab  0.518953  0.408681\n",
       "14                  Jammu and Kashmir  0.525136  0.042474\n",
       "5                               Bihar  0.546474  0.243045\n",
       "13                   Himachal Pradesh  0.552673 -0.108407\n",
       "8                          DNH and DD  0.554571  0.370784\n",
       "32                      Uttar Pradesh  0.599889  0.960472\n",
       "34                        West Bengal  0.893335  0.547893\n",
       "12                            Haryana  0.915509 -0.425600\n",
       "15                          Jharkhand  1.068718 -0.146050\n",
       "19                     Madhya Pradesh  1.417077  1.125027\n",
       "30                         Tamil Nadu  1.590575  1.161861\n",
       "26                         Puducherry  1.687899  1.972834\n",
       "33                        Uttarakhand  1.904161 -0.385581\n",
       "2                      Andhra Pradesh  2.359725  0.076538\n",
       "6                          Chandigarh  2.990677  2.269646\n",
       "25                             Odisha  3.035386  1.312160\n",
       "28                          Rajasthan  3.388467 -0.559322\n",
       "9                               Delhi  3.470279  0.117631\n",
       "16                          Karnataka  3.476251  2.422787\n",
       "7                        Chhattisgarh  3.532019  0.979417\n",
       "11                            Gujarat  3.841160 -0.185257\n",
       "20                        Maharashtra  4.129525  1.563628\n",
       "17                             Kerala  4.736336  4.872737\n",
       "10                                Goa  6.050077  4.026726\n",
       "0                   Andaman & Nicobar       NaN       NaN"
      ]
     },
     "execution_count": 46,
     "metadata": {},
     "output_type": "execute_result"
    }
   ],
   "source": [
    "neg_prate=penetration_rate[['state','22_23','23_24']]\n",
    "neg_sort=neg_prate.sort_values(by=(['22_23','23_24']),ascending=True)\n",
    "neg_sort"
   ]
  },
  {
   "cell_type": "code",
   "execution_count": 47,
   "id": "2bbdd15e",
   "metadata": {},
   "outputs": [
    {
     "data": {
      "text/html": [
       "<div>\n",
       "<style scoped>\n",
       "    .dataframe tbody tr th:only-of-type {\n",
       "        vertical-align: middle;\n",
       "    }\n",
       "\n",
       "    .dataframe tbody tr th {\n",
       "        vertical-align: top;\n",
       "    }\n",
       "\n",
       "    .dataframe thead th {\n",
       "        text-align: right;\n",
       "    }\n",
       "</style>\n",
       "<table border=\"1\" class=\"dataframe\">\n",
       "  <thead>\n",
       "    <tr style=\"text-align: right;\">\n",
       "      <th></th>\n",
       "      <th>state</th>\n",
       "      <th>Fiscal_year</th>\n",
       "      <th>Penetration Rate</th>\n",
       "    </tr>\n",
       "  </thead>\n",
       "  <tbody>\n",
       "    <tr>\n",
       "      <th>0</th>\n",
       "      <td>Andaman &amp; Nicobar</td>\n",
       "      <td>22_23</td>\n",
       "      <td>NaN</td>\n",
       "    </tr>\n",
       "    <tr>\n",
       "      <th>1</th>\n",
       "      <td>Andaman &amp; Nicobar Island</td>\n",
       "      <td>22_23</td>\n",
       "      <td>-0.075346</td>\n",
       "    </tr>\n",
       "    <tr>\n",
       "      <th>2</th>\n",
       "      <td>Andhra Pradesh</td>\n",
       "      <td>22_23</td>\n",
       "      <td>2.359725</td>\n",
       "    </tr>\n",
       "    <tr>\n",
       "      <th>3</th>\n",
       "      <td>Arunachal Pradesh</td>\n",
       "      <td>22_23</td>\n",
       "      <td>0.008430</td>\n",
       "    </tr>\n",
       "    <tr>\n",
       "      <th>4</th>\n",
       "      <td>Assam</td>\n",
       "      <td>22_23</td>\n",
       "      <td>0.267722</td>\n",
       "    </tr>\n",
       "    <tr>\n",
       "      <th>...</th>\n",
       "      <td>...</td>\n",
       "      <td>...</td>\n",
       "      <td>...</td>\n",
       "    </tr>\n",
       "    <tr>\n",
       "      <th>65</th>\n",
       "      <td>Tamil Nadu</td>\n",
       "      <td>23_24</td>\n",
       "      <td>1.161861</td>\n",
       "    </tr>\n",
       "    <tr>\n",
       "      <th>66</th>\n",
       "      <td>Tripura</td>\n",
       "      <td>23_24</td>\n",
       "      <td>0.093999</td>\n",
       "    </tr>\n",
       "    <tr>\n",
       "      <th>67</th>\n",
       "      <td>Uttar Pradesh</td>\n",
       "      <td>23_24</td>\n",
       "      <td>0.960472</td>\n",
       "    </tr>\n",
       "    <tr>\n",
       "      <th>68</th>\n",
       "      <td>Uttarakhand</td>\n",
       "      <td>23_24</td>\n",
       "      <td>-0.385581</td>\n",
       "    </tr>\n",
       "    <tr>\n",
       "      <th>69</th>\n",
       "      <td>West Bengal</td>\n",
       "      <td>23_24</td>\n",
       "      <td>0.547893</td>\n",
       "    </tr>\n",
       "  </tbody>\n",
       "</table>\n",
       "<p>70 rows × 3 columns</p>\n",
       "</div>"
      ],
      "text/plain": [
       "                       state Fiscal_year  Penetration Rate\n",
       "0          Andaman & Nicobar       22_23               NaN\n",
       "1   Andaman & Nicobar Island       22_23         -0.075346\n",
       "2             Andhra Pradesh       22_23          2.359725\n",
       "3          Arunachal Pradesh       22_23          0.008430\n",
       "4                      Assam       22_23          0.267722\n",
       "..                       ...         ...               ...\n",
       "65                Tamil Nadu       23_24          1.161861\n",
       "66                   Tripura       23_24          0.093999\n",
       "67             Uttar Pradesh       23_24          0.960472\n",
       "68               Uttarakhand       23_24         -0.385581\n",
       "69               West Bengal       23_24          0.547893\n",
       "\n",
       "[70 rows x 3 columns]"
      ]
     },
     "execution_count": 47,
     "metadata": {},
     "output_type": "execute_result"
    }
   ],
   "source": [
    "import plotly.graph_objects as go \n",
    "neg_melt=neg_prate.melt(id_vars='state',value_vars=['22_23','23_24'],var_name='Fiscal_year',value_name='Penetration Rate')\n",
    "neg_melt\n",
    "\n"
   ]
  },
  {
   "cell_type": "code",
   "execution_count": 187,
   "id": "6f7764d2",
   "metadata": {},
   "outputs": [
    {
     "data": {
      "application/vnd.plotly.v1+json": {
       "config": {
        "plotlyServerURL": "https://plot.ly"
       },
       "data": [
        {
         "alignmentgroup": "True",
         "hovertemplate": "Fiscal_year=22_23<br>state=%{x}<br>Penetration Rate (%)=%{y}<extra></extra>",
         "legendgroup": "22_23",
         "marker": {
          "color": "#636efa",
          "pattern": {
           "shape": ""
          }
         },
         "name": "22_23",
         "offsetgroup": "22_23",
         "orientation": "v",
         "showlegend": true,
         "textposition": "auto",
         "texttemplate": "%{y}",
         "type": "bar",
         "x": [
          "Andaman & Nicobar",
          "Andaman & Nicobar Island",
          "Andhra Pradesh",
          "Arunachal Pradesh",
          "Assam",
          "Bihar",
          "Chandigarh",
          "Chhattisgarh",
          "DNH and DD",
          "Delhi",
          "Goa",
          "Gujarat",
          "Haryana",
          "Himachal Pradesh",
          "Jammu and Kashmir",
          "Jharkhand",
          "Karnataka",
          "Kerala",
          "Ladakh",
          "Madhya Pradesh",
          "Maharashtra",
          "Manipur",
          "Meghalaya",
          "Mizoram",
          "Nagaland",
          "Odisha",
          "Puducherry",
          "Punjab",
          "Rajasthan",
          "Sikkim",
          "Tamil Nadu",
          "Tripura",
          "Uttar Pradesh",
          "Uttarakhand",
          "West Bengal"
         ],
         "xaxis": "x",
         "y": [
          null,
          -0.07534552989098448,
          2.359725150568348,
          0.008429570934839417,
          0.26772191572731907,
          0.5464741414040944,
          2.9906770289889018,
          3.5320188028441084,
          0.5545707283416661,
          3.470279210209192,
          6.050077305811945,
          3.8411601157149025,
          0.9155085296493628,
          0.5526732316731637,
          0.5251362549172902,
          1.0687182848401542,
          3.476250855240446,
          4.736335655201293,
          0.15867712527287225,
          1.417076689930195,
          4.129524887107352,
          0.22702864074562645,
          0.1095191851284822,
          0.26589217049824104,
          0.013245182195857503,
          3.03538634178933,
          1.6878985793350487,
          0.5189532406404047,
          3.388466978215613,
          0,
          1.5905751079598227,
          0.4863091263877657,
          0.5998887437307768,
          1.9041605270860245,
          0.8933353352950271
         ],
         "yaxis": "y"
        },
        {
         "alignmentgroup": "True",
         "hovertemplate": "Fiscal_year=23_24<br>state=%{x}<br>Penetration Rate (%)=%{y}<extra></extra>",
         "legendgroup": "23_24",
         "marker": {
          "color": "#EF553B",
          "pattern": {
           "shape": ""
          }
         },
         "name": "23_24",
         "offsetgroup": "23_24",
         "orientation": "v",
         "showlegend": true,
         "textposition": "auto",
         "texttemplate": "%{y}",
         "type": "bar",
         "x": [
          "Andaman & Nicobar",
          "Andaman & Nicobar Island",
          "Andhra Pradesh",
          "Arunachal Pradesh",
          "Assam",
          "Bihar",
          "Chandigarh",
          "Chhattisgarh",
          "DNH and DD",
          "Delhi",
          "Goa",
          "Gujarat",
          "Haryana",
          "Himachal Pradesh",
          "Jammu and Kashmir",
          "Jharkhand",
          "Karnataka",
          "Kerala",
          "Ladakh",
          "Madhya Pradesh",
          "Maharashtra",
          "Manipur",
          "Meghalaya",
          "Mizoram",
          "Nagaland",
          "Odisha",
          "Puducherry",
          "Punjab",
          "Rajasthan",
          "Sikkim",
          "Tamil Nadu",
          "Tripura",
          "Uttar Pradesh",
          "Uttarakhand",
          "West Bengal"
         ],
         "xaxis": "x",
         "y": [
          null,
          0.1523509026322581,
          0.07653797555096276,
          0.10271340913112932,
          0.1784688725793685,
          0.24304502451731147,
          2.2696458793745995,
          0.9794166538247984,
          0.37078388611642554,
          0.1176305966148421,
          4.026725865851699,
          -0.18525656477628072,
          -0.4256004040898964,
          -0.10840652998759903,
          0.04247405486108091,
          -0.14604951885452366,
          2.422787444301413,
          4.87273723199065,
          0.3960303934575743,
          1.125026933127526,
          1.563628369163812,
          0.3877396935665243,
          0.23556730263098746,
          0.736952260980134,
          0.032002445228642554,
          1.3121595618387651,
          1.9728338440162356,
          0.4086805649994638,
          -0.5593223326740908,
          0,
          1.1618608193771456,
          0.093998644942756,
          0.9604722554217311,
          -0.38558129557876075,
          0.5478929359167239
         ],
         "yaxis": "y"
        }
       ],
       "layout": {
        "barmode": "group",
        "height": 700,
        "legend": {
         "title": {
          "text": "Fiscal_year"
         },
         "tracegroupgap": 0
        },
        "template": {
         "data": {
          "bar": [
           {
            "error_x": {
             "color": "#2a3f5f"
            },
            "error_y": {
             "color": "#2a3f5f"
            },
            "marker": {
             "line": {
              "color": "#E5ECF6",
              "width": 0.5
             },
             "pattern": {
              "fillmode": "overlay",
              "size": 10,
              "solidity": 0.2
             }
            },
            "type": "bar"
           }
          ],
          "barpolar": [
           {
            "marker": {
             "line": {
              "color": "#E5ECF6",
              "width": 0.5
             },
             "pattern": {
              "fillmode": "overlay",
              "size": 10,
              "solidity": 0.2
             }
            },
            "type": "barpolar"
           }
          ],
          "carpet": [
           {
            "aaxis": {
             "endlinecolor": "#2a3f5f",
             "gridcolor": "white",
             "linecolor": "white",
             "minorgridcolor": "white",
             "startlinecolor": "#2a3f5f"
            },
            "baxis": {
             "endlinecolor": "#2a3f5f",
             "gridcolor": "white",
             "linecolor": "white",
             "minorgridcolor": "white",
             "startlinecolor": "#2a3f5f"
            },
            "type": "carpet"
           }
          ],
          "choropleth": [
           {
            "colorbar": {
             "outlinewidth": 0,
             "ticks": ""
            },
            "type": "choropleth"
           }
          ],
          "contour": [
           {
            "colorbar": {
             "outlinewidth": 0,
             "ticks": ""
            },
            "colorscale": [
             [
              0,
              "#0d0887"
             ],
             [
              0.1111111111111111,
              "#46039f"
             ],
             [
              0.2222222222222222,
              "#7201a8"
             ],
             [
              0.3333333333333333,
              "#9c179e"
             ],
             [
              0.4444444444444444,
              "#bd3786"
             ],
             [
              0.5555555555555556,
              "#d8576b"
             ],
             [
              0.6666666666666666,
              "#ed7953"
             ],
             [
              0.7777777777777778,
              "#fb9f3a"
             ],
             [
              0.8888888888888888,
              "#fdca26"
             ],
             [
              1,
              "#f0f921"
             ]
            ],
            "type": "contour"
           }
          ],
          "contourcarpet": [
           {
            "colorbar": {
             "outlinewidth": 0,
             "ticks": ""
            },
            "type": "contourcarpet"
           }
          ],
          "heatmap": [
           {
            "colorbar": {
             "outlinewidth": 0,
             "ticks": ""
            },
            "colorscale": [
             [
              0,
              "#0d0887"
             ],
             [
              0.1111111111111111,
              "#46039f"
             ],
             [
              0.2222222222222222,
              "#7201a8"
             ],
             [
              0.3333333333333333,
              "#9c179e"
             ],
             [
              0.4444444444444444,
              "#bd3786"
             ],
             [
              0.5555555555555556,
              "#d8576b"
             ],
             [
              0.6666666666666666,
              "#ed7953"
             ],
             [
              0.7777777777777778,
              "#fb9f3a"
             ],
             [
              0.8888888888888888,
              "#fdca26"
             ],
             [
              1,
              "#f0f921"
             ]
            ],
            "type": "heatmap"
           }
          ],
          "heatmapgl": [
           {
            "colorbar": {
             "outlinewidth": 0,
             "ticks": ""
            },
            "colorscale": [
             [
              0,
              "#0d0887"
             ],
             [
              0.1111111111111111,
              "#46039f"
             ],
             [
              0.2222222222222222,
              "#7201a8"
             ],
             [
              0.3333333333333333,
              "#9c179e"
             ],
             [
              0.4444444444444444,
              "#bd3786"
             ],
             [
              0.5555555555555556,
              "#d8576b"
             ],
             [
              0.6666666666666666,
              "#ed7953"
             ],
             [
              0.7777777777777778,
              "#fb9f3a"
             ],
             [
              0.8888888888888888,
              "#fdca26"
             ],
             [
              1,
              "#f0f921"
             ]
            ],
            "type": "heatmapgl"
           }
          ],
          "histogram": [
           {
            "marker": {
             "pattern": {
              "fillmode": "overlay",
              "size": 10,
              "solidity": 0.2
             }
            },
            "type": "histogram"
           }
          ],
          "histogram2d": [
           {
            "colorbar": {
             "outlinewidth": 0,
             "ticks": ""
            },
            "colorscale": [
             [
              0,
              "#0d0887"
             ],
             [
              0.1111111111111111,
              "#46039f"
             ],
             [
              0.2222222222222222,
              "#7201a8"
             ],
             [
              0.3333333333333333,
              "#9c179e"
             ],
             [
              0.4444444444444444,
              "#bd3786"
             ],
             [
              0.5555555555555556,
              "#d8576b"
             ],
             [
              0.6666666666666666,
              "#ed7953"
             ],
             [
              0.7777777777777778,
              "#fb9f3a"
             ],
             [
              0.8888888888888888,
              "#fdca26"
             ],
             [
              1,
              "#f0f921"
             ]
            ],
            "type": "histogram2d"
           }
          ],
          "histogram2dcontour": [
           {
            "colorbar": {
             "outlinewidth": 0,
             "ticks": ""
            },
            "colorscale": [
             [
              0,
              "#0d0887"
             ],
             [
              0.1111111111111111,
              "#46039f"
             ],
             [
              0.2222222222222222,
              "#7201a8"
             ],
             [
              0.3333333333333333,
              "#9c179e"
             ],
             [
              0.4444444444444444,
              "#bd3786"
             ],
             [
              0.5555555555555556,
              "#d8576b"
             ],
             [
              0.6666666666666666,
              "#ed7953"
             ],
             [
              0.7777777777777778,
              "#fb9f3a"
             ],
             [
              0.8888888888888888,
              "#fdca26"
             ],
             [
              1,
              "#f0f921"
             ]
            ],
            "type": "histogram2dcontour"
           }
          ],
          "mesh3d": [
           {
            "colorbar": {
             "outlinewidth": 0,
             "ticks": ""
            },
            "type": "mesh3d"
           }
          ],
          "parcoords": [
           {
            "line": {
             "colorbar": {
              "outlinewidth": 0,
              "ticks": ""
             }
            },
            "type": "parcoords"
           }
          ],
          "pie": [
           {
            "automargin": true,
            "type": "pie"
           }
          ],
          "scatter": [
           {
            "fillpattern": {
             "fillmode": "overlay",
             "size": 10,
             "solidity": 0.2
            },
            "type": "scatter"
           }
          ],
          "scatter3d": [
           {
            "line": {
             "colorbar": {
              "outlinewidth": 0,
              "ticks": ""
             }
            },
            "marker": {
             "colorbar": {
              "outlinewidth": 0,
              "ticks": ""
             }
            },
            "type": "scatter3d"
           }
          ],
          "scattercarpet": [
           {
            "marker": {
             "colorbar": {
              "outlinewidth": 0,
              "ticks": ""
             }
            },
            "type": "scattercarpet"
           }
          ],
          "scattergeo": [
           {
            "marker": {
             "colorbar": {
              "outlinewidth": 0,
              "ticks": ""
             }
            },
            "type": "scattergeo"
           }
          ],
          "scattergl": [
           {
            "marker": {
             "colorbar": {
              "outlinewidth": 0,
              "ticks": ""
             }
            },
            "type": "scattergl"
           }
          ],
          "scattermapbox": [
           {
            "marker": {
             "colorbar": {
              "outlinewidth": 0,
              "ticks": ""
             }
            },
            "type": "scattermapbox"
           }
          ],
          "scatterpolar": [
           {
            "marker": {
             "colorbar": {
              "outlinewidth": 0,
              "ticks": ""
             }
            },
            "type": "scatterpolar"
           }
          ],
          "scatterpolargl": [
           {
            "marker": {
             "colorbar": {
              "outlinewidth": 0,
              "ticks": ""
             }
            },
            "type": "scatterpolargl"
           }
          ],
          "scatterternary": [
           {
            "marker": {
             "colorbar": {
              "outlinewidth": 0,
              "ticks": ""
             }
            },
            "type": "scatterternary"
           }
          ],
          "surface": [
           {
            "colorbar": {
             "outlinewidth": 0,
             "ticks": ""
            },
            "colorscale": [
             [
              0,
              "#0d0887"
             ],
             [
              0.1111111111111111,
              "#46039f"
             ],
             [
              0.2222222222222222,
              "#7201a8"
             ],
             [
              0.3333333333333333,
              "#9c179e"
             ],
             [
              0.4444444444444444,
              "#bd3786"
             ],
             [
              0.5555555555555556,
              "#d8576b"
             ],
             [
              0.6666666666666666,
              "#ed7953"
             ],
             [
              0.7777777777777778,
              "#fb9f3a"
             ],
             [
              0.8888888888888888,
              "#fdca26"
             ],
             [
              1,
              "#f0f921"
             ]
            ],
            "type": "surface"
           }
          ],
          "table": [
           {
            "cells": {
             "fill": {
              "color": "#EBF0F8"
             },
             "line": {
              "color": "white"
             }
            },
            "header": {
             "fill": {
              "color": "#C8D4E3"
             },
             "line": {
              "color": "white"
             }
            },
            "type": "table"
           }
          ]
         },
         "layout": {
          "annotationdefaults": {
           "arrowcolor": "#2a3f5f",
           "arrowhead": 0,
           "arrowwidth": 1
          },
          "autotypenumbers": "strict",
          "coloraxis": {
           "colorbar": {
            "outlinewidth": 0,
            "ticks": ""
           }
          },
          "colorscale": {
           "diverging": [
            [
             0,
             "#8e0152"
            ],
            [
             0.1,
             "#c51b7d"
            ],
            [
             0.2,
             "#de77ae"
            ],
            [
             0.3,
             "#f1b6da"
            ],
            [
             0.4,
             "#fde0ef"
            ],
            [
             0.5,
             "#f7f7f7"
            ],
            [
             0.6,
             "#e6f5d0"
            ],
            [
             0.7,
             "#b8e186"
            ],
            [
             0.8,
             "#7fbc41"
            ],
            [
             0.9,
             "#4d9221"
            ],
            [
             1,
             "#276419"
            ]
           ],
           "sequential": [
            [
             0,
             "#0d0887"
            ],
            [
             0.1111111111111111,
             "#46039f"
            ],
            [
             0.2222222222222222,
             "#7201a8"
            ],
            [
             0.3333333333333333,
             "#9c179e"
            ],
            [
             0.4444444444444444,
             "#bd3786"
            ],
            [
             0.5555555555555556,
             "#d8576b"
            ],
            [
             0.6666666666666666,
             "#ed7953"
            ],
            [
             0.7777777777777778,
             "#fb9f3a"
            ],
            [
             0.8888888888888888,
             "#fdca26"
            ],
            [
             1,
             "#f0f921"
            ]
           ],
           "sequentialminus": [
            [
             0,
             "#0d0887"
            ],
            [
             0.1111111111111111,
             "#46039f"
            ],
            [
             0.2222222222222222,
             "#7201a8"
            ],
            [
             0.3333333333333333,
             "#9c179e"
            ],
            [
             0.4444444444444444,
             "#bd3786"
            ],
            [
             0.5555555555555556,
             "#d8576b"
            ],
            [
             0.6666666666666666,
             "#ed7953"
            ],
            [
             0.7777777777777778,
             "#fb9f3a"
            ],
            [
             0.8888888888888888,
             "#fdca26"
            ],
            [
             1,
             "#f0f921"
            ]
           ]
          },
          "colorway": [
           "#636efa",
           "#EF553B",
           "#00cc96",
           "#ab63fa",
           "#FFA15A",
           "#19d3f3",
           "#FF6692",
           "#B6E880",
           "#FF97FF",
           "#FECB52"
          ],
          "font": {
           "color": "#2a3f5f"
          },
          "geo": {
           "bgcolor": "white",
           "lakecolor": "white",
           "landcolor": "#E5ECF6",
           "showlakes": true,
           "showland": true,
           "subunitcolor": "white"
          },
          "hoverlabel": {
           "align": "left"
          },
          "hovermode": "closest",
          "mapbox": {
           "style": "light"
          },
          "paper_bgcolor": "white",
          "plot_bgcolor": "#E5ECF6",
          "polar": {
           "angularaxis": {
            "gridcolor": "white",
            "linecolor": "white",
            "ticks": ""
           },
           "bgcolor": "#E5ECF6",
           "radialaxis": {
            "gridcolor": "white",
            "linecolor": "white",
            "ticks": ""
           }
          },
          "scene": {
           "xaxis": {
            "backgroundcolor": "#E5ECF6",
            "gridcolor": "white",
            "gridwidth": 2,
            "linecolor": "white",
            "showbackground": true,
            "ticks": "",
            "zerolinecolor": "white"
           },
           "yaxis": {
            "backgroundcolor": "#E5ECF6",
            "gridcolor": "white",
            "gridwidth": 2,
            "linecolor": "white",
            "showbackground": true,
            "ticks": "",
            "zerolinecolor": "white"
           },
           "zaxis": {
            "backgroundcolor": "#E5ECF6",
            "gridcolor": "white",
            "gridwidth": 2,
            "linecolor": "white",
            "showbackground": true,
            "ticks": "",
            "zerolinecolor": "white"
           }
          },
          "shapedefaults": {
           "line": {
            "color": "#2a3f5f"
           }
          },
          "ternary": {
           "aaxis": {
            "gridcolor": "white",
            "linecolor": "white",
            "ticks": ""
           },
           "baxis": {
            "gridcolor": "white",
            "linecolor": "white",
            "ticks": ""
           },
           "bgcolor": "#E5ECF6",
           "caxis": {
            "gridcolor": "white",
            "linecolor": "white",
            "ticks": ""
           }
          },
          "title": {
           "x": 0.05
          },
          "xaxis": {
           "automargin": true,
           "gridcolor": "white",
           "linecolor": "white",
           "ticks": "",
           "title": {
            "standoff": 15
           },
           "zerolinecolor": "white",
           "zerolinewidth": 2
          },
          "yaxis": {
           "automargin": true,
           "gridcolor": "white",
           "linecolor": "white",
           "ticks": "",
           "title": {
            "standoff": 15
           },
           "zerolinecolor": "white",
           "zerolinewidth": 2
          }
         }
        },
        "title": {
         "text": "Penetration Rate by State for Fiscal Years 2022-23 and 2023-24"
        },
        "width": 1000,
        "xaxis": {
         "anchor": "y",
         "domain": [
          0,
          1
         ],
         "title": {
          "text": "state"
         }
        },
        "yaxis": {
         "anchor": "x",
         "domain": [
          0,
          1
         ],
         "title": {
          "text": "Penetration Rate (%)"
         }
        }
       }
      },
      "text/html": [
       "<div>                            <div id=\"b45681eb-c2da-4bb2-b3cc-bb25f650c7c1\" class=\"plotly-graph-div\" style=\"height:700px; width:1000px;\"></div>            <script type=\"text/javascript\">                require([\"plotly\"], function(Plotly) {                    window.PLOTLYENV=window.PLOTLYENV || {};                                    if (document.getElementById(\"b45681eb-c2da-4bb2-b3cc-bb25f650c7c1\")) {                    Plotly.newPlot(                        \"b45681eb-c2da-4bb2-b3cc-bb25f650c7c1\",                        [{\"alignmentgroup\":\"True\",\"hovertemplate\":\"Fiscal_year=22_23<br>state=%{x}<br>Penetration Rate (%)=%{y}<extra></extra>\",\"legendgroup\":\"22_23\",\"marker\":{\"color\":\"#636efa\",\"pattern\":{\"shape\":\"\"}},\"name\":\"22_23\",\"offsetgroup\":\"22_23\",\"orientation\":\"v\",\"showlegend\":true,\"textposition\":\"auto\",\"texttemplate\":\"%{y}\",\"x\":[\"Andaman & Nicobar\",\"Andaman & Nicobar Island\",\"Andhra Pradesh\",\"Arunachal Pradesh\",\"Assam\",\"Bihar\",\"Chandigarh\",\"Chhattisgarh\",\"DNH and DD\",\"Delhi\",\"Goa\",\"Gujarat\",\"Haryana\",\"Himachal Pradesh\",\"Jammu and Kashmir\",\"Jharkhand\",\"Karnataka\",\"Kerala\",\"Ladakh\",\"Madhya Pradesh\",\"Maharashtra\",\"Manipur\",\"Meghalaya\",\"Mizoram\",\"Nagaland\",\"Odisha\",\"Puducherry\",\"Punjab\",\"Rajasthan\",\"Sikkim\",\"Tamil Nadu\",\"Tripura\",\"Uttar Pradesh\",\"Uttarakhand\",\"West Bengal\"],\"xaxis\":\"x\",\"y\":[null,-0.07534552989098448,2.359725150568348,0.008429570934839417,0.26772191572731907,0.5464741414040944,2.9906770289889018,3.5320188028441084,0.5545707283416661,3.470279210209192,6.050077305811945,3.8411601157149025,0.9155085296493628,0.5526732316731637,0.5251362549172902,1.0687182848401542,3.476250855240446,4.736335655201293,0.15867712527287225,1.417076689930195,4.129524887107352,0.22702864074562645,0.1095191851284822,0.26589217049824104,0.013245182195857503,3.03538634178933,1.6878985793350487,0.5189532406404047,3.388466978215613,0.0,1.5905751079598227,0.4863091263877657,0.5998887437307768,1.9041605270860245,0.8933353352950271],\"yaxis\":\"y\",\"type\":\"bar\"},{\"alignmentgroup\":\"True\",\"hovertemplate\":\"Fiscal_year=23_24<br>state=%{x}<br>Penetration Rate (%)=%{y}<extra></extra>\",\"legendgroup\":\"23_24\",\"marker\":{\"color\":\"#EF553B\",\"pattern\":{\"shape\":\"\"}},\"name\":\"23_24\",\"offsetgroup\":\"23_24\",\"orientation\":\"v\",\"showlegend\":true,\"textposition\":\"auto\",\"texttemplate\":\"%{y}\",\"x\":[\"Andaman & Nicobar\",\"Andaman & Nicobar Island\",\"Andhra Pradesh\",\"Arunachal Pradesh\",\"Assam\",\"Bihar\",\"Chandigarh\",\"Chhattisgarh\",\"DNH and DD\",\"Delhi\",\"Goa\",\"Gujarat\",\"Haryana\",\"Himachal Pradesh\",\"Jammu and Kashmir\",\"Jharkhand\",\"Karnataka\",\"Kerala\",\"Ladakh\",\"Madhya Pradesh\",\"Maharashtra\",\"Manipur\",\"Meghalaya\",\"Mizoram\",\"Nagaland\",\"Odisha\",\"Puducherry\",\"Punjab\",\"Rajasthan\",\"Sikkim\",\"Tamil Nadu\",\"Tripura\",\"Uttar Pradesh\",\"Uttarakhand\",\"West Bengal\"],\"xaxis\":\"x\",\"y\":[null,0.1523509026322581,0.07653797555096276,0.10271340913112932,0.1784688725793685,0.24304502451731147,2.2696458793745995,0.9794166538247984,0.37078388611642554,0.1176305966148421,4.026725865851699,-0.18525656477628072,-0.4256004040898964,-0.10840652998759903,0.04247405486108091,-0.14604951885452366,2.422787444301413,4.87273723199065,0.3960303934575743,1.125026933127526,1.563628369163812,0.3877396935665243,0.23556730263098746,0.736952260980134,0.032002445228642554,1.3121595618387651,1.9728338440162356,0.4086805649994638,-0.5593223326740908,0.0,1.1618608193771456,0.093998644942756,0.9604722554217311,-0.38558129557876075,0.5478929359167239],\"yaxis\":\"y\",\"type\":\"bar\"}],                        {\"template\":{\"data\":{\"histogram2dcontour\":[{\"type\":\"histogram2dcontour\",\"colorbar\":{\"outlinewidth\":0,\"ticks\":\"\"},\"colorscale\":[[0.0,\"#0d0887\"],[0.1111111111111111,\"#46039f\"],[0.2222222222222222,\"#7201a8\"],[0.3333333333333333,\"#9c179e\"],[0.4444444444444444,\"#bd3786\"],[0.5555555555555556,\"#d8576b\"],[0.6666666666666666,\"#ed7953\"],[0.7777777777777778,\"#fb9f3a\"],[0.8888888888888888,\"#fdca26\"],[1.0,\"#f0f921\"]]}],\"choropleth\":[{\"type\":\"choropleth\",\"colorbar\":{\"outlinewidth\":0,\"ticks\":\"\"}}],\"histogram2d\":[{\"type\":\"histogram2d\",\"colorbar\":{\"outlinewidth\":0,\"ticks\":\"\"},\"colorscale\":[[0.0,\"#0d0887\"],[0.1111111111111111,\"#46039f\"],[0.2222222222222222,\"#7201a8\"],[0.3333333333333333,\"#9c179e\"],[0.4444444444444444,\"#bd3786\"],[0.5555555555555556,\"#d8576b\"],[0.6666666666666666,\"#ed7953\"],[0.7777777777777778,\"#fb9f3a\"],[0.8888888888888888,\"#fdca26\"],[1.0,\"#f0f921\"]]}],\"heatmap\":[{\"type\":\"heatmap\",\"colorbar\":{\"outlinewidth\":0,\"ticks\":\"\"},\"colorscale\":[[0.0,\"#0d0887\"],[0.1111111111111111,\"#46039f\"],[0.2222222222222222,\"#7201a8\"],[0.3333333333333333,\"#9c179e\"],[0.4444444444444444,\"#bd3786\"],[0.5555555555555556,\"#d8576b\"],[0.6666666666666666,\"#ed7953\"],[0.7777777777777778,\"#fb9f3a\"],[0.8888888888888888,\"#fdca26\"],[1.0,\"#f0f921\"]]}],\"heatmapgl\":[{\"type\":\"heatmapgl\",\"colorbar\":{\"outlinewidth\":0,\"ticks\":\"\"},\"colorscale\":[[0.0,\"#0d0887\"],[0.1111111111111111,\"#46039f\"],[0.2222222222222222,\"#7201a8\"],[0.3333333333333333,\"#9c179e\"],[0.4444444444444444,\"#bd3786\"],[0.5555555555555556,\"#d8576b\"],[0.6666666666666666,\"#ed7953\"],[0.7777777777777778,\"#fb9f3a\"],[0.8888888888888888,\"#fdca26\"],[1.0,\"#f0f921\"]]}],\"contourcarpet\":[{\"type\":\"contourcarpet\",\"colorbar\":{\"outlinewidth\":0,\"ticks\":\"\"}}],\"contour\":[{\"type\":\"contour\",\"colorbar\":{\"outlinewidth\":0,\"ticks\":\"\"},\"colorscale\":[[0.0,\"#0d0887\"],[0.1111111111111111,\"#46039f\"],[0.2222222222222222,\"#7201a8\"],[0.3333333333333333,\"#9c179e\"],[0.4444444444444444,\"#bd3786\"],[0.5555555555555556,\"#d8576b\"],[0.6666666666666666,\"#ed7953\"],[0.7777777777777778,\"#fb9f3a\"],[0.8888888888888888,\"#fdca26\"],[1.0,\"#f0f921\"]]}],\"surface\":[{\"type\":\"surface\",\"colorbar\":{\"outlinewidth\":0,\"ticks\":\"\"},\"colorscale\":[[0.0,\"#0d0887\"],[0.1111111111111111,\"#46039f\"],[0.2222222222222222,\"#7201a8\"],[0.3333333333333333,\"#9c179e\"],[0.4444444444444444,\"#bd3786\"],[0.5555555555555556,\"#d8576b\"],[0.6666666666666666,\"#ed7953\"],[0.7777777777777778,\"#fb9f3a\"],[0.8888888888888888,\"#fdca26\"],[1.0,\"#f0f921\"]]}],\"mesh3d\":[{\"type\":\"mesh3d\",\"colorbar\":{\"outlinewidth\":0,\"ticks\":\"\"}}],\"scatter\":[{\"fillpattern\":{\"fillmode\":\"overlay\",\"size\":10,\"solidity\":0.2},\"type\":\"scatter\"}],\"parcoords\":[{\"type\":\"parcoords\",\"line\":{\"colorbar\":{\"outlinewidth\":0,\"ticks\":\"\"}}}],\"scatterpolargl\":[{\"type\":\"scatterpolargl\",\"marker\":{\"colorbar\":{\"outlinewidth\":0,\"ticks\":\"\"}}}],\"bar\":[{\"error_x\":{\"color\":\"#2a3f5f\"},\"error_y\":{\"color\":\"#2a3f5f\"},\"marker\":{\"line\":{\"color\":\"#E5ECF6\",\"width\":0.5},\"pattern\":{\"fillmode\":\"overlay\",\"size\":10,\"solidity\":0.2}},\"type\":\"bar\"}],\"scattergeo\":[{\"type\":\"scattergeo\",\"marker\":{\"colorbar\":{\"outlinewidth\":0,\"ticks\":\"\"}}}],\"scatterpolar\":[{\"type\":\"scatterpolar\",\"marker\":{\"colorbar\":{\"outlinewidth\":0,\"ticks\":\"\"}}}],\"histogram\":[{\"marker\":{\"pattern\":{\"fillmode\":\"overlay\",\"size\":10,\"solidity\":0.2}},\"type\":\"histogram\"}],\"scattergl\":[{\"type\":\"scattergl\",\"marker\":{\"colorbar\":{\"outlinewidth\":0,\"ticks\":\"\"}}}],\"scatter3d\":[{\"type\":\"scatter3d\",\"line\":{\"colorbar\":{\"outlinewidth\":0,\"ticks\":\"\"}},\"marker\":{\"colorbar\":{\"outlinewidth\":0,\"ticks\":\"\"}}}],\"scattermapbox\":[{\"type\":\"scattermapbox\",\"marker\":{\"colorbar\":{\"outlinewidth\":0,\"ticks\":\"\"}}}],\"scatterternary\":[{\"type\":\"scatterternary\",\"marker\":{\"colorbar\":{\"outlinewidth\":0,\"ticks\":\"\"}}}],\"scattercarpet\":[{\"type\":\"scattercarpet\",\"marker\":{\"colorbar\":{\"outlinewidth\":0,\"ticks\":\"\"}}}],\"carpet\":[{\"aaxis\":{\"endlinecolor\":\"#2a3f5f\",\"gridcolor\":\"white\",\"linecolor\":\"white\",\"minorgridcolor\":\"white\",\"startlinecolor\":\"#2a3f5f\"},\"baxis\":{\"endlinecolor\":\"#2a3f5f\",\"gridcolor\":\"white\",\"linecolor\":\"white\",\"minorgridcolor\":\"white\",\"startlinecolor\":\"#2a3f5f\"},\"type\":\"carpet\"}],\"table\":[{\"cells\":{\"fill\":{\"color\":\"#EBF0F8\"},\"line\":{\"color\":\"white\"}},\"header\":{\"fill\":{\"color\":\"#C8D4E3\"},\"line\":{\"color\":\"white\"}},\"type\":\"table\"}],\"barpolar\":[{\"marker\":{\"line\":{\"color\":\"#E5ECF6\",\"width\":0.5},\"pattern\":{\"fillmode\":\"overlay\",\"size\":10,\"solidity\":0.2}},\"type\":\"barpolar\"}],\"pie\":[{\"automargin\":true,\"type\":\"pie\"}]},\"layout\":{\"autotypenumbers\":\"strict\",\"colorway\":[\"#636efa\",\"#EF553B\",\"#00cc96\",\"#ab63fa\",\"#FFA15A\",\"#19d3f3\",\"#FF6692\",\"#B6E880\",\"#FF97FF\",\"#FECB52\"],\"font\":{\"color\":\"#2a3f5f\"},\"hovermode\":\"closest\",\"hoverlabel\":{\"align\":\"left\"},\"paper_bgcolor\":\"white\",\"plot_bgcolor\":\"#E5ECF6\",\"polar\":{\"bgcolor\":\"#E5ECF6\",\"angularaxis\":{\"gridcolor\":\"white\",\"linecolor\":\"white\",\"ticks\":\"\"},\"radialaxis\":{\"gridcolor\":\"white\",\"linecolor\":\"white\",\"ticks\":\"\"}},\"ternary\":{\"bgcolor\":\"#E5ECF6\",\"aaxis\":{\"gridcolor\":\"white\",\"linecolor\":\"white\",\"ticks\":\"\"},\"baxis\":{\"gridcolor\":\"white\",\"linecolor\":\"white\",\"ticks\":\"\"},\"caxis\":{\"gridcolor\":\"white\",\"linecolor\":\"white\",\"ticks\":\"\"}},\"coloraxis\":{\"colorbar\":{\"outlinewidth\":0,\"ticks\":\"\"}},\"colorscale\":{\"sequential\":[[0.0,\"#0d0887\"],[0.1111111111111111,\"#46039f\"],[0.2222222222222222,\"#7201a8\"],[0.3333333333333333,\"#9c179e\"],[0.4444444444444444,\"#bd3786\"],[0.5555555555555556,\"#d8576b\"],[0.6666666666666666,\"#ed7953\"],[0.7777777777777778,\"#fb9f3a\"],[0.8888888888888888,\"#fdca26\"],[1.0,\"#f0f921\"]],\"sequentialminus\":[[0.0,\"#0d0887\"],[0.1111111111111111,\"#46039f\"],[0.2222222222222222,\"#7201a8\"],[0.3333333333333333,\"#9c179e\"],[0.4444444444444444,\"#bd3786\"],[0.5555555555555556,\"#d8576b\"],[0.6666666666666666,\"#ed7953\"],[0.7777777777777778,\"#fb9f3a\"],[0.8888888888888888,\"#fdca26\"],[1.0,\"#f0f921\"]],\"diverging\":[[0,\"#8e0152\"],[0.1,\"#c51b7d\"],[0.2,\"#de77ae\"],[0.3,\"#f1b6da\"],[0.4,\"#fde0ef\"],[0.5,\"#f7f7f7\"],[0.6,\"#e6f5d0\"],[0.7,\"#b8e186\"],[0.8,\"#7fbc41\"],[0.9,\"#4d9221\"],[1,\"#276419\"]]},\"xaxis\":{\"gridcolor\":\"white\",\"linecolor\":\"white\",\"ticks\":\"\",\"title\":{\"standoff\":15},\"zerolinecolor\":\"white\",\"automargin\":true,\"zerolinewidth\":2},\"yaxis\":{\"gridcolor\":\"white\",\"linecolor\":\"white\",\"ticks\":\"\",\"title\":{\"standoff\":15},\"zerolinecolor\":\"white\",\"automargin\":true,\"zerolinewidth\":2},\"scene\":{\"xaxis\":{\"backgroundcolor\":\"#E5ECF6\",\"gridcolor\":\"white\",\"linecolor\":\"white\",\"showbackground\":true,\"ticks\":\"\",\"zerolinecolor\":\"white\",\"gridwidth\":2},\"yaxis\":{\"backgroundcolor\":\"#E5ECF6\",\"gridcolor\":\"white\",\"linecolor\":\"white\",\"showbackground\":true,\"ticks\":\"\",\"zerolinecolor\":\"white\",\"gridwidth\":2},\"zaxis\":{\"backgroundcolor\":\"#E5ECF6\",\"gridcolor\":\"white\",\"linecolor\":\"white\",\"showbackground\":true,\"ticks\":\"\",\"zerolinecolor\":\"white\",\"gridwidth\":2}},\"shapedefaults\":{\"line\":{\"color\":\"#2a3f5f\"}},\"annotationdefaults\":{\"arrowcolor\":\"#2a3f5f\",\"arrowhead\":0,\"arrowwidth\":1},\"geo\":{\"bgcolor\":\"white\",\"landcolor\":\"#E5ECF6\",\"subunitcolor\":\"white\",\"showland\":true,\"showlakes\":true,\"lakecolor\":\"white\"},\"title\":{\"x\":0.05},\"mapbox\":{\"style\":\"light\"}}},\"xaxis\":{\"anchor\":\"y\",\"domain\":[0.0,1.0],\"title\":{\"text\":\"state\"}},\"yaxis\":{\"anchor\":\"x\",\"domain\":[0.0,1.0],\"title\":{\"text\":\"Penetration Rate (%)\"}},\"legend\":{\"title\":{\"text\":\"Fiscal_year\"},\"tracegroupgap\":0},\"title\":{\"text\":\"Penetration Rate by State for Fiscal Years 2022-23 and 2023-24\"},\"barmode\":\"group\",\"height\":700,\"width\":1000},                        {\"responsive\": true}                    ).then(function(){\n",
       "                            \n",
       "var gd = document.getElementById('b45681eb-c2da-4bb2-b3cc-bb25f650c7c1');\n",
       "var x = new MutationObserver(function (mutations, observer) {{\n",
       "        var display = window.getComputedStyle(gd).display;\n",
       "        if (!display || display === 'none') {{\n",
       "            console.log([gd, 'removed!']);\n",
       "            Plotly.purge(gd);\n",
       "            observer.disconnect();\n",
       "        }}\n",
       "}});\n",
       "\n",
       "// Listen for the removal of the full notebook cells\n",
       "var notebookContainer = gd.closest('#notebook-container');\n",
       "if (notebookContainer) {{\n",
       "    x.observe(notebookContainer, {childList: true});\n",
       "}}\n",
       "\n",
       "// Listen for the clearing of the current output cell\n",
       "var outputEl = gd.closest('.output');\n",
       "if (outputEl) {{\n",
       "    x.observe(outputEl, {childList: true});\n",
       "}}\n",
       "\n",
       "                        })                };                });            </script>        </div>"
      ]
     },
     "metadata": {},
     "output_type": "display_data"
    }
   ],
   "source": [
    "fig = px.bar(neg_melt,x='state',y='Penetration Rate',color='Fiscal_year',barmode='group',labels={'Penetration Rate': 'Penetration Rate (%)'},\n",
    "             height=700,width=1000,\n",
    "             text_auto=True,title=\"Penetration Rate by State for Fiscal Years 2022-23 and 2023-24\")\n",
    "\n",
    "fig.show()\n"
   ]
  },
  {
   "cell_type": "raw",
   "id": "9f1829d4",
   "metadata": {},
   "source": [
    "Observed\n",
    "Negative Penetrarion rate for the year 23 to 24 Gujarat,Haryana,Himachal pradesh,Jharkhand,Rajasthan,Uttarakhand.\n",
    "Negative Penetrarion rate for the year 22 to 23 Andaman & Nicobar Island"
   ]
  },
  {
   "cell_type": "raw",
   "id": "9e0f8ec8",
   "metadata": {},
   "source": [
    "What are the quarterly trends based on sales volume for the top 5 EV makers (4-wheelers) from 2022 to 2024?"
   ]
  },
  {
   "cell_type": "code",
   "execution_count": 49,
   "id": "449ba289",
   "metadata": {},
   "outputs": [
    {
     "data": {
      "text/html": [
       "<div>\n",
       "<style scoped>\n",
       "    .dataframe tbody tr th:only-of-type {\n",
       "        vertical-align: middle;\n",
       "    }\n",
       "\n",
       "    .dataframe tbody tr th {\n",
       "        vertical-align: top;\n",
       "    }\n",
       "\n",
       "    .dataframe thead th {\n",
       "        text-align: right;\n",
       "    }\n",
       "</style>\n",
       "<table border=\"1\" class=\"dataframe\">\n",
       "  <thead>\n",
       "    <tr style=\"text-align: right;\">\n",
       "      <th></th>\n",
       "      <th>date</th>\n",
       "      <th>fiscal_year</th>\n",
       "      <th>quarter</th>\n",
       "      <th>vehicle_category</th>\n",
       "      <th>maker</th>\n",
       "      <th>electric_vehicles_sold</th>\n",
       "    </tr>\n",
       "  </thead>\n",
       "  <tbody>\n",
       "    <tr>\n",
       "      <th>1</th>\n",
       "      <td>2021-04-01</td>\n",
       "      <td>2022</td>\n",
       "      <td>Q1</td>\n",
       "      <td>4-Wheelers</td>\n",
       "      <td>BYD India</td>\n",
       "      <td>0</td>\n",
       "    </tr>\n",
       "    <tr>\n",
       "      <th>2</th>\n",
       "      <td>2021-04-01</td>\n",
       "      <td>2022</td>\n",
       "      <td>Q1</td>\n",
       "      <td>4-Wheelers</td>\n",
       "      <td>PCA Automobiles</td>\n",
       "      <td>0</td>\n",
       "    </tr>\n",
       "    <tr>\n",
       "      <th>3</th>\n",
       "      <td>2021-04-01</td>\n",
       "      <td>2022</td>\n",
       "      <td>Q1</td>\n",
       "      <td>4-Wheelers</td>\n",
       "      <td>BMW India</td>\n",
       "      <td>0</td>\n",
       "    </tr>\n",
       "    <tr>\n",
       "      <th>4</th>\n",
       "      <td>2021-04-01</td>\n",
       "      <td>2022</td>\n",
       "      <td>Q1</td>\n",
       "      <td>4-Wheelers</td>\n",
       "      <td>Volvo Auto India</td>\n",
       "      <td>0</td>\n",
       "    </tr>\n",
       "    <tr>\n",
       "      <th>5</th>\n",
       "      <td>2021-04-01</td>\n",
       "      <td>2022</td>\n",
       "      <td>Q1</td>\n",
       "      <td>4-Wheelers</td>\n",
       "      <td>KIA Motors</td>\n",
       "      <td>0</td>\n",
       "    </tr>\n",
       "    <tr>\n",
       "      <th>6</th>\n",
       "      <td>2021-04-01</td>\n",
       "      <td>2022</td>\n",
       "      <td>Q1</td>\n",
       "      <td>4-Wheelers</td>\n",
       "      <td>Tata Motors</td>\n",
       "      <td>322</td>\n",
       "    </tr>\n",
       "    <tr>\n",
       "      <th>7</th>\n",
       "      <td>2021-04-01</td>\n",
       "      <td>2022</td>\n",
       "      <td>Q1</td>\n",
       "      <td>4-Wheelers</td>\n",
       "      <td>MG Motor</td>\n",
       "      <td>118</td>\n",
       "    </tr>\n",
       "    <tr>\n",
       "      <th>8</th>\n",
       "      <td>2021-04-01</td>\n",
       "      <td>2022</td>\n",
       "      <td>Q1</td>\n",
       "      <td>4-Wheelers</td>\n",
       "      <td>Mahindra &amp; Mahindra</td>\n",
       "      <td>171</td>\n",
       "    </tr>\n",
       "    <tr>\n",
       "      <th>9</th>\n",
       "      <td>2021-04-01</td>\n",
       "      <td>2022</td>\n",
       "      <td>Q1</td>\n",
       "      <td>4-Wheelers</td>\n",
       "      <td>Hyundai Motor</td>\n",
       "      <td>12</td>\n",
       "    </tr>\n",
       "    <tr>\n",
       "      <th>10</th>\n",
       "      <td>2021-04-01</td>\n",
       "      <td>2022</td>\n",
       "      <td>Q1</td>\n",
       "      <td>4-Wheelers</td>\n",
       "      <td>Mercedes -Benz AG</td>\n",
       "      <td>3</td>\n",
       "    </tr>\n",
       "  </tbody>\n",
       "</table>\n",
       "</div>"
      ],
      "text/plain": [
       "         date  fiscal_year quarter vehicle_category                maker  \\\n",
       "1  2021-04-01         2022      Q1       4-Wheelers            BYD India   \n",
       "2  2021-04-01         2022      Q1       4-Wheelers      PCA Automobiles   \n",
       "3  2021-04-01         2022      Q1       4-Wheelers            BMW India   \n",
       "4  2021-04-01         2022      Q1       4-Wheelers     Volvo Auto India   \n",
       "5  2021-04-01         2022      Q1       4-Wheelers           KIA Motors   \n",
       "6  2021-04-01         2022      Q1       4-Wheelers          Tata Motors   \n",
       "7  2021-04-01         2022      Q1       4-Wheelers             MG Motor   \n",
       "8  2021-04-01         2022      Q1       4-Wheelers  Mahindra & Mahindra   \n",
       "9  2021-04-01         2022      Q1       4-Wheelers        Hyundai Motor   \n",
       "10 2021-04-01         2022      Q1       4-Wheelers    Mercedes -Benz AG   \n",
       "\n",
       "    electric_vehicles_sold  \n",
       "1                        0  \n",
       "2                        0  \n",
       "3                        0  \n",
       "4                        0  \n",
       "5                        0  \n",
       "6                      322  \n",
       "7                      118  \n",
       "8                      171  \n",
       "9                       12  \n",
       "10                       3  "
      ]
     },
     "execution_count": 49,
     "metadata": {},
     "output_type": "execute_result"
    }
   ],
   "source": [
    "maker_4=new_m[(new_m['vehicle_category']=='4-Wheelers')]\n",
    "maker_4.head(10)"
   ]
  },
  {
   "cell_type": "code",
   "execution_count": 50,
   "id": "00cbe503",
   "metadata": {},
   "outputs": [
    {
     "data": {
      "text/html": [
       "<div>\n",
       "<style scoped>\n",
       "    .dataframe tbody tr th:only-of-type {\n",
       "        vertical-align: middle;\n",
       "    }\n",
       "\n",
       "    .dataframe tbody tr th {\n",
       "        vertical-align: top;\n",
       "    }\n",
       "\n",
       "    .dataframe thead th {\n",
       "        text-align: right;\n",
       "    }\n",
       "</style>\n",
       "<table border=\"1\" class=\"dataframe\">\n",
       "  <thead>\n",
       "    <tr style=\"text-align: right;\">\n",
       "      <th></th>\n",
       "      <th>maker</th>\n",
       "      <th>fiscal_year</th>\n",
       "      <th>quarter</th>\n",
       "      <th>electric_vehicles_sold</th>\n",
       "    </tr>\n",
       "  </thead>\n",
       "  <tbody>\n",
       "    <tr>\n",
       "      <th>0</th>\n",
       "      <td>BMW India</td>\n",
       "      <td>2022</td>\n",
       "      <td>Q1</td>\n",
       "      <td>0</td>\n",
       "    </tr>\n",
       "    <tr>\n",
       "      <th>1</th>\n",
       "      <td>BMW India</td>\n",
       "      <td>2022</td>\n",
       "      <td>Q2</td>\n",
       "      <td>0</td>\n",
       "    </tr>\n",
       "    <tr>\n",
       "      <th>2</th>\n",
       "      <td>BMW India</td>\n",
       "      <td>2022</td>\n",
       "      <td>Q3</td>\n",
       "      <td>0</td>\n",
       "    </tr>\n",
       "    <tr>\n",
       "      <th>3</th>\n",
       "      <td>BMW India</td>\n",
       "      <td>2022</td>\n",
       "      <td>Q4</td>\n",
       "      <td>7</td>\n",
       "    </tr>\n",
       "    <tr>\n",
       "      <th>4</th>\n",
       "      <td>BMW India</td>\n",
       "      <td>2023</td>\n",
       "      <td>Q1</td>\n",
       "      <td>22</td>\n",
       "    </tr>\n",
       "    <tr>\n",
       "      <th>...</th>\n",
       "      <td>...</td>\n",
       "      <td>...</td>\n",
       "      <td>...</td>\n",
       "      <td>...</td>\n",
       "    </tr>\n",
       "    <tr>\n",
       "      <th>115</th>\n",
       "      <td>Volvo Auto India</td>\n",
       "      <td>2023</td>\n",
       "      <td>Q4</td>\n",
       "      <td>84</td>\n",
       "    </tr>\n",
       "    <tr>\n",
       "      <th>116</th>\n",
       "      <td>Volvo Auto India</td>\n",
       "      <td>2024</td>\n",
       "      <td>Q1</td>\n",
       "      <td>94</td>\n",
       "    </tr>\n",
       "    <tr>\n",
       "      <th>117</th>\n",
       "      <td>Volvo Auto India</td>\n",
       "      <td>2024</td>\n",
       "      <td>Q2</td>\n",
       "      <td>104</td>\n",
       "    </tr>\n",
       "    <tr>\n",
       "      <th>118</th>\n",
       "      <td>Volvo Auto India</td>\n",
       "      <td>2024</td>\n",
       "      <td>Q3</td>\n",
       "      <td>145</td>\n",
       "    </tr>\n",
       "    <tr>\n",
       "      <th>119</th>\n",
       "      <td>Volvo Auto India</td>\n",
       "      <td>2024</td>\n",
       "      <td>Q4</td>\n",
       "      <td>116</td>\n",
       "    </tr>\n",
       "  </tbody>\n",
       "</table>\n",
       "<p>120 rows × 4 columns</p>\n",
       "</div>"
      ],
      "text/plain": [
       "                maker  fiscal_year quarter  electric_vehicles_sold\n",
       "0           BMW India         2022      Q1                       0\n",
       "1           BMW India         2022      Q2                       0\n",
       "2           BMW India         2022      Q3                       0\n",
       "3           BMW India         2022      Q4                       7\n",
       "4           BMW India         2023      Q1                      22\n",
       "..                ...          ...     ...                     ...\n",
       "115  Volvo Auto India         2023      Q4                      84\n",
       "116  Volvo Auto India         2024      Q1                      94\n",
       "117  Volvo Auto India         2024      Q2                     104\n",
       "118  Volvo Auto India         2024      Q3                     145\n",
       "119  Volvo Auto India         2024      Q4                     116\n",
       "\n",
       "[120 rows x 4 columns]"
      ]
     },
     "execution_count": 50,
     "metadata": {},
     "output_type": "execute_result"
    }
   ],
   "source": [
    "maker_q=maker_4.groupby(['maker','fiscal_year','quarter']).sum('electric_vehicles_sold').reset_index()\n",
    "maker_q"
   ]
  },
  {
   "cell_type": "code",
   "execution_count": 51,
   "id": "492a8716",
   "metadata": {},
   "outputs": [
    {
     "data": {
      "text/html": [
       "<div>\n",
       "<style scoped>\n",
       "    .dataframe tbody tr th:only-of-type {\n",
       "        vertical-align: middle;\n",
       "    }\n",
       "\n",
       "    .dataframe tbody tr th {\n",
       "        vertical-align: top;\n",
       "    }\n",
       "\n",
       "    .dataframe thead th {\n",
       "        text-align: right;\n",
       "    }\n",
       "</style>\n",
       "<table border=\"1\" class=\"dataframe\">\n",
       "  <thead>\n",
       "    <tr style=\"text-align: right;\">\n",
       "      <th></th>\n",
       "      <th>maker</th>\n",
       "      <th>fiscal_year</th>\n",
       "      <th>electric_vehicles_sold</th>\n",
       "    </tr>\n",
       "  </thead>\n",
       "  <tbody>\n",
       "    <tr>\n",
       "      <th>0</th>\n",
       "      <td>BMW India</td>\n",
       "      <td>72828</td>\n",
       "      <td>1370</td>\n",
       "    </tr>\n",
       "    <tr>\n",
       "      <th>1</th>\n",
       "      <td>BYD India</td>\n",
       "      <td>72828</td>\n",
       "      <td>2419</td>\n",
       "    </tr>\n",
       "    <tr>\n",
       "      <th>2</th>\n",
       "      <td>Hyundai Motor</td>\n",
       "      <td>72828</td>\n",
       "      <td>2076</td>\n",
       "    </tr>\n",
       "    <tr>\n",
       "      <th>3</th>\n",
       "      <td>KIA Motors</td>\n",
       "      <td>72828</td>\n",
       "      <td>557</td>\n",
       "    </tr>\n",
       "    <tr>\n",
       "      <th>4</th>\n",
       "      <td>MG Motor</td>\n",
       "      <td>72828</td>\n",
       "      <td>13753</td>\n",
       "    </tr>\n",
       "    <tr>\n",
       "      <th>5</th>\n",
       "      <td>Mahindra &amp; Mahindra</td>\n",
       "      <td>72828</td>\n",
       "      <td>41193</td>\n",
       "    </tr>\n",
       "    <tr>\n",
       "      <th>6</th>\n",
       "      <td>Mercedes -Benz AG</td>\n",
       "      <td>72828</td>\n",
       "      <td>388</td>\n",
       "    </tr>\n",
       "    <tr>\n",
       "      <th>7</th>\n",
       "      <td>PCA Automobiles</td>\n",
       "      <td>72828</td>\n",
       "      <td>1684</td>\n",
       "    </tr>\n",
       "    <tr>\n",
       "      <th>8</th>\n",
       "      <td>Tata Motors</td>\n",
       "      <td>72828</td>\n",
       "      <td>88935</td>\n",
       "    </tr>\n",
       "    <tr>\n",
       "      <th>9</th>\n",
       "      <td>Volvo Auto India</td>\n",
       "      <td>72828</td>\n",
       "      <td>568</td>\n",
       "    </tr>\n",
       "  </tbody>\n",
       "</table>\n",
       "</div>"
      ],
      "text/plain": [
       "                 maker  fiscal_year  electric_vehicles_sold\n",
       "0            BMW India        72828                    1370\n",
       "1            BYD India        72828                    2419\n",
       "2        Hyundai Motor        72828                    2076\n",
       "3           KIA Motors        72828                     557\n",
       "4             MG Motor        72828                   13753\n",
       "5  Mahindra & Mahindra        72828                   41193\n",
       "6    Mercedes -Benz AG        72828                     388\n",
       "7      PCA Automobiles        72828                    1684\n",
       "8          Tata Motors        72828                   88935\n",
       "9     Volvo Auto India        72828                     568"
      ]
     },
     "execution_count": 51,
     "metadata": {},
     "output_type": "execute_result"
    }
   ],
   "source": [
    "top_m=maker_4.groupby('maker').sum('electric_vehicles_sold').reset_index()\n",
    "top_m"
   ]
  },
  {
   "cell_type": "code",
   "execution_count": 52,
   "id": "374350c3",
   "metadata": {},
   "outputs": [
    {
     "data": {
      "text/html": [
       "<div>\n",
       "<style scoped>\n",
       "    .dataframe tbody tr th:only-of-type {\n",
       "        vertical-align: middle;\n",
       "    }\n",
       "\n",
       "    .dataframe tbody tr th {\n",
       "        vertical-align: top;\n",
       "    }\n",
       "\n",
       "    .dataframe thead th {\n",
       "        text-align: right;\n",
       "    }\n",
       "</style>\n",
       "<table border=\"1\" class=\"dataframe\">\n",
       "  <thead>\n",
       "    <tr style=\"text-align: right;\">\n",
       "      <th></th>\n",
       "      <th>maker</th>\n",
       "      <th>fiscal_year</th>\n",
       "      <th>electric_vehicles_sold</th>\n",
       "    </tr>\n",
       "  </thead>\n",
       "  <tbody>\n",
       "    <tr>\n",
       "      <th>8</th>\n",
       "      <td>Tata Motors</td>\n",
       "      <td>72828</td>\n",
       "      <td>88935</td>\n",
       "    </tr>\n",
       "    <tr>\n",
       "      <th>5</th>\n",
       "      <td>Mahindra &amp; Mahindra</td>\n",
       "      <td>72828</td>\n",
       "      <td>41193</td>\n",
       "    </tr>\n",
       "    <tr>\n",
       "      <th>4</th>\n",
       "      <td>MG Motor</td>\n",
       "      <td>72828</td>\n",
       "      <td>13753</td>\n",
       "    </tr>\n",
       "    <tr>\n",
       "      <th>1</th>\n",
       "      <td>BYD India</td>\n",
       "      <td>72828</td>\n",
       "      <td>2419</td>\n",
       "    </tr>\n",
       "    <tr>\n",
       "      <th>2</th>\n",
       "      <td>Hyundai Motor</td>\n",
       "      <td>72828</td>\n",
       "      <td>2076</td>\n",
       "    </tr>\n",
       "  </tbody>\n",
       "</table>\n",
       "</div>"
      ],
      "text/plain": [
       "                 maker  fiscal_year  electric_vehicles_sold\n",
       "8          Tata Motors        72828                   88935\n",
       "5  Mahindra & Mahindra        72828                   41193\n",
       "4             MG Motor        72828                   13753\n",
       "1            BYD India        72828                    2419\n",
       "2        Hyundai Motor        72828                    2076"
      ]
     },
     "execution_count": 52,
     "metadata": {},
     "output_type": "execute_result"
    }
   ],
   "source": [
    "top_sort=top_m.sort_values(by='electric_vehicles_sold',ascending=False)\n",
    "top_s=top_sort.head()\n",
    "top_s"
   ]
  },
  {
   "cell_type": "code",
   "execution_count": 53,
   "id": "183afd4a",
   "metadata": {},
   "outputs": [
    {
     "data": {
      "text/html": [
       "<div>\n",
       "<style scoped>\n",
       "    .dataframe tbody tr th:only-of-type {\n",
       "        vertical-align: middle;\n",
       "    }\n",
       "\n",
       "    .dataframe tbody tr th {\n",
       "        vertical-align: top;\n",
       "    }\n",
       "\n",
       "    .dataframe thead th {\n",
       "        text-align: right;\n",
       "    }\n",
       "</style>\n",
       "<table border=\"1\" class=\"dataframe\">\n",
       "  <thead>\n",
       "    <tr style=\"text-align: right;\">\n",
       "      <th></th>\n",
       "      <th>maker</th>\n",
       "      <th>fiscal_year</th>\n",
       "      <th>quarter</th>\n",
       "      <th>electric_vehicles_sold</th>\n",
       "    </tr>\n",
       "  </thead>\n",
       "  <tbody>\n",
       "    <tr>\n",
       "      <th>12</th>\n",
       "      <td>BYD India</td>\n",
       "      <td>2022</td>\n",
       "      <td>Q1</td>\n",
       "      <td>0</td>\n",
       "    </tr>\n",
       "    <tr>\n",
       "      <th>13</th>\n",
       "      <td>BYD India</td>\n",
       "      <td>2022</td>\n",
       "      <td>Q2</td>\n",
       "      <td>0</td>\n",
       "    </tr>\n",
       "    <tr>\n",
       "      <th>14</th>\n",
       "      <td>BYD India</td>\n",
       "      <td>2022</td>\n",
       "      <td>Q3</td>\n",
       "      <td>1</td>\n",
       "    </tr>\n",
       "    <tr>\n",
       "      <th>15</th>\n",
       "      <td>BYD India</td>\n",
       "      <td>2022</td>\n",
       "      <td>Q4</td>\n",
       "      <td>32</td>\n",
       "    </tr>\n",
       "    <tr>\n",
       "      <th>16</th>\n",
       "      <td>BYD India</td>\n",
       "      <td>2023</td>\n",
       "      <td>Q1</td>\n",
       "      <td>81</td>\n",
       "    </tr>\n",
       "    <tr>\n",
       "      <th>17</th>\n",
       "      <td>BYD India</td>\n",
       "      <td>2023</td>\n",
       "      <td>Q2</td>\n",
       "      <td>113</td>\n",
       "    </tr>\n",
       "    <tr>\n",
       "      <th>18</th>\n",
       "      <td>BYD India</td>\n",
       "      <td>2023</td>\n",
       "      <td>Q3</td>\n",
       "      <td>103</td>\n",
       "    </tr>\n",
       "    <tr>\n",
       "      <th>19</th>\n",
       "      <td>BYD India</td>\n",
       "      <td>2023</td>\n",
       "      <td>Q4</td>\n",
       "      <td>623</td>\n",
       "    </tr>\n",
       "    <tr>\n",
       "      <th>20</th>\n",
       "      <td>BYD India</td>\n",
       "      <td>2024</td>\n",
       "      <td>Q1</td>\n",
       "      <td>406</td>\n",
       "    </tr>\n",
       "    <tr>\n",
       "      <th>21</th>\n",
       "      <td>BYD India</td>\n",
       "      <td>2024</td>\n",
       "      <td>Q2</td>\n",
       "      <td>310</td>\n",
       "    </tr>\n",
       "    <tr>\n",
       "      <th>22</th>\n",
       "      <td>BYD India</td>\n",
       "      <td>2024</td>\n",
       "      <td>Q3</td>\n",
       "      <td>350</td>\n",
       "    </tr>\n",
       "    <tr>\n",
       "      <th>23</th>\n",
       "      <td>BYD India</td>\n",
       "      <td>2024</td>\n",
       "      <td>Q4</td>\n",
       "      <td>400</td>\n",
       "    </tr>\n",
       "    <tr>\n",
       "      <th>24</th>\n",
       "      <td>Hyundai Motor</td>\n",
       "      <td>2022</td>\n",
       "      <td>Q1</td>\n",
       "      <td>25</td>\n",
       "    </tr>\n",
       "    <tr>\n",
       "      <th>25</th>\n",
       "      <td>Hyundai Motor</td>\n",
       "      <td>2022</td>\n",
       "      <td>Q2</td>\n",
       "      <td>34</td>\n",
       "    </tr>\n",
       "    <tr>\n",
       "      <th>26</th>\n",
       "      <td>Hyundai Motor</td>\n",
       "      <td>2022</td>\n",
       "      <td>Q3</td>\n",
       "      <td>25</td>\n",
       "    </tr>\n",
       "    <tr>\n",
       "      <th>27</th>\n",
       "      <td>Hyundai Motor</td>\n",
       "      <td>2022</td>\n",
       "      <td>Q4</td>\n",
       "      <td>26</td>\n",
       "    </tr>\n",
       "    <tr>\n",
       "      <th>28</th>\n",
       "      <td>Hyundai Motor</td>\n",
       "      <td>2023</td>\n",
       "      <td>Q1</td>\n",
       "      <td>75</td>\n",
       "    </tr>\n",
       "    <tr>\n",
       "      <th>29</th>\n",
       "      <td>Hyundai Motor</td>\n",
       "      <td>2023</td>\n",
       "      <td>Q2</td>\n",
       "      <td>155</td>\n",
       "    </tr>\n",
       "    <tr>\n",
       "      <th>30</th>\n",
       "      <td>Hyundai Motor</td>\n",
       "      <td>2023</td>\n",
       "      <td>Q3</td>\n",
       "      <td>191</td>\n",
       "    </tr>\n",
       "    <tr>\n",
       "      <th>31</th>\n",
       "      <td>Hyundai Motor</td>\n",
       "      <td>2023</td>\n",
       "      <td>Q4</td>\n",
       "      <td>155</td>\n",
       "    </tr>\n",
       "    <tr>\n",
       "      <th>32</th>\n",
       "      <td>Hyundai Motor</td>\n",
       "      <td>2024</td>\n",
       "      <td>Q1</td>\n",
       "      <td>292</td>\n",
       "    </tr>\n",
       "    <tr>\n",
       "      <th>33</th>\n",
       "      <td>Hyundai Motor</td>\n",
       "      <td>2024</td>\n",
       "      <td>Q2</td>\n",
       "      <td>390</td>\n",
       "    </tr>\n",
       "    <tr>\n",
       "      <th>34</th>\n",
       "      <td>Hyundai Motor</td>\n",
       "      <td>2024</td>\n",
       "      <td>Q3</td>\n",
       "      <td>370</td>\n",
       "    </tr>\n",
       "    <tr>\n",
       "      <th>35</th>\n",
       "      <td>Hyundai Motor</td>\n",
       "      <td>2024</td>\n",
       "      <td>Q4</td>\n",
       "      <td>338</td>\n",
       "    </tr>\n",
       "    <tr>\n",
       "      <th>48</th>\n",
       "      <td>MG Motor</td>\n",
       "      <td>2022</td>\n",
       "      <td>Q1</td>\n",
       "      <td>285</td>\n",
       "    </tr>\n",
       "    <tr>\n",
       "      <th>49</th>\n",
       "      <td>MG Motor</td>\n",
       "      <td>2022</td>\n",
       "      <td>Q2</td>\n",
       "      <td>798</td>\n",
       "    </tr>\n",
       "    <tr>\n",
       "      <th>50</th>\n",
       "      <td>MG Motor</td>\n",
       "      <td>2022</td>\n",
       "      <td>Q3</td>\n",
       "      <td>411</td>\n",
       "    </tr>\n",
       "    <tr>\n",
       "      <th>51</th>\n",
       "      <td>MG Motor</td>\n",
       "      <td>2022</td>\n",
       "      <td>Q4</td>\n",
       "      <td>153</td>\n",
       "    </tr>\n",
       "    <tr>\n",
       "      <th>52</th>\n",
       "      <td>MG Motor</td>\n",
       "      <td>2023</td>\n",
       "      <td>Q1</td>\n",
       "      <td>531</td>\n",
       "    </tr>\n",
       "    <tr>\n",
       "      <th>53</th>\n",
       "      <td>MG Motor</td>\n",
       "      <td>2023</td>\n",
       "      <td>Q2</td>\n",
       "      <td>635</td>\n",
       "    </tr>\n",
       "    <tr>\n",
       "      <th>54</th>\n",
       "      <td>MG Motor</td>\n",
       "      <td>2023</td>\n",
       "      <td>Q3</td>\n",
       "      <td>1165</td>\n",
       "    </tr>\n",
       "    <tr>\n",
       "      <th>55</th>\n",
       "      <td>MG Motor</td>\n",
       "      <td>2023</td>\n",
       "      <td>Q4</td>\n",
       "      <td>946</td>\n",
       "    </tr>\n",
       "    <tr>\n",
       "      <th>56</th>\n",
       "      <td>MG Motor</td>\n",
       "      <td>2024</td>\n",
       "      <td>Q1</td>\n",
       "      <td>1493</td>\n",
       "    </tr>\n",
       "    <tr>\n",
       "      <th>57</th>\n",
       "      <td>MG Motor</td>\n",
       "      <td>2024</td>\n",
       "      <td>Q2</td>\n",
       "      <td>2524</td>\n",
       "    </tr>\n",
       "    <tr>\n",
       "      <th>58</th>\n",
       "      <td>MG Motor</td>\n",
       "      <td>2024</td>\n",
       "      <td>Q3</td>\n",
       "      <td>2190</td>\n",
       "    </tr>\n",
       "    <tr>\n",
       "      <th>59</th>\n",
       "      <td>MG Motor</td>\n",
       "      <td>2024</td>\n",
       "      <td>Q4</td>\n",
       "      <td>2622</td>\n",
       "    </tr>\n",
       "    <tr>\n",
       "      <th>60</th>\n",
       "      <td>Mahindra &amp; Mahindra</td>\n",
       "      <td>2022</td>\n",
       "      <td>Q1</td>\n",
       "      <td>355</td>\n",
       "    </tr>\n",
       "    <tr>\n",
       "      <th>61</th>\n",
       "      <td>Mahindra &amp; Mahindra</td>\n",
       "      <td>2022</td>\n",
       "      <td>Q2</td>\n",
       "      <td>651</td>\n",
       "    </tr>\n",
       "    <tr>\n",
       "      <th>62</th>\n",
       "      <td>Mahindra &amp; Mahindra</td>\n",
       "      <td>2022</td>\n",
       "      <td>Q3</td>\n",
       "      <td>1383</td>\n",
       "    </tr>\n",
       "    <tr>\n",
       "      <th>63</th>\n",
       "      <td>Mahindra &amp; Mahindra</td>\n",
       "      <td>2022</td>\n",
       "      <td>Q4</td>\n",
       "      <td>1653</td>\n",
       "    </tr>\n",
       "    <tr>\n",
       "      <th>64</th>\n",
       "      <td>Mahindra &amp; Mahindra</td>\n",
       "      <td>2023</td>\n",
       "      <td>Q1</td>\n",
       "      <td>2020</td>\n",
       "    </tr>\n",
       "    <tr>\n",
       "      <th>65</th>\n",
       "      <td>Mahindra &amp; Mahindra</td>\n",
       "      <td>2023</td>\n",
       "      <td>Q2</td>\n",
       "      <td>3164</td>\n",
       "    </tr>\n",
       "    <tr>\n",
       "      <th>66</th>\n",
       "      <td>Mahindra &amp; Mahindra</td>\n",
       "      <td>2023</td>\n",
       "      <td>Q3</td>\n",
       "      <td>3378</td>\n",
       "    </tr>\n",
       "    <tr>\n",
       "      <th>67</th>\n",
       "      <td>Mahindra &amp; Mahindra</td>\n",
       "      <td>2023</td>\n",
       "      <td>Q4</td>\n",
       "      <td>5243</td>\n",
       "    </tr>\n",
       "    <tr>\n",
       "      <th>68</th>\n",
       "      <td>Mahindra &amp; Mahindra</td>\n",
       "      <td>2024</td>\n",
       "      <td>Q1</td>\n",
       "      <td>10911</td>\n",
       "    </tr>\n",
       "    <tr>\n",
       "      <th>69</th>\n",
       "      <td>Mahindra &amp; Mahindra</td>\n",
       "      <td>2024</td>\n",
       "      <td>Q2</td>\n",
       "      <td>5855</td>\n",
       "    </tr>\n",
       "    <tr>\n",
       "      <th>70</th>\n",
       "      <td>Mahindra &amp; Mahindra</td>\n",
       "      <td>2024</td>\n",
       "      <td>Q3</td>\n",
       "      <td>4264</td>\n",
       "    </tr>\n",
       "    <tr>\n",
       "      <th>71</th>\n",
       "      <td>Mahindra &amp; Mahindra</td>\n",
       "      <td>2024</td>\n",
       "      <td>Q4</td>\n",
       "      <td>2316</td>\n",
       "    </tr>\n",
       "    <tr>\n",
       "      <th>96</th>\n",
       "      <td>Tata Motors</td>\n",
       "      <td>2022</td>\n",
       "      <td>Q1</td>\n",
       "      <td>1031</td>\n",
       "    </tr>\n",
       "    <tr>\n",
       "      <th>97</th>\n",
       "      <td>Tata Motors</td>\n",
       "      <td>2022</td>\n",
       "      <td>Q2</td>\n",
       "      <td>2052</td>\n",
       "    </tr>\n",
       "    <tr>\n",
       "      <th>98</th>\n",
       "      <td>Tata Motors</td>\n",
       "      <td>2022</td>\n",
       "      <td>Q3</td>\n",
       "      <td>3791</td>\n",
       "    </tr>\n",
       "    <tr>\n",
       "      <th>99</th>\n",
       "      <td>Tata Motors</td>\n",
       "      <td>2022</td>\n",
       "      <td>Q4</td>\n",
       "      <td>5834</td>\n",
       "    </tr>\n",
       "    <tr>\n",
       "      <th>100</th>\n",
       "      <td>Tata Motors</td>\n",
       "      <td>2023</td>\n",
       "      <td>Q1</td>\n",
       "      <td>5675</td>\n",
       "    </tr>\n",
       "    <tr>\n",
       "      <th>101</th>\n",
       "      <td>Tata Motors</td>\n",
       "      <td>2023</td>\n",
       "      <td>Q2</td>\n",
       "      <td>6192</td>\n",
       "    </tr>\n",
       "    <tr>\n",
       "      <th>102</th>\n",
       "      <td>Tata Motors</td>\n",
       "      <td>2023</td>\n",
       "      <td>Q3</td>\n",
       "      <td>6651</td>\n",
       "    </tr>\n",
       "    <tr>\n",
       "      <th>103</th>\n",
       "      <td>Tata Motors</td>\n",
       "      <td>2023</td>\n",
       "      <td>Q4</td>\n",
       "      <td>9528</td>\n",
       "    </tr>\n",
       "    <tr>\n",
       "      <th>104</th>\n",
       "      <td>Tata Motors</td>\n",
       "      <td>2024</td>\n",
       "      <td>Q1</td>\n",
       "      <td>7247</td>\n",
       "    </tr>\n",
       "    <tr>\n",
       "      <th>105</th>\n",
       "      <td>Tata Motors</td>\n",
       "      <td>2024</td>\n",
       "      <td>Q2</td>\n",
       "      <td>10337</td>\n",
       "    </tr>\n",
       "    <tr>\n",
       "      <th>106</th>\n",
       "      <td>Tata Motors</td>\n",
       "      <td>2024</td>\n",
       "      <td>Q3</td>\n",
       "      <td>13236</td>\n",
       "    </tr>\n",
       "    <tr>\n",
       "      <th>107</th>\n",
       "      <td>Tata Motors</td>\n",
       "      <td>2024</td>\n",
       "      <td>Q4</td>\n",
       "      <td>17361</td>\n",
       "    </tr>\n",
       "  </tbody>\n",
       "</table>\n",
       "</div>"
      ],
      "text/plain": [
       "                   maker  fiscal_year quarter  electric_vehicles_sold\n",
       "12             BYD India         2022      Q1                       0\n",
       "13             BYD India         2022      Q2                       0\n",
       "14             BYD India         2022      Q3                       1\n",
       "15             BYD India         2022      Q4                      32\n",
       "16             BYD India         2023      Q1                      81\n",
       "17             BYD India         2023      Q2                     113\n",
       "18             BYD India         2023      Q3                     103\n",
       "19             BYD India         2023      Q4                     623\n",
       "20             BYD India         2024      Q1                     406\n",
       "21             BYD India         2024      Q2                     310\n",
       "22             BYD India         2024      Q3                     350\n",
       "23             BYD India         2024      Q4                     400\n",
       "24         Hyundai Motor         2022      Q1                      25\n",
       "25         Hyundai Motor         2022      Q2                      34\n",
       "26         Hyundai Motor         2022      Q3                      25\n",
       "27         Hyundai Motor         2022      Q4                      26\n",
       "28         Hyundai Motor         2023      Q1                      75\n",
       "29         Hyundai Motor         2023      Q2                     155\n",
       "30         Hyundai Motor         2023      Q3                     191\n",
       "31         Hyundai Motor         2023      Q4                     155\n",
       "32         Hyundai Motor         2024      Q1                     292\n",
       "33         Hyundai Motor         2024      Q2                     390\n",
       "34         Hyundai Motor         2024      Q3                     370\n",
       "35         Hyundai Motor         2024      Q4                     338\n",
       "48              MG Motor         2022      Q1                     285\n",
       "49              MG Motor         2022      Q2                     798\n",
       "50              MG Motor         2022      Q3                     411\n",
       "51              MG Motor         2022      Q4                     153\n",
       "52              MG Motor         2023      Q1                     531\n",
       "53              MG Motor         2023      Q2                     635\n",
       "54              MG Motor         2023      Q3                    1165\n",
       "55              MG Motor         2023      Q4                     946\n",
       "56              MG Motor         2024      Q1                    1493\n",
       "57              MG Motor         2024      Q2                    2524\n",
       "58              MG Motor         2024      Q3                    2190\n",
       "59              MG Motor         2024      Q4                    2622\n",
       "60   Mahindra & Mahindra         2022      Q1                     355\n",
       "61   Mahindra & Mahindra         2022      Q2                     651\n",
       "62   Mahindra & Mahindra         2022      Q3                    1383\n",
       "63   Mahindra & Mahindra         2022      Q4                    1653\n",
       "64   Mahindra & Mahindra         2023      Q1                    2020\n",
       "65   Mahindra & Mahindra         2023      Q2                    3164\n",
       "66   Mahindra & Mahindra         2023      Q3                    3378\n",
       "67   Mahindra & Mahindra         2023      Q4                    5243\n",
       "68   Mahindra & Mahindra         2024      Q1                   10911\n",
       "69   Mahindra & Mahindra         2024      Q2                    5855\n",
       "70   Mahindra & Mahindra         2024      Q3                    4264\n",
       "71   Mahindra & Mahindra         2024      Q4                    2316\n",
       "96           Tata Motors         2022      Q1                    1031\n",
       "97           Tata Motors         2022      Q2                    2052\n",
       "98           Tata Motors         2022      Q3                    3791\n",
       "99           Tata Motors         2022      Q4                    5834\n",
       "100          Tata Motors         2023      Q1                    5675\n",
       "101          Tata Motors         2023      Q2                    6192\n",
       "102          Tata Motors         2023      Q3                    6651\n",
       "103          Tata Motors         2023      Q4                    9528\n",
       "104          Tata Motors         2024      Q1                    7247\n",
       "105          Tata Motors         2024      Q2                   10337\n",
       "106          Tata Motors         2024      Q3                   13236\n",
       "107          Tata Motors         2024      Q4                   17361"
      ]
     },
     "execution_count": 53,
     "metadata": {},
     "output_type": "execute_result"
    }
   ],
   "source": [
    "top5_q=maker_q[maker_q['maker'].isin(top_s['maker'])]\n",
    "top5_q"
   ]
  },
  {
   "cell_type": "raw",
   "id": "aae1d013",
   "metadata": {},
   "source": [
    "fig=px.line(top5_q,x='quarter',y='electric_vehicles_sold',color='maker',title='Quarterly Sales Trends for Top 5 EV Makers (4-wheelers) from 2022 to 2024')\n",
    "fig.show()"
   ]
  },
  {
   "cell_type": "code",
   "execution_count": 55,
   "id": "40c107ea",
   "metadata": {},
   "outputs": [
    {
     "data": {
      "application/vnd.plotly.v1+json": {
       "config": {
        "plotlyServerURL": "https://plot.ly"
       },
       "data": [
        {
         "hovertemplate": "maker=BYD India<br>fiscal_year=2022<br>quarter=%{x}<br>electric_vehicles_sold=%{y}<extra></extra>",
         "legendgroup": "BYD India",
         "line": {
          "color": "#636efa",
          "dash": "solid"
         },
         "marker": {
          "symbol": "circle"
         },
         "mode": "markers+lines",
         "name": "BYD India",
         "orientation": "v",
         "showlegend": true,
         "type": "scatter",
         "x": [
          "Q1",
          "Q2",
          "Q3",
          "Q4"
         ],
         "xaxis": "x",
         "y": [
          0,
          0,
          1,
          32
         ],
         "yaxis": "y"
        },
        {
         "hovertemplate": "maker=BYD India<br>fiscal_year=2023<br>quarter=%{x}<br>electric_vehicles_sold=%{y}<extra></extra>",
         "legendgroup": "BYD India",
         "line": {
          "color": "#636efa",
          "dash": "solid"
         },
         "marker": {
          "symbol": "circle"
         },
         "mode": "markers+lines",
         "name": "BYD India",
         "orientation": "v",
         "showlegend": false,
         "type": "scatter",
         "x": [
          "Q1",
          "Q2",
          "Q3",
          "Q4"
         ],
         "xaxis": "x2",
         "y": [
          81,
          113,
          103,
          623
         ],
         "yaxis": "y2"
        },
        {
         "hovertemplate": "maker=BYD India<br>fiscal_year=2024<br>quarter=%{x}<br>electric_vehicles_sold=%{y}<extra></extra>",
         "legendgroup": "BYD India",
         "line": {
          "color": "#636efa",
          "dash": "solid"
         },
         "marker": {
          "symbol": "circle"
         },
         "mode": "markers+lines",
         "name": "BYD India",
         "orientation": "v",
         "showlegend": false,
         "type": "scatter",
         "x": [
          "Q1",
          "Q2",
          "Q3",
          "Q4"
         ],
         "xaxis": "x3",
         "y": [
          406,
          310,
          350,
          400
         ],
         "yaxis": "y3"
        },
        {
         "hovertemplate": "maker=Hyundai Motor<br>fiscal_year=2022<br>quarter=%{x}<br>electric_vehicles_sold=%{y}<extra></extra>",
         "legendgroup": "Hyundai Motor",
         "line": {
          "color": "#EF553B",
          "dash": "solid"
         },
         "marker": {
          "symbol": "circle"
         },
         "mode": "markers+lines",
         "name": "Hyundai Motor",
         "orientation": "v",
         "showlegend": true,
         "type": "scatter",
         "x": [
          "Q1",
          "Q2",
          "Q3",
          "Q4"
         ],
         "xaxis": "x",
         "y": [
          25,
          34,
          25,
          26
         ],
         "yaxis": "y"
        },
        {
         "hovertemplate": "maker=Hyundai Motor<br>fiscal_year=2023<br>quarter=%{x}<br>electric_vehicles_sold=%{y}<extra></extra>",
         "legendgroup": "Hyundai Motor",
         "line": {
          "color": "#EF553B",
          "dash": "solid"
         },
         "marker": {
          "symbol": "circle"
         },
         "mode": "markers+lines",
         "name": "Hyundai Motor",
         "orientation": "v",
         "showlegend": false,
         "type": "scatter",
         "x": [
          "Q1",
          "Q2",
          "Q3",
          "Q4"
         ],
         "xaxis": "x2",
         "y": [
          75,
          155,
          191,
          155
         ],
         "yaxis": "y2"
        },
        {
         "hovertemplate": "maker=Hyundai Motor<br>fiscal_year=2024<br>quarter=%{x}<br>electric_vehicles_sold=%{y}<extra></extra>",
         "legendgroup": "Hyundai Motor",
         "line": {
          "color": "#EF553B",
          "dash": "solid"
         },
         "marker": {
          "symbol": "circle"
         },
         "mode": "markers+lines",
         "name": "Hyundai Motor",
         "orientation": "v",
         "showlegend": false,
         "type": "scatter",
         "x": [
          "Q1",
          "Q2",
          "Q3",
          "Q4"
         ],
         "xaxis": "x3",
         "y": [
          292,
          390,
          370,
          338
         ],
         "yaxis": "y3"
        },
        {
         "hovertemplate": "maker=MG Motor<br>fiscal_year=2022<br>quarter=%{x}<br>electric_vehicles_sold=%{y}<extra></extra>",
         "legendgroup": "MG Motor",
         "line": {
          "color": "#00cc96",
          "dash": "solid"
         },
         "marker": {
          "symbol": "circle"
         },
         "mode": "markers+lines",
         "name": "MG Motor",
         "orientation": "v",
         "showlegend": true,
         "type": "scatter",
         "x": [
          "Q1",
          "Q2",
          "Q3",
          "Q4"
         ],
         "xaxis": "x",
         "y": [
          285,
          798,
          411,
          153
         ],
         "yaxis": "y"
        },
        {
         "hovertemplate": "maker=MG Motor<br>fiscal_year=2023<br>quarter=%{x}<br>electric_vehicles_sold=%{y}<extra></extra>",
         "legendgroup": "MG Motor",
         "line": {
          "color": "#00cc96",
          "dash": "solid"
         },
         "marker": {
          "symbol": "circle"
         },
         "mode": "markers+lines",
         "name": "MG Motor",
         "orientation": "v",
         "showlegend": false,
         "type": "scatter",
         "x": [
          "Q1",
          "Q2",
          "Q3",
          "Q4"
         ],
         "xaxis": "x2",
         "y": [
          531,
          635,
          1165,
          946
         ],
         "yaxis": "y2"
        },
        {
         "hovertemplate": "maker=MG Motor<br>fiscal_year=2024<br>quarter=%{x}<br>electric_vehicles_sold=%{y}<extra></extra>",
         "legendgroup": "MG Motor",
         "line": {
          "color": "#00cc96",
          "dash": "solid"
         },
         "marker": {
          "symbol": "circle"
         },
         "mode": "markers+lines",
         "name": "MG Motor",
         "orientation": "v",
         "showlegend": false,
         "type": "scatter",
         "x": [
          "Q1",
          "Q2",
          "Q3",
          "Q4"
         ],
         "xaxis": "x3",
         "y": [
          1493,
          2524,
          2190,
          2622
         ],
         "yaxis": "y3"
        },
        {
         "hovertemplate": "maker=Mahindra & Mahindra<br>fiscal_year=2022<br>quarter=%{x}<br>electric_vehicles_sold=%{y}<extra></extra>",
         "legendgroup": "Mahindra & Mahindra",
         "line": {
          "color": "#ab63fa",
          "dash": "solid"
         },
         "marker": {
          "symbol": "circle"
         },
         "mode": "markers+lines",
         "name": "Mahindra & Mahindra",
         "orientation": "v",
         "showlegend": true,
         "type": "scatter",
         "x": [
          "Q1",
          "Q2",
          "Q3",
          "Q4"
         ],
         "xaxis": "x",
         "y": [
          355,
          651,
          1383,
          1653
         ],
         "yaxis": "y"
        },
        {
         "hovertemplate": "maker=Mahindra & Mahindra<br>fiscal_year=2023<br>quarter=%{x}<br>electric_vehicles_sold=%{y}<extra></extra>",
         "legendgroup": "Mahindra & Mahindra",
         "line": {
          "color": "#ab63fa",
          "dash": "solid"
         },
         "marker": {
          "symbol": "circle"
         },
         "mode": "markers+lines",
         "name": "Mahindra & Mahindra",
         "orientation": "v",
         "showlegend": false,
         "type": "scatter",
         "x": [
          "Q1",
          "Q2",
          "Q3",
          "Q4"
         ],
         "xaxis": "x2",
         "y": [
          2020,
          3164,
          3378,
          5243
         ],
         "yaxis": "y2"
        },
        {
         "hovertemplate": "maker=Mahindra & Mahindra<br>fiscal_year=2024<br>quarter=%{x}<br>electric_vehicles_sold=%{y}<extra></extra>",
         "legendgroup": "Mahindra & Mahindra",
         "line": {
          "color": "#ab63fa",
          "dash": "solid"
         },
         "marker": {
          "symbol": "circle"
         },
         "mode": "markers+lines",
         "name": "Mahindra & Mahindra",
         "orientation": "v",
         "showlegend": false,
         "type": "scatter",
         "x": [
          "Q1",
          "Q2",
          "Q3",
          "Q4"
         ],
         "xaxis": "x3",
         "y": [
          10911,
          5855,
          4264,
          2316
         ],
         "yaxis": "y3"
        },
        {
         "hovertemplate": "maker=Tata Motors<br>fiscal_year=2022<br>quarter=%{x}<br>electric_vehicles_sold=%{y}<extra></extra>",
         "legendgroup": "Tata Motors",
         "line": {
          "color": "#FFA15A",
          "dash": "solid"
         },
         "marker": {
          "symbol": "circle"
         },
         "mode": "markers+lines",
         "name": "Tata Motors",
         "orientation": "v",
         "showlegend": true,
         "type": "scatter",
         "x": [
          "Q1",
          "Q2",
          "Q3",
          "Q4"
         ],
         "xaxis": "x",
         "y": [
          1031,
          2052,
          3791,
          5834
         ],
         "yaxis": "y"
        },
        {
         "hovertemplate": "maker=Tata Motors<br>fiscal_year=2023<br>quarter=%{x}<br>electric_vehicles_sold=%{y}<extra></extra>",
         "legendgroup": "Tata Motors",
         "line": {
          "color": "#FFA15A",
          "dash": "solid"
         },
         "marker": {
          "symbol": "circle"
         },
         "mode": "markers+lines",
         "name": "Tata Motors",
         "orientation": "v",
         "showlegend": false,
         "type": "scatter",
         "x": [
          "Q1",
          "Q2",
          "Q3",
          "Q4"
         ],
         "xaxis": "x2",
         "y": [
          5675,
          6192,
          6651,
          9528
         ],
         "yaxis": "y2"
        },
        {
         "hovertemplate": "maker=Tata Motors<br>fiscal_year=2024<br>quarter=%{x}<br>electric_vehicles_sold=%{y}<extra></extra>",
         "legendgroup": "Tata Motors",
         "line": {
          "color": "#FFA15A",
          "dash": "solid"
         },
         "marker": {
          "symbol": "circle"
         },
         "mode": "markers+lines",
         "name": "Tata Motors",
         "orientation": "v",
         "showlegend": false,
         "type": "scatter",
         "x": [
          "Q1",
          "Q2",
          "Q3",
          "Q4"
         ],
         "xaxis": "x3",
         "y": [
          7247,
          10337,
          13236,
          17361
         ],
         "yaxis": "y3"
        }
       ],
       "layout": {
        "annotations": [
         {
          "font": {},
          "showarrow": false,
          "text": "fiscal_year=2022",
          "x": 0.15999999999999998,
          "xanchor": "center",
          "xref": "paper",
          "y": 1,
          "yanchor": "bottom",
          "yref": "paper"
         },
         {
          "font": {},
          "showarrow": false,
          "text": "fiscal_year=2023",
          "x": 0.49999999999999994,
          "xanchor": "center",
          "xref": "paper",
          "y": 1,
          "yanchor": "bottom",
          "yref": "paper"
         },
         {
          "font": {},
          "showarrow": false,
          "text": "fiscal_year=2024",
          "x": 0.8399999999999999,
          "xanchor": "center",
          "xref": "paper",
          "y": 1,
          "yanchor": "bottom",
          "yref": "paper"
         }
        ],
        "legend": {
         "title": {
          "text": "maker"
         },
         "tracegroupgap": 0
        },
        "template": {
         "data": {
          "bar": [
           {
            "error_x": {
             "color": "#2a3f5f"
            },
            "error_y": {
             "color": "#2a3f5f"
            },
            "marker": {
             "line": {
              "color": "#E5ECF6",
              "width": 0.5
             },
             "pattern": {
              "fillmode": "overlay",
              "size": 10,
              "solidity": 0.2
             }
            },
            "type": "bar"
           }
          ],
          "barpolar": [
           {
            "marker": {
             "line": {
              "color": "#E5ECF6",
              "width": 0.5
             },
             "pattern": {
              "fillmode": "overlay",
              "size": 10,
              "solidity": 0.2
             }
            },
            "type": "barpolar"
           }
          ],
          "carpet": [
           {
            "aaxis": {
             "endlinecolor": "#2a3f5f",
             "gridcolor": "white",
             "linecolor": "white",
             "minorgridcolor": "white",
             "startlinecolor": "#2a3f5f"
            },
            "baxis": {
             "endlinecolor": "#2a3f5f",
             "gridcolor": "white",
             "linecolor": "white",
             "minorgridcolor": "white",
             "startlinecolor": "#2a3f5f"
            },
            "type": "carpet"
           }
          ],
          "choropleth": [
           {
            "colorbar": {
             "outlinewidth": 0,
             "ticks": ""
            },
            "type": "choropleth"
           }
          ],
          "contour": [
           {
            "colorbar": {
             "outlinewidth": 0,
             "ticks": ""
            },
            "colorscale": [
             [
              0,
              "#0d0887"
             ],
             [
              0.1111111111111111,
              "#46039f"
             ],
             [
              0.2222222222222222,
              "#7201a8"
             ],
             [
              0.3333333333333333,
              "#9c179e"
             ],
             [
              0.4444444444444444,
              "#bd3786"
             ],
             [
              0.5555555555555556,
              "#d8576b"
             ],
             [
              0.6666666666666666,
              "#ed7953"
             ],
             [
              0.7777777777777778,
              "#fb9f3a"
             ],
             [
              0.8888888888888888,
              "#fdca26"
             ],
             [
              1,
              "#f0f921"
             ]
            ],
            "type": "contour"
           }
          ],
          "contourcarpet": [
           {
            "colorbar": {
             "outlinewidth": 0,
             "ticks": ""
            },
            "type": "contourcarpet"
           }
          ],
          "heatmap": [
           {
            "colorbar": {
             "outlinewidth": 0,
             "ticks": ""
            },
            "colorscale": [
             [
              0,
              "#0d0887"
             ],
             [
              0.1111111111111111,
              "#46039f"
             ],
             [
              0.2222222222222222,
              "#7201a8"
             ],
             [
              0.3333333333333333,
              "#9c179e"
             ],
             [
              0.4444444444444444,
              "#bd3786"
             ],
             [
              0.5555555555555556,
              "#d8576b"
             ],
             [
              0.6666666666666666,
              "#ed7953"
             ],
             [
              0.7777777777777778,
              "#fb9f3a"
             ],
             [
              0.8888888888888888,
              "#fdca26"
             ],
             [
              1,
              "#f0f921"
             ]
            ],
            "type": "heatmap"
           }
          ],
          "heatmapgl": [
           {
            "colorbar": {
             "outlinewidth": 0,
             "ticks": ""
            },
            "colorscale": [
             [
              0,
              "#0d0887"
             ],
             [
              0.1111111111111111,
              "#46039f"
             ],
             [
              0.2222222222222222,
              "#7201a8"
             ],
             [
              0.3333333333333333,
              "#9c179e"
             ],
             [
              0.4444444444444444,
              "#bd3786"
             ],
             [
              0.5555555555555556,
              "#d8576b"
             ],
             [
              0.6666666666666666,
              "#ed7953"
             ],
             [
              0.7777777777777778,
              "#fb9f3a"
             ],
             [
              0.8888888888888888,
              "#fdca26"
             ],
             [
              1,
              "#f0f921"
             ]
            ],
            "type": "heatmapgl"
           }
          ],
          "histogram": [
           {
            "marker": {
             "pattern": {
              "fillmode": "overlay",
              "size": 10,
              "solidity": 0.2
             }
            },
            "type": "histogram"
           }
          ],
          "histogram2d": [
           {
            "colorbar": {
             "outlinewidth": 0,
             "ticks": ""
            },
            "colorscale": [
             [
              0,
              "#0d0887"
             ],
             [
              0.1111111111111111,
              "#46039f"
             ],
             [
              0.2222222222222222,
              "#7201a8"
             ],
             [
              0.3333333333333333,
              "#9c179e"
             ],
             [
              0.4444444444444444,
              "#bd3786"
             ],
             [
              0.5555555555555556,
              "#d8576b"
             ],
             [
              0.6666666666666666,
              "#ed7953"
             ],
             [
              0.7777777777777778,
              "#fb9f3a"
             ],
             [
              0.8888888888888888,
              "#fdca26"
             ],
             [
              1,
              "#f0f921"
             ]
            ],
            "type": "histogram2d"
           }
          ],
          "histogram2dcontour": [
           {
            "colorbar": {
             "outlinewidth": 0,
             "ticks": ""
            },
            "colorscale": [
             [
              0,
              "#0d0887"
             ],
             [
              0.1111111111111111,
              "#46039f"
             ],
             [
              0.2222222222222222,
              "#7201a8"
             ],
             [
              0.3333333333333333,
              "#9c179e"
             ],
             [
              0.4444444444444444,
              "#bd3786"
             ],
             [
              0.5555555555555556,
              "#d8576b"
             ],
             [
              0.6666666666666666,
              "#ed7953"
             ],
             [
              0.7777777777777778,
              "#fb9f3a"
             ],
             [
              0.8888888888888888,
              "#fdca26"
             ],
             [
              1,
              "#f0f921"
             ]
            ],
            "type": "histogram2dcontour"
           }
          ],
          "mesh3d": [
           {
            "colorbar": {
             "outlinewidth": 0,
             "ticks": ""
            },
            "type": "mesh3d"
           }
          ],
          "parcoords": [
           {
            "line": {
             "colorbar": {
              "outlinewidth": 0,
              "ticks": ""
             }
            },
            "type": "parcoords"
           }
          ],
          "pie": [
           {
            "automargin": true,
            "type": "pie"
           }
          ],
          "scatter": [
           {
            "fillpattern": {
             "fillmode": "overlay",
             "size": 10,
             "solidity": 0.2
            },
            "type": "scatter"
           }
          ],
          "scatter3d": [
           {
            "line": {
             "colorbar": {
              "outlinewidth": 0,
              "ticks": ""
             }
            },
            "marker": {
             "colorbar": {
              "outlinewidth": 0,
              "ticks": ""
             }
            },
            "type": "scatter3d"
           }
          ],
          "scattercarpet": [
           {
            "marker": {
             "colorbar": {
              "outlinewidth": 0,
              "ticks": ""
             }
            },
            "type": "scattercarpet"
           }
          ],
          "scattergeo": [
           {
            "marker": {
             "colorbar": {
              "outlinewidth": 0,
              "ticks": ""
             }
            },
            "type": "scattergeo"
           }
          ],
          "scattergl": [
           {
            "marker": {
             "colorbar": {
              "outlinewidth": 0,
              "ticks": ""
             }
            },
            "type": "scattergl"
           }
          ],
          "scattermapbox": [
           {
            "marker": {
             "colorbar": {
              "outlinewidth": 0,
              "ticks": ""
             }
            },
            "type": "scattermapbox"
           }
          ],
          "scatterpolar": [
           {
            "marker": {
             "colorbar": {
              "outlinewidth": 0,
              "ticks": ""
             }
            },
            "type": "scatterpolar"
           }
          ],
          "scatterpolargl": [
           {
            "marker": {
             "colorbar": {
              "outlinewidth": 0,
              "ticks": ""
             }
            },
            "type": "scatterpolargl"
           }
          ],
          "scatterternary": [
           {
            "marker": {
             "colorbar": {
              "outlinewidth": 0,
              "ticks": ""
             }
            },
            "type": "scatterternary"
           }
          ],
          "surface": [
           {
            "colorbar": {
             "outlinewidth": 0,
             "ticks": ""
            },
            "colorscale": [
             [
              0,
              "#0d0887"
             ],
             [
              0.1111111111111111,
              "#46039f"
             ],
             [
              0.2222222222222222,
              "#7201a8"
             ],
             [
              0.3333333333333333,
              "#9c179e"
             ],
             [
              0.4444444444444444,
              "#bd3786"
             ],
             [
              0.5555555555555556,
              "#d8576b"
             ],
             [
              0.6666666666666666,
              "#ed7953"
             ],
             [
              0.7777777777777778,
              "#fb9f3a"
             ],
             [
              0.8888888888888888,
              "#fdca26"
             ],
             [
              1,
              "#f0f921"
             ]
            ],
            "type": "surface"
           }
          ],
          "table": [
           {
            "cells": {
             "fill": {
              "color": "#EBF0F8"
             },
             "line": {
              "color": "white"
             }
            },
            "header": {
             "fill": {
              "color": "#C8D4E3"
             },
             "line": {
              "color": "white"
             }
            },
            "type": "table"
           }
          ]
         },
         "layout": {
          "annotationdefaults": {
           "arrowcolor": "#2a3f5f",
           "arrowhead": 0,
           "arrowwidth": 1
          },
          "autotypenumbers": "strict",
          "coloraxis": {
           "colorbar": {
            "outlinewidth": 0,
            "ticks": ""
           }
          },
          "colorscale": {
           "diverging": [
            [
             0,
             "#8e0152"
            ],
            [
             0.1,
             "#c51b7d"
            ],
            [
             0.2,
             "#de77ae"
            ],
            [
             0.3,
             "#f1b6da"
            ],
            [
             0.4,
             "#fde0ef"
            ],
            [
             0.5,
             "#f7f7f7"
            ],
            [
             0.6,
             "#e6f5d0"
            ],
            [
             0.7,
             "#b8e186"
            ],
            [
             0.8,
             "#7fbc41"
            ],
            [
             0.9,
             "#4d9221"
            ],
            [
             1,
             "#276419"
            ]
           ],
           "sequential": [
            [
             0,
             "#0d0887"
            ],
            [
             0.1111111111111111,
             "#46039f"
            ],
            [
             0.2222222222222222,
             "#7201a8"
            ],
            [
             0.3333333333333333,
             "#9c179e"
            ],
            [
             0.4444444444444444,
             "#bd3786"
            ],
            [
             0.5555555555555556,
             "#d8576b"
            ],
            [
             0.6666666666666666,
             "#ed7953"
            ],
            [
             0.7777777777777778,
             "#fb9f3a"
            ],
            [
             0.8888888888888888,
             "#fdca26"
            ],
            [
             1,
             "#f0f921"
            ]
           ],
           "sequentialminus": [
            [
             0,
             "#0d0887"
            ],
            [
             0.1111111111111111,
             "#46039f"
            ],
            [
             0.2222222222222222,
             "#7201a8"
            ],
            [
             0.3333333333333333,
             "#9c179e"
            ],
            [
             0.4444444444444444,
             "#bd3786"
            ],
            [
             0.5555555555555556,
             "#d8576b"
            ],
            [
             0.6666666666666666,
             "#ed7953"
            ],
            [
             0.7777777777777778,
             "#fb9f3a"
            ],
            [
             0.8888888888888888,
             "#fdca26"
            ],
            [
             1,
             "#f0f921"
            ]
           ]
          },
          "colorway": [
           "#636efa",
           "#EF553B",
           "#00cc96",
           "#ab63fa",
           "#FFA15A",
           "#19d3f3",
           "#FF6692",
           "#B6E880",
           "#FF97FF",
           "#FECB52"
          ],
          "font": {
           "color": "#2a3f5f"
          },
          "geo": {
           "bgcolor": "white",
           "lakecolor": "white",
           "landcolor": "#E5ECF6",
           "showlakes": true,
           "showland": true,
           "subunitcolor": "white"
          },
          "hoverlabel": {
           "align": "left"
          },
          "hovermode": "closest",
          "mapbox": {
           "style": "light"
          },
          "paper_bgcolor": "white",
          "plot_bgcolor": "#E5ECF6",
          "polar": {
           "angularaxis": {
            "gridcolor": "white",
            "linecolor": "white",
            "ticks": ""
           },
           "bgcolor": "#E5ECF6",
           "radialaxis": {
            "gridcolor": "white",
            "linecolor": "white",
            "ticks": ""
           }
          },
          "scene": {
           "xaxis": {
            "backgroundcolor": "#E5ECF6",
            "gridcolor": "white",
            "gridwidth": 2,
            "linecolor": "white",
            "showbackground": true,
            "ticks": "",
            "zerolinecolor": "white"
           },
           "yaxis": {
            "backgroundcolor": "#E5ECF6",
            "gridcolor": "white",
            "gridwidth": 2,
            "linecolor": "white",
            "showbackground": true,
            "ticks": "",
            "zerolinecolor": "white"
           },
           "zaxis": {
            "backgroundcolor": "#E5ECF6",
            "gridcolor": "white",
            "gridwidth": 2,
            "linecolor": "white",
            "showbackground": true,
            "ticks": "",
            "zerolinecolor": "white"
           }
          },
          "shapedefaults": {
           "line": {
            "color": "#2a3f5f"
           }
          },
          "ternary": {
           "aaxis": {
            "gridcolor": "white",
            "linecolor": "white",
            "ticks": ""
           },
           "baxis": {
            "gridcolor": "white",
            "linecolor": "white",
            "ticks": ""
           },
           "bgcolor": "#E5ECF6",
           "caxis": {
            "gridcolor": "white",
            "linecolor": "white",
            "ticks": ""
           }
          },
          "title": {
           "x": 0.05
          },
          "xaxis": {
           "automargin": true,
           "gridcolor": "white",
           "linecolor": "white",
           "ticks": "",
           "title": {
            "standoff": 15
           },
           "zerolinecolor": "white",
           "zerolinewidth": 2
          },
          "yaxis": {
           "automargin": true,
           "gridcolor": "white",
           "linecolor": "white",
           "ticks": "",
           "title": {
            "standoff": 15
           },
           "zerolinecolor": "white",
           "zerolinewidth": 2
          }
         }
        },
        "title": {
         "text": "Quarterly Sales Trends for Top 5 EV Makers (4-wheelers) from 2022 to 2024"
        },
        "xaxis": {
         "anchor": "y",
         "domain": [
          0,
          0.31999999999999995
         ],
         "title": {
          "text": "quarter"
         }
        },
        "xaxis2": {
         "anchor": "y2",
         "domain": [
          0.33999999999999997,
          0.6599999999999999
         ],
         "matches": "x",
         "title": {
          "text": "quarter"
         }
        },
        "xaxis3": {
         "anchor": "y3",
         "domain": [
          0.6799999999999999,
          0.9999999999999999
         ],
         "matches": "x",
         "title": {
          "text": "quarter"
         }
        },
        "yaxis": {
         "anchor": "x",
         "domain": [
          0,
          1
         ],
         "title": {
          "text": "electric_vehicles_sold"
         }
        },
        "yaxis2": {
         "anchor": "x2",
         "domain": [
          0,
          1
         ],
         "matches": "y",
         "showticklabels": false
        },
        "yaxis3": {
         "anchor": "x3",
         "domain": [
          0,
          1
         ],
         "matches": "y",
         "showticklabels": false
        }
       }
      },
      "text/html": [
       "<div>                            <div id=\"b1e2881a-da9c-4275-a390-879191ba40cb\" class=\"plotly-graph-div\" style=\"height:525px; width:100%;\"></div>            <script type=\"text/javascript\">                require([\"plotly\"], function(Plotly) {                    window.PLOTLYENV=window.PLOTLYENV || {};                                    if (document.getElementById(\"b1e2881a-da9c-4275-a390-879191ba40cb\")) {                    Plotly.newPlot(                        \"b1e2881a-da9c-4275-a390-879191ba40cb\",                        [{\"hovertemplate\":\"maker=BYD India<br>fiscal_year=2022<br>quarter=%{x}<br>electric_vehicles_sold=%{y}<extra></extra>\",\"legendgroup\":\"BYD India\",\"line\":{\"color\":\"#636efa\",\"dash\":\"solid\"},\"marker\":{\"symbol\":\"circle\"},\"mode\":\"markers+lines\",\"name\":\"BYD India\",\"orientation\":\"v\",\"showlegend\":true,\"x\":[\"Q1\",\"Q2\",\"Q3\",\"Q4\"],\"xaxis\":\"x\",\"y\":[0,0,1,32],\"yaxis\":\"y\",\"type\":\"scatter\"},{\"hovertemplate\":\"maker=BYD India<br>fiscal_year=2023<br>quarter=%{x}<br>electric_vehicles_sold=%{y}<extra></extra>\",\"legendgroup\":\"BYD India\",\"line\":{\"color\":\"#636efa\",\"dash\":\"solid\"},\"marker\":{\"symbol\":\"circle\"},\"mode\":\"markers+lines\",\"name\":\"BYD India\",\"orientation\":\"v\",\"showlegend\":false,\"x\":[\"Q1\",\"Q2\",\"Q3\",\"Q4\"],\"xaxis\":\"x2\",\"y\":[81,113,103,623],\"yaxis\":\"y2\",\"type\":\"scatter\"},{\"hovertemplate\":\"maker=BYD India<br>fiscal_year=2024<br>quarter=%{x}<br>electric_vehicles_sold=%{y}<extra></extra>\",\"legendgroup\":\"BYD India\",\"line\":{\"color\":\"#636efa\",\"dash\":\"solid\"},\"marker\":{\"symbol\":\"circle\"},\"mode\":\"markers+lines\",\"name\":\"BYD India\",\"orientation\":\"v\",\"showlegend\":false,\"x\":[\"Q1\",\"Q2\",\"Q3\",\"Q4\"],\"xaxis\":\"x3\",\"y\":[406,310,350,400],\"yaxis\":\"y3\",\"type\":\"scatter\"},{\"hovertemplate\":\"maker=Hyundai Motor<br>fiscal_year=2022<br>quarter=%{x}<br>electric_vehicles_sold=%{y}<extra></extra>\",\"legendgroup\":\"Hyundai Motor\",\"line\":{\"color\":\"#EF553B\",\"dash\":\"solid\"},\"marker\":{\"symbol\":\"circle\"},\"mode\":\"markers+lines\",\"name\":\"Hyundai Motor\",\"orientation\":\"v\",\"showlegend\":true,\"x\":[\"Q1\",\"Q2\",\"Q3\",\"Q4\"],\"xaxis\":\"x\",\"y\":[25,34,25,26],\"yaxis\":\"y\",\"type\":\"scatter\"},{\"hovertemplate\":\"maker=Hyundai Motor<br>fiscal_year=2023<br>quarter=%{x}<br>electric_vehicles_sold=%{y}<extra></extra>\",\"legendgroup\":\"Hyundai Motor\",\"line\":{\"color\":\"#EF553B\",\"dash\":\"solid\"},\"marker\":{\"symbol\":\"circle\"},\"mode\":\"markers+lines\",\"name\":\"Hyundai Motor\",\"orientation\":\"v\",\"showlegend\":false,\"x\":[\"Q1\",\"Q2\",\"Q3\",\"Q4\"],\"xaxis\":\"x2\",\"y\":[75,155,191,155],\"yaxis\":\"y2\",\"type\":\"scatter\"},{\"hovertemplate\":\"maker=Hyundai Motor<br>fiscal_year=2024<br>quarter=%{x}<br>electric_vehicles_sold=%{y}<extra></extra>\",\"legendgroup\":\"Hyundai Motor\",\"line\":{\"color\":\"#EF553B\",\"dash\":\"solid\"},\"marker\":{\"symbol\":\"circle\"},\"mode\":\"markers+lines\",\"name\":\"Hyundai Motor\",\"orientation\":\"v\",\"showlegend\":false,\"x\":[\"Q1\",\"Q2\",\"Q3\",\"Q4\"],\"xaxis\":\"x3\",\"y\":[292,390,370,338],\"yaxis\":\"y3\",\"type\":\"scatter\"},{\"hovertemplate\":\"maker=MG Motor<br>fiscal_year=2022<br>quarter=%{x}<br>electric_vehicles_sold=%{y}<extra></extra>\",\"legendgroup\":\"MG Motor\",\"line\":{\"color\":\"#00cc96\",\"dash\":\"solid\"},\"marker\":{\"symbol\":\"circle\"},\"mode\":\"markers+lines\",\"name\":\"MG Motor\",\"orientation\":\"v\",\"showlegend\":true,\"x\":[\"Q1\",\"Q2\",\"Q3\",\"Q4\"],\"xaxis\":\"x\",\"y\":[285,798,411,153],\"yaxis\":\"y\",\"type\":\"scatter\"},{\"hovertemplate\":\"maker=MG Motor<br>fiscal_year=2023<br>quarter=%{x}<br>electric_vehicles_sold=%{y}<extra></extra>\",\"legendgroup\":\"MG Motor\",\"line\":{\"color\":\"#00cc96\",\"dash\":\"solid\"},\"marker\":{\"symbol\":\"circle\"},\"mode\":\"markers+lines\",\"name\":\"MG Motor\",\"orientation\":\"v\",\"showlegend\":false,\"x\":[\"Q1\",\"Q2\",\"Q3\",\"Q4\"],\"xaxis\":\"x2\",\"y\":[531,635,1165,946],\"yaxis\":\"y2\",\"type\":\"scatter\"},{\"hovertemplate\":\"maker=MG Motor<br>fiscal_year=2024<br>quarter=%{x}<br>electric_vehicles_sold=%{y}<extra></extra>\",\"legendgroup\":\"MG Motor\",\"line\":{\"color\":\"#00cc96\",\"dash\":\"solid\"},\"marker\":{\"symbol\":\"circle\"},\"mode\":\"markers+lines\",\"name\":\"MG Motor\",\"orientation\":\"v\",\"showlegend\":false,\"x\":[\"Q1\",\"Q2\",\"Q3\",\"Q4\"],\"xaxis\":\"x3\",\"y\":[1493,2524,2190,2622],\"yaxis\":\"y3\",\"type\":\"scatter\"},{\"hovertemplate\":\"maker=Mahindra & Mahindra<br>fiscal_year=2022<br>quarter=%{x}<br>electric_vehicles_sold=%{y}<extra></extra>\",\"legendgroup\":\"Mahindra & Mahindra\",\"line\":{\"color\":\"#ab63fa\",\"dash\":\"solid\"},\"marker\":{\"symbol\":\"circle\"},\"mode\":\"markers+lines\",\"name\":\"Mahindra & Mahindra\",\"orientation\":\"v\",\"showlegend\":true,\"x\":[\"Q1\",\"Q2\",\"Q3\",\"Q4\"],\"xaxis\":\"x\",\"y\":[355,651,1383,1653],\"yaxis\":\"y\",\"type\":\"scatter\"},{\"hovertemplate\":\"maker=Mahindra & Mahindra<br>fiscal_year=2023<br>quarter=%{x}<br>electric_vehicles_sold=%{y}<extra></extra>\",\"legendgroup\":\"Mahindra & Mahindra\",\"line\":{\"color\":\"#ab63fa\",\"dash\":\"solid\"},\"marker\":{\"symbol\":\"circle\"},\"mode\":\"markers+lines\",\"name\":\"Mahindra & Mahindra\",\"orientation\":\"v\",\"showlegend\":false,\"x\":[\"Q1\",\"Q2\",\"Q3\",\"Q4\"],\"xaxis\":\"x2\",\"y\":[2020,3164,3378,5243],\"yaxis\":\"y2\",\"type\":\"scatter\"},{\"hovertemplate\":\"maker=Mahindra & Mahindra<br>fiscal_year=2024<br>quarter=%{x}<br>electric_vehicles_sold=%{y}<extra></extra>\",\"legendgroup\":\"Mahindra & Mahindra\",\"line\":{\"color\":\"#ab63fa\",\"dash\":\"solid\"},\"marker\":{\"symbol\":\"circle\"},\"mode\":\"markers+lines\",\"name\":\"Mahindra & Mahindra\",\"orientation\":\"v\",\"showlegend\":false,\"x\":[\"Q1\",\"Q2\",\"Q3\",\"Q4\"],\"xaxis\":\"x3\",\"y\":[10911,5855,4264,2316],\"yaxis\":\"y3\",\"type\":\"scatter\"},{\"hovertemplate\":\"maker=Tata Motors<br>fiscal_year=2022<br>quarter=%{x}<br>electric_vehicles_sold=%{y}<extra></extra>\",\"legendgroup\":\"Tata Motors\",\"line\":{\"color\":\"#FFA15A\",\"dash\":\"solid\"},\"marker\":{\"symbol\":\"circle\"},\"mode\":\"markers+lines\",\"name\":\"Tata Motors\",\"orientation\":\"v\",\"showlegend\":true,\"x\":[\"Q1\",\"Q2\",\"Q3\",\"Q4\"],\"xaxis\":\"x\",\"y\":[1031,2052,3791,5834],\"yaxis\":\"y\",\"type\":\"scatter\"},{\"hovertemplate\":\"maker=Tata Motors<br>fiscal_year=2023<br>quarter=%{x}<br>electric_vehicles_sold=%{y}<extra></extra>\",\"legendgroup\":\"Tata Motors\",\"line\":{\"color\":\"#FFA15A\",\"dash\":\"solid\"},\"marker\":{\"symbol\":\"circle\"},\"mode\":\"markers+lines\",\"name\":\"Tata Motors\",\"orientation\":\"v\",\"showlegend\":false,\"x\":[\"Q1\",\"Q2\",\"Q3\",\"Q4\"],\"xaxis\":\"x2\",\"y\":[5675,6192,6651,9528],\"yaxis\":\"y2\",\"type\":\"scatter\"},{\"hovertemplate\":\"maker=Tata Motors<br>fiscal_year=2024<br>quarter=%{x}<br>electric_vehicles_sold=%{y}<extra></extra>\",\"legendgroup\":\"Tata Motors\",\"line\":{\"color\":\"#FFA15A\",\"dash\":\"solid\"},\"marker\":{\"symbol\":\"circle\"},\"mode\":\"markers+lines\",\"name\":\"Tata Motors\",\"orientation\":\"v\",\"showlegend\":false,\"x\":[\"Q1\",\"Q2\",\"Q3\",\"Q4\"],\"xaxis\":\"x3\",\"y\":[7247,10337,13236,17361],\"yaxis\":\"y3\",\"type\":\"scatter\"}],                        {\"template\":{\"data\":{\"histogram2dcontour\":[{\"type\":\"histogram2dcontour\",\"colorbar\":{\"outlinewidth\":0,\"ticks\":\"\"},\"colorscale\":[[0.0,\"#0d0887\"],[0.1111111111111111,\"#46039f\"],[0.2222222222222222,\"#7201a8\"],[0.3333333333333333,\"#9c179e\"],[0.4444444444444444,\"#bd3786\"],[0.5555555555555556,\"#d8576b\"],[0.6666666666666666,\"#ed7953\"],[0.7777777777777778,\"#fb9f3a\"],[0.8888888888888888,\"#fdca26\"],[1.0,\"#f0f921\"]]}],\"choropleth\":[{\"type\":\"choropleth\",\"colorbar\":{\"outlinewidth\":0,\"ticks\":\"\"}}],\"histogram2d\":[{\"type\":\"histogram2d\",\"colorbar\":{\"outlinewidth\":0,\"ticks\":\"\"},\"colorscale\":[[0.0,\"#0d0887\"],[0.1111111111111111,\"#46039f\"],[0.2222222222222222,\"#7201a8\"],[0.3333333333333333,\"#9c179e\"],[0.4444444444444444,\"#bd3786\"],[0.5555555555555556,\"#d8576b\"],[0.6666666666666666,\"#ed7953\"],[0.7777777777777778,\"#fb9f3a\"],[0.8888888888888888,\"#fdca26\"],[1.0,\"#f0f921\"]]}],\"heatmap\":[{\"type\":\"heatmap\",\"colorbar\":{\"outlinewidth\":0,\"ticks\":\"\"},\"colorscale\":[[0.0,\"#0d0887\"],[0.1111111111111111,\"#46039f\"],[0.2222222222222222,\"#7201a8\"],[0.3333333333333333,\"#9c179e\"],[0.4444444444444444,\"#bd3786\"],[0.5555555555555556,\"#d8576b\"],[0.6666666666666666,\"#ed7953\"],[0.7777777777777778,\"#fb9f3a\"],[0.8888888888888888,\"#fdca26\"],[1.0,\"#f0f921\"]]}],\"heatmapgl\":[{\"type\":\"heatmapgl\",\"colorbar\":{\"outlinewidth\":0,\"ticks\":\"\"},\"colorscale\":[[0.0,\"#0d0887\"],[0.1111111111111111,\"#46039f\"],[0.2222222222222222,\"#7201a8\"],[0.3333333333333333,\"#9c179e\"],[0.4444444444444444,\"#bd3786\"],[0.5555555555555556,\"#d8576b\"],[0.6666666666666666,\"#ed7953\"],[0.7777777777777778,\"#fb9f3a\"],[0.8888888888888888,\"#fdca26\"],[1.0,\"#f0f921\"]]}],\"contourcarpet\":[{\"type\":\"contourcarpet\",\"colorbar\":{\"outlinewidth\":0,\"ticks\":\"\"}}],\"contour\":[{\"type\":\"contour\",\"colorbar\":{\"outlinewidth\":0,\"ticks\":\"\"},\"colorscale\":[[0.0,\"#0d0887\"],[0.1111111111111111,\"#46039f\"],[0.2222222222222222,\"#7201a8\"],[0.3333333333333333,\"#9c179e\"],[0.4444444444444444,\"#bd3786\"],[0.5555555555555556,\"#d8576b\"],[0.6666666666666666,\"#ed7953\"],[0.7777777777777778,\"#fb9f3a\"],[0.8888888888888888,\"#fdca26\"],[1.0,\"#f0f921\"]]}],\"surface\":[{\"type\":\"surface\",\"colorbar\":{\"outlinewidth\":0,\"ticks\":\"\"},\"colorscale\":[[0.0,\"#0d0887\"],[0.1111111111111111,\"#46039f\"],[0.2222222222222222,\"#7201a8\"],[0.3333333333333333,\"#9c179e\"],[0.4444444444444444,\"#bd3786\"],[0.5555555555555556,\"#d8576b\"],[0.6666666666666666,\"#ed7953\"],[0.7777777777777778,\"#fb9f3a\"],[0.8888888888888888,\"#fdca26\"],[1.0,\"#f0f921\"]]}],\"mesh3d\":[{\"type\":\"mesh3d\",\"colorbar\":{\"outlinewidth\":0,\"ticks\":\"\"}}],\"scatter\":[{\"fillpattern\":{\"fillmode\":\"overlay\",\"size\":10,\"solidity\":0.2},\"type\":\"scatter\"}],\"parcoords\":[{\"type\":\"parcoords\",\"line\":{\"colorbar\":{\"outlinewidth\":0,\"ticks\":\"\"}}}],\"scatterpolargl\":[{\"type\":\"scatterpolargl\",\"marker\":{\"colorbar\":{\"outlinewidth\":0,\"ticks\":\"\"}}}],\"bar\":[{\"error_x\":{\"color\":\"#2a3f5f\"},\"error_y\":{\"color\":\"#2a3f5f\"},\"marker\":{\"line\":{\"color\":\"#E5ECF6\",\"width\":0.5},\"pattern\":{\"fillmode\":\"overlay\",\"size\":10,\"solidity\":0.2}},\"type\":\"bar\"}],\"scattergeo\":[{\"type\":\"scattergeo\",\"marker\":{\"colorbar\":{\"outlinewidth\":0,\"ticks\":\"\"}}}],\"scatterpolar\":[{\"type\":\"scatterpolar\",\"marker\":{\"colorbar\":{\"outlinewidth\":0,\"ticks\":\"\"}}}],\"histogram\":[{\"marker\":{\"pattern\":{\"fillmode\":\"overlay\",\"size\":10,\"solidity\":0.2}},\"type\":\"histogram\"}],\"scattergl\":[{\"type\":\"scattergl\",\"marker\":{\"colorbar\":{\"outlinewidth\":0,\"ticks\":\"\"}}}],\"scatter3d\":[{\"type\":\"scatter3d\",\"line\":{\"colorbar\":{\"outlinewidth\":0,\"ticks\":\"\"}},\"marker\":{\"colorbar\":{\"outlinewidth\":0,\"ticks\":\"\"}}}],\"scattermapbox\":[{\"type\":\"scattermapbox\",\"marker\":{\"colorbar\":{\"outlinewidth\":0,\"ticks\":\"\"}}}],\"scatterternary\":[{\"type\":\"scatterternary\",\"marker\":{\"colorbar\":{\"outlinewidth\":0,\"ticks\":\"\"}}}],\"scattercarpet\":[{\"type\":\"scattercarpet\",\"marker\":{\"colorbar\":{\"outlinewidth\":0,\"ticks\":\"\"}}}],\"carpet\":[{\"aaxis\":{\"endlinecolor\":\"#2a3f5f\",\"gridcolor\":\"white\",\"linecolor\":\"white\",\"minorgridcolor\":\"white\",\"startlinecolor\":\"#2a3f5f\"},\"baxis\":{\"endlinecolor\":\"#2a3f5f\",\"gridcolor\":\"white\",\"linecolor\":\"white\",\"minorgridcolor\":\"white\",\"startlinecolor\":\"#2a3f5f\"},\"type\":\"carpet\"}],\"table\":[{\"cells\":{\"fill\":{\"color\":\"#EBF0F8\"},\"line\":{\"color\":\"white\"}},\"header\":{\"fill\":{\"color\":\"#C8D4E3\"},\"line\":{\"color\":\"white\"}},\"type\":\"table\"}],\"barpolar\":[{\"marker\":{\"line\":{\"color\":\"#E5ECF6\",\"width\":0.5},\"pattern\":{\"fillmode\":\"overlay\",\"size\":10,\"solidity\":0.2}},\"type\":\"barpolar\"}],\"pie\":[{\"automargin\":true,\"type\":\"pie\"}]},\"layout\":{\"autotypenumbers\":\"strict\",\"colorway\":[\"#636efa\",\"#EF553B\",\"#00cc96\",\"#ab63fa\",\"#FFA15A\",\"#19d3f3\",\"#FF6692\",\"#B6E880\",\"#FF97FF\",\"#FECB52\"],\"font\":{\"color\":\"#2a3f5f\"},\"hovermode\":\"closest\",\"hoverlabel\":{\"align\":\"left\"},\"paper_bgcolor\":\"white\",\"plot_bgcolor\":\"#E5ECF6\",\"polar\":{\"bgcolor\":\"#E5ECF6\",\"angularaxis\":{\"gridcolor\":\"white\",\"linecolor\":\"white\",\"ticks\":\"\"},\"radialaxis\":{\"gridcolor\":\"white\",\"linecolor\":\"white\",\"ticks\":\"\"}},\"ternary\":{\"bgcolor\":\"#E5ECF6\",\"aaxis\":{\"gridcolor\":\"white\",\"linecolor\":\"white\",\"ticks\":\"\"},\"baxis\":{\"gridcolor\":\"white\",\"linecolor\":\"white\",\"ticks\":\"\"},\"caxis\":{\"gridcolor\":\"white\",\"linecolor\":\"white\",\"ticks\":\"\"}},\"coloraxis\":{\"colorbar\":{\"outlinewidth\":0,\"ticks\":\"\"}},\"colorscale\":{\"sequential\":[[0.0,\"#0d0887\"],[0.1111111111111111,\"#46039f\"],[0.2222222222222222,\"#7201a8\"],[0.3333333333333333,\"#9c179e\"],[0.4444444444444444,\"#bd3786\"],[0.5555555555555556,\"#d8576b\"],[0.6666666666666666,\"#ed7953\"],[0.7777777777777778,\"#fb9f3a\"],[0.8888888888888888,\"#fdca26\"],[1.0,\"#f0f921\"]],\"sequentialminus\":[[0.0,\"#0d0887\"],[0.1111111111111111,\"#46039f\"],[0.2222222222222222,\"#7201a8\"],[0.3333333333333333,\"#9c179e\"],[0.4444444444444444,\"#bd3786\"],[0.5555555555555556,\"#d8576b\"],[0.6666666666666666,\"#ed7953\"],[0.7777777777777778,\"#fb9f3a\"],[0.8888888888888888,\"#fdca26\"],[1.0,\"#f0f921\"]],\"diverging\":[[0,\"#8e0152\"],[0.1,\"#c51b7d\"],[0.2,\"#de77ae\"],[0.3,\"#f1b6da\"],[0.4,\"#fde0ef\"],[0.5,\"#f7f7f7\"],[0.6,\"#e6f5d0\"],[0.7,\"#b8e186\"],[0.8,\"#7fbc41\"],[0.9,\"#4d9221\"],[1,\"#276419\"]]},\"xaxis\":{\"gridcolor\":\"white\",\"linecolor\":\"white\",\"ticks\":\"\",\"title\":{\"standoff\":15},\"zerolinecolor\":\"white\",\"automargin\":true,\"zerolinewidth\":2},\"yaxis\":{\"gridcolor\":\"white\",\"linecolor\":\"white\",\"ticks\":\"\",\"title\":{\"standoff\":15},\"zerolinecolor\":\"white\",\"automargin\":true,\"zerolinewidth\":2},\"scene\":{\"xaxis\":{\"backgroundcolor\":\"#E5ECF6\",\"gridcolor\":\"white\",\"linecolor\":\"white\",\"showbackground\":true,\"ticks\":\"\",\"zerolinecolor\":\"white\",\"gridwidth\":2},\"yaxis\":{\"backgroundcolor\":\"#E5ECF6\",\"gridcolor\":\"white\",\"linecolor\":\"white\",\"showbackground\":true,\"ticks\":\"\",\"zerolinecolor\":\"white\",\"gridwidth\":2},\"zaxis\":{\"backgroundcolor\":\"#E5ECF6\",\"gridcolor\":\"white\",\"linecolor\":\"white\",\"showbackground\":true,\"ticks\":\"\",\"zerolinecolor\":\"white\",\"gridwidth\":2}},\"shapedefaults\":{\"line\":{\"color\":\"#2a3f5f\"}},\"annotationdefaults\":{\"arrowcolor\":\"#2a3f5f\",\"arrowhead\":0,\"arrowwidth\":1},\"geo\":{\"bgcolor\":\"white\",\"landcolor\":\"#E5ECF6\",\"subunitcolor\":\"white\",\"showland\":true,\"showlakes\":true,\"lakecolor\":\"white\"},\"title\":{\"x\":0.05},\"mapbox\":{\"style\":\"light\"}}},\"xaxis\":{\"anchor\":\"y\",\"domain\":[0.0,0.31999999999999995],\"title\":{\"text\":\"quarter\"}},\"yaxis\":{\"anchor\":\"x\",\"domain\":[0.0,1.0],\"title\":{\"text\":\"electric_vehicles_sold\"}},\"xaxis2\":{\"anchor\":\"y2\",\"domain\":[0.33999999999999997,0.6599999999999999],\"matches\":\"x\",\"title\":{\"text\":\"quarter\"}},\"yaxis2\":{\"anchor\":\"x2\",\"domain\":[0.0,1.0],\"matches\":\"y\",\"showticklabels\":false},\"xaxis3\":{\"anchor\":\"y3\",\"domain\":[0.6799999999999999,0.9999999999999999],\"matches\":\"x\",\"title\":{\"text\":\"quarter\"}},\"yaxis3\":{\"anchor\":\"x3\",\"domain\":[0.0,1.0],\"matches\":\"y\",\"showticklabels\":false},\"annotations\":[{\"font\":{},\"showarrow\":false,\"text\":\"fiscal_year=2022\",\"x\":0.15999999999999998,\"xanchor\":\"center\",\"xref\":\"paper\",\"y\":1.0,\"yanchor\":\"bottom\",\"yref\":\"paper\"},{\"font\":{},\"showarrow\":false,\"text\":\"fiscal_year=2023\",\"x\":0.49999999999999994,\"xanchor\":\"center\",\"xref\":\"paper\",\"y\":1.0,\"yanchor\":\"bottom\",\"yref\":\"paper\"},{\"font\":{},\"showarrow\":false,\"text\":\"fiscal_year=2024\",\"x\":0.8399999999999999,\"xanchor\":\"center\",\"xref\":\"paper\",\"y\":1.0,\"yanchor\":\"bottom\",\"yref\":\"paper\"}],\"legend\":{\"title\":{\"text\":\"maker\"},\"tracegroupgap\":0},\"title\":{\"text\":\"Quarterly Sales Trends for Top 5 EV Makers (4-wheelers) from 2022 to 2024\"}},                        {\"responsive\": true}                    ).then(function(){\n",
       "                            \n",
       "var gd = document.getElementById('b1e2881a-da9c-4275-a390-879191ba40cb');\n",
       "var x = new MutationObserver(function (mutations, observer) {{\n",
       "        var display = window.getComputedStyle(gd).display;\n",
       "        if (!display || display === 'none') {{\n",
       "            console.log([gd, 'removed!']);\n",
       "            Plotly.purge(gd);\n",
       "            observer.disconnect();\n",
       "        }}\n",
       "}});\n",
       "\n",
       "// Listen for the removal of the full notebook cells\n",
       "var notebookContainer = gd.closest('#notebook-container');\n",
       "if (notebookContainer) {{\n",
       "    x.observe(notebookContainer, {childList: true});\n",
       "}}\n",
       "\n",
       "// Listen for the clearing of the current output cell\n",
       "var outputEl = gd.closest('.output');\n",
       "if (outputEl) {{\n",
       "    x.observe(outputEl, {childList: true});\n",
       "}}\n",
       "\n",
       "                        })                };                });            </script>        </div>"
      ]
     },
     "metadata": {},
     "output_type": "display_data"
    }
   ],
   "source": [
    "fig = px.line(top5_q, x='quarter', y='electric_vehicles_sold', color='maker', line_group='maker',markers=True,\n",
    "              facet_col='fiscal_year', title='Quarterly Sales Trends for Top 5 EV Makers (4-wheelers) from 2022 to 2024')\n",
    "fig.show() "
   ]
  },
  {
   "cell_type": "raw",
   "id": "3e47fc3a",
   "metadata": {},
   "source": [
    "How do the EV sales and penetration rates in Delhi compare to Karnataka for 2024?"
   ]
  },
  {
   "cell_type": "code",
   "execution_count": 56,
   "id": "296d1b66",
   "metadata": {},
   "outputs": [
    {
     "data": {
      "text/html": [
       "<div>\n",
       "<style scoped>\n",
       "    .dataframe tbody tr th:only-of-type {\n",
       "        vertical-align: middle;\n",
       "    }\n",
       "\n",
       "    .dataframe tbody tr th {\n",
       "        vertical-align: top;\n",
       "    }\n",
       "\n",
       "    .dataframe thead th {\n",
       "        text-align: right;\n",
       "    }\n",
       "</style>\n",
       "<table border=\"1\" class=\"dataframe\">\n",
       "  <thead>\n",
       "    <tr style=\"text-align: right;\">\n",
       "      <th></th>\n",
       "      <th>date</th>\n",
       "      <th>fiscal_year</th>\n",
       "      <th>quarter</th>\n",
       "      <th>state</th>\n",
       "      <th>vehicle_category</th>\n",
       "      <th>electric_vehicles_sold</th>\n",
       "      <th>total_vehicles_sold</th>\n",
       "    </tr>\n",
       "  </thead>\n",
       "  <tbody>\n",
       "    <tr>\n",
       "      <th>1650</th>\n",
       "      <td>2023-04-01</td>\n",
       "      <td>2024</td>\n",
       "      <td>Q1</td>\n",
       "      <td>Delhi</td>\n",
       "      <td>4-Wheelers</td>\n",
       "      <td>551</td>\n",
       "      <td>14861</td>\n",
       "    </tr>\n",
       "    <tr>\n",
       "      <th>1657</th>\n",
       "      <td>2023-04-01</td>\n",
       "      <td>2024</td>\n",
       "      <td>Q1</td>\n",
       "      <td>Karnataka</td>\n",
       "      <td>4-Wheelers</td>\n",
       "      <td>762</td>\n",
       "      <td>22368</td>\n",
       "    </tr>\n",
       "    <tr>\n",
       "      <th>1676</th>\n",
       "      <td>2023-04-01</td>\n",
       "      <td>2024</td>\n",
       "      <td>Q1</td>\n",
       "      <td>Delhi</td>\n",
       "      <td>2-Wheelers</td>\n",
       "      <td>2738</td>\n",
       "      <td>28590</td>\n",
       "    </tr>\n",
       "    <tr>\n",
       "      <th>1683</th>\n",
       "      <td>2023-04-01</td>\n",
       "      <td>2024</td>\n",
       "      <td>Q1</td>\n",
       "      <td>Karnataka</td>\n",
       "      <td>2-Wheelers</td>\n",
       "      <td>9711</td>\n",
       "      <td>91491</td>\n",
       "    </tr>\n",
       "    <tr>\n",
       "      <th>1715</th>\n",
       "      <td>2023-05-01</td>\n",
       "      <td>2024</td>\n",
       "      <td>Q1</td>\n",
       "      <td>Delhi</td>\n",
       "      <td>4-Wheelers</td>\n",
       "      <td>787</td>\n",
       "      <td>16609</td>\n",
       "    </tr>\n",
       "    <tr>\n",
       "      <th>1722</th>\n",
       "      <td>2023-05-01</td>\n",
       "      <td>2024</td>\n",
       "      <td>Q1</td>\n",
       "      <td>Karnataka</td>\n",
       "      <td>4-Wheelers</td>\n",
       "      <td>999</td>\n",
       "      <td>22601</td>\n",
       "    </tr>\n",
       "    <tr>\n",
       "      <th>1743</th>\n",
       "      <td>2023-05-01</td>\n",
       "      <td>2024</td>\n",
       "      <td>Q1</td>\n",
       "      <td>Delhi</td>\n",
       "      <td>2-Wheelers</td>\n",
       "      <td>4977</td>\n",
       "      <td>32282</td>\n",
       "    </tr>\n",
       "    <tr>\n",
       "      <th>1750</th>\n",
       "      <td>2023-05-01</td>\n",
       "      <td>2024</td>\n",
       "      <td>Q1</td>\n",
       "      <td>Karnataka</td>\n",
       "      <td>2-Wheelers</td>\n",
       "      <td>17292</td>\n",
       "      <td>97074</td>\n",
       "    </tr>\n",
       "    <tr>\n",
       "      <th>1785</th>\n",
       "      <td>2023-06-01</td>\n",
       "      <td>2024</td>\n",
       "      <td>Q1</td>\n",
       "      <td>Delhi</td>\n",
       "      <td>4-Wheelers</td>\n",
       "      <td>935</td>\n",
       "      <td>15723</td>\n",
       "    </tr>\n",
       "    <tr>\n",
       "      <th>1792</th>\n",
       "      <td>2023-06-01</td>\n",
       "      <td>2024</td>\n",
       "      <td>Q1</td>\n",
       "      <td>Karnataka</td>\n",
       "      <td>4-Wheelers</td>\n",
       "      <td>1142</td>\n",
       "      <td>24603</td>\n",
       "    </tr>\n",
       "    <tr>\n",
       "      <th>1812</th>\n",
       "      <td>2023-06-01</td>\n",
       "      <td>2024</td>\n",
       "      <td>Q1</td>\n",
       "      <td>Delhi</td>\n",
       "      <td>2-Wheelers</td>\n",
       "      <td>1787</td>\n",
       "      <td>28279</td>\n",
       "    </tr>\n",
       "    <tr>\n",
       "      <th>1819</th>\n",
       "      <td>2023-06-01</td>\n",
       "      <td>2024</td>\n",
       "      <td>Q1</td>\n",
       "      <td>Karnataka</td>\n",
       "      <td>2-Wheelers</td>\n",
       "      <td>7730</td>\n",
       "      <td>101825</td>\n",
       "    </tr>\n",
       "    <tr>\n",
       "      <th>1852</th>\n",
       "      <td>2023-07-01</td>\n",
       "      <td>2024</td>\n",
       "      <td>Q2</td>\n",
       "      <td>Delhi</td>\n",
       "      <td>4-Wheelers</td>\n",
       "      <td>831</td>\n",
       "      <td>15285</td>\n",
       "    </tr>\n",
       "    <tr>\n",
       "      <th>1859</th>\n",
       "      <td>2023-07-01</td>\n",
       "      <td>2024</td>\n",
       "      <td>Q2</td>\n",
       "      <td>Karnataka</td>\n",
       "      <td>4-Wheelers</td>\n",
       "      <td>1221</td>\n",
       "      <td>23154</td>\n",
       "    </tr>\n",
       "    <tr>\n",
       "      <th>1880</th>\n",
       "      <td>2023-07-01</td>\n",
       "      <td>2024</td>\n",
       "      <td>Q2</td>\n",
       "      <td>Delhi</td>\n",
       "      <td>2-Wheelers</td>\n",
       "      <td>2068</td>\n",
       "      <td>31269</td>\n",
       "    </tr>\n",
       "    <tr>\n",
       "      <th>1887</th>\n",
       "      <td>2023-07-01</td>\n",
       "      <td>2024</td>\n",
       "      <td>Q2</td>\n",
       "      <td>Karnataka</td>\n",
       "      <td>2-Wheelers</td>\n",
       "      <td>9632</td>\n",
       "      <td>95036</td>\n",
       "    </tr>\n",
       "    <tr>\n",
       "      <th>1920</th>\n",
       "      <td>2023-08-01</td>\n",
       "      <td>2024</td>\n",
       "      <td>Q2</td>\n",
       "      <td>Delhi</td>\n",
       "      <td>4-Wheelers</td>\n",
       "      <td>440</td>\n",
       "      <td>15852</td>\n",
       "    </tr>\n",
       "    <tr>\n",
       "      <th>1927</th>\n",
       "      <td>2023-08-01</td>\n",
       "      <td>2024</td>\n",
       "      <td>Q2</td>\n",
       "      <td>Karnataka</td>\n",
       "      <td>4-Wheelers</td>\n",
       "      <td>1196</td>\n",
       "      <td>28235</td>\n",
       "    </tr>\n",
       "    <tr>\n",
       "      <th>1948</th>\n",
       "      <td>2023-08-01</td>\n",
       "      <td>2024</td>\n",
       "      <td>Q2</td>\n",
       "      <td>Delhi</td>\n",
       "      <td>2-Wheelers</td>\n",
       "      <td>2116</td>\n",
       "      <td>33120</td>\n",
       "    </tr>\n",
       "    <tr>\n",
       "      <th>1955</th>\n",
       "      <td>2023-08-01</td>\n",
       "      <td>2024</td>\n",
       "      <td>Q2</td>\n",
       "      <td>Karnataka</td>\n",
       "      <td>2-Wheelers</td>\n",
       "      <td>9720</td>\n",
       "      <td>101545</td>\n",
       "    </tr>\n",
       "    <tr>\n",
       "      <th>1990</th>\n",
       "      <td>2023-09-01</td>\n",
       "      <td>2024</td>\n",
       "      <td>Q2</td>\n",
       "      <td>Delhi</td>\n",
       "      <td>4-Wheelers</td>\n",
       "      <td>380</td>\n",
       "      <td>15776</td>\n",
       "    </tr>\n",
       "    <tr>\n",
       "      <th>1997</th>\n",
       "      <td>2023-09-01</td>\n",
       "      <td>2024</td>\n",
       "      <td>Q2</td>\n",
       "      <td>Karnataka</td>\n",
       "      <td>4-Wheelers</td>\n",
       "      <td>942</td>\n",
       "      <td>24184</td>\n",
       "    </tr>\n",
       "    <tr>\n",
       "      <th>2017</th>\n",
       "      <td>2023-09-01</td>\n",
       "      <td>2024</td>\n",
       "      <td>Q2</td>\n",
       "      <td>Delhi</td>\n",
       "      <td>2-Wheelers</td>\n",
       "      <td>2002</td>\n",
       "      <td>31468</td>\n",
       "    </tr>\n",
       "    <tr>\n",
       "      <th>2024</th>\n",
       "      <td>2023-09-01</td>\n",
       "      <td>2024</td>\n",
       "      <td>Q2</td>\n",
       "      <td>Karnataka</td>\n",
       "      <td>2-Wheelers</td>\n",
       "      <td>10590</td>\n",
       "      <td>106981</td>\n",
       "    </tr>\n",
       "    <tr>\n",
       "      <th>2058</th>\n",
       "      <td>2023-10-01</td>\n",
       "      <td>2024</td>\n",
       "      <td>Q3</td>\n",
       "      <td>Delhi</td>\n",
       "      <td>4-Wheelers</td>\n",
       "      <td>519</td>\n",
       "      <td>16459</td>\n",
       "    </tr>\n",
       "    <tr>\n",
       "      <th>2065</th>\n",
       "      <td>2023-10-01</td>\n",
       "      <td>2024</td>\n",
       "      <td>Q3</td>\n",
       "      <td>Karnataka</td>\n",
       "      <td>4-Wheelers</td>\n",
       "      <td>1154</td>\n",
       "      <td>25652</td>\n",
       "    </tr>\n",
       "    <tr>\n",
       "      <th>2085</th>\n",
       "      <td>2023-10-01</td>\n",
       "      <td>2024</td>\n",
       "      <td>Q3</td>\n",
       "      <td>Delhi</td>\n",
       "      <td>2-Wheelers</td>\n",
       "      <td>2611</td>\n",
       "      <td>35861</td>\n",
       "    </tr>\n",
       "    <tr>\n",
       "      <th>2092</th>\n",
       "      <td>2023-10-01</td>\n",
       "      <td>2024</td>\n",
       "      <td>Q3</td>\n",
       "      <td>Karnataka</td>\n",
       "      <td>2-Wheelers</td>\n",
       "      <td>11137</td>\n",
       "      <td>108712</td>\n",
       "    </tr>\n",
       "    <tr>\n",
       "      <th>2123</th>\n",
       "      <td>2023-11-01</td>\n",
       "      <td>2024</td>\n",
       "      <td>Q3</td>\n",
       "      <td>Delhi</td>\n",
       "      <td>4-Wheelers</td>\n",
       "      <td>538</td>\n",
       "      <td>18675</td>\n",
       "    </tr>\n",
       "    <tr>\n",
       "      <th>2130</th>\n",
       "      <td>2023-11-01</td>\n",
       "      <td>2024</td>\n",
       "      <td>Q3</td>\n",
       "      <td>Karnataka</td>\n",
       "      <td>4-Wheelers</td>\n",
       "      <td>822</td>\n",
       "      <td>26232</td>\n",
       "    </tr>\n",
       "    <tr>\n",
       "      <th>2152</th>\n",
       "      <td>2023-11-01</td>\n",
       "      <td>2024</td>\n",
       "      <td>Q3</td>\n",
       "      <td>Delhi</td>\n",
       "      <td>2-Wheelers</td>\n",
       "      <td>3976</td>\n",
       "      <td>56736</td>\n",
       "    </tr>\n",
       "    <tr>\n",
       "      <th>2159</th>\n",
       "      <td>2023-11-01</td>\n",
       "      <td>2024</td>\n",
       "      <td>Q3</td>\n",
       "      <td>Karnataka</td>\n",
       "      <td>2-Wheelers</td>\n",
       "      <td>14300</td>\n",
       "      <td>136535</td>\n",
       "    </tr>\n",
       "    <tr>\n",
       "      <th>2192</th>\n",
       "      <td>2023-12-01</td>\n",
       "      <td>2024</td>\n",
       "      <td>Q3</td>\n",
       "      <td>Delhi</td>\n",
       "      <td>4-Wheelers</td>\n",
       "      <td>811</td>\n",
       "      <td>16567</td>\n",
       "    </tr>\n",
       "    <tr>\n",
       "      <th>2199</th>\n",
       "      <td>2023-12-01</td>\n",
       "      <td>2024</td>\n",
       "      <td>Q3</td>\n",
       "      <td>Karnataka</td>\n",
       "      <td>4-Wheelers</td>\n",
       "      <td>1155</td>\n",
       "      <td>22859</td>\n",
       "    </tr>\n",
       "    <tr>\n",
       "      <th>2221</th>\n",
       "      <td>2023-12-01</td>\n",
       "      <td>2024</td>\n",
       "      <td>Q3</td>\n",
       "      <td>Delhi</td>\n",
       "      <td>2-Wheelers</td>\n",
       "      <td>5380</td>\n",
       "      <td>27097</td>\n",
       "    </tr>\n",
       "    <tr>\n",
       "      <th>2228</th>\n",
       "      <td>2023-12-01</td>\n",
       "      <td>2024</td>\n",
       "      <td>Q3</td>\n",
       "      <td>Karnataka</td>\n",
       "      <td>2-Wheelers</td>\n",
       "      <td>10237</td>\n",
       "      <td>91996</td>\n",
       "    </tr>\n",
       "    <tr>\n",
       "      <th>2254</th>\n",
       "      <td>2024-01-01</td>\n",
       "      <td>2024</td>\n",
       "      <td>Q4</td>\n",
       "      <td>Karnataka</td>\n",
       "      <td>4-Wheelers</td>\n",
       "      <td>1080</td>\n",
       "      <td>30770</td>\n",
       "    </tr>\n",
       "    <tr>\n",
       "      <th>2259</th>\n",
       "      <td>2024-01-01</td>\n",
       "      <td>2024</td>\n",
       "      <td>Q4</td>\n",
       "      <td>Delhi</td>\n",
       "      <td>4-Wheelers</td>\n",
       "      <td>1345</td>\n",
       "      <td>21520</td>\n",
       "    </tr>\n",
       "    <tr>\n",
       "      <th>2282</th>\n",
       "      <td>2024-01-01</td>\n",
       "      <td>2024</td>\n",
       "      <td>Q4</td>\n",
       "      <td>Karnataka</td>\n",
       "      <td>2-Wheelers</td>\n",
       "      <td>12415</td>\n",
       "      <td>115920</td>\n",
       "    </tr>\n",
       "    <tr>\n",
       "      <th>2287</th>\n",
       "      <td>2024-01-01</td>\n",
       "      <td>2024</td>\n",
       "      <td>Q4</td>\n",
       "      <td>Delhi</td>\n",
       "      <td>2-Wheelers</td>\n",
       "      <td>3073</td>\n",
       "      <td>38413</td>\n",
       "    </tr>\n",
       "    <tr>\n",
       "      <th>2322</th>\n",
       "      <td>2024-02-01</td>\n",
       "      <td>2024</td>\n",
       "      <td>Q4</td>\n",
       "      <td>Karnataka</td>\n",
       "      <td>4-Wheelers</td>\n",
       "      <td>923</td>\n",
       "      <td>24812</td>\n",
       "    </tr>\n",
       "    <tr>\n",
       "      <th>2329</th>\n",
       "      <td>2024-02-01</td>\n",
       "      <td>2024</td>\n",
       "      <td>Q4</td>\n",
       "      <td>Delhi</td>\n",
       "      <td>4-Wheelers</td>\n",
       "      <td>596</td>\n",
       "      <td>17898</td>\n",
       "    </tr>\n",
       "    <tr>\n",
       "      <th>2351</th>\n",
       "      <td>2024-02-01</td>\n",
       "      <td>2024</td>\n",
       "      <td>Q4</td>\n",
       "      <td>Karnataka</td>\n",
       "      <td>2-Wheelers</td>\n",
       "      <td>12605</td>\n",
       "      <td>108852</td>\n",
       "    </tr>\n",
       "    <tr>\n",
       "      <th>2358</th>\n",
       "      <td>2024-02-01</td>\n",
       "      <td>2024</td>\n",
       "      <td>Q4</td>\n",
       "      <td>Delhi</td>\n",
       "      <td>2-Wheelers</td>\n",
       "      <td>2364</td>\n",
       "      <td>30504</td>\n",
       "    </tr>\n",
       "    <tr>\n",
       "      <th>2390</th>\n",
       "      <td>2024-03-01</td>\n",
       "      <td>2024</td>\n",
       "      <td>Q4</td>\n",
       "      <td>Karnataka</td>\n",
       "      <td>4-Wheelers</td>\n",
       "      <td>1482</td>\n",
       "      <td>26751</td>\n",
       "    </tr>\n",
       "    <tr>\n",
       "      <th>2393</th>\n",
       "      <td>2024-03-01</td>\n",
       "      <td>2024</td>\n",
       "      <td>Q4</td>\n",
       "      <td>Delhi</td>\n",
       "      <td>4-Wheelers</td>\n",
       "      <td>897</td>\n",
       "      <td>15905</td>\n",
       "    </tr>\n",
       "    <tr>\n",
       "      <th>2417</th>\n",
       "      <td>2024-03-01</td>\n",
       "      <td>2024</td>\n",
       "      <td>Q4</td>\n",
       "      <td>Karnataka</td>\n",
       "      <td>2-Wheelers</td>\n",
       "      <td>22742</td>\n",
       "      <td>123800</td>\n",
       "    </tr>\n",
       "    <tr>\n",
       "      <th>2420</th>\n",
       "      <td>2024-03-01</td>\n",
       "      <td>2024</td>\n",
       "      <td>Q4</td>\n",
       "      <td>Delhi</td>\n",
       "      <td>2-Wheelers</td>\n",
       "      <td>5002</td>\n",
       "      <td>31599</td>\n",
       "    </tr>\n",
       "  </tbody>\n",
       "</table>\n",
       "</div>"
      ],
      "text/plain": [
       "           date  fiscal_year quarter      state vehicle_category  \\\n",
       "1650 2023-04-01         2024      Q1      Delhi       4-Wheelers   \n",
       "1657 2023-04-01         2024      Q1  Karnataka       4-Wheelers   \n",
       "1676 2023-04-01         2024      Q1      Delhi       2-Wheelers   \n",
       "1683 2023-04-01         2024      Q1  Karnataka       2-Wheelers   \n",
       "1715 2023-05-01         2024      Q1      Delhi       4-Wheelers   \n",
       "1722 2023-05-01         2024      Q1  Karnataka       4-Wheelers   \n",
       "1743 2023-05-01         2024      Q1      Delhi       2-Wheelers   \n",
       "1750 2023-05-01         2024      Q1  Karnataka       2-Wheelers   \n",
       "1785 2023-06-01         2024      Q1      Delhi       4-Wheelers   \n",
       "1792 2023-06-01         2024      Q1  Karnataka       4-Wheelers   \n",
       "1812 2023-06-01         2024      Q1      Delhi       2-Wheelers   \n",
       "1819 2023-06-01         2024      Q1  Karnataka       2-Wheelers   \n",
       "1852 2023-07-01         2024      Q2      Delhi       4-Wheelers   \n",
       "1859 2023-07-01         2024      Q2  Karnataka       4-Wheelers   \n",
       "1880 2023-07-01         2024      Q2      Delhi       2-Wheelers   \n",
       "1887 2023-07-01         2024      Q2  Karnataka       2-Wheelers   \n",
       "1920 2023-08-01         2024      Q2      Delhi       4-Wheelers   \n",
       "1927 2023-08-01         2024      Q2  Karnataka       4-Wheelers   \n",
       "1948 2023-08-01         2024      Q2      Delhi       2-Wheelers   \n",
       "1955 2023-08-01         2024      Q2  Karnataka       2-Wheelers   \n",
       "1990 2023-09-01         2024      Q2      Delhi       4-Wheelers   \n",
       "1997 2023-09-01         2024      Q2  Karnataka       4-Wheelers   \n",
       "2017 2023-09-01         2024      Q2      Delhi       2-Wheelers   \n",
       "2024 2023-09-01         2024      Q2  Karnataka       2-Wheelers   \n",
       "2058 2023-10-01         2024      Q3      Delhi       4-Wheelers   \n",
       "2065 2023-10-01         2024      Q3  Karnataka       4-Wheelers   \n",
       "2085 2023-10-01         2024      Q3      Delhi       2-Wheelers   \n",
       "2092 2023-10-01         2024      Q3  Karnataka       2-Wheelers   \n",
       "2123 2023-11-01         2024      Q3      Delhi       4-Wheelers   \n",
       "2130 2023-11-01         2024      Q3  Karnataka       4-Wheelers   \n",
       "2152 2023-11-01         2024      Q3      Delhi       2-Wheelers   \n",
       "2159 2023-11-01         2024      Q3  Karnataka       2-Wheelers   \n",
       "2192 2023-12-01         2024      Q3      Delhi       4-Wheelers   \n",
       "2199 2023-12-01         2024      Q3  Karnataka       4-Wheelers   \n",
       "2221 2023-12-01         2024      Q3      Delhi       2-Wheelers   \n",
       "2228 2023-12-01         2024      Q3  Karnataka       2-Wheelers   \n",
       "2254 2024-01-01         2024      Q4  Karnataka       4-Wheelers   \n",
       "2259 2024-01-01         2024      Q4      Delhi       4-Wheelers   \n",
       "2282 2024-01-01         2024      Q4  Karnataka       2-Wheelers   \n",
       "2287 2024-01-01         2024      Q4      Delhi       2-Wheelers   \n",
       "2322 2024-02-01         2024      Q4  Karnataka       4-Wheelers   \n",
       "2329 2024-02-01         2024      Q4      Delhi       4-Wheelers   \n",
       "2351 2024-02-01         2024      Q4  Karnataka       2-Wheelers   \n",
       "2358 2024-02-01         2024      Q4      Delhi       2-Wheelers   \n",
       "2390 2024-03-01         2024      Q4  Karnataka       4-Wheelers   \n",
       "2393 2024-03-01         2024      Q4      Delhi       4-Wheelers   \n",
       "2417 2024-03-01         2024      Q4  Karnataka       2-Wheelers   \n",
       "2420 2024-03-01         2024      Q4      Delhi       2-Wheelers   \n",
       "\n",
       "      electric_vehicles_sold  total_vehicles_sold  \n",
       "1650                     551                14861  \n",
       "1657                     762                22368  \n",
       "1676                    2738                28590  \n",
       "1683                    9711                91491  \n",
       "1715                     787                16609  \n",
       "1722                     999                22601  \n",
       "1743                    4977                32282  \n",
       "1750                   17292                97074  \n",
       "1785                     935                15723  \n",
       "1792                    1142                24603  \n",
       "1812                    1787                28279  \n",
       "1819                    7730               101825  \n",
       "1852                     831                15285  \n",
       "1859                    1221                23154  \n",
       "1880                    2068                31269  \n",
       "1887                    9632                95036  \n",
       "1920                     440                15852  \n",
       "1927                    1196                28235  \n",
       "1948                    2116                33120  \n",
       "1955                    9720               101545  \n",
       "1990                     380                15776  \n",
       "1997                     942                24184  \n",
       "2017                    2002                31468  \n",
       "2024                   10590               106981  \n",
       "2058                     519                16459  \n",
       "2065                    1154                25652  \n",
       "2085                    2611                35861  \n",
       "2092                   11137               108712  \n",
       "2123                     538                18675  \n",
       "2130                     822                26232  \n",
       "2152                    3976                56736  \n",
       "2159                   14300               136535  \n",
       "2192                     811                16567  \n",
       "2199                    1155                22859  \n",
       "2221                    5380                27097  \n",
       "2228                   10237                91996  \n",
       "2254                    1080                30770  \n",
       "2259                    1345                21520  \n",
       "2282                   12415               115920  \n",
       "2287                    3073                38413  \n",
       "2322                     923                24812  \n",
       "2329                     596                17898  \n",
       "2351                   12605               108852  \n",
       "2358                    2364                30504  \n",
       "2390                    1482                26751  \n",
       "2393                     897                15905  \n",
       "2417                   22742               123800  \n",
       "2420                    5002                31599  "
      ]
     },
     "execution_count": 56,
     "metadata": {},
     "output_type": "execute_result"
    }
   ],
   "source": [
    "dk=new_s[(new_s['state'].isin(['Delhi','Karnataka']))& (new_s['fiscal_year']==2024)]\n",
    "dk"
   ]
  },
  {
   "cell_type": "code",
   "execution_count": 57,
   "id": "5c664626",
   "metadata": {},
   "outputs": [
    {
     "data": {
      "text/html": [
       "<div>\n",
       "<style scoped>\n",
       "    .dataframe tbody tr th:only-of-type {\n",
       "        vertical-align: middle;\n",
       "    }\n",
       "\n",
       "    .dataframe tbody tr th {\n",
       "        vertical-align: top;\n",
       "    }\n",
       "\n",
       "    .dataframe thead th {\n",
       "        text-align: right;\n",
       "    }\n",
       "</style>\n",
       "<table border=\"1\" class=\"dataframe\">\n",
       "  <thead>\n",
       "    <tr style=\"text-align: right;\">\n",
       "      <th></th>\n",
       "      <th>state</th>\n",
       "      <th>fiscal_year</th>\n",
       "      <th>electric_vehicles_sold</th>\n",
       "      <th>total_vehicles_sold</th>\n",
       "    </tr>\n",
       "  </thead>\n",
       "  <tbody>\n",
       "    <tr>\n",
       "      <th>0</th>\n",
       "      <td>Delhi</td>\n",
       "      <td>48576</td>\n",
       "      <td>46724</td>\n",
       "      <td>606348</td>\n",
       "    </tr>\n",
       "    <tr>\n",
       "      <th>1</th>\n",
       "      <td>Karnataka</td>\n",
       "      <td>48576</td>\n",
       "      <td>160989</td>\n",
       "      <td>1581988</td>\n",
       "    </tr>\n",
       "  </tbody>\n",
       "</table>\n",
       "</div>"
      ],
      "text/plain": [
       "       state  fiscal_year  electric_vehicles_sold  total_vehicles_sold\n",
       "0      Delhi        48576                   46724               606348\n",
       "1  Karnataka        48576                  160989              1581988"
      ]
     },
     "execution_count": 57,
     "metadata": {},
     "output_type": "execute_result"
    }
   ],
   "source": [
    "dkPRate=dk.groupby('state').sum(['electric_vehicles_sold','total_vehicles_sold']).reset_index()\n",
    "dkPRate"
   ]
  },
  {
   "cell_type": "code",
   "execution_count": 58,
   "id": "f7bc71a7",
   "metadata": {},
   "outputs": [
    {
     "data": {
      "text/html": [
       "<div>\n",
       "<style scoped>\n",
       "    .dataframe tbody tr th:only-of-type {\n",
       "        vertical-align: middle;\n",
       "    }\n",
       "\n",
       "    .dataframe tbody tr th {\n",
       "        vertical-align: top;\n",
       "    }\n",
       "\n",
       "    .dataframe thead th {\n",
       "        text-align: right;\n",
       "    }\n",
       "</style>\n",
       "<table border=\"1\" class=\"dataframe\">\n",
       "  <thead>\n",
       "    <tr style=\"text-align: right;\">\n",
       "      <th></th>\n",
       "      <th>state</th>\n",
       "      <th>fiscal_year</th>\n",
       "      <th>electric_vehicles_sold</th>\n",
       "      <th>total_vehicles_sold</th>\n",
       "      <th>PRate24</th>\n",
       "    </tr>\n",
       "  </thead>\n",
       "  <tbody>\n",
       "    <tr>\n",
       "      <th>0</th>\n",
       "      <td>Delhi</td>\n",
       "      <td>48576</td>\n",
       "      <td>46724</td>\n",
       "      <td>606348</td>\n",
       "      <td>7.705806</td>\n",
       "    </tr>\n",
       "    <tr>\n",
       "      <th>1</th>\n",
       "      <td>Karnataka</td>\n",
       "      <td>48576</td>\n",
       "      <td>160989</td>\n",
       "      <td>1581988</td>\n",
       "      <td>10.176373</td>\n",
       "    </tr>\n",
       "  </tbody>\n",
       "</table>\n",
       "</div>"
      ],
      "text/plain": [
       "       state  fiscal_year  electric_vehicles_sold  total_vehicles_sold  \\\n",
       "0      Delhi        48576                   46724               606348   \n",
       "1  Karnataka        48576                  160989              1581988   \n",
       "\n",
       "     PRate24  \n",
       "0   7.705806  \n",
       "1  10.176373  "
      ]
     },
     "execution_count": 58,
     "metadata": {},
     "output_type": "execute_result"
    }
   ],
   "source": [
    "dkPRate['PRate24']=(dkPRate['electric_vehicles_sold']/dkPRate['total_vehicles_sold'])*100\n",
    "dkPRate"
   ]
  },
  {
   "cell_type": "code",
   "execution_count": 144,
   "id": "fec8cb37",
   "metadata": {},
   "outputs": [
    {
     "data": {
      "image/png": "[encoded data removed]",
      "text/plain": [
       "<Figure size 1200x600 with 2 Axes>"
      ]
     },
     "metadata": {},
     "output_type": "display_data"
    }
   ],
   "source": [
    "import seaborn as sns\n",
    "import matplotlib.pyplot as plt\n",
    "\n",
    "fig, axes = plt.subplots(1, 2, figsize=(12, 6))  \n",
    "\n",
    "\n",
    "sns.barplot(x='state', y='electric_vehicles_sold', data=dkPRate, ax=axes[0])\n",
    "axes[0].set_title('EV Sold')\n",
    "axes[0].set_xlabel('State')\n",
    "axes[0].set_ylabel('Electric Vehicles Sold')\n",
    "\n",
    "for container in axes[0].containers:\n",
    "    axes[0].bar_label(container, fmt='%.0f')  \n",
    "\n",
    "\n",
    "sns.barplot(x='state', y='PRate24', data=dkPRate, ax=axes[1])\n",
    "axes[1].set_title('Penetration Rate')\n",
    "axes[1].set_xlabel('State')\n",
    "axes[1].set_ylabel('Penetration Rate')\n",
    "\n",
    "for container in axes[1].containers:\n",
    "    axes[1].bar_label(container, fmt='%.2f') \n",
    "\n",
    "\n",
    "fig.suptitle(\"Delhi vs Karnataka EV Sales and Penetration Rate 2024\", fontsize=16)\n",
    "\n",
    "\n",
    "fig.tight_layout(rect=[0, 0, 1, 0.95]) \n",
    "\n",
    "plt.show()"
   ]
  },
  {
   "cell_type": "raw",
   "id": "3173c5c8",
   "metadata": {},
   "source": [
    "List down the compounded annual growth rate (CAGR) in 4-wheeler units for the top 5 makers from 2022 to 2024."
   ]
  },
  {
   "cell_type": "code",
   "execution_count": 61,
   "id": "ab0348e4",
   "metadata": {},
   "outputs": [
    {
     "data": {
      "text/html": [
       "<div>\n",
       "<style scoped>\n",
       "    .dataframe tbody tr th:only-of-type {\n",
       "        vertical-align: middle;\n",
       "    }\n",
       "\n",
       "    .dataframe tbody tr th {\n",
       "        vertical-align: top;\n",
       "    }\n",
       "\n",
       "    .dataframe thead th {\n",
       "        text-align: right;\n",
       "    }\n",
       "</style>\n",
       "<table border=\"1\" class=\"dataframe\">\n",
       "  <thead>\n",
       "    <tr style=\"text-align: right;\">\n",
       "      <th></th>\n",
       "      <th>date</th>\n",
       "      <th>fiscal_year</th>\n",
       "      <th>quarter</th>\n",
       "      <th>vehicle_category</th>\n",
       "      <th>maker</th>\n",
       "      <th>electric_vehicles_sold</th>\n",
       "    </tr>\n",
       "  </thead>\n",
       "  <tbody>\n",
       "    <tr>\n",
       "      <th>1</th>\n",
       "      <td>2021-04-01</td>\n",
       "      <td>2022</td>\n",
       "      <td>Q1</td>\n",
       "      <td>4-Wheelers</td>\n",
       "      <td>BYD India</td>\n",
       "      <td>0</td>\n",
       "    </tr>\n",
       "    <tr>\n",
       "      <th>2</th>\n",
       "      <td>2021-04-01</td>\n",
       "      <td>2022</td>\n",
       "      <td>Q1</td>\n",
       "      <td>4-Wheelers</td>\n",
       "      <td>PCA Automobiles</td>\n",
       "      <td>0</td>\n",
       "    </tr>\n",
       "    <tr>\n",
       "      <th>3</th>\n",
       "      <td>2021-04-01</td>\n",
       "      <td>2022</td>\n",
       "      <td>Q1</td>\n",
       "      <td>4-Wheelers</td>\n",
       "      <td>BMW India</td>\n",
       "      <td>0</td>\n",
       "    </tr>\n",
       "    <tr>\n",
       "      <th>4</th>\n",
       "      <td>2021-04-01</td>\n",
       "      <td>2022</td>\n",
       "      <td>Q1</td>\n",
       "      <td>4-Wheelers</td>\n",
       "      <td>Volvo Auto India</td>\n",
       "      <td>0</td>\n",
       "    </tr>\n",
       "    <tr>\n",
       "      <th>5</th>\n",
       "      <td>2021-04-01</td>\n",
       "      <td>2022</td>\n",
       "      <td>Q1</td>\n",
       "      <td>4-Wheelers</td>\n",
       "      <td>KIA Motors</td>\n",
       "      <td>0</td>\n",
       "    </tr>\n",
       "    <tr>\n",
       "      <th>...</th>\n",
       "      <td>...</td>\n",
       "      <td>...</td>\n",
       "      <td>...</td>\n",
       "      <td>...</td>\n",
       "      <td>...</td>\n",
       "      <td>...</td>\n",
       "    </tr>\n",
       "    <tr>\n",
       "      <th>798</th>\n",
       "      <td>2024-03-01</td>\n",
       "      <td>2024</td>\n",
       "      <td>Q4</td>\n",
       "      <td>4-Wheelers</td>\n",
       "      <td>PCA Automobiles</td>\n",
       "      <td>130</td>\n",
       "    </tr>\n",
       "    <tr>\n",
       "      <th>799</th>\n",
       "      <td>2024-03-01</td>\n",
       "      <td>2024</td>\n",
       "      <td>Q4</td>\n",
       "      <td>4-Wheelers</td>\n",
       "      <td>BMW India</td>\n",
       "      <td>55</td>\n",
       "    </tr>\n",
       "    <tr>\n",
       "      <th>800</th>\n",
       "      <td>2024-03-01</td>\n",
       "      <td>2024</td>\n",
       "      <td>Q4</td>\n",
       "      <td>4-Wheelers</td>\n",
       "      <td>Mercedes -Benz AG</td>\n",
       "      <td>31</td>\n",
       "    </tr>\n",
       "    <tr>\n",
       "      <th>801</th>\n",
       "      <td>2024-03-01</td>\n",
       "      <td>2024</td>\n",
       "      <td>Q4</td>\n",
       "      <td>4-Wheelers</td>\n",
       "      <td>Volvo Auto India</td>\n",
       "      <td>39</td>\n",
       "    </tr>\n",
       "    <tr>\n",
       "      <th>802</th>\n",
       "      <td>2024-03-01</td>\n",
       "      <td>2024</td>\n",
       "      <td>Q4</td>\n",
       "      <td>4-Wheelers</td>\n",
       "      <td>KIA Motors</td>\n",
       "      <td>26</td>\n",
       "    </tr>\n",
       "  </tbody>\n",
       "</table>\n",
       "<p>360 rows × 6 columns</p>\n",
       "</div>"
      ],
      "text/plain": [
       "          date  fiscal_year quarter vehicle_category              maker  \\\n",
       "1   2021-04-01         2022      Q1       4-Wheelers          BYD India   \n",
       "2   2021-04-01         2022      Q1       4-Wheelers    PCA Automobiles   \n",
       "3   2021-04-01         2022      Q1       4-Wheelers          BMW India   \n",
       "4   2021-04-01         2022      Q1       4-Wheelers   Volvo Auto India   \n",
       "5   2021-04-01         2022      Q1       4-Wheelers         KIA Motors   \n",
       "..         ...          ...     ...              ...                ...   \n",
       "798 2024-03-01         2024      Q4       4-Wheelers    PCA Automobiles   \n",
       "799 2024-03-01         2024      Q4       4-Wheelers          BMW India   \n",
       "800 2024-03-01         2024      Q4       4-Wheelers  Mercedes -Benz AG   \n",
       "801 2024-03-01         2024      Q4       4-Wheelers   Volvo Auto India   \n",
       "802 2024-03-01         2024      Q4       4-Wheelers         KIA Motors   \n",
       "\n",
       "     electric_vehicles_sold  \n",
       "1                         0  \n",
       "2                         0  \n",
       "3                         0  \n",
       "4                         0  \n",
       "5                         0  \n",
       "..                      ...  \n",
       "798                     130  \n",
       "799                      55  \n",
       "800                      31  \n",
       "801                      39  \n",
       "802                      26  \n",
       "\n",
       "[360 rows x 6 columns]"
      ]
     },
     "execution_count": 61,
     "metadata": {},
     "output_type": "execute_result"
    }
   ],
   "source": [
    "maker_4=new_m[(new_m['vehicle_category']=='4-Wheelers')]\n",
    "maker_4"
   ]
  },
  {
   "cell_type": "code",
   "execution_count": 62,
   "id": "df02103c",
   "metadata": {},
   "outputs": [
    {
     "data": {
      "text/html": [
       "<div>\n",
       "<style scoped>\n",
       "    .dataframe tbody tr th:only-of-type {\n",
       "        vertical-align: middle;\n",
       "    }\n",
       "\n",
       "    .dataframe tbody tr th {\n",
       "        vertical-align: top;\n",
       "    }\n",
       "\n",
       "    .dataframe thead th {\n",
       "        text-align: right;\n",
       "    }\n",
       "</style>\n",
       "<table border=\"1\" class=\"dataframe\">\n",
       "  <thead>\n",
       "    <tr style=\"text-align: right;\">\n",
       "      <th></th>\n",
       "      <th>maker</th>\n",
       "      <th>fiscal_year</th>\n",
       "      <th>electric_vehicles_sold</th>\n",
       "    </tr>\n",
       "  </thead>\n",
       "  <tbody>\n",
       "    <tr>\n",
       "      <th>0</th>\n",
       "      <td>BMW India</td>\n",
       "      <td>72828</td>\n",
       "      <td>1370</td>\n",
       "    </tr>\n",
       "    <tr>\n",
       "      <th>1</th>\n",
       "      <td>BYD India</td>\n",
       "      <td>72828</td>\n",
       "      <td>2419</td>\n",
       "    </tr>\n",
       "    <tr>\n",
       "      <th>2</th>\n",
       "      <td>Hyundai Motor</td>\n",
       "      <td>72828</td>\n",
       "      <td>2076</td>\n",
       "    </tr>\n",
       "    <tr>\n",
       "      <th>3</th>\n",
       "      <td>KIA Motors</td>\n",
       "      <td>72828</td>\n",
       "      <td>557</td>\n",
       "    </tr>\n",
       "    <tr>\n",
       "      <th>4</th>\n",
       "      <td>MG Motor</td>\n",
       "      <td>72828</td>\n",
       "      <td>13753</td>\n",
       "    </tr>\n",
       "    <tr>\n",
       "      <th>5</th>\n",
       "      <td>Mahindra &amp; Mahindra</td>\n",
       "      <td>72828</td>\n",
       "      <td>41193</td>\n",
       "    </tr>\n",
       "    <tr>\n",
       "      <th>6</th>\n",
       "      <td>Mercedes -Benz AG</td>\n",
       "      <td>72828</td>\n",
       "      <td>388</td>\n",
       "    </tr>\n",
       "    <tr>\n",
       "      <th>7</th>\n",
       "      <td>PCA Automobiles</td>\n",
       "      <td>72828</td>\n",
       "      <td>1684</td>\n",
       "    </tr>\n",
       "    <tr>\n",
       "      <th>8</th>\n",
       "      <td>Tata Motors</td>\n",
       "      <td>72828</td>\n",
       "      <td>88935</td>\n",
       "    </tr>\n",
       "    <tr>\n",
       "      <th>9</th>\n",
       "      <td>Volvo Auto India</td>\n",
       "      <td>72828</td>\n",
       "      <td>568</td>\n",
       "    </tr>\n",
       "  </tbody>\n",
       "</table>\n",
       "</div>"
      ],
      "text/plain": [
       "                 maker  fiscal_year  electric_vehicles_sold\n",
       "0            BMW India        72828                    1370\n",
       "1            BYD India        72828                    2419\n",
       "2        Hyundai Motor        72828                    2076\n",
       "3           KIA Motors        72828                     557\n",
       "4             MG Motor        72828                   13753\n",
       "5  Mahindra & Mahindra        72828                   41193\n",
       "6    Mercedes -Benz AG        72828                     388\n",
       "7      PCA Automobiles        72828                    1684\n",
       "8          Tata Motors        72828                   88935\n",
       "9     Volvo Auto India        72828                     568"
      ]
     },
     "execution_count": 62,
     "metadata": {},
     "output_type": "execute_result"
    }
   ],
   "source": [
    "maker_sales=maker_4.groupby('maker').sum('electric_vehicles_sold').reset_index()\n",
    "maker_sales"
   ]
  },
  {
   "cell_type": "code",
   "execution_count": 63,
   "id": "358036fa",
   "metadata": {},
   "outputs": [
    {
     "data": {
      "text/html": [
       "<div>\n",
       "<style scoped>\n",
       "    .dataframe tbody tr th:only-of-type {\n",
       "        vertical-align: middle;\n",
       "    }\n",
       "\n",
       "    .dataframe tbody tr th {\n",
       "        vertical-align: top;\n",
       "    }\n",
       "\n",
       "    .dataframe thead th {\n",
       "        text-align: right;\n",
       "    }\n",
       "</style>\n",
       "<table border=\"1\" class=\"dataframe\">\n",
       "  <thead>\n",
       "    <tr style=\"text-align: right;\">\n",
       "      <th></th>\n",
       "      <th>maker</th>\n",
       "      <th>fiscal_year</th>\n",
       "      <th>electric_vehicles_sold</th>\n",
       "    </tr>\n",
       "  </thead>\n",
       "  <tbody>\n",
       "    <tr>\n",
       "      <th>8</th>\n",
       "      <td>Tata Motors</td>\n",
       "      <td>72828</td>\n",
       "      <td>88935</td>\n",
       "    </tr>\n",
       "    <tr>\n",
       "      <th>5</th>\n",
       "      <td>Mahindra &amp; Mahindra</td>\n",
       "      <td>72828</td>\n",
       "      <td>41193</td>\n",
       "    </tr>\n",
       "    <tr>\n",
       "      <th>4</th>\n",
       "      <td>MG Motor</td>\n",
       "      <td>72828</td>\n",
       "      <td>13753</td>\n",
       "    </tr>\n",
       "    <tr>\n",
       "      <th>1</th>\n",
       "      <td>BYD India</td>\n",
       "      <td>72828</td>\n",
       "      <td>2419</td>\n",
       "    </tr>\n",
       "    <tr>\n",
       "      <th>2</th>\n",
       "      <td>Hyundai Motor</td>\n",
       "      <td>72828</td>\n",
       "      <td>2076</td>\n",
       "    </tr>\n",
       "  </tbody>\n",
       "</table>\n",
       "</div>"
      ],
      "text/plain": [
       "                 maker  fiscal_year  electric_vehicles_sold\n",
       "8          Tata Motors        72828                   88935\n",
       "5  Mahindra & Mahindra        72828                   41193\n",
       "4             MG Motor        72828                   13753\n",
       "1            BYD India        72828                    2419\n",
       "2        Hyundai Motor        72828                    2076"
      ]
     },
     "execution_count": 63,
     "metadata": {},
     "output_type": "execute_result"
    }
   ],
   "source": [
    "maker_sort=maker_sales.sort_values(by='electric_vehicles_sold',ascending=False)\n",
    "maker_top5=maker_sort.head()\n",
    "maker_top5"
   ]
  },
  {
   "cell_type": "code",
   "execution_count": 64,
   "id": "87455f72",
   "metadata": {},
   "outputs": [
    {
     "data": {
      "text/html": [
       "<div>\n",
       "<style scoped>\n",
       "    .dataframe tbody tr th:only-of-type {\n",
       "        vertical-align: middle;\n",
       "    }\n",
       "\n",
       "    .dataframe tbody tr th {\n",
       "        vertical-align: top;\n",
       "    }\n",
       "\n",
       "    .dataframe thead th {\n",
       "        text-align: right;\n",
       "    }\n",
       "</style>\n",
       "<table border=\"1\" class=\"dataframe\">\n",
       "  <thead>\n",
       "    <tr style=\"text-align: right;\">\n",
       "      <th></th>\n",
       "      <th>maker</th>\n",
       "      <th>fiscal_year</th>\n",
       "      <th>electric_vehicles_sold</th>\n",
       "    </tr>\n",
       "  </thead>\n",
       "  <tbody>\n",
       "    <tr>\n",
       "      <th>0</th>\n",
       "      <td>BMW India</td>\n",
       "      <td>2022</td>\n",
       "      <td>7</td>\n",
       "    </tr>\n",
       "    <tr>\n",
       "      <th>1</th>\n",
       "      <td>BMW India</td>\n",
       "      <td>2023</td>\n",
       "      <td>285</td>\n",
       "    </tr>\n",
       "    <tr>\n",
       "      <th>2</th>\n",
       "      <td>BMW India</td>\n",
       "      <td>2024</td>\n",
       "      <td>1078</td>\n",
       "    </tr>\n",
       "    <tr>\n",
       "      <th>3</th>\n",
       "      <td>BYD India</td>\n",
       "      <td>2022</td>\n",
       "      <td>33</td>\n",
       "    </tr>\n",
       "    <tr>\n",
       "      <th>4</th>\n",
       "      <td>BYD India</td>\n",
       "      <td>2023</td>\n",
       "      <td>920</td>\n",
       "    </tr>\n",
       "    <tr>\n",
       "      <th>5</th>\n",
       "      <td>BYD India</td>\n",
       "      <td>2024</td>\n",
       "      <td>1466</td>\n",
       "    </tr>\n",
       "    <tr>\n",
       "      <th>6</th>\n",
       "      <td>Hyundai Motor</td>\n",
       "      <td>2022</td>\n",
       "      <td>110</td>\n",
       "    </tr>\n",
       "    <tr>\n",
       "      <th>7</th>\n",
       "      <td>Hyundai Motor</td>\n",
       "      <td>2023</td>\n",
       "      <td>576</td>\n",
       "    </tr>\n",
       "    <tr>\n",
       "      <th>8</th>\n",
       "      <td>Hyundai Motor</td>\n",
       "      <td>2024</td>\n",
       "      <td>1390</td>\n",
       "    </tr>\n",
       "    <tr>\n",
       "      <th>9</th>\n",
       "      <td>KIA Motors</td>\n",
       "      <td>2022</td>\n",
       "      <td>0</td>\n",
       "    </tr>\n",
       "    <tr>\n",
       "      <th>10</th>\n",
       "      <td>KIA Motors</td>\n",
       "      <td>2023</td>\n",
       "      <td>229</td>\n",
       "    </tr>\n",
       "    <tr>\n",
       "      <th>11</th>\n",
       "      <td>KIA Motors</td>\n",
       "      <td>2024</td>\n",
       "      <td>328</td>\n",
       "    </tr>\n",
       "    <tr>\n",
       "      <th>12</th>\n",
       "      <td>MG Motor</td>\n",
       "      <td>2022</td>\n",
       "      <td>1647</td>\n",
       "    </tr>\n",
       "    <tr>\n",
       "      <th>13</th>\n",
       "      <td>MG Motor</td>\n",
       "      <td>2023</td>\n",
       "      <td>3277</td>\n",
       "    </tr>\n",
       "    <tr>\n",
       "      <th>14</th>\n",
       "      <td>MG Motor</td>\n",
       "      <td>2024</td>\n",
       "      <td>8829</td>\n",
       "    </tr>\n",
       "    <tr>\n",
       "      <th>15</th>\n",
       "      <td>Mahindra &amp; Mahindra</td>\n",
       "      <td>2022</td>\n",
       "      <td>4042</td>\n",
       "    </tr>\n",
       "    <tr>\n",
       "      <th>16</th>\n",
       "      <td>Mahindra &amp; Mahindra</td>\n",
       "      <td>2023</td>\n",
       "      <td>13805</td>\n",
       "    </tr>\n",
       "    <tr>\n",
       "      <th>17</th>\n",
       "      <td>Mahindra &amp; Mahindra</td>\n",
       "      <td>2024</td>\n",
       "      <td>23346</td>\n",
       "    </tr>\n",
       "    <tr>\n",
       "      <th>18</th>\n",
       "      <td>Mercedes -Benz AG</td>\n",
       "      <td>2022</td>\n",
       "      <td>26</td>\n",
       "    </tr>\n",
       "    <tr>\n",
       "      <th>19</th>\n",
       "      <td>Mercedes -Benz AG</td>\n",
       "      <td>2023</td>\n",
       "      <td>71</td>\n",
       "    </tr>\n",
       "    <tr>\n",
       "      <th>20</th>\n",
       "      <td>Mercedes -Benz AG</td>\n",
       "      <td>2024</td>\n",
       "      <td>291</td>\n",
       "    </tr>\n",
       "    <tr>\n",
       "      <th>21</th>\n",
       "      <td>PCA Automobiles</td>\n",
       "      <td>2022</td>\n",
       "      <td>0</td>\n",
       "    </tr>\n",
       "    <tr>\n",
       "      <th>22</th>\n",
       "      <td>PCA Automobiles</td>\n",
       "      <td>2023</td>\n",
       "      <td>151</td>\n",
       "    </tr>\n",
       "    <tr>\n",
       "      <th>23</th>\n",
       "      <td>PCA Automobiles</td>\n",
       "      <td>2024</td>\n",
       "      <td>1533</td>\n",
       "    </tr>\n",
       "    <tr>\n",
       "      <th>24</th>\n",
       "      <td>Tata Motors</td>\n",
       "      <td>2022</td>\n",
       "      <td>12708</td>\n",
       "    </tr>\n",
       "    <tr>\n",
       "      <th>25</th>\n",
       "      <td>Tata Motors</td>\n",
       "      <td>2023</td>\n",
       "      <td>28046</td>\n",
       "    </tr>\n",
       "    <tr>\n",
       "      <th>26</th>\n",
       "      <td>Tata Motors</td>\n",
       "      <td>2024</td>\n",
       "      <td>48181</td>\n",
       "    </tr>\n",
       "    <tr>\n",
       "      <th>27</th>\n",
       "      <td>Volvo Auto India</td>\n",
       "      <td>2022</td>\n",
       "      <td>4</td>\n",
       "    </tr>\n",
       "    <tr>\n",
       "      <th>28</th>\n",
       "      <td>Volvo Auto India</td>\n",
       "      <td>2023</td>\n",
       "      <td>105</td>\n",
       "    </tr>\n",
       "    <tr>\n",
       "      <th>29</th>\n",
       "      <td>Volvo Auto India</td>\n",
       "      <td>2024</td>\n",
       "      <td>459</td>\n",
       "    </tr>\n",
       "  </tbody>\n",
       "</table>\n",
       "</div>"
      ],
      "text/plain": [
       "                  maker  fiscal_year  electric_vehicles_sold\n",
       "0             BMW India         2022                       7\n",
       "1             BMW India         2023                     285\n",
       "2             BMW India         2024                    1078\n",
       "3             BYD India         2022                      33\n",
       "4             BYD India         2023                     920\n",
       "5             BYD India         2024                    1466\n",
       "6         Hyundai Motor         2022                     110\n",
       "7         Hyundai Motor         2023                     576\n",
       "8         Hyundai Motor         2024                    1390\n",
       "9            KIA Motors         2022                       0\n",
       "10           KIA Motors         2023                     229\n",
       "11           KIA Motors         2024                     328\n",
       "12             MG Motor         2022                    1647\n",
       "13             MG Motor         2023                    3277\n",
       "14             MG Motor         2024                    8829\n",
       "15  Mahindra & Mahindra         2022                    4042\n",
       "16  Mahindra & Mahindra         2023                   13805\n",
       "17  Mahindra & Mahindra         2024                   23346\n",
       "18    Mercedes -Benz AG         2022                      26\n",
       "19    Mercedes -Benz AG         2023                      71\n",
       "20    Mercedes -Benz AG         2024                     291\n",
       "21      PCA Automobiles         2022                       0\n",
       "22      PCA Automobiles         2023                     151\n",
       "23      PCA Automobiles         2024                    1533\n",
       "24          Tata Motors         2022                   12708\n",
       "25          Tata Motors         2023                   28046\n",
       "26          Tata Motors         2024                   48181\n",
       "27     Volvo Auto India         2022                       4\n",
       "28     Volvo Auto India         2023                     105\n",
       "29     Volvo Auto India         2024                     459"
      ]
     },
     "execution_count": 64,
     "metadata": {},
     "output_type": "execute_result"
    }
   ],
   "source": [
    "maker_s=maker_4.groupby(['maker','fiscal_year']).sum('electric_vehicles_sold').reset_index()\n",
    "maker_s"
   ]
  },
  {
   "cell_type": "code",
   "execution_count": 65,
   "id": "16af5a60",
   "metadata": {},
   "outputs": [
    {
     "data": {
      "text/html": [
       "<div>\n",
       "<style scoped>\n",
       "    .dataframe tbody tr th:only-of-type {\n",
       "        vertical-align: middle;\n",
       "    }\n",
       "\n",
       "    .dataframe tbody tr th {\n",
       "        vertical-align: top;\n",
       "    }\n",
       "\n",
       "    .dataframe thead th {\n",
       "        text-align: right;\n",
       "    }\n",
       "</style>\n",
       "<table border=\"1\" class=\"dataframe\">\n",
       "  <thead>\n",
       "    <tr style=\"text-align: right;\">\n",
       "      <th>fiscal_year</th>\n",
       "      <th>maker</th>\n",
       "      <th>2022</th>\n",
       "      <th>2023</th>\n",
       "      <th>2024</th>\n",
       "    </tr>\n",
       "  </thead>\n",
       "  <tbody>\n",
       "    <tr>\n",
       "      <th>0</th>\n",
       "      <td>BMW India</td>\n",
       "      <td>7</td>\n",
       "      <td>285</td>\n",
       "      <td>1078</td>\n",
       "    </tr>\n",
       "    <tr>\n",
       "      <th>1</th>\n",
       "      <td>BYD India</td>\n",
       "      <td>33</td>\n",
       "      <td>920</td>\n",
       "      <td>1466</td>\n",
       "    </tr>\n",
       "    <tr>\n",
       "      <th>2</th>\n",
       "      <td>Hyundai Motor</td>\n",
       "      <td>110</td>\n",
       "      <td>576</td>\n",
       "      <td>1390</td>\n",
       "    </tr>\n",
       "    <tr>\n",
       "      <th>3</th>\n",
       "      <td>KIA Motors</td>\n",
       "      <td>0</td>\n",
       "      <td>229</td>\n",
       "      <td>328</td>\n",
       "    </tr>\n",
       "    <tr>\n",
       "      <th>4</th>\n",
       "      <td>MG Motor</td>\n",
       "      <td>1647</td>\n",
       "      <td>3277</td>\n",
       "      <td>8829</td>\n",
       "    </tr>\n",
       "    <tr>\n",
       "      <th>5</th>\n",
       "      <td>Mahindra &amp; Mahindra</td>\n",
       "      <td>4042</td>\n",
       "      <td>13805</td>\n",
       "      <td>23346</td>\n",
       "    </tr>\n",
       "    <tr>\n",
       "      <th>6</th>\n",
       "      <td>Mercedes -Benz AG</td>\n",
       "      <td>26</td>\n",
       "      <td>71</td>\n",
       "      <td>291</td>\n",
       "    </tr>\n",
       "    <tr>\n",
       "      <th>7</th>\n",
       "      <td>PCA Automobiles</td>\n",
       "      <td>0</td>\n",
       "      <td>151</td>\n",
       "      <td>1533</td>\n",
       "    </tr>\n",
       "    <tr>\n",
       "      <th>8</th>\n",
       "      <td>Tata Motors</td>\n",
       "      <td>12708</td>\n",
       "      <td>28046</td>\n",
       "      <td>48181</td>\n",
       "    </tr>\n",
       "    <tr>\n",
       "      <th>9</th>\n",
       "      <td>Volvo Auto India</td>\n",
       "      <td>4</td>\n",
       "      <td>105</td>\n",
       "      <td>459</td>\n",
       "    </tr>\n",
       "  </tbody>\n",
       "</table>\n",
       "</div>"
      ],
      "text/plain": [
       "fiscal_year                maker   2022   2023   2024\n",
       "0                      BMW India      7    285   1078\n",
       "1                      BYD India     33    920   1466\n",
       "2                  Hyundai Motor    110    576   1390\n",
       "3                     KIA Motors      0    229    328\n",
       "4                       MG Motor   1647   3277   8829\n",
       "5            Mahindra & Mahindra   4042  13805  23346\n",
       "6              Mercedes -Benz AG     26     71    291\n",
       "7                PCA Automobiles      0    151   1533\n",
       "8                    Tata Motors  12708  28046  48181\n",
       "9               Volvo Auto India      4    105    459"
      ]
     },
     "execution_count": 65,
     "metadata": {},
     "output_type": "execute_result"
    }
   ],
   "source": [
    "maker_pivot=pd.pivot_table(maker_s,index='maker',columns='fiscal_year',values='electric_vehicles_sold').reset_index()\n",
    "maker_pivot"
   ]
  },
  {
   "cell_type": "code",
   "execution_count": 66,
   "id": "d9a53621",
   "metadata": {},
   "outputs": [
    {
     "data": {
      "text/html": [
       "<div>\n",
       "<style scoped>\n",
       "    .dataframe tbody tr th:only-of-type {\n",
       "        vertical-align: middle;\n",
       "    }\n",
       "\n",
       "    .dataframe tbody tr th {\n",
       "        vertical-align: top;\n",
       "    }\n",
       "\n",
       "    .dataframe thead th {\n",
       "        text-align: right;\n",
       "    }\n",
       "</style>\n",
       "<table border=\"1\" class=\"dataframe\">\n",
       "  <thead>\n",
       "    <tr style=\"text-align: right;\">\n",
       "      <th>fiscal_year</th>\n",
       "      <th>maker</th>\n",
       "      <th>EV_sold22</th>\n",
       "      <th>EV_sold23</th>\n",
       "      <th>EV_sold24</th>\n",
       "    </tr>\n",
       "  </thead>\n",
       "  <tbody>\n",
       "    <tr>\n",
       "      <th>0</th>\n",
       "      <td>BMW India</td>\n",
       "      <td>7</td>\n",
       "      <td>285</td>\n",
       "      <td>1078</td>\n",
       "    </tr>\n",
       "    <tr>\n",
       "      <th>1</th>\n",
       "      <td>BYD India</td>\n",
       "      <td>33</td>\n",
       "      <td>920</td>\n",
       "      <td>1466</td>\n",
       "    </tr>\n",
       "    <tr>\n",
       "      <th>2</th>\n",
       "      <td>Hyundai Motor</td>\n",
       "      <td>110</td>\n",
       "      <td>576</td>\n",
       "      <td>1390</td>\n",
       "    </tr>\n",
       "    <tr>\n",
       "      <th>3</th>\n",
       "      <td>KIA Motors</td>\n",
       "      <td>0</td>\n",
       "      <td>229</td>\n",
       "      <td>328</td>\n",
       "    </tr>\n",
       "    <tr>\n",
       "      <th>4</th>\n",
       "      <td>MG Motor</td>\n",
       "      <td>1647</td>\n",
       "      <td>3277</td>\n",
       "      <td>8829</td>\n",
       "    </tr>\n",
       "    <tr>\n",
       "      <th>5</th>\n",
       "      <td>Mahindra &amp; Mahindra</td>\n",
       "      <td>4042</td>\n",
       "      <td>13805</td>\n",
       "      <td>23346</td>\n",
       "    </tr>\n",
       "    <tr>\n",
       "      <th>6</th>\n",
       "      <td>Mercedes -Benz AG</td>\n",
       "      <td>26</td>\n",
       "      <td>71</td>\n",
       "      <td>291</td>\n",
       "    </tr>\n",
       "    <tr>\n",
       "      <th>7</th>\n",
       "      <td>PCA Automobiles</td>\n",
       "      <td>0</td>\n",
       "      <td>151</td>\n",
       "      <td>1533</td>\n",
       "    </tr>\n",
       "    <tr>\n",
       "      <th>8</th>\n",
       "      <td>Tata Motors</td>\n",
       "      <td>12708</td>\n",
       "      <td>28046</td>\n",
       "      <td>48181</td>\n",
       "    </tr>\n",
       "    <tr>\n",
       "      <th>9</th>\n",
       "      <td>Volvo Auto India</td>\n",
       "      <td>4</td>\n",
       "      <td>105</td>\n",
       "      <td>459</td>\n",
       "    </tr>\n",
       "  </tbody>\n",
       "</table>\n",
       "</div>"
      ],
      "text/plain": [
       "fiscal_year                maker  EV_sold22  EV_sold23  EV_sold24\n",
       "0                      BMW India          7        285       1078\n",
       "1                      BYD India         33        920       1466\n",
       "2                  Hyundai Motor        110        576       1390\n",
       "3                     KIA Motors          0        229        328\n",
       "4                       MG Motor       1647       3277       8829\n",
       "5            Mahindra & Mahindra       4042      13805      23346\n",
       "6              Mercedes -Benz AG         26         71        291\n",
       "7                PCA Automobiles          0        151       1533\n",
       "8                    Tata Motors      12708      28046      48181\n",
       "9               Volvo Auto India          4        105        459"
      ]
     },
     "execution_count": 66,
     "metadata": {},
     "output_type": "execute_result"
    }
   ],
   "source": [
    "maker_pivot.rename(columns={2022:'EV_sold22',2023:'EV_sold23',2024:'EV_sold24'},inplace=True)\n",
    "maker_pivot"
   ]
  },
  {
   "cell_type": "code",
   "execution_count": 67,
   "id": "44e47772",
   "metadata": {},
   "outputs": [
    {
     "data": {
      "text/html": [
       "<div>\n",
       "<style scoped>\n",
       "    .dataframe tbody tr th:only-of-type {\n",
       "        vertical-align: middle;\n",
       "    }\n",
       "\n",
       "    .dataframe tbody tr th {\n",
       "        vertical-align: top;\n",
       "    }\n",
       "\n",
       "    .dataframe thead th {\n",
       "        text-align: right;\n",
       "    }\n",
       "</style>\n",
       "<table border=\"1\" class=\"dataframe\">\n",
       "  <thead>\n",
       "    <tr style=\"text-align: right;\">\n",
       "      <th>fiscal_year</th>\n",
       "      <th>maker</th>\n",
       "      <th>EV_sold22</th>\n",
       "      <th>EV_sold23</th>\n",
       "      <th>EV_sold24</th>\n",
       "      <th>CAGR</th>\n",
       "    </tr>\n",
       "  </thead>\n",
       "  <tbody>\n",
       "    <tr>\n",
       "      <th>0</th>\n",
       "      <td>BMW India</td>\n",
       "      <td>7</td>\n",
       "      <td>285</td>\n",
       "      <td>1078</td>\n",
       "      <td>1140.967365</td>\n",
       "    </tr>\n",
       "    <tr>\n",
       "      <th>1</th>\n",
       "      <td>BYD India</td>\n",
       "      <td>33</td>\n",
       "      <td>920</td>\n",
       "      <td>1466</td>\n",
       "      <td>566.515134</td>\n",
       "    </tr>\n",
       "    <tr>\n",
       "      <th>2</th>\n",
       "      <td>Hyundai Motor</td>\n",
       "      <td>110</td>\n",
       "      <td>576</td>\n",
       "      <td>1390</td>\n",
       "      <td>255.476633</td>\n",
       "    </tr>\n",
       "    <tr>\n",
       "      <th>3</th>\n",
       "      <td>KIA Motors</td>\n",
       "      <td>0</td>\n",
       "      <td>229</td>\n",
       "      <td>328</td>\n",
       "      <td>inf</td>\n",
       "    </tr>\n",
       "    <tr>\n",
       "      <th>4</th>\n",
       "      <td>MG Motor</td>\n",
       "      <td>1647</td>\n",
       "      <td>3277</td>\n",
       "      <td>8829</td>\n",
       "      <td>131.530899</td>\n",
       "    </tr>\n",
       "    <tr>\n",
       "      <th>5</th>\n",
       "      <td>Mahindra &amp; Mahindra</td>\n",
       "      <td>4042</td>\n",
       "      <td>13805</td>\n",
       "      <td>23346</td>\n",
       "      <td>140.330055</td>\n",
       "    </tr>\n",
       "    <tr>\n",
       "      <th>6</th>\n",
       "      <td>Mercedes -Benz AG</td>\n",
       "      <td>26</td>\n",
       "      <td>71</td>\n",
       "      <td>291</td>\n",
       "      <td>234.549065</td>\n",
       "    </tr>\n",
       "    <tr>\n",
       "      <th>7</th>\n",
       "      <td>PCA Automobiles</td>\n",
       "      <td>0</td>\n",
       "      <td>151</td>\n",
       "      <td>1533</td>\n",
       "      <td>inf</td>\n",
       "    </tr>\n",
       "    <tr>\n",
       "      <th>8</th>\n",
       "      <td>Tata Motors</td>\n",
       "      <td>12708</td>\n",
       "      <td>28046</td>\n",
       "      <td>48181</td>\n",
       "      <td>94.714952</td>\n",
       "    </tr>\n",
       "    <tr>\n",
       "      <th>9</th>\n",
       "      <td>Volvo Auto India</td>\n",
       "      <td>4</td>\n",
       "      <td>105</td>\n",
       "      <td>459</td>\n",
       "      <td>971.214264</td>\n",
       "    </tr>\n",
       "  </tbody>\n",
       "</table>\n",
       "</div>"
      ],
      "text/plain": [
       "fiscal_year                maker  EV_sold22  EV_sold23  EV_sold24         CAGR\n",
       "0                      BMW India          7        285       1078  1140.967365\n",
       "1                      BYD India         33        920       1466   566.515134\n",
       "2                  Hyundai Motor        110        576       1390   255.476633\n",
       "3                     KIA Motors          0        229        328          inf\n",
       "4                       MG Motor       1647       3277       8829   131.530899\n",
       "5            Mahindra & Mahindra       4042      13805      23346   140.330055\n",
       "6              Mercedes -Benz AG         26         71        291   234.549065\n",
       "7                PCA Automobiles          0        151       1533          inf\n",
       "8                    Tata Motors      12708      28046      48181    94.714952\n",
       "9               Volvo Auto India          4        105        459   971.214264"
      ]
     },
     "execution_count": 67,
     "metadata": {},
     "output_type": "execute_result"
    }
   ],
   "source": [
    "start_year=2022\n",
    "end_year=2024\n",
    "maker_pivot['CAGR']=(((maker_pivot['EV_sold24']/maker_pivot['EV_sold22'])**(1/(end_year-start_year)))-1)*100\n",
    "maker_pivot"
   ]
  },
  {
   "cell_type": "code",
   "execution_count": 68,
   "id": "b5e1679c",
   "metadata": {},
   "outputs": [
    {
     "data": {
      "text/html": [
       "<div>\n",
       "<style scoped>\n",
       "    .dataframe tbody tr th:only-of-type {\n",
       "        vertical-align: middle;\n",
       "    }\n",
       "\n",
       "    .dataframe tbody tr th {\n",
       "        vertical-align: top;\n",
       "    }\n",
       "\n",
       "    .dataframe thead th {\n",
       "        text-align: right;\n",
       "    }\n",
       "</style>\n",
       "<table border=\"1\" class=\"dataframe\">\n",
       "  <thead>\n",
       "    <tr style=\"text-align: right;\">\n",
       "      <th>fiscal_year</th>\n",
       "      <th>maker</th>\n",
       "      <th>EV_sold22</th>\n",
       "      <th>EV_sold23</th>\n",
       "      <th>EV_sold24</th>\n",
       "      <th>CAGR</th>\n",
       "    </tr>\n",
       "  </thead>\n",
       "  <tbody>\n",
       "    <tr>\n",
       "      <th>1</th>\n",
       "      <td>BYD India</td>\n",
       "      <td>33</td>\n",
       "      <td>920</td>\n",
       "      <td>1466</td>\n",
       "      <td>566.515134</td>\n",
       "    </tr>\n",
       "    <tr>\n",
       "      <th>2</th>\n",
       "      <td>Hyundai Motor</td>\n",
       "      <td>110</td>\n",
       "      <td>576</td>\n",
       "      <td>1390</td>\n",
       "      <td>255.476633</td>\n",
       "    </tr>\n",
       "    <tr>\n",
       "      <th>4</th>\n",
       "      <td>MG Motor</td>\n",
       "      <td>1647</td>\n",
       "      <td>3277</td>\n",
       "      <td>8829</td>\n",
       "      <td>131.530899</td>\n",
       "    </tr>\n",
       "    <tr>\n",
       "      <th>5</th>\n",
       "      <td>Mahindra &amp; Mahindra</td>\n",
       "      <td>4042</td>\n",
       "      <td>13805</td>\n",
       "      <td>23346</td>\n",
       "      <td>140.330055</td>\n",
       "    </tr>\n",
       "    <tr>\n",
       "      <th>8</th>\n",
       "      <td>Tata Motors</td>\n",
       "      <td>12708</td>\n",
       "      <td>28046</td>\n",
       "      <td>48181</td>\n",
       "      <td>94.714952</td>\n",
       "    </tr>\n",
       "  </tbody>\n",
       "</table>\n",
       "</div>"
      ],
      "text/plain": [
       "fiscal_year                maker  EV_sold22  EV_sold23  EV_sold24        CAGR\n",
       "1                      BYD India         33        920       1466  566.515134\n",
       "2                  Hyundai Motor        110        576       1390  255.476633\n",
       "4                       MG Motor       1647       3277       8829  131.530899\n",
       "5            Mahindra & Mahindra       4042      13805      23346  140.330055\n",
       "8                    Tata Motors      12708      28046      48181   94.714952"
      ]
     },
     "execution_count": 68,
     "metadata": {},
     "output_type": "execute_result"
    }
   ],
   "source": [
    "top5_cagr=maker_pivot[maker_pivot['maker'].isin(maker_top5['maker'])]\n",
    "top5_cagr"
   ]
  },
  {
   "cell_type": "code",
   "execution_count": 69,
   "id": "42f9d685",
   "metadata": {},
   "outputs": [
    {
     "data": {
      "application/vnd.plotly.v1+json": {
       "config": {
        "plotlyServerURL": "https://plot.ly"
       },
       "data": [
        {
         "alignmentgroup": "True",
         "hovertemplate": "Maker=%{y}<br>CAGR=%{x}<extra></extra>",
         "legendgroup": "BYD India",
         "marker": {
          "color": "#636efa",
          "pattern": {
           "shape": ""
          }
         },
         "name": "BYD India",
         "offsetgroup": "BYD India",
         "orientation": "h",
         "showlegend": true,
         "textposition": "auto",
         "texttemplate": "%{x}",
         "type": "bar",
         "x": [
          566.5151342936065
         ],
         "xaxis": "x",
         "y": [
          "BYD India"
         ],
         "yaxis": "y"
        },
        {
         "alignmentgroup": "True",
         "hovertemplate": "Maker=%{y}<br>CAGR=%{x}<extra></extra>",
         "legendgroup": "Hyundai Motor",
         "marker": {
          "color": "#EF553B",
          "pattern": {
           "shape": ""
          }
         },
         "name": "Hyundai Motor",
         "offsetgroup": "Hyundai Motor",
         "orientation": "h",
         "showlegend": true,
         "textposition": "auto",
         "texttemplate": "%{x}",
         "type": "bar",
         "x": [
          255.4766326548573
         ],
         "xaxis": "x",
         "y": [
          "Hyundai Motor"
         ],
         "yaxis": "y"
        },
        {
         "alignmentgroup": "True",
         "hovertemplate": "Maker=%{y}<br>CAGR=%{x}<extra></extra>",
         "legendgroup": "MG Motor",
         "marker": {
          "color": "#00cc96",
          "pattern": {
           "shape": ""
          }
         },
         "name": "MG Motor",
         "offsetgroup": "MG Motor",
         "orientation": "h",
         "showlegend": true,
         "textposition": "auto",
         "texttemplate": "%{x}",
         "type": "bar",
         "x": [
          131.53089940016466
         ],
         "xaxis": "x",
         "y": [
          "MG Motor"
         ],
         "yaxis": "y"
        },
        {
         "alignmentgroup": "True",
         "hovertemplate": "Maker=%{y}<br>CAGR=%{x}<extra></extra>",
         "legendgroup": "Mahindra & Mahindra",
         "marker": {
          "color": "#ab63fa",
          "pattern": {
           "shape": ""
          }
         },
         "name": "Mahindra & Mahindra",
         "offsetgroup": "Mahindra & Mahindra",
         "orientation": "h",
         "showlegend": true,
         "textposition": "auto",
         "texttemplate": "%{x}",
         "type": "bar",
         "x": [
          140.33005508784265
         ],
         "xaxis": "x",
         "y": [
          "Mahindra & Mahindra"
         ],
         "yaxis": "y"
        },
        {
         "alignmentgroup": "True",
         "hovertemplate": "Maker=%{y}<br>CAGR=%{x}<extra></extra>",
         "legendgroup": "Tata Motors",
         "marker": {
          "color": "#FFA15A",
          "pattern": {
           "shape": ""
          }
         },
         "name": "Tata Motors",
         "offsetgroup": "Tata Motors",
         "orientation": "h",
         "showlegend": true,
         "textposition": "auto",
         "texttemplate": "%{x}",
         "type": "bar",
         "x": [
          94.71495190679495
         ],
         "xaxis": "x",
         "y": [
          "Tata Motors"
         ],
         "yaxis": "y"
        }
       ],
       "layout": {
        "barmode": "relative",
        "legend": {
         "title": {
          "text": "Maker"
         },
         "tracegroupgap": 0
        },
        "template": {
         "data": {
          "bar": [
           {
            "error_x": {
             "color": "#2a3f5f"
            },
            "error_y": {
             "color": "#2a3f5f"
            },
            "marker": {
             "line": {
              "color": "#E5ECF6",
              "width": 0.5
             },
             "pattern": {
              "fillmode": "overlay",
              "size": 10,
              "solidity": 0.2
             }
            },
            "type": "bar"
           }
          ],
          "barpolar": [
           {
            "marker": {
             "line": {
              "color": "#E5ECF6",
              "width": 0.5
             },
             "pattern": {
              "fillmode": "overlay",
              "size": 10,
              "solidity": 0.2
             }
            },
            "type": "barpolar"
           }
          ],
          "carpet": [
           {
            "aaxis": {
             "endlinecolor": "#2a3f5f",
             "gridcolor": "white",
             "linecolor": "white",
             "minorgridcolor": "white",
             "startlinecolor": "#2a3f5f"
            },
            "baxis": {
             "endlinecolor": "#2a3f5f",
             "gridcolor": "white",
             "linecolor": "white",
             "minorgridcolor": "white",
             "startlinecolor": "#2a3f5f"
            },
            "type": "carpet"
           }
          ],
          "choropleth": [
           {
            "colorbar": {
             "outlinewidth": 0,
             "ticks": ""
            },
            "type": "choropleth"
           }
          ],
          "contour": [
           {
            "colorbar": {
             "outlinewidth": 0,
             "ticks": ""
            },
            "colorscale": [
             [
              0,
              "#0d0887"
             ],
             [
              0.1111111111111111,
              "#46039f"
             ],
             [
              0.2222222222222222,
              "#7201a8"
             ],
             [
              0.3333333333333333,
              "#9c179e"
             ],
             [
              0.4444444444444444,
              "#bd3786"
             ],
             [
              0.5555555555555556,
              "#d8576b"
             ],
             [
              0.6666666666666666,
              "#ed7953"
             ],
             [
              0.7777777777777778,
              "#fb9f3a"
             ],
             [
              0.8888888888888888,
              "#fdca26"
             ],
             [
              1,
              "#f0f921"
             ]
            ],
            "type": "contour"
           }
          ],
          "contourcarpet": [
           {
            "colorbar": {
             "outlinewidth": 0,
             "ticks": ""
            },
            "type": "contourcarpet"
           }
          ],
          "heatmap": [
           {
            "colorbar": {
             "outlinewidth": 0,
             "ticks": ""
            },
            "colorscale": [
             [
              0,
              "#0d0887"
             ],
             [
              0.1111111111111111,
              "#46039f"
             ],
             [
              0.2222222222222222,
              "#7201a8"
             ],
             [
              0.3333333333333333,
              "#9c179e"
             ],
             [
              0.4444444444444444,
              "#bd3786"
             ],
             [
              0.5555555555555556,
              "#d8576b"
             ],
             [
              0.6666666666666666,
              "#ed7953"
             ],
             [
              0.7777777777777778,
              "#fb9f3a"
             ],
             [
              0.8888888888888888,
              "#fdca26"
             ],
             [
              1,
              "#f0f921"
             ]
            ],
            "type": "heatmap"
           }
          ],
          "heatmapgl": [
           {
            "colorbar": {
             "outlinewidth": 0,
             "ticks": ""
            },
            "colorscale": [
             [
              0,
              "#0d0887"
             ],
             [
              0.1111111111111111,
              "#46039f"
             ],
             [
              0.2222222222222222,
              "#7201a8"
             ],
             [
              0.3333333333333333,
              "#9c179e"
             ],
             [
              0.4444444444444444,
              "#bd3786"
             ],
             [
              0.5555555555555556,
              "#d8576b"
             ],
             [
              0.6666666666666666,
              "#ed7953"
             ],
             [
              0.7777777777777778,
              "#fb9f3a"
             ],
             [
              0.8888888888888888,
              "#fdca26"
             ],
             [
              1,
              "#f0f921"
             ]
            ],
            "type": "heatmapgl"
           }
          ],
          "histogram": [
           {
            "marker": {
             "pattern": {
              "fillmode": "overlay",
              "size": 10,
              "solidity": 0.2
             }
            },
            "type": "histogram"
           }
          ],
          "histogram2d": [
           {
            "colorbar": {
             "outlinewidth": 0,
             "ticks": ""
            },
            "colorscale": [
             [
              0,
              "#0d0887"
             ],
             [
              0.1111111111111111,
              "#46039f"
             ],
             [
              0.2222222222222222,
              "#7201a8"
             ],
             [
              0.3333333333333333,
              "#9c179e"
             ],
             [
              0.4444444444444444,
              "#bd3786"
             ],
             [
              0.5555555555555556,
              "#d8576b"
             ],
             [
              0.6666666666666666,
              "#ed7953"
             ],
             [
              0.7777777777777778,
              "#fb9f3a"
             ],
             [
              0.8888888888888888,
              "#fdca26"
             ],
             [
              1,
              "#f0f921"
             ]
            ],
            "type": "histogram2d"
           }
          ],
          "histogram2dcontour": [
           {
            "colorbar": {
             "outlinewidth": 0,
             "ticks": ""
            },
            "colorscale": [
             [
              0,
              "#0d0887"
             ],
             [
              0.1111111111111111,
              "#46039f"
             ],
             [
              0.2222222222222222,
              "#7201a8"
             ],
             [
              0.3333333333333333,
              "#9c179e"
             ],
             [
              0.4444444444444444,
              "#bd3786"
             ],
             [
              0.5555555555555556,
              "#d8576b"
             ],
             [
              0.6666666666666666,
              "#ed7953"
             ],
             [
              0.7777777777777778,
              "#fb9f3a"
             ],
             [
              0.8888888888888888,
              "#fdca26"
             ],
             [
              1,
              "#f0f921"
             ]
            ],
            "type": "histogram2dcontour"
           }
          ],
          "mesh3d": [
           {
            "colorbar": {
             "outlinewidth": 0,
             "ticks": ""
            },
            "type": "mesh3d"
           }
          ],
          "parcoords": [
           {
            "line": {
             "colorbar": {
              "outlinewidth": 0,
              "ticks": ""
             }
            },
            "type": "parcoords"
           }
          ],
          "pie": [
           {
            "automargin": true,
            "type": "pie"
           }
          ],
          "scatter": [
           {
            "fillpattern": {
             "fillmode": "overlay",
             "size": 10,
             "solidity": 0.2
            },
            "type": "scatter"
           }
          ],
          "scatter3d": [
           {
            "line": {
             "colorbar": {
              "outlinewidth": 0,
              "ticks": ""
             }
            },
            "marker": {
             "colorbar": {
              "outlinewidth": 0,
              "ticks": ""
             }
            },
            "type": "scatter3d"
           }
          ],
          "scattercarpet": [
           {
            "marker": {
             "colorbar": {
              "outlinewidth": 0,
              "ticks": ""
             }
            },
            "type": "scattercarpet"
           }
          ],
          "scattergeo": [
           {
            "marker": {
             "colorbar": {
              "outlinewidth": 0,
              "ticks": ""
             }
            },
            "type": "scattergeo"
           }
          ],
          "scattergl": [
           {
            "marker": {
             "colorbar": {
              "outlinewidth": 0,
              "ticks": ""
             }
            },
            "type": "scattergl"
           }
          ],
          "scattermapbox": [
           {
            "marker": {
             "colorbar": {
              "outlinewidth": 0,
              "ticks": ""
             }
            },
            "type": "scattermapbox"
           }
          ],
          "scatterpolar": [
           {
            "marker": {
             "colorbar": {
              "outlinewidth": 0,
              "ticks": ""
             }
            },
            "type": "scatterpolar"
           }
          ],
          "scatterpolargl": [
           {
            "marker": {
             "colorbar": {
              "outlinewidth": 0,
              "ticks": ""
             }
            },
            "type": "scatterpolargl"
           }
          ],
          "scatterternary": [
           {
            "marker": {
             "colorbar": {
              "outlinewidth": 0,
              "ticks": ""
             }
            },
            "type": "scatterternary"
           }
          ],
          "surface": [
           {
            "colorbar": {
             "outlinewidth": 0,
             "ticks": ""
            },
            "colorscale": [
             [
              0,
              "#0d0887"
             ],
             [
              0.1111111111111111,
              "#46039f"
             ],
             [
              0.2222222222222222,
              "#7201a8"
             ],
             [
              0.3333333333333333,
              "#9c179e"
             ],
             [
              0.4444444444444444,
              "#bd3786"
             ],
             [
              0.5555555555555556,
              "#d8576b"
             ],
             [
              0.6666666666666666,
              "#ed7953"
             ],
             [
              0.7777777777777778,
              "#fb9f3a"
             ],
             [
              0.8888888888888888,
              "#fdca26"
             ],
             [
              1,
              "#f0f921"
             ]
            ],
            "type": "surface"
           }
          ],
          "table": [
           {
            "cells": {
             "fill": {
              "color": "#EBF0F8"
             },
             "line": {
              "color": "white"
             }
            },
            "header": {
             "fill": {
              "color": "#C8D4E3"
             },
             "line": {
              "color": "white"
             }
            },
            "type": "table"
           }
          ]
         },
         "layout": {
          "annotationdefaults": {
           "arrowcolor": "#2a3f5f",
           "arrowhead": 0,
           "arrowwidth": 1
          },
          "autotypenumbers": "strict",
          "coloraxis": {
           "colorbar": {
            "outlinewidth": 0,
            "ticks": ""
           }
          },
          "colorscale": {
           "diverging": [
            [
             0,
             "#8e0152"
            ],
            [
             0.1,
             "#c51b7d"
            ],
            [
             0.2,
             "#de77ae"
            ],
            [
             0.3,
             "#f1b6da"
            ],
            [
             0.4,
             "#fde0ef"
            ],
            [
             0.5,
             "#f7f7f7"
            ],
            [
             0.6,
             "#e6f5d0"
            ],
            [
             0.7,
             "#b8e186"
            ],
            [
             0.8,
             "#7fbc41"
            ],
            [
             0.9,
             "#4d9221"
            ],
            [
             1,
             "#276419"
            ]
           ],
           "sequential": [
            [
             0,
             "#0d0887"
            ],
            [
             0.1111111111111111,
             "#46039f"
            ],
            [
             0.2222222222222222,
             "#7201a8"
            ],
            [
             0.3333333333333333,
             "#9c179e"
            ],
            [
             0.4444444444444444,
             "#bd3786"
            ],
            [
             0.5555555555555556,
             "#d8576b"
            ],
            [
             0.6666666666666666,
             "#ed7953"
            ],
            [
             0.7777777777777778,
             "#fb9f3a"
            ],
            [
             0.8888888888888888,
             "#fdca26"
            ],
            [
             1,
             "#f0f921"
            ]
           ],
           "sequentialminus": [
            [
             0,
             "#0d0887"
            ],
            [
             0.1111111111111111,
             "#46039f"
            ],
            [
             0.2222222222222222,
             "#7201a8"
            ],
            [
             0.3333333333333333,
             "#9c179e"
            ],
            [
             0.4444444444444444,
             "#bd3786"
            ],
            [
             0.5555555555555556,
             "#d8576b"
            ],
            [
             0.6666666666666666,
             "#ed7953"
            ],
            [
             0.7777777777777778,
             "#fb9f3a"
            ],
            [
             0.8888888888888888,
             "#fdca26"
            ],
            [
             1,
             "#f0f921"
            ]
           ]
          },
          "colorway": [
           "#636efa",
           "#EF553B",
           "#00cc96",
           "#ab63fa",
           "#FFA15A",
           "#19d3f3",
           "#FF6692",
           "#B6E880",
           "#FF97FF",
           "#FECB52"
          ],
          "font": {
           "color": "#2a3f5f"
          },
          "geo": {
           "bgcolor": "white",
           "lakecolor": "white",
           "landcolor": "#E5ECF6",
           "showlakes": true,
           "showland": true,
           "subunitcolor": "white"
          },
          "hoverlabel": {
           "align": "left"
          },
          "hovermode": "closest",
          "mapbox": {
           "style": "light"
          },
          "paper_bgcolor": "white",
          "plot_bgcolor": "#E5ECF6",
          "polar": {
           "angularaxis": {
            "gridcolor": "white",
            "linecolor": "white",
            "ticks": ""
           },
           "bgcolor": "#E5ECF6",
           "radialaxis": {
            "gridcolor": "white",
            "linecolor": "white",
            "ticks": ""
           }
          },
          "scene": {
           "xaxis": {
            "backgroundcolor": "#E5ECF6",
            "gridcolor": "white",
            "gridwidth": 2,
            "linecolor": "white",
            "showbackground": true,
            "ticks": "",
            "zerolinecolor": "white"
           },
           "yaxis": {
            "backgroundcolor": "#E5ECF6",
            "gridcolor": "white",
            "gridwidth": 2,
            "linecolor": "white",
            "showbackground": true,
            "ticks": "",
            "zerolinecolor": "white"
           },
           "zaxis": {
            "backgroundcolor": "#E5ECF6",
            "gridcolor": "white",
            "gridwidth": 2,
            "linecolor": "white",
            "showbackground": true,
            "ticks": "",
            "zerolinecolor": "white"
           }
          },
          "shapedefaults": {
           "line": {
            "color": "#2a3f5f"
           }
          },
          "ternary": {
           "aaxis": {
            "gridcolor": "white",
            "linecolor": "white",
            "ticks": ""
           },
           "baxis": {
            "gridcolor": "white",
            "linecolor": "white",
            "ticks": ""
           },
           "bgcolor": "#E5ECF6",
           "caxis": {
            "gridcolor": "white",
            "linecolor": "white",
            "ticks": ""
           }
          },
          "title": {
           "x": 0.05
          },
          "xaxis": {
           "automargin": true,
           "gridcolor": "white",
           "linecolor": "white",
           "ticks": "",
           "title": {
            "standoff": 15
           },
           "zerolinecolor": "white",
           "zerolinewidth": 2
          },
          "yaxis": {
           "automargin": true,
           "gridcolor": "white",
           "linecolor": "white",
           "ticks": "",
           "title": {
            "standoff": 15
           },
           "zerolinecolor": "white",
           "zerolinewidth": 2
          }
         }
        },
        "title": {
         "text": "CAGR (2022-2024) for Top 5 4-Wheeler EV Makers"
        },
        "xaxis": {
         "anchor": "y",
         "domain": [
          0,
          1
         ],
         "title": {
          "text": "CAGR"
         }
        },
        "yaxis": {
         "anchor": "x",
         "categoryarray": [
          "Tata Motors",
          "Mahindra & Mahindra",
          "MG Motor",
          "Hyundai Motor",
          "BYD India"
         ],
         "categoryorder": "array",
         "domain": [
          0,
          1
         ],
         "title": {
          "text": "Maker"
         }
        }
       }
      },
      "text/html": [
       "<div>                            <div id=\"e6acbadf-6da0-4759-b23d-2a6842b13393\" class=\"plotly-graph-div\" style=\"height:525px; width:100%;\"></div>            <script type=\"text/javascript\">                require([\"plotly\"], function(Plotly) {                    window.PLOTLYENV=window.PLOTLYENV || {};                                    if (document.getElementById(\"e6acbadf-6da0-4759-b23d-2a6842b13393\")) {                    Plotly.newPlot(                        \"e6acbadf-6da0-4759-b23d-2a6842b13393\",                        [{\"alignmentgroup\":\"True\",\"hovertemplate\":\"Maker=%{y}<br>CAGR=%{x}<extra></extra>\",\"legendgroup\":\"BYD India\",\"marker\":{\"color\":\"#636efa\",\"pattern\":{\"shape\":\"\"}},\"name\":\"BYD India\",\"offsetgroup\":\"BYD India\",\"orientation\":\"h\",\"showlegend\":true,\"textposition\":\"auto\",\"texttemplate\":\"%{x}\",\"x\":[566.5151342936065],\"xaxis\":\"x\",\"y\":[\"BYD India\"],\"yaxis\":\"y\",\"type\":\"bar\"},{\"alignmentgroup\":\"True\",\"hovertemplate\":\"Maker=%{y}<br>CAGR=%{x}<extra></extra>\",\"legendgroup\":\"Hyundai Motor\",\"marker\":{\"color\":\"#EF553B\",\"pattern\":{\"shape\":\"\"}},\"name\":\"Hyundai Motor\",\"offsetgroup\":\"Hyundai Motor\",\"orientation\":\"h\",\"showlegend\":true,\"textposition\":\"auto\",\"texttemplate\":\"%{x}\",\"x\":[255.4766326548573],\"xaxis\":\"x\",\"y\":[\"Hyundai Motor\"],\"yaxis\":\"y\",\"type\":\"bar\"},{\"alignmentgroup\":\"True\",\"hovertemplate\":\"Maker=%{y}<br>CAGR=%{x}<extra></extra>\",\"legendgroup\":\"MG Motor\",\"marker\":{\"color\":\"#00cc96\",\"pattern\":{\"shape\":\"\"}},\"name\":\"MG Motor\",\"offsetgroup\":\"MG Motor\",\"orientation\":\"h\",\"showlegend\":true,\"textposition\":\"auto\",\"texttemplate\":\"%{x}\",\"x\":[131.53089940016466],\"xaxis\":\"x\",\"y\":[\"MG Motor\"],\"yaxis\":\"y\",\"type\":\"bar\"},{\"alignmentgroup\":\"True\",\"hovertemplate\":\"Maker=%{y}<br>CAGR=%{x}<extra></extra>\",\"legendgroup\":\"Mahindra & Mahindra\",\"marker\":{\"color\":\"#ab63fa\",\"pattern\":{\"shape\":\"\"}},\"name\":\"Mahindra & Mahindra\",\"offsetgroup\":\"Mahindra & Mahindra\",\"orientation\":\"h\",\"showlegend\":true,\"textposition\":\"auto\",\"texttemplate\":\"%{x}\",\"x\":[140.33005508784265],\"xaxis\":\"x\",\"y\":[\"Mahindra & Mahindra\"],\"yaxis\":\"y\",\"type\":\"bar\"},{\"alignmentgroup\":\"True\",\"hovertemplate\":\"Maker=%{y}<br>CAGR=%{x}<extra></extra>\",\"legendgroup\":\"Tata Motors\",\"marker\":{\"color\":\"#FFA15A\",\"pattern\":{\"shape\":\"\"}},\"name\":\"Tata Motors\",\"offsetgroup\":\"Tata Motors\",\"orientation\":\"h\",\"showlegend\":true,\"textposition\":\"auto\",\"texttemplate\":\"%{x}\",\"x\":[94.71495190679495],\"xaxis\":\"x\",\"y\":[\"Tata Motors\"],\"yaxis\":\"y\",\"type\":\"bar\"}],                        {\"template\":{\"data\":{\"histogram2dcontour\":[{\"type\":\"histogram2dcontour\",\"colorbar\":{\"outlinewidth\":0,\"ticks\":\"\"},\"colorscale\":[[0.0,\"#0d0887\"],[0.1111111111111111,\"#46039f\"],[0.2222222222222222,\"#7201a8\"],[0.3333333333333333,\"#9c179e\"],[0.4444444444444444,\"#bd3786\"],[0.5555555555555556,\"#d8576b\"],[0.6666666666666666,\"#ed7953\"],[0.7777777777777778,\"#fb9f3a\"],[0.8888888888888888,\"#fdca26\"],[1.0,\"#f0f921\"]]}],\"choropleth\":[{\"type\":\"choropleth\",\"colorbar\":{\"outlinewidth\":0,\"ticks\":\"\"}}],\"histogram2d\":[{\"type\":\"histogram2d\",\"colorbar\":{\"outlinewidth\":0,\"ticks\":\"\"},\"colorscale\":[[0.0,\"#0d0887\"],[0.1111111111111111,\"#46039f\"],[0.2222222222222222,\"#7201a8\"],[0.3333333333333333,\"#9c179e\"],[0.4444444444444444,\"#bd3786\"],[0.5555555555555556,\"#d8576b\"],[0.6666666666666666,\"#ed7953\"],[0.7777777777777778,\"#fb9f3a\"],[0.8888888888888888,\"#fdca26\"],[1.0,\"#f0f921\"]]}],\"heatmap\":[{\"type\":\"heatmap\",\"colorbar\":{\"outlinewidth\":0,\"ticks\":\"\"},\"colorscale\":[[0.0,\"#0d0887\"],[0.1111111111111111,\"#46039f\"],[0.2222222222222222,\"#7201a8\"],[0.3333333333333333,\"#9c179e\"],[0.4444444444444444,\"#bd3786\"],[0.5555555555555556,\"#d8576b\"],[0.6666666666666666,\"#ed7953\"],[0.7777777777777778,\"#fb9f3a\"],[0.8888888888888888,\"#fdca26\"],[1.0,\"#f0f921\"]]}],\"heatmapgl\":[{\"type\":\"heatmapgl\",\"colorbar\":{\"outlinewidth\":0,\"ticks\":\"\"},\"colorscale\":[[0.0,\"#0d0887\"],[0.1111111111111111,\"#46039f\"],[0.2222222222222222,\"#7201a8\"],[0.3333333333333333,\"#9c179e\"],[0.4444444444444444,\"#bd3786\"],[0.5555555555555556,\"#d8576b\"],[0.6666666666666666,\"#ed7953\"],[0.7777777777777778,\"#fb9f3a\"],[0.8888888888888888,\"#fdca26\"],[1.0,\"#f0f921\"]]}],\"contourcarpet\":[{\"type\":\"contourcarpet\",\"colorbar\":{\"outlinewidth\":0,\"ticks\":\"\"}}],\"contour\":[{\"type\":\"contour\",\"colorbar\":{\"outlinewidth\":0,\"ticks\":\"\"},\"colorscale\":[[0.0,\"#0d0887\"],[0.1111111111111111,\"#46039f\"],[0.2222222222222222,\"#7201a8\"],[0.3333333333333333,\"#9c179e\"],[0.4444444444444444,\"#bd3786\"],[0.5555555555555556,\"#d8576b\"],[0.6666666666666666,\"#ed7953\"],[0.7777777777777778,\"#fb9f3a\"],[0.8888888888888888,\"#fdca26\"],[1.0,\"#f0f921\"]]}],\"surface\":[{\"type\":\"surface\",\"colorbar\":{\"outlinewidth\":0,\"ticks\":\"\"},\"colorscale\":[[0.0,\"#0d0887\"],[0.1111111111111111,\"#46039f\"],[0.2222222222222222,\"#7201a8\"],[0.3333333333333333,\"#9c179e\"],[0.4444444444444444,\"#bd3786\"],[0.5555555555555556,\"#d8576b\"],[0.6666666666666666,\"#ed7953\"],[0.7777777777777778,\"#fb9f3a\"],[0.8888888888888888,\"#fdca26\"],[1.0,\"#f0f921\"]]}],\"mesh3d\":[{\"type\":\"mesh3d\",\"colorbar\":{\"outlinewidth\":0,\"ticks\":\"\"}}],\"scatter\":[{\"fillpattern\":{\"fillmode\":\"overlay\",\"size\":10,\"solidity\":0.2},\"type\":\"scatter\"}],\"parcoords\":[{\"type\":\"parcoords\",\"line\":{\"colorbar\":{\"outlinewidth\":0,\"ticks\":\"\"}}}],\"scatterpolargl\":[{\"type\":\"scatterpolargl\",\"marker\":{\"colorbar\":{\"outlinewidth\":0,\"ticks\":\"\"}}}],\"bar\":[{\"error_x\":{\"color\":\"#2a3f5f\"},\"error_y\":{\"color\":\"#2a3f5f\"},\"marker\":{\"line\":{\"color\":\"#E5ECF6\",\"width\":0.5},\"pattern\":{\"fillmode\":\"overlay\",\"size\":10,\"solidity\":0.2}},\"type\":\"bar\"}],\"scattergeo\":[{\"type\":\"scattergeo\",\"marker\":{\"colorbar\":{\"outlinewidth\":0,\"ticks\":\"\"}}}],\"scatterpolar\":[{\"type\":\"scatterpolar\",\"marker\":{\"colorbar\":{\"outlinewidth\":0,\"ticks\":\"\"}}}],\"histogram\":[{\"marker\":{\"pattern\":{\"fillmode\":\"overlay\",\"size\":10,\"solidity\":0.2}},\"type\":\"histogram\"}],\"scattergl\":[{\"type\":\"scattergl\",\"marker\":{\"colorbar\":{\"outlinewidth\":0,\"ticks\":\"\"}}}],\"scatter3d\":[{\"type\":\"scatter3d\",\"line\":{\"colorbar\":{\"outlinewidth\":0,\"ticks\":\"\"}},\"marker\":{\"colorbar\":{\"outlinewidth\":0,\"ticks\":\"\"}}}],\"scattermapbox\":[{\"type\":\"scattermapbox\",\"marker\":{\"colorbar\":{\"outlinewidth\":0,\"ticks\":\"\"}}}],\"scatterternary\":[{\"type\":\"scatterternary\",\"marker\":{\"colorbar\":{\"outlinewidth\":0,\"ticks\":\"\"}}}],\"scattercarpet\":[{\"type\":\"scattercarpet\",\"marker\":{\"colorbar\":{\"outlinewidth\":0,\"ticks\":\"\"}}}],\"carpet\":[{\"aaxis\":{\"endlinecolor\":\"#2a3f5f\",\"gridcolor\":\"white\",\"linecolor\":\"white\",\"minorgridcolor\":\"white\",\"startlinecolor\":\"#2a3f5f\"},\"baxis\":{\"endlinecolor\":\"#2a3f5f\",\"gridcolor\":\"white\",\"linecolor\":\"white\",\"minorgridcolor\":\"white\",\"startlinecolor\":\"#2a3f5f\"},\"type\":\"carpet\"}],\"table\":[{\"cells\":{\"fill\":{\"color\":\"#EBF0F8\"},\"line\":{\"color\":\"white\"}},\"header\":{\"fill\":{\"color\":\"#C8D4E3\"},\"line\":{\"color\":\"white\"}},\"type\":\"table\"}],\"barpolar\":[{\"marker\":{\"line\":{\"color\":\"#E5ECF6\",\"width\":0.5},\"pattern\":{\"fillmode\":\"overlay\",\"size\":10,\"solidity\":0.2}},\"type\":\"barpolar\"}],\"pie\":[{\"automargin\":true,\"type\":\"pie\"}]},\"layout\":{\"autotypenumbers\":\"strict\",\"colorway\":[\"#636efa\",\"#EF553B\",\"#00cc96\",\"#ab63fa\",\"#FFA15A\",\"#19d3f3\",\"#FF6692\",\"#B6E880\",\"#FF97FF\",\"#FECB52\"],\"font\":{\"color\":\"#2a3f5f\"},\"hovermode\":\"closest\",\"hoverlabel\":{\"align\":\"left\"},\"paper_bgcolor\":\"white\",\"plot_bgcolor\":\"#E5ECF6\",\"polar\":{\"bgcolor\":\"#E5ECF6\",\"angularaxis\":{\"gridcolor\":\"white\",\"linecolor\":\"white\",\"ticks\":\"\"},\"radialaxis\":{\"gridcolor\":\"white\",\"linecolor\":\"white\",\"ticks\":\"\"}},\"ternary\":{\"bgcolor\":\"#E5ECF6\",\"aaxis\":{\"gridcolor\":\"white\",\"linecolor\":\"white\",\"ticks\":\"\"},\"baxis\":{\"gridcolor\":\"white\",\"linecolor\":\"white\",\"ticks\":\"\"},\"caxis\":{\"gridcolor\":\"white\",\"linecolor\":\"white\",\"ticks\":\"\"}},\"coloraxis\":{\"colorbar\":{\"outlinewidth\":0,\"ticks\":\"\"}},\"colorscale\":{\"sequential\":[[0.0,\"#0d0887\"],[0.1111111111111111,\"#46039f\"],[0.2222222222222222,\"#7201a8\"],[0.3333333333333333,\"#9c179e\"],[0.4444444444444444,\"#bd3786\"],[0.5555555555555556,\"#d8576b\"],[0.6666666666666666,\"#ed7953\"],[0.7777777777777778,\"#fb9f3a\"],[0.8888888888888888,\"#fdca26\"],[1.0,\"#f0f921\"]],\"sequentialminus\":[[0.0,\"#0d0887\"],[0.1111111111111111,\"#46039f\"],[0.2222222222222222,\"#7201a8\"],[0.3333333333333333,\"#9c179e\"],[0.4444444444444444,\"#bd3786\"],[0.5555555555555556,\"#d8576b\"],[0.6666666666666666,\"#ed7953\"],[0.7777777777777778,\"#fb9f3a\"],[0.8888888888888888,\"#fdca26\"],[1.0,\"#f0f921\"]],\"diverging\":[[0,\"#8e0152\"],[0.1,\"#c51b7d\"],[0.2,\"#de77ae\"],[0.3,\"#f1b6da\"],[0.4,\"#fde0ef\"],[0.5,\"#f7f7f7\"],[0.6,\"#e6f5d0\"],[0.7,\"#b8e186\"],[0.8,\"#7fbc41\"],[0.9,\"#4d9221\"],[1,\"#276419\"]]},\"xaxis\":{\"gridcolor\":\"white\",\"linecolor\":\"white\",\"ticks\":\"\",\"title\":{\"standoff\":15},\"zerolinecolor\":\"white\",\"automargin\":true,\"zerolinewidth\":2},\"yaxis\":{\"gridcolor\":\"white\",\"linecolor\":\"white\",\"ticks\":\"\",\"title\":{\"standoff\":15},\"zerolinecolor\":\"white\",\"automargin\":true,\"zerolinewidth\":2},\"scene\":{\"xaxis\":{\"backgroundcolor\":\"#E5ECF6\",\"gridcolor\":\"white\",\"linecolor\":\"white\",\"showbackground\":true,\"ticks\":\"\",\"zerolinecolor\":\"white\",\"gridwidth\":2},\"yaxis\":{\"backgroundcolor\":\"#E5ECF6\",\"gridcolor\":\"white\",\"linecolor\":\"white\",\"showbackground\":true,\"ticks\":\"\",\"zerolinecolor\":\"white\",\"gridwidth\":2},\"zaxis\":{\"backgroundcolor\":\"#E5ECF6\",\"gridcolor\":\"white\",\"linecolor\":\"white\",\"showbackground\":true,\"ticks\":\"\",\"zerolinecolor\":\"white\",\"gridwidth\":2}},\"shapedefaults\":{\"line\":{\"color\":\"#2a3f5f\"}},\"annotationdefaults\":{\"arrowcolor\":\"#2a3f5f\",\"arrowhead\":0,\"arrowwidth\":1},\"geo\":{\"bgcolor\":\"white\",\"landcolor\":\"#E5ECF6\",\"subunitcolor\":\"white\",\"showland\":true,\"showlakes\":true,\"lakecolor\":\"white\"},\"title\":{\"x\":0.05},\"mapbox\":{\"style\":\"light\"}}},\"xaxis\":{\"anchor\":\"y\",\"domain\":[0.0,1.0],\"title\":{\"text\":\"CAGR\"}},\"yaxis\":{\"anchor\":\"x\",\"domain\":[0.0,1.0],\"title\":{\"text\":\"Maker\"},\"categoryorder\":\"array\",\"categoryarray\":[\"Tata Motors\",\"Mahindra & Mahindra\",\"MG Motor\",\"Hyundai Motor\",\"BYD India\"]},\"legend\":{\"title\":{\"text\":\"Maker\"},\"tracegroupgap\":0},\"title\":{\"text\":\"CAGR (2022-2024) for Top 5 4-Wheeler EV Makers\"},\"barmode\":\"relative\"},                        {\"responsive\": true}                    ).then(function(){\n",
       "                            \n",
       "var gd = document.getElementById('e6acbadf-6da0-4759-b23d-2a6842b13393');\n",
       "var x = new MutationObserver(function (mutations, observer) {{\n",
       "        var display = window.getComputedStyle(gd).display;\n",
       "        if (!display || display === 'none') {{\n",
       "            console.log([gd, 'removed!']);\n",
       "            Plotly.purge(gd);\n",
       "            observer.disconnect();\n",
       "        }}\n",
       "}});\n",
       "\n",
       "// Listen for the removal of the full notebook cells\n",
       "var notebookContainer = gd.closest('#notebook-container');\n",
       "if (notebookContainer) {{\n",
       "    x.observe(notebookContainer, {childList: true});\n",
       "}}\n",
       "\n",
       "// Listen for the clearing of the current output cell\n",
       "var outputEl = gd.closest('.output');\n",
       "if (outputEl) {{\n",
       "    x.observe(outputEl, {childList: true});\n",
       "}}\n",
       "\n",
       "                        })                };                });            </script>        </div>"
      ]
     },
     "metadata": {},
     "output_type": "display_data"
    }
   ],
   "source": [
    "import plotly.express as px\n",
    "\n",
    "fig = px.bar(top5_cagr, x='CAGR', y='maker', \n",
    "             title='CAGR (2022-2024) for Top 5 4-Wheeler EV Makers',\n",
    "             labels={'CAGR_2022_2024': 'CAGR (%)', 'maker': 'Maker'},\n",
    "             text_auto=True,color='maker')\n",
    "\n",
    "fig.show()\n"
   ]
  },
  {
   "cell_type": "raw",
   "id": "e9bd327d",
   "metadata": {},
   "source": [
    "List down the top 10 states that had the highest compounded annual growth rate (CAGR) from 2022 to 2024 in total vehicles sold."
   ]
  },
  {
   "cell_type": "code",
   "execution_count": 70,
   "id": "16526745",
   "metadata": {},
   "outputs": [
    {
     "data": {
      "text/html": [
       "<div>\n",
       "<style scoped>\n",
       "    .dataframe tbody tr th:only-of-type {\n",
       "        vertical-align: middle;\n",
       "    }\n",
       "\n",
       "    .dataframe tbody tr th {\n",
       "        vertical-align: top;\n",
       "    }\n",
       "\n",
       "    .dataframe thead th {\n",
       "        text-align: right;\n",
       "    }\n",
       "</style>\n",
       "<table border=\"1\" class=\"dataframe\">\n",
       "  <thead>\n",
       "    <tr style=\"text-align: right;\">\n",
       "      <th></th>\n",
       "      <th>state</th>\n",
       "      <th>fiscal_year</th>\n",
       "      <th>electric_vehicles_sold</th>\n",
       "      <th>total_vehicles_sold</th>\n",
       "    </tr>\n",
       "  </thead>\n",
       "  <tbody>\n",
       "    <tr>\n",
       "      <th>0</th>\n",
       "      <td>Andaman &amp; Nicobar</td>\n",
       "      <td>2024</td>\n",
       "      <td>2</td>\n",
       "      <td>660</td>\n",
       "    </tr>\n",
       "    <tr>\n",
       "      <th>1</th>\n",
       "      <td>Andaman &amp; Nicobar Island</td>\n",
       "      <td>2022</td>\n",
       "      <td>22</td>\n",
       "      <td>5148</td>\n",
       "    </tr>\n",
       "    <tr>\n",
       "      <th>2</th>\n",
       "      <td>Andaman &amp; Nicobar Island</td>\n",
       "      <td>2023</td>\n",
       "      <td>23</td>\n",
       "      <td>6534</td>\n",
       "    </tr>\n",
       "    <tr>\n",
       "      <th>3</th>\n",
       "      <td>Andaman &amp; Nicobar Island</td>\n",
       "      <td>2024</td>\n",
       "      <td>33</td>\n",
       "      <td>6543</td>\n",
       "    </tr>\n",
       "    <tr>\n",
       "      <th>4</th>\n",
       "      <td>Andhra Pradesh</td>\n",
       "      <td>2022</td>\n",
       "      <td>13928</td>\n",
       "      <td>772748</td>\n",
       "    </tr>\n",
       "    <tr>\n",
       "      <th>...</th>\n",
       "      <td>...</td>\n",
       "      <td>...</td>\n",
       "      <td>...</td>\n",
       "      <td>...</td>\n",
       "    </tr>\n",
       "    <tr>\n",
       "      <th>98</th>\n",
       "      <td>Uttarakhand</td>\n",
       "      <td>2023</td>\n",
       "      <td>6712</td>\n",
       "      <td>216265</td>\n",
       "    </tr>\n",
       "    <tr>\n",
       "      <th>99</th>\n",
       "      <td>Uttarakhand</td>\n",
       "      <td>2024</td>\n",
       "      <td>6336</td>\n",
       "      <td>233111</td>\n",
       "    </tr>\n",
       "    <tr>\n",
       "      <th>100</th>\n",
       "      <td>West Bengal</td>\n",
       "      <td>2022</td>\n",
       "      <td>2685</td>\n",
       "      <td>860709</td>\n",
       "    </tr>\n",
       "    <tr>\n",
       "      <th>101</th>\n",
       "      <td>West Bengal</td>\n",
       "      <td>2023</td>\n",
       "      <td>11011</td>\n",
       "      <td>913558</td>\n",
       "    </tr>\n",
       "    <tr>\n",
       "      <th>102</th>\n",
       "      <td>West Bengal</td>\n",
       "      <td>2024</td>\n",
       "      <td>16864</td>\n",
       "      <td>961909</td>\n",
       "    </tr>\n",
       "  </tbody>\n",
       "</table>\n",
       "<p>103 rows × 4 columns</p>\n",
       "</div>"
      ],
      "text/plain": [
       "                        state  fiscal_year  electric_vehicles_sold  \\\n",
       "0           Andaman & Nicobar         2024                       2   \n",
       "1    Andaman & Nicobar Island         2022                      22   \n",
       "2    Andaman & Nicobar Island         2023                      23   \n",
       "3    Andaman & Nicobar Island         2024                      33   \n",
       "4              Andhra Pradesh         2022                   13928   \n",
       "..                        ...          ...                     ...   \n",
       "98                Uttarakhand         2023                    6712   \n",
       "99                Uttarakhand         2024                    6336   \n",
       "100               West Bengal         2022                    2685   \n",
       "101               West Bengal         2023                   11011   \n",
       "102               West Bengal         2024                   16864   \n",
       "\n",
       "     total_vehicles_sold  \n",
       "0                    660  \n",
       "1                   5148  \n",
       "2                   6534  \n",
       "3                   6543  \n",
       "4                 772748  \n",
       "..                   ...  \n",
       "98                216265  \n",
       "99                233111  \n",
       "100               860709  \n",
       "101               913558  \n",
       "102               961909  \n",
       "\n",
       "[103 rows x 4 columns]"
      ]
     },
     "execution_count": 70,
     "metadata": {},
     "output_type": "execute_result"
    }
   ],
   "source": [
    "state_totalv=new_s.groupby(['state','fiscal_year']).sum('total_vehicles_sold').reset_index()\n",
    "state_totalv"
   ]
  },
  {
   "cell_type": "code",
   "execution_count": 71,
   "id": "bc8312f1",
   "metadata": {},
   "outputs": [
    {
     "data": {
      "text/html": [
       "<div>\n",
       "<style scoped>\n",
       "    .dataframe tbody tr th:only-of-type {\n",
       "        vertical-align: middle;\n",
       "    }\n",
       "\n",
       "    .dataframe tbody tr th {\n",
       "        vertical-align: top;\n",
       "    }\n",
       "\n",
       "    .dataframe thead th {\n",
       "        text-align: right;\n",
       "    }\n",
       "</style>\n",
       "<table border=\"1\" class=\"dataframe\">\n",
       "  <thead>\n",
       "    <tr style=\"text-align: right;\">\n",
       "      <th>fiscal_year</th>\n",
       "      <th>state</th>\n",
       "      <th>2022</th>\n",
       "      <th>2023</th>\n",
       "      <th>2024</th>\n",
       "    </tr>\n",
       "  </thead>\n",
       "  <tbody>\n",
       "    <tr>\n",
       "      <th>0</th>\n",
       "      <td>Andaman &amp; Nicobar</td>\n",
       "      <td>NaN</td>\n",
       "      <td>NaN</td>\n",
       "      <td>660.0</td>\n",
       "    </tr>\n",
       "    <tr>\n",
       "      <th>1</th>\n",
       "      <td>Andaman &amp; Nicobar Island</td>\n",
       "      <td>5148.0</td>\n",
       "      <td>6534.0</td>\n",
       "      <td>6543.0</td>\n",
       "    </tr>\n",
       "    <tr>\n",
       "      <th>2</th>\n",
       "      <td>Andhra Pradesh</td>\n",
       "      <td>772748.0</td>\n",
       "      <td>728258.0</td>\n",
       "      <td>782865.0</td>\n",
       "    </tr>\n",
       "    <tr>\n",
       "      <th>3</th>\n",
       "      <td>Arunachal Pradesh</td>\n",
       "      <td>19929.0</td>\n",
       "      <td>23726.0</td>\n",
       "      <td>27892.0</td>\n",
       "    </tr>\n",
       "    <tr>\n",
       "      <th>4</th>\n",
       "      <td>Assam</td>\n",
       "      <td>379450.0</td>\n",
       "      <td>476195.0</td>\n",
       "      <td>547626.0</td>\n",
       "    </tr>\n",
       "    <tr>\n",
       "      <th>5</th>\n",
       "      <td>Bihar</td>\n",
       "      <td>892873.0</td>\n",
       "      <td>1022797.0</td>\n",
       "      <td>1132703.0</td>\n",
       "    </tr>\n",
       "    <tr>\n",
       "      <th>6</th>\n",
       "      <td>Chandigarh</td>\n",
       "      <td>36954.0</td>\n",
       "      <td>48527.0</td>\n",
       "      <td>45147.0</td>\n",
       "    </tr>\n",
       "    <tr>\n",
       "      <th>7</th>\n",
       "      <td>Chhattisgarh</td>\n",
       "      <td>390272.0</td>\n",
       "      <td>441649.0</td>\n",
       "      <td>503068.0</td>\n",
       "    </tr>\n",
       "    <tr>\n",
       "      <th>8</th>\n",
       "      <td>DNH and DD</td>\n",
       "      <td>12413.0</td>\n",
       "      <td>14584.0</td>\n",
       "      <td>16400.0</td>\n",
       "    </tr>\n",
       "    <tr>\n",
       "      <th>9</th>\n",
       "      <td>Delhi</td>\n",
       "      <td>401540.0</td>\n",
       "      <td>580548.0</td>\n",
       "      <td>606348.0</td>\n",
       "    </tr>\n",
       "    <tr>\n",
       "      <th>10</th>\n",
       "      <td>Goa</td>\n",
       "      <td>48372.0</td>\n",
       "      <td>73074.0</td>\n",
       "      <td>78524.0</td>\n",
       "    </tr>\n",
       "    <tr>\n",
       "      <th>11</th>\n",
       "      <td>Gujarat</td>\n",
       "      <td>1094872.0</td>\n",
       "      <td>1439692.0</td>\n",
       "      <td>1590987.0</td>\n",
       "    </tr>\n",
       "    <tr>\n",
       "      <th>12</th>\n",
       "      <td>Haryana</td>\n",
       "      <td>528591.0</td>\n",
       "      <td>642148.0</td>\n",
       "      <td>732029.0</td>\n",
       "    </tr>\n",
       "    <tr>\n",
       "      <th>13</th>\n",
       "      <td>Himachal Pradesh</td>\n",
       "      <td>98266.0</td>\n",
       "      <td>110016.0</td>\n",
       "      <td>117084.0</td>\n",
       "    </tr>\n",
       "    <tr>\n",
       "      <th>14</th>\n",
       "      <td>Jammu and Kashmir</td>\n",
       "      <td>133943.0</td>\n",
       "      <td>141251.0</td>\n",
       "      <td>139359.0</td>\n",
       "    </tr>\n",
       "    <tr>\n",
       "      <th>15</th>\n",
       "      <td>Jharkhand</td>\n",
       "      <td>411613.0</td>\n",
       "      <td>458262.0</td>\n",
       "      <td>495011.0</td>\n",
       "    </tr>\n",
       "    <tr>\n",
       "      <th>16</th>\n",
       "      <td>Karnataka</td>\n",
       "      <td>1007894.0</td>\n",
       "      <td>1404447.0</td>\n",
       "      <td>1581988.0</td>\n",
       "    </tr>\n",
       "    <tr>\n",
       "      <th>17</th>\n",
       "      <td>Kerala</td>\n",
       "      <td>689575.0</td>\n",
       "      <td>736988.0</td>\n",
       "      <td>638114.0</td>\n",
       "    </tr>\n",
       "    <tr>\n",
       "      <th>18</th>\n",
       "      <td>Ladakh</td>\n",
       "      <td>2911.0</td>\n",
       "      <td>4379.0</td>\n",
       "      <td>3206.0</td>\n",
       "    </tr>\n",
       "    <tr>\n",
       "      <th>19</th>\n",
       "      <td>Madhya Pradesh</td>\n",
       "      <td>967179.0</td>\n",
       "      <td>1245337.0</td>\n",
       "      <td>1286182.0</td>\n",
       "    </tr>\n",
       "    <tr>\n",
       "      <th>20</th>\n",
       "      <td>Maharashtra</td>\n",
       "      <td>1667002.0</td>\n",
       "      <td>2140433.0</td>\n",
       "      <td>2293994.0</td>\n",
       "    </tr>\n",
       "    <tr>\n",
       "      <th>21</th>\n",
       "      <td>Manipur</td>\n",
       "      <td>36129.0</td>\n",
       "      <td>49962.0</td>\n",
       "      <td>18422.0</td>\n",
       "    </tr>\n",
       "    <tr>\n",
       "      <th>22</th>\n",
       "      <td>Meghalaya</td>\n",
       "      <td>22193.0</td>\n",
       "      <td>31362.0</td>\n",
       "      <td>36628.0</td>\n",
       "    </tr>\n",
       "    <tr>\n",
       "      <th>23</th>\n",
       "      <td>Mizoram</td>\n",
       "      <td>19439.0</td>\n",
       "      <td>24446.0</td>\n",
       "      <td>27422.0</td>\n",
       "    </tr>\n",
       "    <tr>\n",
       "      <th>24</th>\n",
       "      <td>Nagaland</td>\n",
       "      <td>12852.0</td>\n",
       "      <td>14268.0</td>\n",
       "      <td>16972.0</td>\n",
       "    </tr>\n",
       "    <tr>\n",
       "      <th>25</th>\n",
       "      <td>Odisha</td>\n",
       "      <td>479527.0</td>\n",
       "      <td>591118.0</td>\n",
       "      <td>618149.0</td>\n",
       "    </tr>\n",
       "    <tr>\n",
       "      <th>26</th>\n",
       "      <td>Puducherry</td>\n",
       "      <td>42945.0</td>\n",
       "      <td>50161.0</td>\n",
       "      <td>57692.0</td>\n",
       "    </tr>\n",
       "    <tr>\n",
       "      <th>27</th>\n",
       "      <td>Punjab</td>\n",
       "      <td>443232.0</td>\n",
       "      <td>526244.0</td>\n",
       "      <td>574486.0</td>\n",
       "    </tr>\n",
       "    <tr>\n",
       "      <th>28</th>\n",
       "      <td>Rajasthan</td>\n",
       "      <td>880985.0</td>\n",
       "      <td>1126130.0</td>\n",
       "      <td>1300476.0</td>\n",
       "    </tr>\n",
       "    <tr>\n",
       "      <th>29</th>\n",
       "      <td>Sikkim</td>\n",
       "      <td>8897.0</td>\n",
       "      <td>9931.0</td>\n",
       "      <td>10518.0</td>\n",
       "    </tr>\n",
       "    <tr>\n",
       "      <th>30</th>\n",
       "      <td>Tamil Nadu</td>\n",
       "      <td>1345017.0</td>\n",
       "      <td>1590406.0</td>\n",
       "      <td>1716940.0</td>\n",
       "    </tr>\n",
       "    <tr>\n",
       "      <th>31</th>\n",
       "      <td>Tripura</td>\n",
       "      <td>37735.0</td>\n",
       "      <td>41034.0</td>\n",
       "      <td>46447.0</td>\n",
       "    </tr>\n",
       "    <tr>\n",
       "      <th>32</th>\n",
       "      <td>Uttar Pradesh</td>\n",
       "      <td>2497288.0</td>\n",
       "      <td>2697449.0</td>\n",
       "      <td>2932347.0</td>\n",
       "    </tr>\n",
       "    <tr>\n",
       "      <th>33</th>\n",
       "      <td>Uttarakhand</td>\n",
       "      <td>173331.0</td>\n",
       "      <td>216265.0</td>\n",
       "      <td>233111.0</td>\n",
       "    </tr>\n",
       "    <tr>\n",
       "      <th>34</th>\n",
       "      <td>West Bengal</td>\n",
       "      <td>860709.0</td>\n",
       "      <td>913558.0</td>\n",
       "      <td>961909.0</td>\n",
       "    </tr>\n",
       "  </tbody>\n",
       "</table>\n",
       "</div>"
      ],
      "text/plain": [
       "fiscal_year                     state       2022       2023       2024\n",
       "0                   Andaman & Nicobar        NaN        NaN      660.0\n",
       "1            Andaman & Nicobar Island     5148.0     6534.0     6543.0\n",
       "2                      Andhra Pradesh   772748.0   728258.0   782865.0\n",
       "3                   Arunachal Pradesh    19929.0    23726.0    27892.0\n",
       "4                               Assam   379450.0   476195.0   547626.0\n",
       "5                               Bihar   892873.0  1022797.0  1132703.0\n",
       "6                          Chandigarh    36954.0    48527.0    45147.0\n",
       "7                        Chhattisgarh   390272.0   441649.0   503068.0\n",
       "8                          DNH and DD    12413.0    14584.0    16400.0\n",
       "9                               Delhi   401540.0   580548.0   606348.0\n",
       "10                                Goa    48372.0    73074.0    78524.0\n",
       "11                            Gujarat  1094872.0  1439692.0  1590987.0\n",
       "12                            Haryana   528591.0   642148.0   732029.0\n",
       "13                   Himachal Pradesh    98266.0   110016.0   117084.0\n",
       "14                  Jammu and Kashmir   133943.0   141251.0   139359.0\n",
       "15                          Jharkhand   411613.0   458262.0   495011.0\n",
       "16                          Karnataka  1007894.0  1404447.0  1581988.0\n",
       "17                             Kerala   689575.0   736988.0   638114.0\n",
       "18                             Ladakh     2911.0     4379.0     3206.0\n",
       "19                     Madhya Pradesh   967179.0  1245337.0  1286182.0\n",
       "20                        Maharashtra  1667002.0  2140433.0  2293994.0\n",
       "21                            Manipur    36129.0    49962.0    18422.0\n",
       "22                          Meghalaya    22193.0    31362.0    36628.0\n",
       "23                            Mizoram    19439.0    24446.0    27422.0\n",
       "24                           Nagaland    12852.0    14268.0    16972.0\n",
       "25                             Odisha   479527.0   591118.0   618149.0\n",
       "26                         Puducherry    42945.0    50161.0    57692.0\n",
       "27                             Punjab   443232.0   526244.0   574486.0\n",
       "28                          Rajasthan   880985.0  1126130.0  1300476.0\n",
       "29                             Sikkim     8897.0     9931.0    10518.0\n",
       "30                         Tamil Nadu  1345017.0  1590406.0  1716940.0\n",
       "31                            Tripura    37735.0    41034.0    46447.0\n",
       "32                      Uttar Pradesh  2497288.0  2697449.0  2932347.0\n",
       "33                        Uttarakhand   173331.0   216265.0   233111.0\n",
       "34                        West Bengal   860709.0   913558.0   961909.0"
      ]
     },
     "execution_count": 71,
     "metadata": {},
     "output_type": "execute_result"
    }
   ],
   "source": [
    "state_pivot=pd.pivot_table(state_totalv,index='state',columns='fiscal_year',values='total_vehicles_sold').reset_index()\n",
    "state_pivot"
   ]
  },
  {
   "cell_type": "code",
   "execution_count": 72,
   "id": "8a09e8fb",
   "metadata": {},
   "outputs": [
    {
     "data": {
      "text/html": [
       "<div>\n",
       "<style scoped>\n",
       "    .dataframe tbody tr th:only-of-type {\n",
       "        vertical-align: middle;\n",
       "    }\n",
       "\n",
       "    .dataframe tbody tr th {\n",
       "        vertical-align: top;\n",
       "    }\n",
       "\n",
       "    .dataframe thead th {\n",
       "        text-align: right;\n",
       "    }\n",
       "</style>\n",
       "<table border=\"1\" class=\"dataframe\">\n",
       "  <thead>\n",
       "    <tr style=\"text-align: right;\">\n",
       "      <th>fiscal_year</th>\n",
       "      <th>state</th>\n",
       "      <th>total_sold22</th>\n",
       "      <th>total_sold23</th>\n",
       "      <th>total_sold24</th>\n",
       "      <th>CAGR</th>\n",
       "    </tr>\n",
       "  </thead>\n",
       "  <tbody>\n",
       "    <tr>\n",
       "      <th>0</th>\n",
       "      <td>Andaman &amp; Nicobar</td>\n",
       "      <td>NaN</td>\n",
       "      <td>NaN</td>\n",
       "      <td>660.0</td>\n",
       "      <td>NaN</td>\n",
       "    </tr>\n",
       "    <tr>\n",
       "      <th>1</th>\n",
       "      <td>Andaman &amp; Nicobar Island</td>\n",
       "      <td>5148.0</td>\n",
       "      <td>6534.0</td>\n",
       "      <td>6543.0</td>\n",
       "      <td>12.737705</td>\n",
       "    </tr>\n",
       "    <tr>\n",
       "      <th>2</th>\n",
       "      <td>Andhra Pradesh</td>\n",
       "      <td>772748.0</td>\n",
       "      <td>728258.0</td>\n",
       "      <td>782865.0</td>\n",
       "      <td>0.652483</td>\n",
       "    </tr>\n",
       "    <tr>\n",
       "      <th>3</th>\n",
       "      <td>Arunachal Pradesh</td>\n",
       "      <td>19929.0</td>\n",
       "      <td>23726.0</td>\n",
       "      <td>27892.0</td>\n",
       "      <td>18.303359</td>\n",
       "    </tr>\n",
       "    <tr>\n",
       "      <th>4</th>\n",
       "      <td>Assam</td>\n",
       "      <td>379450.0</td>\n",
       "      <td>476195.0</td>\n",
       "      <td>547626.0</td>\n",
       "      <td>20.133672</td>\n",
       "    </tr>\n",
       "    <tr>\n",
       "      <th>5</th>\n",
       "      <td>Bihar</td>\n",
       "      <td>892873.0</td>\n",
       "      <td>1022797.0</td>\n",
       "      <td>1132703.0</td>\n",
       "      <td>12.632359</td>\n",
       "    </tr>\n",
       "    <tr>\n",
       "      <th>6</th>\n",
       "      <td>Chandigarh</td>\n",
       "      <td>36954.0</td>\n",
       "      <td>48527.0</td>\n",
       "      <td>45147.0</td>\n",
       "      <td>10.530904</td>\n",
       "    </tr>\n",
       "    <tr>\n",
       "      <th>7</th>\n",
       "      <td>Chhattisgarh</td>\n",
       "      <td>390272.0</td>\n",
       "      <td>441649.0</td>\n",
       "      <td>503068.0</td>\n",
       "      <td>13.534970</td>\n",
       "    </tr>\n",
       "    <tr>\n",
       "      <th>8</th>\n",
       "      <td>DNH and DD</td>\n",
       "      <td>12413.0</td>\n",
       "      <td>14584.0</td>\n",
       "      <td>16400.0</td>\n",
       "      <td>14.943270</td>\n",
       "    </tr>\n",
       "    <tr>\n",
       "      <th>9</th>\n",
       "      <td>Delhi</td>\n",
       "      <td>401540.0</td>\n",
       "      <td>580548.0</td>\n",
       "      <td>606348.0</td>\n",
       "      <td>22.884347</td>\n",
       "    </tr>\n",
       "    <tr>\n",
       "      <th>10</th>\n",
       "      <td>Goa</td>\n",
       "      <td>48372.0</td>\n",
       "      <td>73074.0</td>\n",
       "      <td>78524.0</td>\n",
       "      <td>27.410196</td>\n",
       "    </tr>\n",
       "    <tr>\n",
       "      <th>11</th>\n",
       "      <td>Gujarat</td>\n",
       "      <td>1094872.0</td>\n",
       "      <td>1439692.0</td>\n",
       "      <td>1590987.0</td>\n",
       "      <td>20.545677</td>\n",
       "    </tr>\n",
       "    <tr>\n",
       "      <th>12</th>\n",
       "      <td>Haryana</td>\n",
       "      <td>528591.0</td>\n",
       "      <td>642148.0</td>\n",
       "      <td>732029.0</td>\n",
       "      <td>17.680434</td>\n",
       "    </tr>\n",
       "    <tr>\n",
       "      <th>13</th>\n",
       "      <td>Himachal Pradesh</td>\n",
       "      <td>98266.0</td>\n",
       "      <td>110016.0</td>\n",
       "      <td>117084.0</td>\n",
       "      <td>9.155880</td>\n",
       "    </tr>\n",
       "    <tr>\n",
       "      <th>14</th>\n",
       "      <td>Jammu and Kashmir</td>\n",
       "      <td>133943.0</td>\n",
       "      <td>141251.0</td>\n",
       "      <td>139359.0</td>\n",
       "      <td>2.001721</td>\n",
       "    </tr>\n",
       "    <tr>\n",
       "      <th>15</th>\n",
       "      <td>Jharkhand</td>\n",
       "      <td>411613.0</td>\n",
       "      <td>458262.0</td>\n",
       "      <td>495011.0</td>\n",
       "      <td>9.663697</td>\n",
       "    </tr>\n",
       "    <tr>\n",
       "      <th>16</th>\n",
       "      <td>Karnataka</td>\n",
       "      <td>1007894.0</td>\n",
       "      <td>1404447.0</td>\n",
       "      <td>1581988.0</td>\n",
       "      <td>25.283582</td>\n",
       "    </tr>\n",
       "    <tr>\n",
       "      <th>17</th>\n",
       "      <td>Kerala</td>\n",
       "      <td>689575.0</td>\n",
       "      <td>736988.0</td>\n",
       "      <td>638114.0</td>\n",
       "      <td>-3.803697</td>\n",
       "    </tr>\n",
       "    <tr>\n",
       "      <th>18</th>\n",
       "      <td>Ladakh</td>\n",
       "      <td>2911.0</td>\n",
       "      <td>4379.0</td>\n",
       "      <td>3206.0</td>\n",
       "      <td>4.944735</td>\n",
       "    </tr>\n",
       "    <tr>\n",
       "      <th>19</th>\n",
       "      <td>Madhya Pradesh</td>\n",
       "      <td>967179.0</td>\n",
       "      <td>1245337.0</td>\n",
       "      <td>1286182.0</td>\n",
       "      <td>15.318181</td>\n",
       "    </tr>\n",
       "    <tr>\n",
       "      <th>20</th>\n",
       "      <td>Maharashtra</td>\n",
       "      <td>1667002.0</td>\n",
       "      <td>2140433.0</td>\n",
       "      <td>2293994.0</td>\n",
       "      <td>17.308121</td>\n",
       "    </tr>\n",
       "    <tr>\n",
       "      <th>21</th>\n",
       "      <td>Manipur</td>\n",
       "      <td>36129.0</td>\n",
       "      <td>49962.0</td>\n",
       "      <td>18422.0</td>\n",
       "      <td>-28.593061</td>\n",
       "    </tr>\n",
       "    <tr>\n",
       "      <th>22</th>\n",
       "      <td>Meghalaya</td>\n",
       "      <td>22193.0</td>\n",
       "      <td>31362.0</td>\n",
       "      <td>36628.0</td>\n",
       "      <td>28.469075</td>\n",
       "    </tr>\n",
       "    <tr>\n",
       "      <th>23</th>\n",
       "      <td>Mizoram</td>\n",
       "      <td>19439.0</td>\n",
       "      <td>24446.0</td>\n",
       "      <td>27422.0</td>\n",
       "      <td>18.771599</td>\n",
       "    </tr>\n",
       "    <tr>\n",
       "      <th>24</th>\n",
       "      <td>Nagaland</td>\n",
       "      <td>12852.0</td>\n",
       "      <td>14268.0</td>\n",
       "      <td>16972.0</td>\n",
       "      <td>14.916173</td>\n",
       "    </tr>\n",
       "    <tr>\n",
       "      <th>25</th>\n",
       "      <td>Odisha</td>\n",
       "      <td>479527.0</td>\n",
       "      <td>591118.0</td>\n",
       "      <td>618149.0</td>\n",
       "      <td>13.537690</td>\n",
       "    </tr>\n",
       "    <tr>\n",
       "      <th>26</th>\n",
       "      <td>Puducherry</td>\n",
       "      <td>42945.0</td>\n",
       "      <td>50161.0</td>\n",
       "      <td>57692.0</td>\n",
       "      <td>15.904819</td>\n",
       "    </tr>\n",
       "    <tr>\n",
       "      <th>27</th>\n",
       "      <td>Punjab</td>\n",
       "      <td>443232.0</td>\n",
       "      <td>526244.0</td>\n",
       "      <td>574486.0</td>\n",
       "      <td>13.847676</td>\n",
       "    </tr>\n",
       "    <tr>\n",
       "      <th>28</th>\n",
       "      <td>Rajasthan</td>\n",
       "      <td>880985.0</td>\n",
       "      <td>1126130.0</td>\n",
       "      <td>1300476.0</td>\n",
       "      <td>21.497380</td>\n",
       "    </tr>\n",
       "    <tr>\n",
       "      <th>29</th>\n",
       "      <td>Sikkim</td>\n",
       "      <td>8897.0</td>\n",
       "      <td>9931.0</td>\n",
       "      <td>10518.0</td>\n",
       "      <td>8.728848</td>\n",
       "    </tr>\n",
       "    <tr>\n",
       "      <th>30</th>\n",
       "      <td>Tamil Nadu</td>\n",
       "      <td>1345017.0</td>\n",
       "      <td>1590406.0</td>\n",
       "      <td>1716940.0</td>\n",
       "      <td>12.983148</td>\n",
       "    </tr>\n",
       "    <tr>\n",
       "      <th>31</th>\n",
       "      <td>Tripura</td>\n",
       "      <td>37735.0</td>\n",
       "      <td>41034.0</td>\n",
       "      <td>46447.0</td>\n",
       "      <td>10.944725</td>\n",
       "    </tr>\n",
       "    <tr>\n",
       "      <th>32</th>\n",
       "      <td>Uttar Pradesh</td>\n",
       "      <td>2497288.0</td>\n",
       "      <td>2697449.0</td>\n",
       "      <td>2932347.0</td>\n",
       "      <td>8.361090</td>\n",
       "    </tr>\n",
       "    <tr>\n",
       "      <th>33</th>\n",
       "      <td>Uttarakhand</td>\n",
       "      <td>173331.0</td>\n",
       "      <td>216265.0</td>\n",
       "      <td>233111.0</td>\n",
       "      <td>15.969361</td>\n",
       "    </tr>\n",
       "    <tr>\n",
       "      <th>34</th>\n",
       "      <td>West Bengal</td>\n",
       "      <td>860709.0</td>\n",
       "      <td>913558.0</td>\n",
       "      <td>961909.0</td>\n",
       "      <td>5.715537</td>\n",
       "    </tr>\n",
       "  </tbody>\n",
       "</table>\n",
       "</div>"
      ],
      "text/plain": [
       "fiscal_year                     state  total_sold22  total_sold23  \\\n",
       "0                   Andaman & Nicobar           NaN           NaN   \n",
       "1            Andaman & Nicobar Island        5148.0        6534.0   \n",
       "2                      Andhra Pradesh      772748.0      728258.0   \n",
       "3                   Arunachal Pradesh       19929.0       23726.0   \n",
       "4                               Assam      379450.0      476195.0   \n",
       "5                               Bihar      892873.0     1022797.0   \n",
       "6                          Chandigarh       36954.0       48527.0   \n",
       "7                        Chhattisgarh      390272.0      441649.0   \n",
       "8                          DNH and DD       12413.0       14584.0   \n",
       "9                               Delhi      401540.0      580548.0   \n",
       "10                                Goa       48372.0       73074.0   \n",
       "11                            Gujarat     1094872.0     1439692.0   \n",
       "12                            Haryana      528591.0      642148.0   \n",
       "13                   Himachal Pradesh       98266.0      110016.0   \n",
       "14                  Jammu and Kashmir      133943.0      141251.0   \n",
       "15                          Jharkhand      411613.0      458262.0   \n",
       "16                          Karnataka     1007894.0     1404447.0   \n",
       "17                             Kerala      689575.0      736988.0   \n",
       "18                             Ladakh        2911.0        4379.0   \n",
       "19                     Madhya Pradesh      967179.0     1245337.0   \n",
       "20                        Maharashtra     1667002.0     2140433.0   \n",
       "21                            Manipur       36129.0       49962.0   \n",
       "22                          Meghalaya       22193.0       31362.0   \n",
       "23                            Mizoram       19439.0       24446.0   \n",
       "24                           Nagaland       12852.0       14268.0   \n",
       "25                             Odisha      479527.0      591118.0   \n",
       "26                         Puducherry       42945.0       50161.0   \n",
       "27                             Punjab      443232.0      526244.0   \n",
       "28                          Rajasthan      880985.0     1126130.0   \n",
       "29                             Sikkim        8897.0        9931.0   \n",
       "30                         Tamil Nadu     1345017.0     1590406.0   \n",
       "31                            Tripura       37735.0       41034.0   \n",
       "32                      Uttar Pradesh     2497288.0     2697449.0   \n",
       "33                        Uttarakhand      173331.0      216265.0   \n",
       "34                        West Bengal      860709.0      913558.0   \n",
       "\n",
       "fiscal_year  total_sold24       CAGR  \n",
       "0                   660.0        NaN  \n",
       "1                  6543.0  12.737705  \n",
       "2                782865.0   0.652483  \n",
       "3                 27892.0  18.303359  \n",
       "4                547626.0  20.133672  \n",
       "5               1132703.0  12.632359  \n",
       "6                 45147.0  10.530904  \n",
       "7                503068.0  13.534970  \n",
       "8                 16400.0  14.943270  \n",
       "9                606348.0  22.884347  \n",
       "10                78524.0  27.410196  \n",
       "11              1590987.0  20.545677  \n",
       "12               732029.0  17.680434  \n",
       "13               117084.0   9.155880  \n",
       "14               139359.0   2.001721  \n",
       "15               495011.0   9.663697  \n",
       "16              1581988.0  25.283582  \n",
       "17               638114.0  -3.803697  \n",
       "18                 3206.0   4.944735  \n",
       "19              1286182.0  15.318181  \n",
       "20              2293994.0  17.308121  \n",
       "21                18422.0 -28.593061  \n",
       "22                36628.0  28.469075  \n",
       "23                27422.0  18.771599  \n",
       "24                16972.0  14.916173  \n",
       "25               618149.0  13.537690  \n",
       "26                57692.0  15.904819  \n",
       "27               574486.0  13.847676  \n",
       "28              1300476.0  21.497380  \n",
       "29                10518.0   8.728848  \n",
       "30              1716940.0  12.983148  \n",
       "31                46447.0  10.944725  \n",
       "32              2932347.0   8.361090  \n",
       "33               233111.0  15.969361  \n",
       "34               961909.0   5.715537  "
      ]
     },
     "execution_count": 72,
     "metadata": {},
     "output_type": "execute_result"
    }
   ],
   "source": [
    "state_pivot.rename(columns={2022:'total_sold22',2023:'total_sold23',2024:'total_sold24'},inplace=True)\n",
    "state_pivot\n",
    "\n",
    "start_year=2022\n",
    "end_year=2024\n",
    "state_pivot['CAGR']=(((state_pivot['total_sold24']/state_pivot['total_sold22'])**(1/(end_year-start_year)))-1)*100\n",
    "state_pivot"
   ]
  },
  {
   "cell_type": "code",
   "execution_count": 73,
   "id": "462c087c",
   "metadata": {},
   "outputs": [
    {
     "data": {
      "text/html": [
       "<div>\n",
       "<style scoped>\n",
       "    .dataframe tbody tr th:only-of-type {\n",
       "        vertical-align: middle;\n",
       "    }\n",
       "\n",
       "    .dataframe tbody tr th {\n",
       "        vertical-align: top;\n",
       "    }\n",
       "\n",
       "    .dataframe thead th {\n",
       "        text-align: right;\n",
       "    }\n",
       "</style>\n",
       "<table border=\"1\" class=\"dataframe\">\n",
       "  <thead>\n",
       "    <tr style=\"text-align: right;\">\n",
       "      <th>fiscal_year</th>\n",
       "      <th>state</th>\n",
       "      <th>total_sold22</th>\n",
       "      <th>total_sold23</th>\n",
       "      <th>total_sold24</th>\n",
       "      <th>CAGR</th>\n",
       "    </tr>\n",
       "  </thead>\n",
       "  <tbody>\n",
       "    <tr>\n",
       "      <th>22</th>\n",
       "      <td>Meghalaya</td>\n",
       "      <td>22193.0</td>\n",
       "      <td>31362.0</td>\n",
       "      <td>36628.0</td>\n",
       "      <td>28.469075</td>\n",
       "    </tr>\n",
       "    <tr>\n",
       "      <th>10</th>\n",
       "      <td>Goa</td>\n",
       "      <td>48372.0</td>\n",
       "      <td>73074.0</td>\n",
       "      <td>78524.0</td>\n",
       "      <td>27.410196</td>\n",
       "    </tr>\n",
       "    <tr>\n",
       "      <th>16</th>\n",
       "      <td>Karnataka</td>\n",
       "      <td>1007894.0</td>\n",
       "      <td>1404447.0</td>\n",
       "      <td>1581988.0</td>\n",
       "      <td>25.283582</td>\n",
       "    </tr>\n",
       "    <tr>\n",
       "      <th>9</th>\n",
       "      <td>Delhi</td>\n",
       "      <td>401540.0</td>\n",
       "      <td>580548.0</td>\n",
       "      <td>606348.0</td>\n",
       "      <td>22.884347</td>\n",
       "    </tr>\n",
       "    <tr>\n",
       "      <th>28</th>\n",
       "      <td>Rajasthan</td>\n",
       "      <td>880985.0</td>\n",
       "      <td>1126130.0</td>\n",
       "      <td>1300476.0</td>\n",
       "      <td>21.497380</td>\n",
       "    </tr>\n",
       "    <tr>\n",
       "      <th>11</th>\n",
       "      <td>Gujarat</td>\n",
       "      <td>1094872.0</td>\n",
       "      <td>1439692.0</td>\n",
       "      <td>1590987.0</td>\n",
       "      <td>20.545677</td>\n",
       "    </tr>\n",
       "    <tr>\n",
       "      <th>4</th>\n",
       "      <td>Assam</td>\n",
       "      <td>379450.0</td>\n",
       "      <td>476195.0</td>\n",
       "      <td>547626.0</td>\n",
       "      <td>20.133672</td>\n",
       "    </tr>\n",
       "    <tr>\n",
       "      <th>23</th>\n",
       "      <td>Mizoram</td>\n",
       "      <td>19439.0</td>\n",
       "      <td>24446.0</td>\n",
       "      <td>27422.0</td>\n",
       "      <td>18.771599</td>\n",
       "    </tr>\n",
       "    <tr>\n",
       "      <th>3</th>\n",
       "      <td>Arunachal Pradesh</td>\n",
       "      <td>19929.0</td>\n",
       "      <td>23726.0</td>\n",
       "      <td>27892.0</td>\n",
       "      <td>18.303359</td>\n",
       "    </tr>\n",
       "    <tr>\n",
       "      <th>12</th>\n",
       "      <td>Haryana</td>\n",
       "      <td>528591.0</td>\n",
       "      <td>642148.0</td>\n",
       "      <td>732029.0</td>\n",
       "      <td>17.680434</td>\n",
       "    </tr>\n",
       "  </tbody>\n",
       "</table>\n",
       "</div>"
      ],
      "text/plain": [
       "fiscal_year              state  total_sold22  total_sold23  total_sold24  \\\n",
       "22                   Meghalaya       22193.0       31362.0       36628.0   \n",
       "10                         Goa       48372.0       73074.0       78524.0   \n",
       "16                   Karnataka     1007894.0     1404447.0     1581988.0   \n",
       "9                        Delhi      401540.0      580548.0      606348.0   \n",
       "28                   Rajasthan      880985.0     1126130.0     1300476.0   \n",
       "11                     Gujarat     1094872.0     1439692.0     1590987.0   \n",
       "4                        Assam      379450.0      476195.0      547626.0   \n",
       "23                     Mizoram       19439.0       24446.0       27422.0   \n",
       "3            Arunachal Pradesh       19929.0       23726.0       27892.0   \n",
       "12                     Haryana      528591.0      642148.0      732029.0   \n",
       "\n",
       "fiscal_year       CAGR  \n",
       "22           28.469075  \n",
       "10           27.410196  \n",
       "16           25.283582  \n",
       "9            22.884347  \n",
       "28           21.497380  \n",
       "11           20.545677  \n",
       "4            20.133672  \n",
       "23           18.771599  \n",
       "3            18.303359  \n",
       "12           17.680434  "
      ]
     },
     "execution_count": 73,
     "metadata": {},
     "output_type": "execute_result"
    }
   ],
   "source": [
    "state_sort=state_pivot.sort_values(by='CAGR',ascending=False)\n",
    "state_top10=state_sort.head(10)\n",
    "state_top10"
   ]
  },
  {
   "cell_type": "code",
   "execution_count": 74,
   "id": "bfa34135",
   "metadata": {},
   "outputs": [
    {
     "data": {
      "application/vnd.plotly.v1+json": {
       "config": {
        "plotlyServerURL": "https://plot.ly"
       },
       "data": [
        {
         "alignmentgroup": "True",
         "hovertemplate": "state=%{x}<br>CAGR=%{y}<extra></extra>",
         "legendgroup": "Meghalaya",
         "marker": {
          "color": "#636efa",
          "pattern": {
           "shape": ""
          }
         },
         "name": "Meghalaya",
         "offsetgroup": "Meghalaya",
         "orientation": "v",
         "showlegend": true,
         "textposition": "auto",
         "texttemplate": "%{y}",
         "type": "bar",
         "x": [
          "Meghalaya"
         ],
         "xaxis": "x",
         "y": [
          28.469074717044762
         ],
         "yaxis": "y"
        },
        {
         "alignmentgroup": "True",
         "hovertemplate": "state=%{x}<br>CAGR=%{y}<extra></extra>",
         "legendgroup": "Goa",
         "marker": {
          "color": "#EF553B",
          "pattern": {
           "shape": ""
          }
         },
         "name": "Goa",
         "offsetgroup": "Goa",
         "orientation": "v",
         "showlegend": true,
         "textposition": "auto",
         "texttemplate": "%{y}",
         "type": "bar",
         "x": [
          "Goa"
         ],
         "xaxis": "x",
         "y": [
          27.41019637797184
         ],
         "yaxis": "y"
        },
        {
         "alignmentgroup": "True",
         "hovertemplate": "state=%{x}<br>CAGR=%{y}<extra></extra>",
         "legendgroup": "Karnataka",
         "marker": {
          "color": "#00cc96",
          "pattern": {
           "shape": ""
          }
         },
         "name": "Karnataka",
         "offsetgroup": "Karnataka",
         "orientation": "v",
         "showlegend": true,
         "textposition": "auto",
         "texttemplate": "%{y}",
         "type": "bar",
         "x": [
          "Karnataka"
         ],
         "xaxis": "x",
         "y": [
          25.283582187477993
         ],
         "yaxis": "y"
        },
        {
         "alignmentgroup": "True",
         "hovertemplate": "state=%{x}<br>CAGR=%{y}<extra></extra>",
         "legendgroup": "Delhi",
         "marker": {
          "color": "#ab63fa",
          "pattern": {
           "shape": ""
          }
         },
         "name": "Delhi",
         "offsetgroup": "Delhi",
         "orientation": "v",
         "showlegend": true,
         "textposition": "auto",
         "texttemplate": "%{y}",
         "type": "bar",
         "x": [
          "Delhi"
         ],
         "xaxis": "x",
         "y": [
          22.884347388479842
         ],
         "yaxis": "y"
        },
        {
         "alignmentgroup": "True",
         "hovertemplate": "state=%{x}<br>CAGR=%{y}<extra></extra>",
         "legendgroup": "Rajasthan",
         "marker": {
          "color": "#FFA15A",
          "pattern": {
           "shape": ""
          }
         },
         "name": "Rajasthan",
         "offsetgroup": "Rajasthan",
         "orientation": "v",
         "showlegend": true,
         "textposition": "auto",
         "texttemplate": "%{y}",
         "type": "bar",
         "x": [
          "Rajasthan"
         ],
         "xaxis": "x",
         "y": [
          21.497380306494197
         ],
         "yaxis": "y"
        },
        {
         "alignmentgroup": "True",
         "hovertemplate": "state=%{x}<br>CAGR=%{y}<extra></extra>",
         "legendgroup": "Gujarat",
         "marker": {
          "color": "#19d3f3",
          "pattern": {
           "shape": ""
          }
         },
         "name": "Gujarat",
         "offsetgroup": "Gujarat",
         "orientation": "v",
         "showlegend": true,
         "textposition": "auto",
         "texttemplate": "%{y}",
         "type": "bar",
         "x": [
          "Gujarat"
         ],
         "xaxis": "x",
         "y": [
          20.54567713183961
         ],
         "yaxis": "y"
        },
        {
         "alignmentgroup": "True",
         "hovertemplate": "state=%{x}<br>CAGR=%{y}<extra></extra>",
         "legendgroup": "Assam",
         "marker": {
          "color": "#FF6692",
          "pattern": {
           "shape": ""
          }
         },
         "name": "Assam",
         "offsetgroup": "Assam",
         "orientation": "v",
         "showlegend": true,
         "textposition": "auto",
         "texttemplate": "%{y}",
         "type": "bar",
         "x": [
          "Assam"
         ],
         "xaxis": "x",
         "y": [
          20.133671761039995
         ],
         "yaxis": "y"
        },
        {
         "alignmentgroup": "True",
         "hovertemplate": "state=%{x}<br>CAGR=%{y}<extra></extra>",
         "legendgroup": "Mizoram",
         "marker": {
          "color": "#B6E880",
          "pattern": {
           "shape": ""
          }
         },
         "name": "Mizoram",
         "offsetgroup": "Mizoram",
         "orientation": "v",
         "showlegend": true,
         "textposition": "auto",
         "texttemplate": "%{y}",
         "type": "bar",
         "x": [
          "Mizoram"
         ],
         "xaxis": "x",
         "y": [
          18.77159900880163
         ],
         "yaxis": "y"
        },
        {
         "alignmentgroup": "True",
         "hovertemplate": "state=%{x}<br>CAGR=%{y}<extra></extra>",
         "legendgroup": "Arunachal Pradesh",
         "marker": {
          "color": "#FF97FF",
          "pattern": {
           "shape": ""
          }
         },
         "name": "Arunachal Pradesh",
         "offsetgroup": "Arunachal Pradesh",
         "orientation": "v",
         "showlegend": true,
         "textposition": "auto",
         "texttemplate": "%{y}",
         "type": "bar",
         "x": [
          "Arunachal Pradesh"
         ],
         "xaxis": "x",
         "y": [
          18.303358703868543
         ],
         "yaxis": "y"
        },
        {
         "alignmentgroup": "True",
         "hovertemplate": "state=%{x}<br>CAGR=%{y}<extra></extra>",
         "legendgroup": "Haryana",
         "marker": {
          "color": "#FECB52",
          "pattern": {
           "shape": ""
          }
         },
         "name": "Haryana",
         "offsetgroup": "Haryana",
         "orientation": "v",
         "showlegend": true,
         "textposition": "auto",
         "texttemplate": "%{y}",
         "type": "bar",
         "x": [
          "Haryana"
         ],
         "xaxis": "x",
         "y": [
          17.68043389485452
         ],
         "yaxis": "y"
        }
       ],
       "layout": {
        "barmode": "relative",
        "legend": {
         "title": {
          "text": "state"
         },
         "tracegroupgap": 0
        },
        "template": {
         "data": {
          "bar": [
           {
            "error_x": {
             "color": "#2a3f5f"
            },
            "error_y": {
             "color": "#2a3f5f"
            },
            "marker": {
             "line": {
              "color": "#E5ECF6",
              "width": 0.5
             },
             "pattern": {
              "fillmode": "overlay",
              "size": 10,
              "solidity": 0.2
             }
            },
            "type": "bar"
           }
          ],
          "barpolar": [
           {
            "marker": {
             "line": {
              "color": "#E5ECF6",
              "width": 0.5
             },
             "pattern": {
              "fillmode": "overlay",
              "size": 10,
              "solidity": 0.2
             }
            },
            "type": "barpolar"
           }
          ],
          "carpet": [
           {
            "aaxis": {
             "endlinecolor": "#2a3f5f",
             "gridcolor": "white",
             "linecolor": "white",
             "minorgridcolor": "white",
             "startlinecolor": "#2a3f5f"
            },
            "baxis": {
             "endlinecolor": "#2a3f5f",
             "gridcolor": "white",
             "linecolor": "white",
             "minorgridcolor": "white",
             "startlinecolor": "#2a3f5f"
            },
            "type": "carpet"
           }
          ],
          "choropleth": [
           {
            "colorbar": {
             "outlinewidth": 0,
             "ticks": ""
            },
            "type": "choropleth"
           }
          ],
          "contour": [
           {
            "colorbar": {
             "outlinewidth": 0,
             "ticks": ""
            },
            "colorscale": [
             [
              0,
              "#0d0887"
             ],
             [
              0.1111111111111111,
              "#46039f"
             ],
             [
              0.2222222222222222,
              "#7201a8"
             ],
             [
              0.3333333333333333,
              "#9c179e"
             ],
             [
              0.4444444444444444,
              "#bd3786"
             ],
             [
              0.5555555555555556,
              "#d8576b"
             ],
             [
              0.6666666666666666,
              "#ed7953"
             ],
             [
              0.7777777777777778,
              "#fb9f3a"
             ],
             [
              0.8888888888888888,
              "#fdca26"
             ],
             [
              1,
              "#f0f921"
             ]
            ],
            "type": "contour"
           }
          ],
          "contourcarpet": [
           {
            "colorbar": {
             "outlinewidth": 0,
             "ticks": ""
            },
            "type": "contourcarpet"
           }
          ],
          "heatmap": [
           {
            "colorbar": {
             "outlinewidth": 0,
             "ticks": ""
            },
            "colorscale": [
             [
              0,
              "#0d0887"
             ],
             [
              0.1111111111111111,
              "#46039f"
             ],
             [
              0.2222222222222222,
              "#7201a8"
             ],
             [
              0.3333333333333333,
              "#9c179e"
             ],
             [
              0.4444444444444444,
              "#bd3786"
             ],
             [
              0.5555555555555556,
              "#d8576b"
             ],
             [
              0.6666666666666666,
              "#ed7953"
             ],
             [
              0.7777777777777778,
              "#fb9f3a"
             ],
             [
              0.8888888888888888,
              "#fdca26"
             ],
             [
              1,
              "#f0f921"
             ]
            ],
            "type": "heatmap"
           }
          ],
          "heatmapgl": [
           {
            "colorbar": {
             "outlinewidth": 0,
             "ticks": ""
            },
            "colorscale": [
             [
              0,
              "#0d0887"
             ],
             [
              0.1111111111111111,
              "#46039f"
             ],
             [
              0.2222222222222222,
              "#7201a8"
             ],
             [
              0.3333333333333333,
              "#9c179e"
             ],
             [
              0.4444444444444444,
              "#bd3786"
             ],
             [
              0.5555555555555556,
              "#d8576b"
             ],
             [
              0.6666666666666666,
              "#ed7953"
             ],
             [
              0.7777777777777778,
              "#fb9f3a"
             ],
             [
              0.8888888888888888,
              "#fdca26"
             ],
             [
              1,
              "#f0f921"
             ]
            ],
            "type": "heatmapgl"
           }
          ],
          "histogram": [
           {
            "marker": {
             "pattern": {
              "fillmode": "overlay",
              "size": 10,
              "solidity": 0.2
             }
            },
            "type": "histogram"
           }
          ],
          "histogram2d": [
           {
            "colorbar": {
             "outlinewidth": 0,
             "ticks": ""
            },
            "colorscale": [
             [
              0,
              "#0d0887"
             ],
             [
              0.1111111111111111,
              "#46039f"
             ],
             [
              0.2222222222222222,
              "#7201a8"
             ],
             [
              0.3333333333333333,
              "#9c179e"
             ],
             [
              0.4444444444444444,
              "#bd3786"
             ],
             [
              0.5555555555555556,
              "#d8576b"
             ],
             [
              0.6666666666666666,
              "#ed7953"
             ],
             [
              0.7777777777777778,
              "#fb9f3a"
             ],
             [
              0.8888888888888888,
              "#fdca26"
             ],
             [
              1,
              "#f0f921"
             ]
            ],
            "type": "histogram2d"
           }
          ],
          "histogram2dcontour": [
           {
            "colorbar": {
             "outlinewidth": 0,
             "ticks": ""
            },
            "colorscale": [
             [
              0,
              "#0d0887"
             ],
             [
              0.1111111111111111,
              "#46039f"
             ],
             [
              0.2222222222222222,
              "#7201a8"
             ],
             [
              0.3333333333333333,
              "#9c179e"
             ],
             [
              0.4444444444444444,
              "#bd3786"
             ],
             [
              0.5555555555555556,
              "#d8576b"
             ],
             [
              0.6666666666666666,
              "#ed7953"
             ],
             [
              0.7777777777777778,
              "#fb9f3a"
             ],
             [
              0.8888888888888888,
              "#fdca26"
             ],
             [
              1,
              "#f0f921"
             ]
            ],
            "type": "histogram2dcontour"
           }
          ],
          "mesh3d": [
           {
            "colorbar": {
             "outlinewidth": 0,
             "ticks": ""
            },
            "type": "mesh3d"
           }
          ],
          "parcoords": [
           {
            "line": {
             "colorbar": {
              "outlinewidth": 0,
              "ticks": ""
             }
            },
            "type": "parcoords"
           }
          ],
          "pie": [
           {
            "automargin": true,
            "type": "pie"
           }
          ],
          "scatter": [
           {
            "fillpattern": {
             "fillmode": "overlay",
             "size": 10,
             "solidity": 0.2
            },
            "type": "scatter"
           }
          ],
          "scatter3d": [
           {
            "line": {
             "colorbar": {
              "outlinewidth": 0,
              "ticks": ""
             }
            },
            "marker": {
             "colorbar": {
              "outlinewidth": 0,
              "ticks": ""
             }
            },
            "type": "scatter3d"
           }
          ],
          "scattercarpet": [
           {
            "marker": {
             "colorbar": {
              "outlinewidth": 0,
              "ticks": ""
             }
            },
            "type": "scattercarpet"
           }
          ],
          "scattergeo": [
           {
            "marker": {
             "colorbar": {
              "outlinewidth": 0,
              "ticks": ""
             }
            },
            "type": "scattergeo"
           }
          ],
          "scattergl": [
           {
            "marker": {
             "colorbar": {
              "outlinewidth": 0,
              "ticks": ""
             }
            },
            "type": "scattergl"
           }
          ],
          "scattermapbox": [
           {
            "marker": {
             "colorbar": {
              "outlinewidth": 0,
              "ticks": ""
             }
            },
            "type": "scattermapbox"
           }
          ],
          "scatterpolar": [
           {
            "marker": {
             "colorbar": {
              "outlinewidth": 0,
              "ticks": ""
             }
            },
            "type": "scatterpolar"
           }
          ],
          "scatterpolargl": [
           {
            "marker": {
             "colorbar": {
              "outlinewidth": 0,
              "ticks": ""
             }
            },
            "type": "scatterpolargl"
           }
          ],
          "scatterternary": [
           {
            "marker": {
             "colorbar": {
              "outlinewidth": 0,
              "ticks": ""
             }
            },
            "type": "scatterternary"
           }
          ],
          "surface": [
           {
            "colorbar": {
             "outlinewidth": 0,
             "ticks": ""
            },
            "colorscale": [
             [
              0,
              "#0d0887"
             ],
             [
              0.1111111111111111,
              "#46039f"
             ],
             [
              0.2222222222222222,
              "#7201a8"
             ],
             [
              0.3333333333333333,
              "#9c179e"
             ],
             [
              0.4444444444444444,
              "#bd3786"
             ],
             [
              0.5555555555555556,
              "#d8576b"
             ],
             [
              0.6666666666666666,
              "#ed7953"
             ],
             [
              0.7777777777777778,
              "#fb9f3a"
             ],
             [
              0.8888888888888888,
              "#fdca26"
             ],
             [
              1,
              "#f0f921"
             ]
            ],
            "type": "surface"
           }
          ],
          "table": [
           {
            "cells": {
             "fill": {
              "color": "#EBF0F8"
             },
             "line": {
              "color": "white"
             }
            },
            "header": {
             "fill": {
              "color": "#C8D4E3"
             },
             "line": {
              "color": "white"
             }
            },
            "type": "table"
           }
          ]
         },
         "layout": {
          "annotationdefaults": {
           "arrowcolor": "#2a3f5f",
           "arrowhead": 0,
           "arrowwidth": 1
          },
          "autotypenumbers": "strict",
          "coloraxis": {
           "colorbar": {
            "outlinewidth": 0,
            "ticks": ""
           }
          },
          "colorscale": {
           "diverging": [
            [
             0,
             "#8e0152"
            ],
            [
             0.1,
             "#c51b7d"
            ],
            [
             0.2,
             "#de77ae"
            ],
            [
             0.3,
             "#f1b6da"
            ],
            [
             0.4,
             "#fde0ef"
            ],
            [
             0.5,
             "#f7f7f7"
            ],
            [
             0.6,
             "#e6f5d0"
            ],
            [
             0.7,
             "#b8e186"
            ],
            [
             0.8,
             "#7fbc41"
            ],
            [
             0.9,
             "#4d9221"
            ],
            [
             1,
             "#276419"
            ]
           ],
           "sequential": [
            [
             0,
             "#0d0887"
            ],
            [
             0.1111111111111111,
             "#46039f"
            ],
            [
             0.2222222222222222,
             "#7201a8"
            ],
            [
             0.3333333333333333,
             "#9c179e"
            ],
            [
             0.4444444444444444,
             "#bd3786"
            ],
            [
             0.5555555555555556,
             "#d8576b"
            ],
            [
             0.6666666666666666,
             "#ed7953"
            ],
            [
             0.7777777777777778,
             "#fb9f3a"
            ],
            [
             0.8888888888888888,
             "#fdca26"
            ],
            [
             1,
             "#f0f921"
            ]
           ],
           "sequentialminus": [
            [
             0,
             "#0d0887"
            ],
            [
             0.1111111111111111,
             "#46039f"
            ],
            [
             0.2222222222222222,
             "#7201a8"
            ],
            [
             0.3333333333333333,
             "#9c179e"
            ],
            [
             0.4444444444444444,
             "#bd3786"
            ],
            [
             0.5555555555555556,
             "#d8576b"
            ],
            [
             0.6666666666666666,
             "#ed7953"
            ],
            [
             0.7777777777777778,
             "#fb9f3a"
            ],
            [
             0.8888888888888888,
             "#fdca26"
            ],
            [
             1,
             "#f0f921"
            ]
           ]
          },
          "colorway": [
           "#636efa",
           "#EF553B",
           "#00cc96",
           "#ab63fa",
           "#FFA15A",
           "#19d3f3",
           "#FF6692",
           "#B6E880",
           "#FF97FF",
           "#FECB52"
          ],
          "font": {
           "color": "#2a3f5f"
          },
          "geo": {
           "bgcolor": "white",
           "lakecolor": "white",
           "landcolor": "#E5ECF6",
           "showlakes": true,
           "showland": true,
           "subunitcolor": "white"
          },
          "hoverlabel": {
           "align": "left"
          },
          "hovermode": "closest",
          "mapbox": {
           "style": "light"
          },
          "paper_bgcolor": "white",
          "plot_bgcolor": "#E5ECF6",
          "polar": {
           "angularaxis": {
            "gridcolor": "white",
            "linecolor": "white",
            "ticks": ""
           },
           "bgcolor": "#E5ECF6",
           "radialaxis": {
            "gridcolor": "white",
            "linecolor": "white",
            "ticks": ""
           }
          },
          "scene": {
           "xaxis": {
            "backgroundcolor": "#E5ECF6",
            "gridcolor": "white",
            "gridwidth": 2,
            "linecolor": "white",
            "showbackground": true,
            "ticks": "",
            "zerolinecolor": "white"
           },
           "yaxis": {
            "backgroundcolor": "#E5ECF6",
            "gridcolor": "white",
            "gridwidth": 2,
            "linecolor": "white",
            "showbackground": true,
            "ticks": "",
            "zerolinecolor": "white"
           },
           "zaxis": {
            "backgroundcolor": "#E5ECF6",
            "gridcolor": "white",
            "gridwidth": 2,
            "linecolor": "white",
            "showbackground": true,
            "ticks": "",
            "zerolinecolor": "white"
           }
          },
          "shapedefaults": {
           "line": {
            "color": "#2a3f5f"
           }
          },
          "ternary": {
           "aaxis": {
            "gridcolor": "white",
            "linecolor": "white",
            "ticks": ""
           },
           "baxis": {
            "gridcolor": "white",
            "linecolor": "white",
            "ticks": ""
           },
           "bgcolor": "#E5ECF6",
           "caxis": {
            "gridcolor": "white",
            "linecolor": "white",
            "ticks": ""
           }
          },
          "title": {
           "x": 0.05
          },
          "xaxis": {
           "automargin": true,
           "gridcolor": "white",
           "linecolor": "white",
           "ticks": "",
           "title": {
            "standoff": 15
           },
           "zerolinecolor": "white",
           "zerolinewidth": 2
          },
          "yaxis": {
           "automargin": true,
           "gridcolor": "white",
           "linecolor": "white",
           "ticks": "",
           "title": {
            "standoff": 15
           },
           "zerolinecolor": "white",
           "zerolinewidth": 2
          }
         }
        },
        "title": {
         "text": "Top 10 states CAGR % (2022-2024) in Total vehicles sales"
        },
        "xaxis": {
         "anchor": "y",
         "categoryarray": [
          "Meghalaya",
          "Goa",
          "Karnataka",
          "Delhi",
          "Rajasthan",
          "Gujarat",
          "Assam",
          "Mizoram",
          "Arunachal Pradesh",
          "Haryana"
         ],
         "categoryorder": "array",
         "domain": [
          0,
          1
         ],
         "title": {
          "text": "state"
         }
        },
        "yaxis": {
         "anchor": "x",
         "domain": [
          0,
          1
         ],
         "title": {
          "text": "CAGR"
         }
        }
       }
      },
      "text/html": [
       "<div>                            <div id=\"c21b25e4-a5e3-48c8-b07c-6c57905b0a8a\" class=\"plotly-graph-div\" style=\"height:525px; width:100%;\"></div>            <script type=\"text/javascript\">                require([\"plotly\"], function(Plotly) {                    window.PLOTLYENV=window.PLOTLYENV || {};                                    if (document.getElementById(\"c21b25e4-a5e3-48c8-b07c-6c57905b0a8a\")) {                    Plotly.newPlot(                        \"c21b25e4-a5e3-48c8-b07c-6c57905b0a8a\",                        [{\"alignmentgroup\":\"True\",\"hovertemplate\":\"state=%{x}<br>CAGR=%{y}<extra></extra>\",\"legendgroup\":\"Meghalaya\",\"marker\":{\"color\":\"#636efa\",\"pattern\":{\"shape\":\"\"}},\"name\":\"Meghalaya\",\"offsetgroup\":\"Meghalaya\",\"orientation\":\"v\",\"showlegend\":true,\"textposition\":\"auto\",\"texttemplate\":\"%{y}\",\"x\":[\"Meghalaya\"],\"xaxis\":\"x\",\"y\":[28.469074717044762],\"yaxis\":\"y\",\"type\":\"bar\"},{\"alignmentgroup\":\"True\",\"hovertemplate\":\"state=%{x}<br>CAGR=%{y}<extra></extra>\",\"legendgroup\":\"Goa\",\"marker\":{\"color\":\"#EF553B\",\"pattern\":{\"shape\":\"\"}},\"name\":\"Goa\",\"offsetgroup\":\"Goa\",\"orientation\":\"v\",\"showlegend\":true,\"textposition\":\"auto\",\"texttemplate\":\"%{y}\",\"x\":[\"Goa\"],\"xaxis\":\"x\",\"y\":[27.41019637797184],\"yaxis\":\"y\",\"type\":\"bar\"},{\"alignmentgroup\":\"True\",\"hovertemplate\":\"state=%{x}<br>CAGR=%{y}<extra></extra>\",\"legendgroup\":\"Karnataka\",\"marker\":{\"color\":\"#00cc96\",\"pattern\":{\"shape\":\"\"}},\"name\":\"Karnataka\",\"offsetgroup\":\"Karnataka\",\"orientation\":\"v\",\"showlegend\":true,\"textposition\":\"auto\",\"texttemplate\":\"%{y}\",\"x\":[\"Karnataka\"],\"xaxis\":\"x\",\"y\":[25.283582187477993],\"yaxis\":\"y\",\"type\":\"bar\"},{\"alignmentgroup\":\"True\",\"hovertemplate\":\"state=%{x}<br>CAGR=%{y}<extra></extra>\",\"legendgroup\":\"Delhi\",\"marker\":{\"color\":\"#ab63fa\",\"pattern\":{\"shape\":\"\"}},\"name\":\"Delhi\",\"offsetgroup\":\"Delhi\",\"orientation\":\"v\",\"showlegend\":true,\"textposition\":\"auto\",\"texttemplate\":\"%{y}\",\"x\":[\"Delhi\"],\"xaxis\":\"x\",\"y\":[22.884347388479842],\"yaxis\":\"y\",\"type\":\"bar\"},{\"alignmentgroup\":\"True\",\"hovertemplate\":\"state=%{x}<br>CAGR=%{y}<extra></extra>\",\"legendgroup\":\"Rajasthan\",\"marker\":{\"color\":\"#FFA15A\",\"pattern\":{\"shape\":\"\"}},\"name\":\"Rajasthan\",\"offsetgroup\":\"Rajasthan\",\"orientation\":\"v\",\"showlegend\":true,\"textposition\":\"auto\",\"texttemplate\":\"%{y}\",\"x\":[\"Rajasthan\"],\"xaxis\":\"x\",\"y\":[21.497380306494197],\"yaxis\":\"y\",\"type\":\"bar\"},{\"alignmentgroup\":\"True\",\"hovertemplate\":\"state=%{x}<br>CAGR=%{y}<extra></extra>\",\"legendgroup\":\"Gujarat\",\"marker\":{\"color\":\"#19d3f3\",\"pattern\":{\"shape\":\"\"}},\"name\":\"Gujarat\",\"offsetgroup\":\"Gujarat\",\"orientation\":\"v\",\"showlegend\":true,\"textposition\":\"auto\",\"texttemplate\":\"%{y}\",\"x\":[\"Gujarat\"],\"xaxis\":\"x\",\"y\":[20.54567713183961],\"yaxis\":\"y\",\"type\":\"bar\"},{\"alignmentgroup\":\"True\",\"hovertemplate\":\"state=%{x}<br>CAGR=%{y}<extra></extra>\",\"legendgroup\":\"Assam\",\"marker\":{\"color\":\"#FF6692\",\"pattern\":{\"shape\":\"\"}},\"name\":\"Assam\",\"offsetgroup\":\"Assam\",\"orientation\":\"v\",\"showlegend\":true,\"textposition\":\"auto\",\"texttemplate\":\"%{y}\",\"x\":[\"Assam\"],\"xaxis\":\"x\",\"y\":[20.133671761039995],\"yaxis\":\"y\",\"type\":\"bar\"},{\"alignmentgroup\":\"True\",\"hovertemplate\":\"state=%{x}<br>CAGR=%{y}<extra></extra>\",\"legendgroup\":\"Mizoram\",\"marker\":{\"color\":\"#B6E880\",\"pattern\":{\"shape\":\"\"}},\"name\":\"Mizoram\",\"offsetgroup\":\"Mizoram\",\"orientation\":\"v\",\"showlegend\":true,\"textposition\":\"auto\",\"texttemplate\":\"%{y}\",\"x\":[\"Mizoram\"],\"xaxis\":\"x\",\"y\":[18.77159900880163],\"yaxis\":\"y\",\"type\":\"bar\"},{\"alignmentgroup\":\"True\",\"hovertemplate\":\"state=%{x}<br>CAGR=%{y}<extra></extra>\",\"legendgroup\":\"Arunachal Pradesh\",\"marker\":{\"color\":\"#FF97FF\",\"pattern\":{\"shape\":\"\"}},\"name\":\"Arunachal Pradesh\",\"offsetgroup\":\"Arunachal Pradesh\",\"orientation\":\"v\",\"showlegend\":true,\"textposition\":\"auto\",\"texttemplate\":\"%{y}\",\"x\":[\"Arunachal Pradesh\"],\"xaxis\":\"x\",\"y\":[18.303358703868543],\"yaxis\":\"y\",\"type\":\"bar\"},{\"alignmentgroup\":\"True\",\"hovertemplate\":\"state=%{x}<br>CAGR=%{y}<extra></extra>\",\"legendgroup\":\"Haryana\",\"marker\":{\"color\":\"#FECB52\",\"pattern\":{\"shape\":\"\"}},\"name\":\"Haryana\",\"offsetgroup\":\"Haryana\",\"orientation\":\"v\",\"showlegend\":true,\"textposition\":\"auto\",\"texttemplate\":\"%{y}\",\"x\":[\"Haryana\"],\"xaxis\":\"x\",\"y\":[17.68043389485452],\"yaxis\":\"y\",\"type\":\"bar\"}],                        {\"template\":{\"data\":{\"histogram2dcontour\":[{\"type\":\"histogram2dcontour\",\"colorbar\":{\"outlinewidth\":0,\"ticks\":\"\"},\"colorscale\":[[0.0,\"#0d0887\"],[0.1111111111111111,\"#46039f\"],[0.2222222222222222,\"#7201a8\"],[0.3333333333333333,\"#9c179e\"],[0.4444444444444444,\"#bd3786\"],[0.5555555555555556,\"#d8576b\"],[0.6666666666666666,\"#ed7953\"],[0.7777777777777778,\"#fb9f3a\"],[0.8888888888888888,\"#fdca26\"],[1.0,\"#f0f921\"]]}],\"choropleth\":[{\"type\":\"choropleth\",\"colorbar\":{\"outlinewidth\":0,\"ticks\":\"\"}}],\"histogram2d\":[{\"type\":\"histogram2d\",\"colorbar\":{\"outlinewidth\":0,\"ticks\":\"\"},\"colorscale\":[[0.0,\"#0d0887\"],[0.1111111111111111,\"#46039f\"],[0.2222222222222222,\"#7201a8\"],[0.3333333333333333,\"#9c179e\"],[0.4444444444444444,\"#bd3786\"],[0.5555555555555556,\"#d8576b\"],[0.6666666666666666,\"#ed7953\"],[0.7777777777777778,\"#fb9f3a\"],[0.8888888888888888,\"#fdca26\"],[1.0,\"#f0f921\"]]}],\"heatmap\":[{\"type\":\"heatmap\",\"colorbar\":{\"outlinewidth\":0,\"ticks\":\"\"},\"colorscale\":[[0.0,\"#0d0887\"],[0.1111111111111111,\"#46039f\"],[0.2222222222222222,\"#7201a8\"],[0.3333333333333333,\"#9c179e\"],[0.4444444444444444,\"#bd3786\"],[0.5555555555555556,\"#d8576b\"],[0.6666666666666666,\"#ed7953\"],[0.7777777777777778,\"#fb9f3a\"],[0.8888888888888888,\"#fdca26\"],[1.0,\"#f0f921\"]]}],\"heatmapgl\":[{\"type\":\"heatmapgl\",\"colorbar\":{\"outlinewidth\":0,\"ticks\":\"\"},\"colorscale\":[[0.0,\"#0d0887\"],[0.1111111111111111,\"#46039f\"],[0.2222222222222222,\"#7201a8\"],[0.3333333333333333,\"#9c179e\"],[0.4444444444444444,\"#bd3786\"],[0.5555555555555556,\"#d8576b\"],[0.6666666666666666,\"#ed7953\"],[0.7777777777777778,\"#fb9f3a\"],[0.8888888888888888,\"#fdca26\"],[1.0,\"#f0f921\"]]}],\"contourcarpet\":[{\"type\":\"contourcarpet\",\"colorbar\":{\"outlinewidth\":0,\"ticks\":\"\"}}],\"contour\":[{\"type\":\"contour\",\"colorbar\":{\"outlinewidth\":0,\"ticks\":\"\"},\"colorscale\":[[0.0,\"#0d0887\"],[0.1111111111111111,\"#46039f\"],[0.2222222222222222,\"#7201a8\"],[0.3333333333333333,\"#9c179e\"],[0.4444444444444444,\"#bd3786\"],[0.5555555555555556,\"#d8576b\"],[0.6666666666666666,\"#ed7953\"],[0.7777777777777778,\"#fb9f3a\"],[0.8888888888888888,\"#fdca26\"],[1.0,\"#f0f921\"]]}],\"surface\":[{\"type\":\"surface\",\"colorbar\":{\"outlinewidth\":0,\"ticks\":\"\"},\"colorscale\":[[0.0,\"#0d0887\"],[0.1111111111111111,\"#46039f\"],[0.2222222222222222,\"#7201a8\"],[0.3333333333333333,\"#9c179e\"],[0.4444444444444444,\"#bd3786\"],[0.5555555555555556,\"#d8576b\"],[0.6666666666666666,\"#ed7953\"],[0.7777777777777778,\"#fb9f3a\"],[0.8888888888888888,\"#fdca26\"],[1.0,\"#f0f921\"]]}],\"mesh3d\":[{\"type\":\"mesh3d\",\"colorbar\":{\"outlinewidth\":0,\"ticks\":\"\"}}],\"scatter\":[{\"fillpattern\":{\"fillmode\":\"overlay\",\"size\":10,\"solidity\":0.2},\"type\":\"scatter\"}],\"parcoords\":[{\"type\":\"parcoords\",\"line\":{\"colorbar\":{\"outlinewidth\":0,\"ticks\":\"\"}}}],\"scatterpolargl\":[{\"type\":\"scatterpolargl\",\"marker\":{\"colorbar\":{\"outlinewidth\":0,\"ticks\":\"\"}}}],\"bar\":[{\"error_x\":{\"color\":\"#2a3f5f\"},\"error_y\":{\"color\":\"#2a3f5f\"},\"marker\":{\"line\":{\"color\":\"#E5ECF6\",\"width\":0.5},\"pattern\":{\"fillmode\":\"overlay\",\"size\":10,\"solidity\":0.2}},\"type\":\"bar\"}],\"scattergeo\":[{\"type\":\"scattergeo\",\"marker\":{\"colorbar\":{\"outlinewidth\":0,\"ticks\":\"\"}}}],\"scatterpolar\":[{\"type\":\"scatterpolar\",\"marker\":{\"colorbar\":{\"outlinewidth\":0,\"ticks\":\"\"}}}],\"histogram\":[{\"marker\":{\"pattern\":{\"fillmode\":\"overlay\",\"size\":10,\"solidity\":0.2}},\"type\":\"histogram\"}],\"scattergl\":[{\"type\":\"scattergl\",\"marker\":{\"colorbar\":{\"outlinewidth\":0,\"ticks\":\"\"}}}],\"scatter3d\":[{\"type\":\"scatter3d\",\"line\":{\"colorbar\":{\"outlinewidth\":0,\"ticks\":\"\"}},\"marker\":{\"colorbar\":{\"outlinewidth\":0,\"ticks\":\"\"}}}],\"scattermapbox\":[{\"type\":\"scattermapbox\",\"marker\":{\"colorbar\":{\"outlinewidth\":0,\"ticks\":\"\"}}}],\"scatterternary\":[{\"type\":\"scatterternary\",\"marker\":{\"colorbar\":{\"outlinewidth\":0,\"ticks\":\"\"}}}],\"scattercarpet\":[{\"type\":\"scattercarpet\",\"marker\":{\"colorbar\":{\"outlinewidth\":0,\"ticks\":\"\"}}}],\"carpet\":[{\"aaxis\":{\"endlinecolor\":\"#2a3f5f\",\"gridcolor\":\"white\",\"linecolor\":\"white\",\"minorgridcolor\":\"white\",\"startlinecolor\":\"#2a3f5f\"},\"baxis\":{\"endlinecolor\":\"#2a3f5f\",\"gridcolor\":\"white\",\"linecolor\":\"white\",\"minorgridcolor\":\"white\",\"startlinecolor\":\"#2a3f5f\"},\"type\":\"carpet\"}],\"table\":[{\"cells\":{\"fill\":{\"color\":\"#EBF0F8\"},\"line\":{\"color\":\"white\"}},\"header\":{\"fill\":{\"color\":\"#C8D4E3\"},\"line\":{\"color\":\"white\"}},\"type\":\"table\"}],\"barpolar\":[{\"marker\":{\"line\":{\"color\":\"#E5ECF6\",\"width\":0.5},\"pattern\":{\"fillmode\":\"overlay\",\"size\":10,\"solidity\":0.2}},\"type\":\"barpolar\"}],\"pie\":[{\"automargin\":true,\"type\":\"pie\"}]},\"layout\":{\"autotypenumbers\":\"strict\",\"colorway\":[\"#636efa\",\"#EF553B\",\"#00cc96\",\"#ab63fa\",\"#FFA15A\",\"#19d3f3\",\"#FF6692\",\"#B6E880\",\"#FF97FF\",\"#FECB52\"],\"font\":{\"color\":\"#2a3f5f\"},\"hovermode\":\"closest\",\"hoverlabel\":{\"align\":\"left\"},\"paper_bgcolor\":\"white\",\"plot_bgcolor\":\"#E5ECF6\",\"polar\":{\"bgcolor\":\"#E5ECF6\",\"angularaxis\":{\"gridcolor\":\"white\",\"linecolor\":\"white\",\"ticks\":\"\"},\"radialaxis\":{\"gridcolor\":\"white\",\"linecolor\":\"white\",\"ticks\":\"\"}},\"ternary\":{\"bgcolor\":\"#E5ECF6\",\"aaxis\":{\"gridcolor\":\"white\",\"linecolor\":\"white\",\"ticks\":\"\"},\"baxis\":{\"gridcolor\":\"white\",\"linecolor\":\"white\",\"ticks\":\"\"},\"caxis\":{\"gridcolor\":\"white\",\"linecolor\":\"white\",\"ticks\":\"\"}},\"coloraxis\":{\"colorbar\":{\"outlinewidth\":0,\"ticks\":\"\"}},\"colorscale\":{\"sequential\":[[0.0,\"#0d0887\"],[0.1111111111111111,\"#46039f\"],[0.2222222222222222,\"#7201a8\"],[0.3333333333333333,\"#9c179e\"],[0.4444444444444444,\"#bd3786\"],[0.5555555555555556,\"#d8576b\"],[0.6666666666666666,\"#ed7953\"],[0.7777777777777778,\"#fb9f3a\"],[0.8888888888888888,\"#fdca26\"],[1.0,\"#f0f921\"]],\"sequentialminus\":[[0.0,\"#0d0887\"],[0.1111111111111111,\"#46039f\"],[0.2222222222222222,\"#7201a8\"],[0.3333333333333333,\"#9c179e\"],[0.4444444444444444,\"#bd3786\"],[0.5555555555555556,\"#d8576b\"],[0.6666666666666666,\"#ed7953\"],[0.7777777777777778,\"#fb9f3a\"],[0.8888888888888888,\"#fdca26\"],[1.0,\"#f0f921\"]],\"diverging\":[[0,\"#8e0152\"],[0.1,\"#c51b7d\"],[0.2,\"#de77ae\"],[0.3,\"#f1b6da\"],[0.4,\"#fde0ef\"],[0.5,\"#f7f7f7\"],[0.6,\"#e6f5d0\"],[0.7,\"#b8e186\"],[0.8,\"#7fbc41\"],[0.9,\"#4d9221\"],[1,\"#276419\"]]},\"xaxis\":{\"gridcolor\":\"white\",\"linecolor\":\"white\",\"ticks\":\"\",\"title\":{\"standoff\":15},\"zerolinecolor\":\"white\",\"automargin\":true,\"zerolinewidth\":2},\"yaxis\":{\"gridcolor\":\"white\",\"linecolor\":\"white\",\"ticks\":\"\",\"title\":{\"standoff\":15},\"zerolinecolor\":\"white\",\"automargin\":true,\"zerolinewidth\":2},\"scene\":{\"xaxis\":{\"backgroundcolor\":\"#E5ECF6\",\"gridcolor\":\"white\",\"linecolor\":\"white\",\"showbackground\":true,\"ticks\":\"\",\"zerolinecolor\":\"white\",\"gridwidth\":2},\"yaxis\":{\"backgroundcolor\":\"#E5ECF6\",\"gridcolor\":\"white\",\"linecolor\":\"white\",\"showbackground\":true,\"ticks\":\"\",\"zerolinecolor\":\"white\",\"gridwidth\":2},\"zaxis\":{\"backgroundcolor\":\"#E5ECF6\",\"gridcolor\":\"white\",\"linecolor\":\"white\",\"showbackground\":true,\"ticks\":\"\",\"zerolinecolor\":\"white\",\"gridwidth\":2}},\"shapedefaults\":{\"line\":{\"color\":\"#2a3f5f\"}},\"annotationdefaults\":{\"arrowcolor\":\"#2a3f5f\",\"arrowhead\":0,\"arrowwidth\":1},\"geo\":{\"bgcolor\":\"white\",\"landcolor\":\"#E5ECF6\",\"subunitcolor\":\"white\",\"showland\":true,\"showlakes\":true,\"lakecolor\":\"white\"},\"title\":{\"x\":0.05},\"mapbox\":{\"style\":\"light\"}}},\"xaxis\":{\"anchor\":\"y\",\"domain\":[0.0,1.0],\"title\":{\"text\":\"state\"},\"categoryorder\":\"array\",\"categoryarray\":[\"Meghalaya\",\"Goa\",\"Karnataka\",\"Delhi\",\"Rajasthan\",\"Gujarat\",\"Assam\",\"Mizoram\",\"Arunachal Pradesh\",\"Haryana\"]},\"yaxis\":{\"anchor\":\"x\",\"domain\":[0.0,1.0],\"title\":{\"text\":\"CAGR\"}},\"legend\":{\"title\":{\"text\":\"state\"},\"tracegroupgap\":0},\"title\":{\"text\":\"Top 10 states CAGR % (2022-2024) in Total vehicles sales\"},\"barmode\":\"relative\"},                        {\"responsive\": true}                    ).then(function(){\n",
       "                            \n",
       "var gd = document.getElementById('c21b25e4-a5e3-48c8-b07c-6c57905b0a8a');\n",
       "var x = new MutationObserver(function (mutations, observer) {{\n",
       "        var display = window.getComputedStyle(gd).display;\n",
       "        if (!display || display === 'none') {{\n",
       "            console.log([gd, 'removed!']);\n",
       "            Plotly.purge(gd);\n",
       "            observer.disconnect();\n",
       "        }}\n",
       "}});\n",
       "\n",
       "// Listen for the removal of the full notebook cells\n",
       "var notebookContainer = gd.closest('#notebook-container');\n",
       "if (notebookContainer) {{\n",
       "    x.observe(notebookContainer, {childList: true});\n",
       "}}\n",
       "\n",
       "// Listen for the clearing of the current output cell\n",
       "var outputEl = gd.closest('.output');\n",
       "if (outputEl) {{\n",
       "    x.observe(outputEl, {childList: true});\n",
       "}}\n",
       "\n",
       "                        })                };                });            </script>        </div>"
      ]
     },
     "metadata": {},
     "output_type": "display_data"
    }
   ],
   "source": [
    "fig=px.bar(state_top10,x='state',y='CAGR',text_auto=True,title='Top 10 states CAGR % (2022-2024) in Total vehicles sales',color='state')\n",
    "fig.show()"
   ]
  },
  {
   "cell_type": "raw",
   "id": "59fa93ac",
   "metadata": {},
   "source": [
    "What is the projected number of EV sales (including 2-wheelers and 4-wheelers) for the top 10 states \n",
    "by penetration rate in 2030, based on the compounded annual growth rate (CAGR) from previous years?"
   ]
  },
  {
   "cell_type": "code",
   "execution_count": 75,
   "id": "d9d45ccf",
   "metadata": {},
   "outputs": [
    {
     "data": {
      "text/html": [
       "<div>\n",
       "<style scoped>\n",
       "    .dataframe tbody tr th:only-of-type {\n",
       "        vertical-align: middle;\n",
       "    }\n",
       "\n",
       "    .dataframe tbody tr th {\n",
       "        vertical-align: top;\n",
       "    }\n",
       "\n",
       "    .dataframe thead th {\n",
       "        text-align: right;\n",
       "    }\n",
       "</style>\n",
       "<table border=\"1\" class=\"dataframe\">\n",
       "  <thead>\n",
       "    <tr style=\"text-align: right;\">\n",
       "      <th></th>\n",
       "      <th>state</th>\n",
       "      <th>fiscal_year</th>\n",
       "      <th>electric_vehicles_sold</th>\n",
       "      <th>total_vehicles_sold</th>\n",
       "    </tr>\n",
       "  </thead>\n",
       "  <tbody>\n",
       "    <tr>\n",
       "      <th>0</th>\n",
       "      <td>Andaman &amp; Nicobar</td>\n",
       "      <td>4048</td>\n",
       "      <td>2</td>\n",
       "      <td>660</td>\n",
       "    </tr>\n",
       "    <tr>\n",
       "      <th>1</th>\n",
       "      <td>Andaman &amp; Nicobar Island</td>\n",
       "      <td>139586</td>\n",
       "      <td>78</td>\n",
       "      <td>18225</td>\n",
       "    </tr>\n",
       "    <tr>\n",
       "      <th>2</th>\n",
       "      <td>Andhra Pradesh</td>\n",
       "      <td>145656</td>\n",
       "      <td>77422</td>\n",
       "      <td>2283871</td>\n",
       "    </tr>\n",
       "    <tr>\n",
       "      <th>3</th>\n",
       "      <td>Arunachal Pradesh</td>\n",
       "      <td>145656</td>\n",
       "      <td>33</td>\n",
       "      <td>71547</td>\n",
       "    </tr>\n",
       "    <tr>\n",
       "      <th>4</th>\n",
       "      <td>Assam</td>\n",
       "      <td>145656</td>\n",
       "      <td>6418</td>\n",
       "      <td>1403271</td>\n",
       "    </tr>\n",
       "    <tr>\n",
       "      <th>5</th>\n",
       "      <td>Bihar</td>\n",
       "      <td>145656</td>\n",
       "      <td>31019</td>\n",
       "      <td>3048373</td>\n",
       "    </tr>\n",
       "    <tr>\n",
       "      <th>6</th>\n",
       "      <td>Chandigarh</td>\n",
       "      <td>145656</td>\n",
       "      <td>5279</td>\n",
       "      <td>130628</td>\n",
       "    </tr>\n",
       "    <tr>\n",
       "      <th>7</th>\n",
       "      <td>Chhattisgarh</td>\n",
       "      <td>145656</td>\n",
       "      <td>53804</td>\n",
       "      <td>1334989</td>\n",
       "    </tr>\n",
       "    <tr>\n",
       "      <th>8</th>\n",
       "      <td>DNH and DD</td>\n",
       "      <td>145656</td>\n",
       "      <td>355</td>\n",
       "      <td>43397</td>\n",
       "    </tr>\n",
       "    <tr>\n",
       "      <th>9</th>\n",
       "      <td>Delhi</td>\n",
       "      <td>145656</td>\n",
       "      <td>107312</td>\n",
       "      <td>1588436</td>\n",
       "    </tr>\n",
       "    <tr>\n",
       "      <th>10</th>\n",
       "      <td>Goa</td>\n",
       "      <td>145656</td>\n",
       "      <td>19684</td>\n",
       "      <td>199970</td>\n",
       "    </tr>\n",
       "    <tr>\n",
       "      <th>11</th>\n",
       "      <td>Gujarat</td>\n",
       "      <td>145656</td>\n",
       "      <td>181389</td>\n",
       "      <td>4125551</td>\n",
       "    </tr>\n",
       "    <tr>\n",
       "      <th>12</th>\n",
       "      <td>Haryana</td>\n",
       "      <td>145656</td>\n",
       "      <td>30797</td>\n",
       "      <td>1902768</td>\n",
       "    </tr>\n",
       "    <tr>\n",
       "      <th>13</th>\n",
       "      <td>Himachal Pradesh</td>\n",
       "      <td>145656</td>\n",
       "      <td>2595</td>\n",
       "      <td>325366</td>\n",
       "    </tr>\n",
       "    <tr>\n",
       "      <th>14</th>\n",
       "      <td>Jammu and Kashmir</td>\n",
       "      <td>145656</td>\n",
       "      <td>5971</td>\n",
       "      <td>414553</td>\n",
       "    </tr>\n",
       "    <tr>\n",
       "      <th>15</th>\n",
       "      <td>Jharkhand</td>\n",
       "      <td>145656</td>\n",
       "      <td>18461</td>\n",
       "      <td>1364886</td>\n",
       "    </tr>\n",
       "    <tr>\n",
       "      <th>16</th>\n",
       "      <td>Karnataka</td>\n",
       "      <td>145656</td>\n",
       "      <td>312995</td>\n",
       "      <td>3994329</td>\n",
       "    </tr>\n",
       "    <tr>\n",
       "      <th>17</th>\n",
       "      <td>Kerala</td>\n",
       "      <td>145656</td>\n",
       "      <td>137060</td>\n",
       "      <td>2064677</td>\n",
       "    </tr>\n",
       "    <tr>\n",
       "      <th>18</th>\n",
       "      <td>Ladakh</td>\n",
       "      <td>145656</td>\n",
       "      <td>68</td>\n",
       "      <td>10496</td>\n",
       "    </tr>\n",
       "    <tr>\n",
       "      <th>19</th>\n",
       "      <td>Madhya Pradesh</td>\n",
       "      <td>145656</td>\n",
       "      <td>78979</td>\n",
       "      <td>3498698</td>\n",
       "    </tr>\n",
       "    <tr>\n",
       "      <th>20</th>\n",
       "      <td>Maharashtra</td>\n",
       "      <td>145656</td>\n",
       "      <td>396045</td>\n",
       "      <td>6101429</td>\n",
       "    </tr>\n",
       "    <tr>\n",
       "      <th>21</th>\n",
       "      <td>Manipur</td>\n",
       "      <td>145656</td>\n",
       "      <td>299</td>\n",
       "      <td>104513</td>\n",
       "    </tr>\n",
       "    <tr>\n",
       "      <th>22</th>\n",
       "      <td>Meghalaya</td>\n",
       "      <td>145656</td>\n",
       "      <td>177</td>\n",
       "      <td>90183</td>\n",
       "    </tr>\n",
       "    <tr>\n",
       "      <th>23</th>\n",
       "      <td>Mizoram</td>\n",
       "      <td>145656</td>\n",
       "      <td>340</td>\n",
       "      <td>71307</td>\n",
       "    </tr>\n",
       "    <tr>\n",
       "      <th>24</th>\n",
       "      <td>Nagaland</td>\n",
       "      <td>145656</td>\n",
       "      <td>13</td>\n",
       "      <td>44092</td>\n",
       "    </tr>\n",
       "    <tr>\n",
       "      <th>25</th>\n",
       "      <td>Odisha</td>\n",
       "      <td>141608</td>\n",
       "      <td>78267</td>\n",
       "      <td>1688794</td>\n",
       "    </tr>\n",
       "    <tr>\n",
       "      <th>26</th>\n",
       "      <td>Puducherry</td>\n",
       "      <td>145656</td>\n",
       "      <td>5536</td>\n",
       "      <td>150798</td>\n",
       "    </tr>\n",
       "    <tr>\n",
       "      <th>27</th>\n",
       "      <td>Punjab</td>\n",
       "      <td>145656</td>\n",
       "      <td>23833</td>\n",
       "      <td>1543962</td>\n",
       "    </tr>\n",
       "    <tr>\n",
       "      <th>28</th>\n",
       "      <td>Rajasthan</td>\n",
       "      <td>145656</td>\n",
       "      <td>150366</td>\n",
       "      <td>3307591</td>\n",
       "    </tr>\n",
       "    <tr>\n",
       "      <th>29</th>\n",
       "      <td>Sikkim</td>\n",
       "      <td>145656</td>\n",
       "      <td>0</td>\n",
       "      <td>29346</td>\n",
       "    </tr>\n",
       "    <tr>\n",
       "      <th>30</th>\n",
       "      <td>Tamil Nadu</td>\n",
       "      <td>145656</td>\n",
       "      <td>200062</td>\n",
       "      <td>4652363</td>\n",
       "    </tr>\n",
       "    <tr>\n",
       "      <th>31</th>\n",
       "      <td>Tripura</td>\n",
       "      <td>145656</td>\n",
       "      <td>562</td>\n",
       "      <td>125216</td>\n",
       "    </tr>\n",
       "    <tr>\n",
       "      <th>32</th>\n",
       "      <td>Uttar Pradesh</td>\n",
       "      <td>145656</td>\n",
       "      <td>95203</td>\n",
       "      <td>8127084</td>\n",
       "    </tr>\n",
       "    <tr>\n",
       "      <th>33</th>\n",
       "      <td>Uttarakhand</td>\n",
       "      <td>145656</td>\n",
       "      <td>15127</td>\n",
       "      <td>622707</td>\n",
       "    </tr>\n",
       "    <tr>\n",
       "      <th>34</th>\n",
       "      <td>West Bengal</td>\n",
       "      <td>145656</td>\n",
       "      <td>30560</td>\n",
       "      <td>2736176</td>\n",
       "    </tr>\n",
       "  </tbody>\n",
       "</table>\n",
       "</div>"
      ],
      "text/plain": [
       "                       state  fiscal_year  electric_vehicles_sold  \\\n",
       "0          Andaman & Nicobar         4048                       2   \n",
       "1   Andaman & Nicobar Island       139586                      78   \n",
       "2             Andhra Pradesh       145656                   77422   \n",
       "3          Arunachal Pradesh       145656                      33   \n",
       "4                      Assam       145656                    6418   \n",
       "5                      Bihar       145656                   31019   \n",
       "6                 Chandigarh       145656                    5279   \n",
       "7               Chhattisgarh       145656                   53804   \n",
       "8                 DNH and DD       145656                     355   \n",
       "9                      Delhi       145656                  107312   \n",
       "10                       Goa       145656                   19684   \n",
       "11                   Gujarat       145656                  181389   \n",
       "12                   Haryana       145656                   30797   \n",
       "13          Himachal Pradesh       145656                    2595   \n",
       "14         Jammu and Kashmir       145656                    5971   \n",
       "15                 Jharkhand       145656                   18461   \n",
       "16                 Karnataka       145656                  312995   \n",
       "17                    Kerala       145656                  137060   \n",
       "18                    Ladakh       145656                      68   \n",
       "19            Madhya Pradesh       145656                   78979   \n",
       "20               Maharashtra       145656                  396045   \n",
       "21                   Manipur       145656                     299   \n",
       "22                 Meghalaya       145656                     177   \n",
       "23                   Mizoram       145656                     340   \n",
       "24                  Nagaland       145656                      13   \n",
       "25                    Odisha       141608                   78267   \n",
       "26                Puducherry       145656                    5536   \n",
       "27                    Punjab       145656                   23833   \n",
       "28                 Rajasthan       145656                  150366   \n",
       "29                    Sikkim       145656                       0   \n",
       "30                Tamil Nadu       145656                  200062   \n",
       "31                   Tripura       145656                     562   \n",
       "32             Uttar Pradesh       145656                   95203   \n",
       "33               Uttarakhand       145656                   15127   \n",
       "34               West Bengal       145656                   30560   \n",
       "\n",
       "    total_vehicles_sold  \n",
       "0                   660  \n",
       "1                 18225  \n",
       "2               2283871  \n",
       "3                 71547  \n",
       "4               1403271  \n",
       "5               3048373  \n",
       "6                130628  \n",
       "7               1334989  \n",
       "8                 43397  \n",
       "9               1588436  \n",
       "10               199970  \n",
       "11              4125551  \n",
       "12              1902768  \n",
       "13               325366  \n",
       "14               414553  \n",
       "15              1364886  \n",
       "16              3994329  \n",
       "17              2064677  \n",
       "18                10496  \n",
       "19              3498698  \n",
       "20              6101429  \n",
       "21               104513  \n",
       "22                90183  \n",
       "23                71307  \n",
       "24                44092  \n",
       "25              1688794  \n",
       "26               150798  \n",
       "27              1543962  \n",
       "28              3307591  \n",
       "29                29346  \n",
       "30              4652363  \n",
       "31               125216  \n",
       "32              8127084  \n",
       "33               622707  \n",
       "34              2736176  "
      ]
     },
     "execution_count": 75,
     "metadata": {},
     "output_type": "execute_result"
    }
   ],
   "source": [
    "state_group=new_s.groupby('state').sum('electric_vehicles_sold').reset_index()\n",
    "state_group"
   ]
  },
  {
   "cell_type": "markdown",
   "id": "f2e242e3",
   "metadata": {},
   "source": [
    "state_pivot=pd.pivot_table(state_group,index='state',columns='fiscal_year',values=['electric_vehicles_sold','total_vehicles_sold']).reset_index()\n",
    "state_pivot"
   ]
  },
  {
   "cell_type": "code",
   "execution_count": 76,
   "id": "03e4c863",
   "metadata": {},
   "outputs": [
    {
     "data": {
      "text/html": [
       "<div>\n",
       "<style scoped>\n",
       "    .dataframe tbody tr th:only-of-type {\n",
       "        vertical-align: middle;\n",
       "    }\n",
       "\n",
       "    .dataframe tbody tr th {\n",
       "        vertical-align: top;\n",
       "    }\n",
       "\n",
       "    .dataframe thead th {\n",
       "        text-align: right;\n",
       "    }\n",
       "</style>\n",
       "<table border=\"1\" class=\"dataframe\">\n",
       "  <thead>\n",
       "    <tr style=\"text-align: right;\">\n",
       "      <th></th>\n",
       "      <th>state</th>\n",
       "      <th>fiscal_year</th>\n",
       "      <th>electric_vehicles_sold</th>\n",
       "      <th>total_vehicles_sold</th>\n",
       "      <th>PRate</th>\n",
       "    </tr>\n",
       "  </thead>\n",
       "  <tbody>\n",
       "    <tr>\n",
       "      <th>0</th>\n",
       "      <td>Andaman &amp; Nicobar</td>\n",
       "      <td>4048</td>\n",
       "      <td>2</td>\n",
       "      <td>660</td>\n",
       "      <td>0.303030</td>\n",
       "    </tr>\n",
       "    <tr>\n",
       "      <th>1</th>\n",
       "      <td>Andaman &amp; Nicobar Island</td>\n",
       "      <td>139586</td>\n",
       "      <td>78</td>\n",
       "      <td>18225</td>\n",
       "      <td>0.427984</td>\n",
       "    </tr>\n",
       "    <tr>\n",
       "      <th>2</th>\n",
       "      <td>Andhra Pradesh</td>\n",
       "      <td>145656</td>\n",
       "      <td>77422</td>\n",
       "      <td>2283871</td>\n",
       "      <td>3.389946</td>\n",
       "    </tr>\n",
       "    <tr>\n",
       "      <th>3</th>\n",
       "      <td>Arunachal Pradesh</td>\n",
       "      <td>145656</td>\n",
       "      <td>33</td>\n",
       "      <td>71547</td>\n",
       "      <td>0.046124</td>\n",
       "    </tr>\n",
       "    <tr>\n",
       "      <th>4</th>\n",
       "      <td>Assam</td>\n",
       "      <td>145656</td>\n",
       "      <td>6418</td>\n",
       "      <td>1403271</td>\n",
       "      <td>0.457360</td>\n",
       "    </tr>\n",
       "    <tr>\n",
       "      <th>5</th>\n",
       "      <td>Bihar</td>\n",
       "      <td>145656</td>\n",
       "      <td>31019</td>\n",
       "      <td>3048373</td>\n",
       "      <td>1.017559</td>\n",
       "    </tr>\n",
       "    <tr>\n",
       "      <th>6</th>\n",
       "      <td>Chandigarh</td>\n",
       "      <td>145656</td>\n",
       "      <td>5279</td>\n",
       "      <td>130628</td>\n",
       "      <td>4.041247</td>\n",
       "    </tr>\n",
       "    <tr>\n",
       "      <th>7</th>\n",
       "      <td>Chhattisgarh</td>\n",
       "      <td>145656</td>\n",
       "      <td>53804</td>\n",
       "      <td>1334989</td>\n",
       "      <td>4.030295</td>\n",
       "    </tr>\n",
       "    <tr>\n",
       "      <th>8</th>\n",
       "      <td>DNH and DD</td>\n",
       "      <td>145656</td>\n",
       "      <td>355</td>\n",
       "      <td>43397</td>\n",
       "      <td>0.818029</td>\n",
       "    </tr>\n",
       "    <tr>\n",
       "      <th>9</th>\n",
       "      <td>Delhi</td>\n",
       "      <td>145656</td>\n",
       "      <td>107312</td>\n",
       "      <td>1588436</td>\n",
       "      <td>6.755828</td>\n",
       "    </tr>\n",
       "    <tr>\n",
       "      <th>10</th>\n",
       "      <td>Goa</td>\n",
       "      <td>145656</td>\n",
       "      <td>19684</td>\n",
       "      <td>199970</td>\n",
       "      <td>9.843477</td>\n",
       "    </tr>\n",
       "    <tr>\n",
       "      <th>11</th>\n",
       "      <td>Gujarat</td>\n",
       "      <td>145656</td>\n",
       "      <td>181389</td>\n",
       "      <td>4125551</td>\n",
       "      <td>4.396722</td>\n",
       "    </tr>\n",
       "    <tr>\n",
       "      <th>12</th>\n",
       "      <td>Haryana</td>\n",
       "      <td>145656</td>\n",
       "      <td>30797</td>\n",
       "      <td>1902768</td>\n",
       "      <td>1.618537</td>\n",
       "    </tr>\n",
       "    <tr>\n",
       "      <th>13</th>\n",
       "      <td>Himachal Pradesh</td>\n",
       "      <td>145656</td>\n",
       "      <td>2595</td>\n",
       "      <td>325366</td>\n",
       "      <td>0.797563</td>\n",
       "    </tr>\n",
       "    <tr>\n",
       "      <th>14</th>\n",
       "      <td>Jammu and Kashmir</td>\n",
       "      <td>145656</td>\n",
       "      <td>5971</td>\n",
       "      <td>414553</td>\n",
       "      <td>1.440347</td>\n",
       "    </tr>\n",
       "    <tr>\n",
       "      <th>15</th>\n",
       "      <td>Jharkhand</td>\n",
       "      <td>145656</td>\n",
       "      <td>18461</td>\n",
       "      <td>1364886</td>\n",
       "      <td>1.352567</td>\n",
       "    </tr>\n",
       "    <tr>\n",
       "      <th>16</th>\n",
       "      <td>Karnataka</td>\n",
       "      <td>145656</td>\n",
       "      <td>312995</td>\n",
       "      <td>3994329</td>\n",
       "      <td>7.835984</td>\n",
       "    </tr>\n",
       "    <tr>\n",
       "      <th>17</th>\n",
       "      <td>Kerala</td>\n",
       "      <td>145656</td>\n",
       "      <td>137060</td>\n",
       "      <td>2064677</td>\n",
       "      <td>6.638326</td>\n",
       "    </tr>\n",
       "    <tr>\n",
       "      <th>18</th>\n",
       "      <td>Ladakh</td>\n",
       "      <td>145656</td>\n",
       "      <td>68</td>\n",
       "      <td>10496</td>\n",
       "      <td>0.647866</td>\n",
       "    </tr>\n",
       "    <tr>\n",
       "      <th>19</th>\n",
       "      <td>Madhya Pradesh</td>\n",
       "      <td>145656</td>\n",
       "      <td>78979</td>\n",
       "      <td>3498698</td>\n",
       "      <td>2.257383</td>\n",
       "    </tr>\n",
       "    <tr>\n",
       "      <th>20</th>\n",
       "      <td>Maharashtra</td>\n",
       "      <td>145656</td>\n",
       "      <td>396045</td>\n",
       "      <td>6101429</td>\n",
       "      <td>6.491020</td>\n",
       "    </tr>\n",
       "    <tr>\n",
       "      <th>21</th>\n",
       "      <td>Manipur</td>\n",
       "      <td>145656</td>\n",
       "      <td>299</td>\n",
       "      <td>104513</td>\n",
       "      <td>0.286089</td>\n",
       "    </tr>\n",
       "    <tr>\n",
       "      <th>22</th>\n",
       "      <td>Meghalaya</td>\n",
       "      <td>145656</td>\n",
       "      <td>177</td>\n",
       "      <td>90183</td>\n",
       "      <td>0.196268</td>\n",
       "    </tr>\n",
       "    <tr>\n",
       "      <th>23</th>\n",
       "      <td>Mizoram</td>\n",
       "      <td>145656</td>\n",
       "      <td>340</td>\n",
       "      <td>71307</td>\n",
       "      <td>0.476812</td>\n",
       "    </tr>\n",
       "    <tr>\n",
       "      <th>24</th>\n",
       "      <td>Nagaland</td>\n",
       "      <td>145656</td>\n",
       "      <td>13</td>\n",
       "      <td>44092</td>\n",
       "      <td>0.029484</td>\n",
       "    </tr>\n",
       "    <tr>\n",
       "      <th>25</th>\n",
       "      <td>Odisha</td>\n",
       "      <td>141608</td>\n",
       "      <td>78267</td>\n",
       "      <td>1688794</td>\n",
       "      <td>4.634491</td>\n",
       "    </tr>\n",
       "    <tr>\n",
       "      <th>26</th>\n",
       "      <td>Puducherry</td>\n",
       "      <td>145656</td>\n",
       "      <td>5536</td>\n",
       "      <td>150798</td>\n",
       "      <td>3.671136</td>\n",
       "    </tr>\n",
       "    <tr>\n",
       "      <th>27</th>\n",
       "      <td>Punjab</td>\n",
       "      <td>145656</td>\n",
       "      <td>23833</td>\n",
       "      <td>1543962</td>\n",
       "      <td>1.543626</td>\n",
       "    </tr>\n",
       "    <tr>\n",
       "      <th>28</th>\n",
       "      <td>Rajasthan</td>\n",
       "      <td>145656</td>\n",
       "      <td>150366</td>\n",
       "      <td>3307591</td>\n",
       "      <td>4.546088</td>\n",
       "    </tr>\n",
       "    <tr>\n",
       "      <th>29</th>\n",
       "      <td>Sikkim</td>\n",
       "      <td>145656</td>\n",
       "      <td>0</td>\n",
       "      <td>29346</td>\n",
       "      <td>0.000000</td>\n",
       "    </tr>\n",
       "    <tr>\n",
       "      <th>30</th>\n",
       "      <td>Tamil Nadu</td>\n",
       "      <td>145656</td>\n",
       "      <td>200062</td>\n",
       "      <td>4652363</td>\n",
       "      <td>4.300223</td>\n",
       "    </tr>\n",
       "    <tr>\n",
       "      <th>31</th>\n",
       "      <td>Tripura</td>\n",
       "      <td>145656</td>\n",
       "      <td>562</td>\n",
       "      <td>125216</td>\n",
       "      <td>0.448824</td>\n",
       "    </tr>\n",
       "    <tr>\n",
       "      <th>32</th>\n",
       "      <td>Uttar Pradesh</td>\n",
       "      <td>145656</td>\n",
       "      <td>95203</td>\n",
       "      <td>8127084</td>\n",
       "      <td>1.171429</td>\n",
       "    </tr>\n",
       "    <tr>\n",
       "      <th>33</th>\n",
       "      <td>Uttarakhand</td>\n",
       "      <td>145656</td>\n",
       "      <td>15127</td>\n",
       "      <td>622707</td>\n",
       "      <td>2.429232</td>\n",
       "    </tr>\n",
       "    <tr>\n",
       "      <th>34</th>\n",
       "      <td>West Bengal</td>\n",
       "      <td>145656</td>\n",
       "      <td>30560</td>\n",
       "      <td>2736176</td>\n",
       "      <td>1.116887</td>\n",
       "    </tr>\n",
       "  </tbody>\n",
       "</table>\n",
       "</div>"
      ],
      "text/plain": [
       "                       state  fiscal_year  electric_vehicles_sold  \\\n",
       "0          Andaman & Nicobar         4048                       2   \n",
       "1   Andaman & Nicobar Island       139586                      78   \n",
       "2             Andhra Pradesh       145656                   77422   \n",
       "3          Arunachal Pradesh       145656                      33   \n",
       "4                      Assam       145656                    6418   \n",
       "5                      Bihar       145656                   31019   \n",
       "6                 Chandigarh       145656                    5279   \n",
       "7               Chhattisgarh       145656                   53804   \n",
       "8                 DNH and DD       145656                     355   \n",
       "9                      Delhi       145656                  107312   \n",
       "10                       Goa       145656                   19684   \n",
       "11                   Gujarat       145656                  181389   \n",
       "12                   Haryana       145656                   30797   \n",
       "13          Himachal Pradesh       145656                    2595   \n",
       "14         Jammu and Kashmir       145656                    5971   \n",
       "15                 Jharkhand       145656                   18461   \n",
       "16                 Karnataka       145656                  312995   \n",
       "17                    Kerala       145656                  137060   \n",
       "18                    Ladakh       145656                      68   \n",
       "19            Madhya Pradesh       145656                   78979   \n",
       "20               Maharashtra       145656                  396045   \n",
       "21                   Manipur       145656                     299   \n",
       "22                 Meghalaya       145656                     177   \n",
       "23                   Mizoram       145656                     340   \n",
       "24                  Nagaland       145656                      13   \n",
       "25                    Odisha       141608                   78267   \n",
       "26                Puducherry       145656                    5536   \n",
       "27                    Punjab       145656                   23833   \n",
       "28                 Rajasthan       145656                  150366   \n",
       "29                    Sikkim       145656                       0   \n",
       "30                Tamil Nadu       145656                  200062   \n",
       "31                   Tripura       145656                     562   \n",
       "32             Uttar Pradesh       145656                   95203   \n",
       "33               Uttarakhand       145656                   15127   \n",
       "34               West Bengal       145656                   30560   \n",
       "\n",
       "    total_vehicles_sold     PRate  \n",
       "0                   660  0.303030  \n",
       "1                 18225  0.427984  \n",
       "2               2283871  3.389946  \n",
       "3                 71547  0.046124  \n",
       "4               1403271  0.457360  \n",
       "5               3048373  1.017559  \n",
       "6                130628  4.041247  \n",
       "7               1334989  4.030295  \n",
       "8                 43397  0.818029  \n",
       "9               1588436  6.755828  \n",
       "10               199970  9.843477  \n",
       "11              4125551  4.396722  \n",
       "12              1902768  1.618537  \n",
       "13               325366  0.797563  \n",
       "14               414553  1.440347  \n",
       "15              1364886  1.352567  \n",
       "16              3994329  7.835984  \n",
       "17              2064677  6.638326  \n",
       "18                10496  0.647866  \n",
       "19              3498698  2.257383  \n",
       "20              6101429  6.491020  \n",
       "21               104513  0.286089  \n",
       "22                90183  0.196268  \n",
       "23                71307  0.476812  \n",
       "24                44092  0.029484  \n",
       "25              1688794  4.634491  \n",
       "26               150798  3.671136  \n",
       "27              1543962  1.543626  \n",
       "28              3307591  4.546088  \n",
       "29                29346  0.000000  \n",
       "30              4652363  4.300223  \n",
       "31               125216  0.448824  \n",
       "32              8127084  1.171429  \n",
       "33               622707  2.429232  \n",
       "34              2736176  1.116887  "
      ]
     },
     "execution_count": 76,
     "metadata": {},
     "output_type": "execute_result"
    }
   ],
   "source": [
    "state_group['PRate']=((state_group['electric_vehicles_sold'])/(state_group['total_vehicles_sold']))*100\n",
    "state_group"
   ]
  },
  {
   "cell_type": "code",
   "execution_count": 77,
   "id": "67648986",
   "metadata": {},
   "outputs": [
    {
     "data": {
      "text/html": [
       "<div>\n",
       "<style scoped>\n",
       "    .dataframe tbody tr th:only-of-type {\n",
       "        vertical-align: middle;\n",
       "    }\n",
       "\n",
       "    .dataframe tbody tr th {\n",
       "        vertical-align: top;\n",
       "    }\n",
       "\n",
       "    .dataframe thead th {\n",
       "        text-align: right;\n",
       "    }\n",
       "</style>\n",
       "<table border=\"1\" class=\"dataframe\">\n",
       "  <thead>\n",
       "    <tr style=\"text-align: right;\">\n",
       "      <th></th>\n",
       "      <th>state</th>\n",
       "      <th>fiscal_year</th>\n",
       "      <th>electric_vehicles_sold</th>\n",
       "      <th>total_vehicles_sold</th>\n",
       "      <th>PRate</th>\n",
       "    </tr>\n",
       "  </thead>\n",
       "  <tbody>\n",
       "    <tr>\n",
       "      <th>10</th>\n",
       "      <td>Goa</td>\n",
       "      <td>145656</td>\n",
       "      <td>19684</td>\n",
       "      <td>199970</td>\n",
       "      <td>9.843477</td>\n",
       "    </tr>\n",
       "    <tr>\n",
       "      <th>16</th>\n",
       "      <td>Karnataka</td>\n",
       "      <td>145656</td>\n",
       "      <td>312995</td>\n",
       "      <td>3994329</td>\n",
       "      <td>7.835984</td>\n",
       "    </tr>\n",
       "    <tr>\n",
       "      <th>9</th>\n",
       "      <td>Delhi</td>\n",
       "      <td>145656</td>\n",
       "      <td>107312</td>\n",
       "      <td>1588436</td>\n",
       "      <td>6.755828</td>\n",
       "    </tr>\n",
       "    <tr>\n",
       "      <th>17</th>\n",
       "      <td>Kerala</td>\n",
       "      <td>145656</td>\n",
       "      <td>137060</td>\n",
       "      <td>2064677</td>\n",
       "      <td>6.638326</td>\n",
       "    </tr>\n",
       "    <tr>\n",
       "      <th>20</th>\n",
       "      <td>Maharashtra</td>\n",
       "      <td>145656</td>\n",
       "      <td>396045</td>\n",
       "      <td>6101429</td>\n",
       "      <td>6.491020</td>\n",
       "    </tr>\n",
       "    <tr>\n",
       "      <th>25</th>\n",
       "      <td>Odisha</td>\n",
       "      <td>141608</td>\n",
       "      <td>78267</td>\n",
       "      <td>1688794</td>\n",
       "      <td>4.634491</td>\n",
       "    </tr>\n",
       "    <tr>\n",
       "      <th>28</th>\n",
       "      <td>Rajasthan</td>\n",
       "      <td>145656</td>\n",
       "      <td>150366</td>\n",
       "      <td>3307591</td>\n",
       "      <td>4.546088</td>\n",
       "    </tr>\n",
       "    <tr>\n",
       "      <th>11</th>\n",
       "      <td>Gujarat</td>\n",
       "      <td>145656</td>\n",
       "      <td>181389</td>\n",
       "      <td>4125551</td>\n",
       "      <td>4.396722</td>\n",
       "    </tr>\n",
       "    <tr>\n",
       "      <th>30</th>\n",
       "      <td>Tamil Nadu</td>\n",
       "      <td>145656</td>\n",
       "      <td>200062</td>\n",
       "      <td>4652363</td>\n",
       "      <td>4.300223</td>\n",
       "    </tr>\n",
       "    <tr>\n",
       "      <th>6</th>\n",
       "      <td>Chandigarh</td>\n",
       "      <td>145656</td>\n",
       "      <td>5279</td>\n",
       "      <td>130628</td>\n",
       "      <td>4.041247</td>\n",
       "    </tr>\n",
       "  </tbody>\n",
       "</table>\n",
       "</div>"
      ],
      "text/plain": [
       "          state  fiscal_year  electric_vehicles_sold  total_vehicles_sold  \\\n",
       "10          Goa       145656                   19684               199970   \n",
       "16    Karnataka       145656                  312995              3994329   \n",
       "9         Delhi       145656                  107312              1588436   \n",
       "17       Kerala       145656                  137060              2064677   \n",
       "20  Maharashtra       145656                  396045              6101429   \n",
       "25       Odisha       141608                   78267              1688794   \n",
       "28    Rajasthan       145656                  150366              3307591   \n",
       "11      Gujarat       145656                  181389              4125551   \n",
       "30   Tamil Nadu       145656                  200062              4652363   \n",
       "6    Chandigarh       145656                    5279               130628   \n",
       "\n",
       "       PRate  \n",
       "10  9.843477  \n",
       "16  7.835984  \n",
       "9   6.755828  \n",
       "17  6.638326  \n",
       "20  6.491020  \n",
       "25  4.634491  \n",
       "28  4.546088  \n",
       "11  4.396722  \n",
       "30  4.300223  \n",
       "6   4.041247  "
      ]
     },
     "execution_count": 77,
     "metadata": {},
     "output_type": "execute_result"
    }
   ],
   "source": [
    "state_sort=state_group.sort_values(by='PRate',ascending=False)\n",
    "state_top10=state_sort.head(10)\n",
    "state_top10"
   ]
  },
  {
   "cell_type": "code",
   "execution_count": 78,
   "id": "adf23a8a",
   "metadata": {},
   "outputs": [
    {
     "data": {
      "text/html": [
       "<div>\n",
       "<style scoped>\n",
       "    .dataframe tbody tr th:only-of-type {\n",
       "        vertical-align: middle;\n",
       "    }\n",
       "\n",
       "    .dataframe tbody tr th {\n",
       "        vertical-align: top;\n",
       "    }\n",
       "\n",
       "    .dataframe thead th {\n",
       "        text-align: right;\n",
       "    }\n",
       "</style>\n",
       "<table border=\"1\" class=\"dataframe\">\n",
       "  <thead>\n",
       "    <tr style=\"text-align: right;\">\n",
       "      <th></th>\n",
       "      <th>state</th>\n",
       "      <th>fiscal_year</th>\n",
       "      <th>electric_vehicles_sold</th>\n",
       "      <th>total_vehicles_sold</th>\n",
       "    </tr>\n",
       "  </thead>\n",
       "  <tbody>\n",
       "    <tr>\n",
       "      <th>0</th>\n",
       "      <td>Andaman &amp; Nicobar</td>\n",
       "      <td>2024</td>\n",
       "      <td>2</td>\n",
       "      <td>660</td>\n",
       "    </tr>\n",
       "    <tr>\n",
       "      <th>1</th>\n",
       "      <td>Andaman &amp; Nicobar Island</td>\n",
       "      <td>2022</td>\n",
       "      <td>22</td>\n",
       "      <td>5148</td>\n",
       "    </tr>\n",
       "    <tr>\n",
       "      <th>2</th>\n",
       "      <td>Andaman &amp; Nicobar Island</td>\n",
       "      <td>2023</td>\n",
       "      <td>23</td>\n",
       "      <td>6534</td>\n",
       "    </tr>\n",
       "    <tr>\n",
       "      <th>3</th>\n",
       "      <td>Andaman &amp; Nicobar Island</td>\n",
       "      <td>2024</td>\n",
       "      <td>33</td>\n",
       "      <td>6543</td>\n",
       "    </tr>\n",
       "    <tr>\n",
       "      <th>4</th>\n",
       "      <td>Andhra Pradesh</td>\n",
       "      <td>2022</td>\n",
       "      <td>13928</td>\n",
       "      <td>772748</td>\n",
       "    </tr>\n",
       "    <tr>\n",
       "      <th>...</th>\n",
       "      <td>...</td>\n",
       "      <td>...</td>\n",
       "      <td>...</td>\n",
       "      <td>...</td>\n",
       "    </tr>\n",
       "    <tr>\n",
       "      <th>98</th>\n",
       "      <td>Uttarakhand</td>\n",
       "      <td>2023</td>\n",
       "      <td>6712</td>\n",
       "      <td>216265</td>\n",
       "    </tr>\n",
       "    <tr>\n",
       "      <th>99</th>\n",
       "      <td>Uttarakhand</td>\n",
       "      <td>2024</td>\n",
       "      <td>6336</td>\n",
       "      <td>233111</td>\n",
       "    </tr>\n",
       "    <tr>\n",
       "      <th>100</th>\n",
       "      <td>West Bengal</td>\n",
       "      <td>2022</td>\n",
       "      <td>2685</td>\n",
       "      <td>860709</td>\n",
       "    </tr>\n",
       "    <tr>\n",
       "      <th>101</th>\n",
       "      <td>West Bengal</td>\n",
       "      <td>2023</td>\n",
       "      <td>11011</td>\n",
       "      <td>913558</td>\n",
       "    </tr>\n",
       "    <tr>\n",
       "      <th>102</th>\n",
       "      <td>West Bengal</td>\n",
       "      <td>2024</td>\n",
       "      <td>16864</td>\n",
       "      <td>961909</td>\n",
       "    </tr>\n",
       "  </tbody>\n",
       "</table>\n",
       "<p>103 rows × 4 columns</p>\n",
       "</div>"
      ],
      "text/plain": [
       "                        state  fiscal_year  electric_vehicles_sold  \\\n",
       "0           Andaman & Nicobar         2024                       2   \n",
       "1    Andaman & Nicobar Island         2022                      22   \n",
       "2    Andaman & Nicobar Island         2023                      23   \n",
       "3    Andaman & Nicobar Island         2024                      33   \n",
       "4              Andhra Pradesh         2022                   13928   \n",
       "..                        ...          ...                     ...   \n",
       "98                Uttarakhand         2023                    6712   \n",
       "99                Uttarakhand         2024                    6336   \n",
       "100               West Bengal         2022                    2685   \n",
       "101               West Bengal         2023                   11011   \n",
       "102               West Bengal         2024                   16864   \n",
       "\n",
       "     total_vehicles_sold  \n",
       "0                    660  \n",
       "1                   5148  \n",
       "2                   6534  \n",
       "3                   6543  \n",
       "4                 772748  \n",
       "..                   ...  \n",
       "98                216265  \n",
       "99                233111  \n",
       "100               860709  \n",
       "101               913558  \n",
       "102               961909  \n",
       "\n",
       "[103 rows x 4 columns]"
      ]
     },
     "execution_count": 78,
     "metadata": {},
     "output_type": "execute_result"
    }
   ],
   "source": [
    "state_cag=new_s.groupby(['state','fiscal_year']).sum('electric_vehicles_sold').reset_index()\n",
    "state_cag"
   ]
  },
  {
   "cell_type": "code",
   "execution_count": 79,
   "id": "9baae570",
   "metadata": {},
   "outputs": [
    {
     "data": {
      "text/html": [
       "<div>\n",
       "<style scoped>\n",
       "    .dataframe tbody tr th:only-of-type {\n",
       "        vertical-align: middle;\n",
       "    }\n",
       "\n",
       "    .dataframe tbody tr th {\n",
       "        vertical-align: top;\n",
       "    }\n",
       "\n",
       "    .dataframe thead th {\n",
       "        text-align: right;\n",
       "    }\n",
       "</style>\n",
       "<table border=\"1\" class=\"dataframe\">\n",
       "  <thead>\n",
       "    <tr style=\"text-align: right;\">\n",
       "      <th>fiscal_year</th>\n",
       "      <th>state</th>\n",
       "      <th>2022</th>\n",
       "      <th>2023</th>\n",
       "      <th>2024</th>\n",
       "    </tr>\n",
       "  </thead>\n",
       "  <tbody>\n",
       "    <tr>\n",
       "      <th>0</th>\n",
       "      <td>Andaman &amp; Nicobar</td>\n",
       "      <td>NaN</td>\n",
       "      <td>NaN</td>\n",
       "      <td>2.0</td>\n",
       "    </tr>\n",
       "    <tr>\n",
       "      <th>1</th>\n",
       "      <td>Andaman &amp; Nicobar Island</td>\n",
       "      <td>22.0</td>\n",
       "      <td>23.0</td>\n",
       "      <td>33.0</td>\n",
       "    </tr>\n",
       "    <tr>\n",
       "      <th>2</th>\n",
       "      <td>Andhra Pradesh</td>\n",
       "      <td>13928.0</td>\n",
       "      <td>30311.0</td>\n",
       "      <td>33183.0</td>\n",
       "    </tr>\n",
       "    <tr>\n",
       "      <th>3</th>\n",
       "      <td>Arunachal Pradesh</td>\n",
       "      <td>0.0</td>\n",
       "      <td>2.0</td>\n",
       "      <td>31.0</td>\n",
       "    </tr>\n",
       "    <tr>\n",
       "      <th>4</th>\n",
       "      <td>Assam</td>\n",
       "      <td>730.0</td>\n",
       "      <td>2191.0</td>\n",
       "      <td>3497.0</td>\n",
       "    </tr>\n",
       "    <tr>\n",
       "      <th>5</th>\n",
       "      <td>Bihar</td>\n",
       "      <td>4829.0</td>\n",
       "      <td>11121.0</td>\n",
       "      <td>15069.0</td>\n",
       "    </tr>\n",
       "    <tr>\n",
       "      <th>6</th>\n",
       "      <td>Chandigarh</td>\n",
       "      <td>411.0</td>\n",
       "      <td>1991.0</td>\n",
       "      <td>2877.0</td>\n",
       "    </tr>\n",
       "    <tr>\n",
       "      <th>7</th>\n",
       "      <td>Chhattisgarh</td>\n",
       "      <td>4534.0</td>\n",
       "      <td>20730.0</td>\n",
       "      <td>28540.0</td>\n",
       "    </tr>\n",
       "    <tr>\n",
       "      <th>8</th>\n",
       "      <td>DNH and DD</td>\n",
       "      <td>35.0</td>\n",
       "      <td>122.0</td>\n",
       "      <td>198.0</td>\n",
       "    </tr>\n",
       "    <tr>\n",
       "      <th>9</th>\n",
       "      <td>Delhi</td>\n",
       "      <td>16535.0</td>\n",
       "      <td>44053.0</td>\n",
       "      <td>46724.0</td>\n",
       "    </tr>\n",
       "    <tr>\n",
       "      <th>10</th>\n",
       "      <td>Goa</td>\n",
       "      <td>1778.0</td>\n",
       "      <td>7107.0</td>\n",
       "      <td>10799.0</td>\n",
       "    </tr>\n",
       "    <tr>\n",
       "      <th>11</th>\n",
       "      <td>Gujarat</td>\n",
       "      <td>18026.0</td>\n",
       "      <td>79004.0</td>\n",
       "      <td>84359.0</td>\n",
       "    </tr>\n",
       "    <tr>\n",
       "      <th>12</th>\n",
       "      <td>Haryana</td>\n",
       "      <td>5926.0</td>\n",
       "      <td>13078.0</td>\n",
       "      <td>11793.0</td>\n",
       "    </tr>\n",
       "    <tr>\n",
       "      <th>13</th>\n",
       "      <td>Himachal Pradesh</td>\n",
       "      <td>443.0</td>\n",
       "      <td>1104.0</td>\n",
       "      <td>1048.0</td>\n",
       "    </tr>\n",
       "    <tr>\n",
       "      <th>14</th>\n",
       "      <td>Jammu and Kashmir</td>\n",
       "      <td>1434.0</td>\n",
       "      <td>2254.0</td>\n",
       "      <td>2283.0</td>\n",
       "    </tr>\n",
       "    <tr>\n",
       "      <th>15</th>\n",
       "      <td>Jharkhand</td>\n",
       "      <td>2713.0</td>\n",
       "      <td>7918.0</td>\n",
       "      <td>7830.0</td>\n",
       "    </tr>\n",
       "    <tr>\n",
       "      <th>16</th>\n",
       "      <td>Karnataka</td>\n",
       "      <td>43111.0</td>\n",
       "      <td>108895.0</td>\n",
       "      <td>160989.0</td>\n",
       "    </tr>\n",
       "    <tr>\n",
       "      <th>17</th>\n",
       "      <td>Kerala</td>\n",
       "      <td>13639.0</td>\n",
       "      <td>49483.0</td>\n",
       "      <td>73938.0</td>\n",
       "    </tr>\n",
       "    <tr>\n",
       "      <th>18</th>\n",
       "      <td>Ladakh</td>\n",
       "      <td>12.0</td>\n",
       "      <td>25.0</td>\n",
       "      <td>31.0</td>\n",
       "    </tr>\n",
       "    <tr>\n",
       "      <th>19</th>\n",
       "      <td>Madhya Pradesh</td>\n",
       "      <td>7916.0</td>\n",
       "      <td>27840.0</td>\n",
       "      <td>43223.0</td>\n",
       "    </tr>\n",
       "    <tr>\n",
       "      <th>20</th>\n",
       "      <td>Maharashtra</td>\n",
       "      <td>48374.0</td>\n",
       "      <td>150502.0</td>\n",
       "      <td>197169.0</td>\n",
       "    </tr>\n",
       "    <tr>\n",
       "      <th>21</th>\n",
       "      <td>Manipur</td>\n",
       "      <td>25.0</td>\n",
       "      <td>148.0</td>\n",
       "      <td>126.0</td>\n",
       "    </tr>\n",
       "    <tr>\n",
       "      <th>22</th>\n",
       "      <td>Meghalaya</td>\n",
       "      <td>4.0</td>\n",
       "      <td>40.0</td>\n",
       "      <td>133.0</td>\n",
       "    </tr>\n",
       "    <tr>\n",
       "      <th>23</th>\n",
       "      <td>Mizoram</td>\n",
       "      <td>0.0</td>\n",
       "      <td>65.0</td>\n",
       "      <td>275.0</td>\n",
       "    </tr>\n",
       "    <tr>\n",
       "      <th>24</th>\n",
       "      <td>Nagaland</td>\n",
       "      <td>1.0</td>\n",
       "      <td>3.0</td>\n",
       "      <td>9.0</td>\n",
       "    </tr>\n",
       "    <tr>\n",
       "      <th>25</th>\n",
       "      <td>Odisha</td>\n",
       "      <td>9498.0</td>\n",
       "      <td>29651.0</td>\n",
       "      <td>39118.0</td>\n",
       "    </tr>\n",
       "    <tr>\n",
       "      <th>26</th>\n",
       "      <td>Puducherry</td>\n",
       "      <td>734.0</td>\n",
       "      <td>1704.0</td>\n",
       "      <td>3098.0</td>\n",
       "    </tr>\n",
       "    <tr>\n",
       "      <th>27</th>\n",
       "      <td>Punjab</td>\n",
       "      <td>4528.0</td>\n",
       "      <td>8107.0</td>\n",
       "      <td>11198.0</td>\n",
       "    </tr>\n",
       "    <tr>\n",
       "      <th>28</th>\n",
       "      <td>Rajasthan</td>\n",
       "      <td>20087.0</td>\n",
       "      <td>63835.0</td>\n",
       "      <td>66444.0</td>\n",
       "    </tr>\n",
       "    <tr>\n",
       "      <th>29</th>\n",
       "      <td>Sikkim</td>\n",
       "      <td>0.0</td>\n",
       "      <td>0.0</td>\n",
       "      <td>0.0</td>\n",
       "    </tr>\n",
       "    <tr>\n",
       "      <th>30</th>\n",
       "      <td>Tamil Nadu</td>\n",
       "      <td>36863.0</td>\n",
       "      <td>68885.0</td>\n",
       "      <td>94314.0</td>\n",
       "    </tr>\n",
       "    <tr>\n",
       "      <th>31</th>\n",
       "      <td>Tripura</td>\n",
       "      <td>28.0</td>\n",
       "      <td>230.0</td>\n",
       "      <td>304.0</td>\n",
       "    </tr>\n",
       "    <tr>\n",
       "      <th>32</th>\n",
       "      <td>Uttar Pradesh</td>\n",
       "      <td>10222.0</td>\n",
       "      <td>27223.0</td>\n",
       "      <td>57758.0</td>\n",
       "    </tr>\n",
       "    <tr>\n",
       "      <th>33</th>\n",
       "      <td>Uttarakhand</td>\n",
       "      <td>2079.0</td>\n",
       "      <td>6712.0</td>\n",
       "      <td>6336.0</td>\n",
       "    </tr>\n",
       "    <tr>\n",
       "      <th>34</th>\n",
       "      <td>West Bengal</td>\n",
       "      <td>2685.0</td>\n",
       "      <td>11011.0</td>\n",
       "      <td>16864.0</td>\n",
       "    </tr>\n",
       "  </tbody>\n",
       "</table>\n",
       "</div>"
      ],
      "text/plain": [
       "fiscal_year                     state     2022      2023      2024\n",
       "0                   Andaman & Nicobar      NaN       NaN       2.0\n",
       "1            Andaman & Nicobar Island     22.0      23.0      33.0\n",
       "2                      Andhra Pradesh  13928.0   30311.0   33183.0\n",
       "3                   Arunachal Pradesh      0.0       2.0      31.0\n",
       "4                               Assam    730.0    2191.0    3497.0\n",
       "5                               Bihar   4829.0   11121.0   15069.0\n",
       "6                          Chandigarh    411.0    1991.0    2877.0\n",
       "7                        Chhattisgarh   4534.0   20730.0   28540.0\n",
       "8                          DNH and DD     35.0     122.0     198.0\n",
       "9                               Delhi  16535.0   44053.0   46724.0\n",
       "10                                Goa   1778.0    7107.0   10799.0\n",
       "11                            Gujarat  18026.0   79004.0   84359.0\n",
       "12                            Haryana   5926.0   13078.0   11793.0\n",
       "13                   Himachal Pradesh    443.0    1104.0    1048.0\n",
       "14                  Jammu and Kashmir   1434.0    2254.0    2283.0\n",
       "15                          Jharkhand   2713.0    7918.0    7830.0\n",
       "16                          Karnataka  43111.0  108895.0  160989.0\n",
       "17                             Kerala  13639.0   49483.0   73938.0\n",
       "18                             Ladakh     12.0      25.0      31.0\n",
       "19                     Madhya Pradesh   7916.0   27840.0   43223.0\n",
       "20                        Maharashtra  48374.0  150502.0  197169.0\n",
       "21                            Manipur     25.0     148.0     126.0\n",
       "22                          Meghalaya      4.0      40.0     133.0\n",
       "23                            Mizoram      0.0      65.0     275.0\n",
       "24                           Nagaland      1.0       3.0       9.0\n",
       "25                             Odisha   9498.0   29651.0   39118.0\n",
       "26                         Puducherry    734.0    1704.0    3098.0\n",
       "27                             Punjab   4528.0    8107.0   11198.0\n",
       "28                          Rajasthan  20087.0   63835.0   66444.0\n",
       "29                             Sikkim      0.0       0.0       0.0\n",
       "30                         Tamil Nadu  36863.0   68885.0   94314.0\n",
       "31                            Tripura     28.0     230.0     304.0\n",
       "32                      Uttar Pradesh  10222.0   27223.0   57758.0\n",
       "33                        Uttarakhand   2079.0    6712.0    6336.0\n",
       "34                        West Bengal   2685.0   11011.0   16864.0"
      ]
     },
     "execution_count": 79,
     "metadata": {},
     "output_type": "execute_result"
    }
   ],
   "source": [
    "state_cpivot=pd.pivot_table(state_cag,index='state',columns='fiscal_year',values='electric_vehicles_sold').reset_index()\n",
    "state_cpivot"
   ]
  },
  {
   "cell_type": "code",
   "execution_count": 80,
   "id": "9e960225",
   "metadata": {},
   "outputs": [
    {
     "data": {
      "text/html": [
       "<div>\n",
       "<style scoped>\n",
       "    .dataframe tbody tr th:only-of-type {\n",
       "        vertical-align: middle;\n",
       "    }\n",
       "\n",
       "    .dataframe tbody tr th {\n",
       "        vertical-align: top;\n",
       "    }\n",
       "\n",
       "    .dataframe thead th {\n",
       "        text-align: right;\n",
       "    }\n",
       "</style>\n",
       "<table border=\"1\" class=\"dataframe\">\n",
       "  <thead>\n",
       "    <tr style=\"text-align: right;\">\n",
       "      <th>fiscal_year</th>\n",
       "      <th>state</th>\n",
       "      <th>EV_sold22</th>\n",
       "      <th>EV_sold23</th>\n",
       "      <th>EV_sold24</th>\n",
       "    </tr>\n",
       "  </thead>\n",
       "  <tbody>\n",
       "    <tr>\n",
       "      <th>0</th>\n",
       "      <td>Andaman &amp; Nicobar</td>\n",
       "      <td>NaN</td>\n",
       "      <td>NaN</td>\n",
       "      <td>2.0</td>\n",
       "    </tr>\n",
       "    <tr>\n",
       "      <th>1</th>\n",
       "      <td>Andaman &amp; Nicobar Island</td>\n",
       "      <td>22.0</td>\n",
       "      <td>23.0</td>\n",
       "      <td>33.0</td>\n",
       "    </tr>\n",
       "    <tr>\n",
       "      <th>2</th>\n",
       "      <td>Andhra Pradesh</td>\n",
       "      <td>13928.0</td>\n",
       "      <td>30311.0</td>\n",
       "      <td>33183.0</td>\n",
       "    </tr>\n",
       "    <tr>\n",
       "      <th>3</th>\n",
       "      <td>Arunachal Pradesh</td>\n",
       "      <td>0.0</td>\n",
       "      <td>2.0</td>\n",
       "      <td>31.0</td>\n",
       "    </tr>\n",
       "    <tr>\n",
       "      <th>4</th>\n",
       "      <td>Assam</td>\n",
       "      <td>730.0</td>\n",
       "      <td>2191.0</td>\n",
       "      <td>3497.0</td>\n",
       "    </tr>\n",
       "    <tr>\n",
       "      <th>5</th>\n",
       "      <td>Bihar</td>\n",
       "      <td>4829.0</td>\n",
       "      <td>11121.0</td>\n",
       "      <td>15069.0</td>\n",
       "    </tr>\n",
       "    <tr>\n",
       "      <th>6</th>\n",
       "      <td>Chandigarh</td>\n",
       "      <td>411.0</td>\n",
       "      <td>1991.0</td>\n",
       "      <td>2877.0</td>\n",
       "    </tr>\n",
       "    <tr>\n",
       "      <th>7</th>\n",
       "      <td>Chhattisgarh</td>\n",
       "      <td>4534.0</td>\n",
       "      <td>20730.0</td>\n",
       "      <td>28540.0</td>\n",
       "    </tr>\n",
       "    <tr>\n",
       "      <th>8</th>\n",
       "      <td>DNH and DD</td>\n",
       "      <td>35.0</td>\n",
       "      <td>122.0</td>\n",
       "      <td>198.0</td>\n",
       "    </tr>\n",
       "    <tr>\n",
       "      <th>9</th>\n",
       "      <td>Delhi</td>\n",
       "      <td>16535.0</td>\n",
       "      <td>44053.0</td>\n",
       "      <td>46724.0</td>\n",
       "    </tr>\n",
       "    <tr>\n",
       "      <th>10</th>\n",
       "      <td>Goa</td>\n",
       "      <td>1778.0</td>\n",
       "      <td>7107.0</td>\n",
       "      <td>10799.0</td>\n",
       "    </tr>\n",
       "    <tr>\n",
       "      <th>11</th>\n",
       "      <td>Gujarat</td>\n",
       "      <td>18026.0</td>\n",
       "      <td>79004.0</td>\n",
       "      <td>84359.0</td>\n",
       "    </tr>\n",
       "    <tr>\n",
       "      <th>12</th>\n",
       "      <td>Haryana</td>\n",
       "      <td>5926.0</td>\n",
       "      <td>13078.0</td>\n",
       "      <td>11793.0</td>\n",
       "    </tr>\n",
       "    <tr>\n",
       "      <th>13</th>\n",
       "      <td>Himachal Pradesh</td>\n",
       "      <td>443.0</td>\n",
       "      <td>1104.0</td>\n",
       "      <td>1048.0</td>\n",
       "    </tr>\n",
       "    <tr>\n",
       "      <th>14</th>\n",
       "      <td>Jammu and Kashmir</td>\n",
       "      <td>1434.0</td>\n",
       "      <td>2254.0</td>\n",
       "      <td>2283.0</td>\n",
       "    </tr>\n",
       "    <tr>\n",
       "      <th>15</th>\n",
       "      <td>Jharkhand</td>\n",
       "      <td>2713.0</td>\n",
       "      <td>7918.0</td>\n",
       "      <td>7830.0</td>\n",
       "    </tr>\n",
       "    <tr>\n",
       "      <th>16</th>\n",
       "      <td>Karnataka</td>\n",
       "      <td>43111.0</td>\n",
       "      <td>108895.0</td>\n",
       "      <td>160989.0</td>\n",
       "    </tr>\n",
       "    <tr>\n",
       "      <th>17</th>\n",
       "      <td>Kerala</td>\n",
       "      <td>13639.0</td>\n",
       "      <td>49483.0</td>\n",
       "      <td>73938.0</td>\n",
       "    </tr>\n",
       "    <tr>\n",
       "      <th>18</th>\n",
       "      <td>Ladakh</td>\n",
       "      <td>12.0</td>\n",
       "      <td>25.0</td>\n",
       "      <td>31.0</td>\n",
       "    </tr>\n",
       "    <tr>\n",
       "      <th>19</th>\n",
       "      <td>Madhya Pradesh</td>\n",
       "      <td>7916.0</td>\n",
       "      <td>27840.0</td>\n",
       "      <td>43223.0</td>\n",
       "    </tr>\n",
       "    <tr>\n",
       "      <th>20</th>\n",
       "      <td>Maharashtra</td>\n",
       "      <td>48374.0</td>\n",
       "      <td>150502.0</td>\n",
       "      <td>197169.0</td>\n",
       "    </tr>\n",
       "    <tr>\n",
       "      <th>21</th>\n",
       "      <td>Manipur</td>\n",
       "      <td>25.0</td>\n",
       "      <td>148.0</td>\n",
       "      <td>126.0</td>\n",
       "    </tr>\n",
       "    <tr>\n",
       "      <th>22</th>\n",
       "      <td>Meghalaya</td>\n",
       "      <td>4.0</td>\n",
       "      <td>40.0</td>\n",
       "      <td>133.0</td>\n",
       "    </tr>\n",
       "    <tr>\n",
       "      <th>23</th>\n",
       "      <td>Mizoram</td>\n",
       "      <td>0.0</td>\n",
       "      <td>65.0</td>\n",
       "      <td>275.0</td>\n",
       "    </tr>\n",
       "    <tr>\n",
       "      <th>24</th>\n",
       "      <td>Nagaland</td>\n",
       "      <td>1.0</td>\n",
       "      <td>3.0</td>\n",
       "      <td>9.0</td>\n",
       "    </tr>\n",
       "    <tr>\n",
       "      <th>25</th>\n",
       "      <td>Odisha</td>\n",
       "      <td>9498.0</td>\n",
       "      <td>29651.0</td>\n",
       "      <td>39118.0</td>\n",
       "    </tr>\n",
       "    <tr>\n",
       "      <th>26</th>\n",
       "      <td>Puducherry</td>\n",
       "      <td>734.0</td>\n",
       "      <td>1704.0</td>\n",
       "      <td>3098.0</td>\n",
       "    </tr>\n",
       "    <tr>\n",
       "      <th>27</th>\n",
       "      <td>Punjab</td>\n",
       "      <td>4528.0</td>\n",
       "      <td>8107.0</td>\n",
       "      <td>11198.0</td>\n",
       "    </tr>\n",
       "    <tr>\n",
       "      <th>28</th>\n",
       "      <td>Rajasthan</td>\n",
       "      <td>20087.0</td>\n",
       "      <td>63835.0</td>\n",
       "      <td>66444.0</td>\n",
       "    </tr>\n",
       "    <tr>\n",
       "      <th>29</th>\n",
       "      <td>Sikkim</td>\n",
       "      <td>0.0</td>\n",
       "      <td>0.0</td>\n",
       "      <td>0.0</td>\n",
       "    </tr>\n",
       "    <tr>\n",
       "      <th>30</th>\n",
       "      <td>Tamil Nadu</td>\n",
       "      <td>36863.0</td>\n",
       "      <td>68885.0</td>\n",
       "      <td>94314.0</td>\n",
       "    </tr>\n",
       "    <tr>\n",
       "      <th>31</th>\n",
       "      <td>Tripura</td>\n",
       "      <td>28.0</td>\n",
       "      <td>230.0</td>\n",
       "      <td>304.0</td>\n",
       "    </tr>\n",
       "    <tr>\n",
       "      <th>32</th>\n",
       "      <td>Uttar Pradesh</td>\n",
       "      <td>10222.0</td>\n",
       "      <td>27223.0</td>\n",
       "      <td>57758.0</td>\n",
       "    </tr>\n",
       "    <tr>\n",
       "      <th>33</th>\n",
       "      <td>Uttarakhand</td>\n",
       "      <td>2079.0</td>\n",
       "      <td>6712.0</td>\n",
       "      <td>6336.0</td>\n",
       "    </tr>\n",
       "    <tr>\n",
       "      <th>34</th>\n",
       "      <td>West Bengal</td>\n",
       "      <td>2685.0</td>\n",
       "      <td>11011.0</td>\n",
       "      <td>16864.0</td>\n",
       "    </tr>\n",
       "  </tbody>\n",
       "</table>\n",
       "</div>"
      ],
      "text/plain": [
       "fiscal_year                     state  EV_sold22  EV_sold23  EV_sold24\n",
       "0                   Andaman & Nicobar        NaN        NaN        2.0\n",
       "1            Andaman & Nicobar Island       22.0       23.0       33.0\n",
       "2                      Andhra Pradesh    13928.0    30311.0    33183.0\n",
       "3                   Arunachal Pradesh        0.0        2.0       31.0\n",
       "4                               Assam      730.0     2191.0     3497.0\n",
       "5                               Bihar     4829.0    11121.0    15069.0\n",
       "6                          Chandigarh      411.0     1991.0     2877.0\n",
       "7                        Chhattisgarh     4534.0    20730.0    28540.0\n",
       "8                          DNH and DD       35.0      122.0      198.0\n",
       "9                               Delhi    16535.0    44053.0    46724.0\n",
       "10                                Goa     1778.0     7107.0    10799.0\n",
       "11                            Gujarat    18026.0    79004.0    84359.0\n",
       "12                            Haryana     5926.0    13078.0    11793.0\n",
       "13                   Himachal Pradesh      443.0     1104.0     1048.0\n",
       "14                  Jammu and Kashmir     1434.0     2254.0     2283.0\n",
       "15                          Jharkhand     2713.0     7918.0     7830.0\n",
       "16                          Karnataka    43111.0   108895.0   160989.0\n",
       "17                             Kerala    13639.0    49483.0    73938.0\n",
       "18                             Ladakh       12.0       25.0       31.0\n",
       "19                     Madhya Pradesh     7916.0    27840.0    43223.0\n",
       "20                        Maharashtra    48374.0   150502.0   197169.0\n",
       "21                            Manipur       25.0      148.0      126.0\n",
       "22                          Meghalaya        4.0       40.0      133.0\n",
       "23                            Mizoram        0.0       65.0      275.0\n",
       "24                           Nagaland        1.0        3.0        9.0\n",
       "25                             Odisha     9498.0    29651.0    39118.0\n",
       "26                         Puducherry      734.0     1704.0     3098.0\n",
       "27                             Punjab     4528.0     8107.0    11198.0\n",
       "28                          Rajasthan    20087.0    63835.0    66444.0\n",
       "29                             Sikkim        0.0        0.0        0.0\n",
       "30                         Tamil Nadu    36863.0    68885.0    94314.0\n",
       "31                            Tripura       28.0      230.0      304.0\n",
       "32                      Uttar Pradesh    10222.0    27223.0    57758.0\n",
       "33                        Uttarakhand     2079.0     6712.0     6336.0\n",
       "34                        West Bengal     2685.0    11011.0    16864.0"
      ]
     },
     "execution_count": 80,
     "metadata": {},
     "output_type": "execute_result"
    }
   ],
   "source": [
    "state_cpivot.rename(columns={2022:'EV_sold22',2023:'EV_sold23',2024:'EV_sold24'},inplace=True)\n",
    "state_cpivot"
   ]
  },
  {
   "cell_type": "code",
   "execution_count": 81,
   "id": "c039d351",
   "metadata": {},
   "outputs": [
    {
     "data": {
      "text/html": [
       "<div>\n",
       "<style scoped>\n",
       "    .dataframe tbody tr th:only-of-type {\n",
       "        vertical-align: middle;\n",
       "    }\n",
       "\n",
       "    .dataframe tbody tr th {\n",
       "        vertical-align: top;\n",
       "    }\n",
       "\n",
       "    .dataframe thead th {\n",
       "        text-align: right;\n",
       "    }\n",
       "</style>\n",
       "<table border=\"1\" class=\"dataframe\">\n",
       "  <thead>\n",
       "    <tr style=\"text-align: right;\">\n",
       "      <th>fiscal_year</th>\n",
       "      <th>state</th>\n",
       "      <th>EV_sold22</th>\n",
       "      <th>EV_sold23</th>\n",
       "      <th>EV_sold24</th>\n",
       "      <th>CAGR</th>\n",
       "    </tr>\n",
       "  </thead>\n",
       "  <tbody>\n",
       "    <tr>\n",
       "      <th>0</th>\n",
       "      <td>Andaman &amp; Nicobar</td>\n",
       "      <td>NaN</td>\n",
       "      <td>NaN</td>\n",
       "      <td>2.0</td>\n",
       "      <td>NaN</td>\n",
       "    </tr>\n",
       "    <tr>\n",
       "      <th>1</th>\n",
       "      <td>Andaman &amp; Nicobar Island</td>\n",
       "      <td>22.0</td>\n",
       "      <td>23.0</td>\n",
       "      <td>33.0</td>\n",
       "      <td>22.474487</td>\n",
       "    </tr>\n",
       "    <tr>\n",
       "      <th>2</th>\n",
       "      <td>Andhra Pradesh</td>\n",
       "      <td>13928.0</td>\n",
       "      <td>30311.0</td>\n",
       "      <td>33183.0</td>\n",
       "      <td>54.352421</td>\n",
       "    </tr>\n",
       "    <tr>\n",
       "      <th>3</th>\n",
       "      <td>Arunachal Pradesh</td>\n",
       "      <td>0.0</td>\n",
       "      <td>2.0</td>\n",
       "      <td>31.0</td>\n",
       "      <td>inf</td>\n",
       "    </tr>\n",
       "    <tr>\n",
       "      <th>4</th>\n",
       "      <td>Assam</td>\n",
       "      <td>730.0</td>\n",
       "      <td>2191.0</td>\n",
       "      <td>3497.0</td>\n",
       "      <td>118.870075</td>\n",
       "    </tr>\n",
       "    <tr>\n",
       "      <th>5</th>\n",
       "      <td>Bihar</td>\n",
       "      <td>4829.0</td>\n",
       "      <td>11121.0</td>\n",
       "      <td>15069.0</td>\n",
       "      <td>76.649989</td>\n",
       "    </tr>\n",
       "    <tr>\n",
       "      <th>6</th>\n",
       "      <td>Chandigarh</td>\n",
       "      <td>411.0</td>\n",
       "      <td>1991.0</td>\n",
       "      <td>2877.0</td>\n",
       "      <td>164.575131</td>\n",
       "    </tr>\n",
       "    <tr>\n",
       "      <th>7</th>\n",
       "      <td>Chhattisgarh</td>\n",
       "      <td>4534.0</td>\n",
       "      <td>20730.0</td>\n",
       "      <td>28540.0</td>\n",
       "      <td>150.891661</td>\n",
       "    </tr>\n",
       "    <tr>\n",
       "      <th>8</th>\n",
       "      <td>DNH and DD</td>\n",
       "      <td>35.0</td>\n",
       "      <td>122.0</td>\n",
       "      <td>198.0</td>\n",
       "      <td>137.847490</td>\n",
       "    </tr>\n",
       "    <tr>\n",
       "      <th>9</th>\n",
       "      <td>Delhi</td>\n",
       "      <td>16535.0</td>\n",
       "      <td>44053.0</td>\n",
       "      <td>46724.0</td>\n",
       "      <td>68.100075</td>\n",
       "    </tr>\n",
       "    <tr>\n",
       "      <th>10</th>\n",
       "      <td>Goa</td>\n",
       "      <td>1778.0</td>\n",
       "      <td>7107.0</td>\n",
       "      <td>10799.0</td>\n",
       "      <td>146.448337</td>\n",
       "    </tr>\n",
       "    <tr>\n",
       "      <th>11</th>\n",
       "      <td>Gujarat</td>\n",
       "      <td>18026.0</td>\n",
       "      <td>79004.0</td>\n",
       "      <td>84359.0</td>\n",
       "      <td>116.329640</td>\n",
       "    </tr>\n",
       "    <tr>\n",
       "      <th>12</th>\n",
       "      <td>Haryana</td>\n",
       "      <td>5926.0</td>\n",
       "      <td>13078.0</td>\n",
       "      <td>11793.0</td>\n",
       "      <td>41.068915</td>\n",
       "    </tr>\n",
       "    <tr>\n",
       "      <th>13</th>\n",
       "      <td>Himachal Pradesh</td>\n",
       "      <td>443.0</td>\n",
       "      <td>1104.0</td>\n",
       "      <td>1048.0</td>\n",
       "      <td>53.807948</td>\n",
       "    </tr>\n",
       "    <tr>\n",
       "      <th>14</th>\n",
       "      <td>Jammu and Kashmir</td>\n",
       "      <td>1434.0</td>\n",
       "      <td>2254.0</td>\n",
       "      <td>2283.0</td>\n",
       "      <td>26.176472</td>\n",
       "    </tr>\n",
       "    <tr>\n",
       "      <th>15</th>\n",
       "      <td>Jharkhand</td>\n",
       "      <td>2713.0</td>\n",
       "      <td>7918.0</td>\n",
       "      <td>7830.0</td>\n",
       "      <td>69.885371</td>\n",
       "    </tr>\n",
       "    <tr>\n",
       "      <th>16</th>\n",
       "      <td>Karnataka</td>\n",
       "      <td>43111.0</td>\n",
       "      <td>108895.0</td>\n",
       "      <td>160989.0</td>\n",
       "      <td>93.243125</td>\n",
       "    </tr>\n",
       "    <tr>\n",
       "      <th>17</th>\n",
       "      <td>Kerala</td>\n",
       "      <td>13639.0</td>\n",
       "      <td>49483.0</td>\n",
       "      <td>73938.0</td>\n",
       "      <td>132.831955</td>\n",
       "    </tr>\n",
       "    <tr>\n",
       "      <th>18</th>\n",
       "      <td>Ladakh</td>\n",
       "      <td>12.0</td>\n",
       "      <td>25.0</td>\n",
       "      <td>31.0</td>\n",
       "      <td>60.727513</td>\n",
       "    </tr>\n",
       "    <tr>\n",
       "      <th>19</th>\n",
       "      <td>Madhya Pradesh</td>\n",
       "      <td>7916.0</td>\n",
       "      <td>27840.0</td>\n",
       "      <td>43223.0</td>\n",
       "      <td>133.670862</td>\n",
       "    </tr>\n",
       "    <tr>\n",
       "      <th>20</th>\n",
       "      <td>Maharashtra</td>\n",
       "      <td>48374.0</td>\n",
       "      <td>150502.0</td>\n",
       "      <td>197169.0</td>\n",
       "      <td>101.889307</td>\n",
       "    </tr>\n",
       "    <tr>\n",
       "      <th>21</th>\n",
       "      <td>Manipur</td>\n",
       "      <td>25.0</td>\n",
       "      <td>148.0</td>\n",
       "      <td>126.0</td>\n",
       "      <td>124.499443</td>\n",
       "    </tr>\n",
       "    <tr>\n",
       "      <th>22</th>\n",
       "      <td>Meghalaya</td>\n",
       "      <td>4.0</td>\n",
       "      <td>40.0</td>\n",
       "      <td>133.0</td>\n",
       "      <td>476.628130</td>\n",
       "    </tr>\n",
       "    <tr>\n",
       "      <th>23</th>\n",
       "      <td>Mizoram</td>\n",
       "      <td>0.0</td>\n",
       "      <td>65.0</td>\n",
       "      <td>275.0</td>\n",
       "      <td>inf</td>\n",
       "    </tr>\n",
       "    <tr>\n",
       "      <th>24</th>\n",
       "      <td>Nagaland</td>\n",
       "      <td>1.0</td>\n",
       "      <td>3.0</td>\n",
       "      <td>9.0</td>\n",
       "      <td>200.000000</td>\n",
       "    </tr>\n",
       "    <tr>\n",
       "      <th>25</th>\n",
       "      <td>Odisha</td>\n",
       "      <td>9498.0</td>\n",
       "      <td>29651.0</td>\n",
       "      <td>39118.0</td>\n",
       "      <td>102.942141</td>\n",
       "    </tr>\n",
       "    <tr>\n",
       "      <th>26</th>\n",
       "      <td>Puducherry</td>\n",
       "      <td>734.0</td>\n",
       "      <td>1704.0</td>\n",
       "      <td>3098.0</td>\n",
       "      <td>105.443628</td>\n",
       "    </tr>\n",
       "    <tr>\n",
       "      <th>27</th>\n",
       "      <td>Punjab</td>\n",
       "      <td>4528.0</td>\n",
       "      <td>8107.0</td>\n",
       "      <td>11198.0</td>\n",
       "      <td>57.259548</td>\n",
       "    </tr>\n",
       "    <tr>\n",
       "      <th>28</th>\n",
       "      <td>Rajasthan</td>\n",
       "      <td>20087.0</td>\n",
       "      <td>63835.0</td>\n",
       "      <td>66444.0</td>\n",
       "      <td>81.873885</td>\n",
       "    </tr>\n",
       "    <tr>\n",
       "      <th>29</th>\n",
       "      <td>Sikkim</td>\n",
       "      <td>0.0</td>\n",
       "      <td>0.0</td>\n",
       "      <td>0.0</td>\n",
       "      <td>NaN</td>\n",
       "    </tr>\n",
       "    <tr>\n",
       "      <th>30</th>\n",
       "      <td>Tamil Nadu</td>\n",
       "      <td>36863.0</td>\n",
       "      <td>68885.0</td>\n",
       "      <td>94314.0</td>\n",
       "      <td>59.953130</td>\n",
       "    </tr>\n",
       "    <tr>\n",
       "      <th>31</th>\n",
       "      <td>Tripura</td>\n",
       "      <td>28.0</td>\n",
       "      <td>230.0</td>\n",
       "      <td>304.0</td>\n",
       "      <td>229.501788</td>\n",
       "    </tr>\n",
       "    <tr>\n",
       "      <th>32</th>\n",
       "      <td>Uttar Pradesh</td>\n",
       "      <td>10222.0</td>\n",
       "      <td>27223.0</td>\n",
       "      <td>57758.0</td>\n",
       "      <td>137.704900</td>\n",
       "    </tr>\n",
       "    <tr>\n",
       "      <th>33</th>\n",
       "      <td>Uttarakhand</td>\n",
       "      <td>2079.0</td>\n",
       "      <td>6712.0</td>\n",
       "      <td>6336.0</td>\n",
       "      <td>74.574312</td>\n",
       "    </tr>\n",
       "    <tr>\n",
       "      <th>34</th>\n",
       "      <td>West Bengal</td>\n",
       "      <td>2685.0</td>\n",
       "      <td>11011.0</td>\n",
       "      <td>16864.0</td>\n",
       "      <td>150.615629</td>\n",
       "    </tr>\n",
       "  </tbody>\n",
       "</table>\n",
       "</div>"
      ],
      "text/plain": [
       "fiscal_year                     state  EV_sold22  EV_sold23  EV_sold24  \\\n",
       "0                   Andaman & Nicobar        NaN        NaN        2.0   \n",
       "1            Andaman & Nicobar Island       22.0       23.0       33.0   \n",
       "2                      Andhra Pradesh    13928.0    30311.0    33183.0   \n",
       "3                   Arunachal Pradesh        0.0        2.0       31.0   \n",
       "4                               Assam      730.0     2191.0     3497.0   \n",
       "5                               Bihar     4829.0    11121.0    15069.0   \n",
       "6                          Chandigarh      411.0     1991.0     2877.0   \n",
       "7                        Chhattisgarh     4534.0    20730.0    28540.0   \n",
       "8                          DNH and DD       35.0      122.0      198.0   \n",
       "9                               Delhi    16535.0    44053.0    46724.0   \n",
       "10                                Goa     1778.0     7107.0    10799.0   \n",
       "11                            Gujarat    18026.0    79004.0    84359.0   \n",
       "12                            Haryana     5926.0    13078.0    11793.0   \n",
       "13                   Himachal Pradesh      443.0     1104.0     1048.0   \n",
       "14                  Jammu and Kashmir     1434.0     2254.0     2283.0   \n",
       "15                          Jharkhand     2713.0     7918.0     7830.0   \n",
       "16                          Karnataka    43111.0   108895.0   160989.0   \n",
       "17                             Kerala    13639.0    49483.0    73938.0   \n",
       "18                             Ladakh       12.0       25.0       31.0   \n",
       "19                     Madhya Pradesh     7916.0    27840.0    43223.0   \n",
       "20                        Maharashtra    48374.0   150502.0   197169.0   \n",
       "21                            Manipur       25.0      148.0      126.0   \n",
       "22                          Meghalaya        4.0       40.0      133.0   \n",
       "23                            Mizoram        0.0       65.0      275.0   \n",
       "24                           Nagaland        1.0        3.0        9.0   \n",
       "25                             Odisha     9498.0    29651.0    39118.0   \n",
       "26                         Puducherry      734.0     1704.0     3098.0   \n",
       "27                             Punjab     4528.0     8107.0    11198.0   \n",
       "28                          Rajasthan    20087.0    63835.0    66444.0   \n",
       "29                             Sikkim        0.0        0.0        0.0   \n",
       "30                         Tamil Nadu    36863.0    68885.0    94314.0   \n",
       "31                            Tripura       28.0      230.0      304.0   \n",
       "32                      Uttar Pradesh    10222.0    27223.0    57758.0   \n",
       "33                        Uttarakhand     2079.0     6712.0     6336.0   \n",
       "34                        West Bengal     2685.0    11011.0    16864.0   \n",
       "\n",
       "fiscal_year        CAGR  \n",
       "0                   NaN  \n",
       "1             22.474487  \n",
       "2             54.352421  \n",
       "3                   inf  \n",
       "4            118.870075  \n",
       "5             76.649989  \n",
       "6            164.575131  \n",
       "7            150.891661  \n",
       "8            137.847490  \n",
       "9             68.100075  \n",
       "10           146.448337  \n",
       "11           116.329640  \n",
       "12            41.068915  \n",
       "13            53.807948  \n",
       "14            26.176472  \n",
       "15            69.885371  \n",
       "16            93.243125  \n",
       "17           132.831955  \n",
       "18            60.727513  \n",
       "19           133.670862  \n",
       "20           101.889307  \n",
       "21           124.499443  \n",
       "22           476.628130  \n",
       "23                  inf  \n",
       "24           200.000000  \n",
       "25           102.942141  \n",
       "26           105.443628  \n",
       "27            57.259548  \n",
       "28            81.873885  \n",
       "29                  NaN  \n",
       "30            59.953130  \n",
       "31           229.501788  \n",
       "32           137.704900  \n",
       "33            74.574312  \n",
       "34           150.615629  "
      ]
     },
     "execution_count": 81,
     "metadata": {},
     "output_type": "execute_result"
    }
   ],
   "source": [
    "start_year=2022\n",
    "end_year=2024\n",
    "state_cpivot['CAGR']=(((state_cpivot['EV_sold24']/state_cpivot['EV_sold22'])**(1/(end_year-start_year)))-1)*100\n",
    "state_cpivot"
   ]
  },
  {
   "cell_type": "code",
   "execution_count": 82,
   "id": "fe17a535",
   "metadata": {},
   "outputs": [
    {
     "data": {
      "text/html": [
       "<div>\n",
       "<style scoped>\n",
       "    .dataframe tbody tr th:only-of-type {\n",
       "        vertical-align: middle;\n",
       "    }\n",
       "\n",
       "    .dataframe tbody tr th {\n",
       "        vertical-align: top;\n",
       "    }\n",
       "\n",
       "    .dataframe thead th {\n",
       "        text-align: right;\n",
       "    }\n",
       "</style>\n",
       "<table border=\"1\" class=\"dataframe\">\n",
       "  <thead>\n",
       "    <tr style=\"text-align: right;\">\n",
       "      <th>fiscal_year</th>\n",
       "      <th>state</th>\n",
       "      <th>EV_sold22</th>\n",
       "      <th>EV_sold23</th>\n",
       "      <th>EV_sold24</th>\n",
       "      <th>CAGR</th>\n",
       "    </tr>\n",
       "  </thead>\n",
       "  <tbody>\n",
       "    <tr>\n",
       "      <th>6</th>\n",
       "      <td>Chandigarh</td>\n",
       "      <td>411.0</td>\n",
       "      <td>1991.0</td>\n",
       "      <td>2877.0</td>\n",
       "      <td>164.575131</td>\n",
       "    </tr>\n",
       "    <tr>\n",
       "      <th>9</th>\n",
       "      <td>Delhi</td>\n",
       "      <td>16535.0</td>\n",
       "      <td>44053.0</td>\n",
       "      <td>46724.0</td>\n",
       "      <td>68.100075</td>\n",
       "    </tr>\n",
       "    <tr>\n",
       "      <th>10</th>\n",
       "      <td>Goa</td>\n",
       "      <td>1778.0</td>\n",
       "      <td>7107.0</td>\n",
       "      <td>10799.0</td>\n",
       "      <td>146.448337</td>\n",
       "    </tr>\n",
       "    <tr>\n",
       "      <th>11</th>\n",
       "      <td>Gujarat</td>\n",
       "      <td>18026.0</td>\n",
       "      <td>79004.0</td>\n",
       "      <td>84359.0</td>\n",
       "      <td>116.329640</td>\n",
       "    </tr>\n",
       "    <tr>\n",
       "      <th>16</th>\n",
       "      <td>Karnataka</td>\n",
       "      <td>43111.0</td>\n",
       "      <td>108895.0</td>\n",
       "      <td>160989.0</td>\n",
       "      <td>93.243125</td>\n",
       "    </tr>\n",
       "    <tr>\n",
       "      <th>17</th>\n",
       "      <td>Kerala</td>\n",
       "      <td>13639.0</td>\n",
       "      <td>49483.0</td>\n",
       "      <td>73938.0</td>\n",
       "      <td>132.831955</td>\n",
       "    </tr>\n",
       "    <tr>\n",
       "      <th>20</th>\n",
       "      <td>Maharashtra</td>\n",
       "      <td>48374.0</td>\n",
       "      <td>150502.0</td>\n",
       "      <td>197169.0</td>\n",
       "      <td>101.889307</td>\n",
       "    </tr>\n",
       "    <tr>\n",
       "      <th>25</th>\n",
       "      <td>Odisha</td>\n",
       "      <td>9498.0</td>\n",
       "      <td>29651.0</td>\n",
       "      <td>39118.0</td>\n",
       "      <td>102.942141</td>\n",
       "    </tr>\n",
       "    <tr>\n",
       "      <th>28</th>\n",
       "      <td>Rajasthan</td>\n",
       "      <td>20087.0</td>\n",
       "      <td>63835.0</td>\n",
       "      <td>66444.0</td>\n",
       "      <td>81.873885</td>\n",
       "    </tr>\n",
       "    <tr>\n",
       "      <th>30</th>\n",
       "      <td>Tamil Nadu</td>\n",
       "      <td>36863.0</td>\n",
       "      <td>68885.0</td>\n",
       "      <td>94314.0</td>\n",
       "      <td>59.953130</td>\n",
       "    </tr>\n",
       "  </tbody>\n",
       "</table>\n",
       "</div>"
      ],
      "text/plain": [
       "fiscal_year        state  EV_sold22  EV_sold23  EV_sold24        CAGR\n",
       "6             Chandigarh      411.0     1991.0     2877.0  164.575131\n",
       "9                  Delhi    16535.0    44053.0    46724.0   68.100075\n",
       "10                   Goa     1778.0     7107.0    10799.0  146.448337\n",
       "11               Gujarat    18026.0    79004.0    84359.0  116.329640\n",
       "16             Karnataka    43111.0   108895.0   160989.0   93.243125\n",
       "17                Kerala    13639.0    49483.0    73938.0  132.831955\n",
       "20           Maharashtra    48374.0   150502.0   197169.0  101.889307\n",
       "25                Odisha     9498.0    29651.0    39118.0  102.942141\n",
       "28             Rajasthan    20087.0    63835.0    66444.0   81.873885\n",
       "30            Tamil Nadu    36863.0    68885.0    94314.0   59.953130"
      ]
     },
     "execution_count": 82,
     "metadata": {},
     "output_type": "execute_result"
    }
   ],
   "source": [
    "state_top10c=state_cpivot[state_cpivot['state'].isin(state_top10['state'])]\n",
    "state_top10c"
   ]
  },
  {
   "cell_type": "code",
   "execution_count": 83,
   "id": "c8a69e0a",
   "metadata": {},
   "outputs": [
    {
     "data": {
      "text/html": [
       "<div>\n",
       "<style scoped>\n",
       "    .dataframe tbody tr th:only-of-type {\n",
       "        vertical-align: middle;\n",
       "    }\n",
       "\n",
       "    .dataframe tbody tr th {\n",
       "        vertical-align: top;\n",
       "    }\n",
       "\n",
       "    .dataframe thead th {\n",
       "        text-align: right;\n",
       "    }\n",
       "</style>\n",
       "<table border=\"1\" class=\"dataframe\">\n",
       "  <thead>\n",
       "    <tr style=\"text-align: right;\">\n",
       "      <th>fiscal_year</th>\n",
       "      <th>state</th>\n",
       "      <th>EV_sold22</th>\n",
       "      <th>EV_sold23</th>\n",
       "      <th>EV_sold24</th>\n",
       "      <th>CAGR</th>\n",
       "      <th>projected_sales2030</th>\n",
       "    </tr>\n",
       "  </thead>\n",
       "  <tbody>\n",
       "    <tr>\n",
       "      <th>6</th>\n",
       "      <td>Chandigarh</td>\n",
       "      <td>411.0</td>\n",
       "      <td>1991.0</td>\n",
       "      <td>2877.0</td>\n",
       "      <td>164.575131</td>\n",
       "      <td>986811</td>\n",
       "    </tr>\n",
       "    <tr>\n",
       "      <th>9</th>\n",
       "      <td>Delhi</td>\n",
       "      <td>16535.0</td>\n",
       "      <td>44053.0</td>\n",
       "      <td>46724.0</td>\n",
       "      <td>68.100075</td>\n",
       "      <td>1054259</td>\n",
       "    </tr>\n",
       "    <tr>\n",
       "      <th>10</th>\n",
       "      <td>Goa</td>\n",
       "      <td>1778.0</td>\n",
       "      <td>7107.0</td>\n",
       "      <td>10799.0</td>\n",
       "      <td>146.448337</td>\n",
       "      <td>2419574</td>\n",
       "    </tr>\n",
       "    <tr>\n",
       "      <th>11</th>\n",
       "      <td>Gujarat</td>\n",
       "      <td>18026.0</td>\n",
       "      <td>79004.0</td>\n",
       "      <td>84359.0</td>\n",
       "      <td>116.329640</td>\n",
       "      <td>8646246</td>\n",
       "    </tr>\n",
       "    <tr>\n",
       "      <th>16</th>\n",
       "      <td>Karnataka</td>\n",
       "      <td>43111.0</td>\n",
       "      <td>108895.0</td>\n",
       "      <td>160989.0</td>\n",
       "      <td>93.243125</td>\n",
       "      <td>8383406</td>\n",
       "    </tr>\n",
       "    <tr>\n",
       "      <th>17</th>\n",
       "      <td>Kerala</td>\n",
       "      <td>13639.0</td>\n",
       "      <td>49483.0</td>\n",
       "      <td>73938.0</td>\n",
       "      <td>132.831955</td>\n",
       "      <td>11779401</td>\n",
       "    </tr>\n",
       "    <tr>\n",
       "      <th>20</th>\n",
       "      <td>Maharashtra</td>\n",
       "      <td>48374.0</td>\n",
       "      <td>150502.0</td>\n",
       "      <td>197169.0</td>\n",
       "      <td>101.889307</td>\n",
       "      <td>13351146</td>\n",
       "    </tr>\n",
       "    <tr>\n",
       "      <th>25</th>\n",
       "      <td>Odisha</td>\n",
       "      <td>9498.0</td>\n",
       "      <td>29651.0</td>\n",
       "      <td>39118.0</td>\n",
       "      <td>102.942141</td>\n",
       "      <td>2732814</td>\n",
       "    </tr>\n",
       "    <tr>\n",
       "      <th>28</th>\n",
       "      <td>Rajasthan</td>\n",
       "      <td>20087.0</td>\n",
       "      <td>63835.0</td>\n",
       "      <td>66444.0</td>\n",
       "      <td>81.873885</td>\n",
       "      <td>2404794</td>\n",
       "    </tr>\n",
       "    <tr>\n",
       "      <th>30</th>\n",
       "      <td>Tamil Nadu</td>\n",
       "      <td>36863.0</td>\n",
       "      <td>68885.0</td>\n",
       "      <td>94314.0</td>\n",
       "      <td>59.953130</td>\n",
       "      <td>1579547</td>\n",
       "    </tr>\n",
       "  </tbody>\n",
       "</table>\n",
       "</div>"
      ],
      "text/plain": [
       "fiscal_year        state  EV_sold22  EV_sold23  EV_sold24        CAGR  \\\n",
       "6             Chandigarh      411.0     1991.0     2877.0  164.575131   \n",
       "9                  Delhi    16535.0    44053.0    46724.0   68.100075   \n",
       "10                   Goa     1778.0     7107.0    10799.0  146.448337   \n",
       "11               Gujarat    18026.0    79004.0    84359.0  116.329640   \n",
       "16             Karnataka    43111.0   108895.0   160989.0   93.243125   \n",
       "17                Kerala    13639.0    49483.0    73938.0  132.831955   \n",
       "20           Maharashtra    48374.0   150502.0   197169.0  101.889307   \n",
       "25                Odisha     9498.0    29651.0    39118.0  102.942141   \n",
       "28             Rajasthan    20087.0    63835.0    66444.0   81.873885   \n",
       "30            Tamil Nadu    36863.0    68885.0    94314.0   59.953130   \n",
       "\n",
       "fiscal_year  projected_sales2030  \n",
       "6                         986811  \n",
       "9                        1054259  \n",
       "10                       2419574  \n",
       "11                       8646246  \n",
       "16                       8383406  \n",
       "17                      11779401  \n",
       "20                      13351146  \n",
       "25                       2732814  \n",
       "28                       2404794  \n",
       "30                       1579547  "
      ]
     },
     "execution_count": 83,
     "metadata": {},
     "output_type": "execute_result"
    }
   ],
   "source": [
    "projected_years=2030-2024\n",
    "state_top10c['projected_sales2030']=state_top10c['EV_sold24']*(1+(state_top10c['CAGR']/100))**projected_years\n",
    "state_top10c['projected_sales2030'] = state_top10c['projected_sales2030'].apply(lambda x: int(round(x)))\n",
    "state_top10c"
   ]
  },
  {
   "cell_type": "code",
   "execution_count": 88,
   "id": "32e1eae9",
   "metadata": {},
   "outputs": [
    {
     "data": {
      "text/html": [
       "<div>\n",
       "<style scoped>\n",
       "    .dataframe tbody tr th:only-of-type {\n",
       "        vertical-align: middle;\n",
       "    }\n",
       "\n",
       "    .dataframe tbody tr th {\n",
       "        vertical-align: top;\n",
       "    }\n",
       "\n",
       "    .dataframe thead th {\n",
       "        text-align: right;\n",
       "    }\n",
       "</style>\n",
       "<table border=\"1\" class=\"dataframe\">\n",
       "  <thead>\n",
       "    <tr style=\"text-align: right;\">\n",
       "      <th></th>\n",
       "      <th>state</th>\n",
       "      <th>year</th>\n",
       "      <th>Sales</th>\n",
       "    </tr>\n",
       "  </thead>\n",
       "  <tbody>\n",
       "    <tr>\n",
       "      <th>0</th>\n",
       "      <td>Chandigarh</td>\n",
       "      <td>EV_sold24</td>\n",
       "      <td>2877.0</td>\n",
       "    </tr>\n",
       "    <tr>\n",
       "      <th>1</th>\n",
       "      <td>Delhi</td>\n",
       "      <td>EV_sold24</td>\n",
       "      <td>46724.0</td>\n",
       "    </tr>\n",
       "    <tr>\n",
       "      <th>2</th>\n",
       "      <td>Goa</td>\n",
       "      <td>EV_sold24</td>\n",
       "      <td>10799.0</td>\n",
       "    </tr>\n",
       "    <tr>\n",
       "      <th>3</th>\n",
       "      <td>Gujarat</td>\n",
       "      <td>EV_sold24</td>\n",
       "      <td>84359.0</td>\n",
       "    </tr>\n",
       "    <tr>\n",
       "      <th>4</th>\n",
       "      <td>Karnataka</td>\n",
       "      <td>EV_sold24</td>\n",
       "      <td>160989.0</td>\n",
       "    </tr>\n",
       "    <tr>\n",
       "      <th>5</th>\n",
       "      <td>Kerala</td>\n",
       "      <td>EV_sold24</td>\n",
       "      <td>73938.0</td>\n",
       "    </tr>\n",
       "    <tr>\n",
       "      <th>6</th>\n",
       "      <td>Maharashtra</td>\n",
       "      <td>EV_sold24</td>\n",
       "      <td>197169.0</td>\n",
       "    </tr>\n",
       "    <tr>\n",
       "      <th>7</th>\n",
       "      <td>Odisha</td>\n",
       "      <td>EV_sold24</td>\n",
       "      <td>39118.0</td>\n",
       "    </tr>\n",
       "    <tr>\n",
       "      <th>8</th>\n",
       "      <td>Rajasthan</td>\n",
       "      <td>EV_sold24</td>\n",
       "      <td>66444.0</td>\n",
       "    </tr>\n",
       "    <tr>\n",
       "      <th>9</th>\n",
       "      <td>Tamil Nadu</td>\n",
       "      <td>EV_sold24</td>\n",
       "      <td>94314.0</td>\n",
       "    </tr>\n",
       "    <tr>\n",
       "      <th>10</th>\n",
       "      <td>Chandigarh</td>\n",
       "      <td>projected_sales2030</td>\n",
       "      <td>986811.0</td>\n",
       "    </tr>\n",
       "    <tr>\n",
       "      <th>11</th>\n",
       "      <td>Delhi</td>\n",
       "      <td>projected_sales2030</td>\n",
       "      <td>1054259.0</td>\n",
       "    </tr>\n",
       "    <tr>\n",
       "      <th>12</th>\n",
       "      <td>Goa</td>\n",
       "      <td>projected_sales2030</td>\n",
       "      <td>2419574.0</td>\n",
       "    </tr>\n",
       "    <tr>\n",
       "      <th>13</th>\n",
       "      <td>Gujarat</td>\n",
       "      <td>projected_sales2030</td>\n",
       "      <td>8646246.0</td>\n",
       "    </tr>\n",
       "    <tr>\n",
       "      <th>14</th>\n",
       "      <td>Karnataka</td>\n",
       "      <td>projected_sales2030</td>\n",
       "      <td>8383406.0</td>\n",
       "    </tr>\n",
       "    <tr>\n",
       "      <th>15</th>\n",
       "      <td>Kerala</td>\n",
       "      <td>projected_sales2030</td>\n",
       "      <td>11779401.0</td>\n",
       "    </tr>\n",
       "    <tr>\n",
       "      <th>16</th>\n",
       "      <td>Maharashtra</td>\n",
       "      <td>projected_sales2030</td>\n",
       "      <td>13351146.0</td>\n",
       "    </tr>\n",
       "    <tr>\n",
       "      <th>17</th>\n",
       "      <td>Odisha</td>\n",
       "      <td>projected_sales2030</td>\n",
       "      <td>2732814.0</td>\n",
       "    </tr>\n",
       "    <tr>\n",
       "      <th>18</th>\n",
       "      <td>Rajasthan</td>\n",
       "      <td>projected_sales2030</td>\n",
       "      <td>2404794.0</td>\n",
       "    </tr>\n",
       "    <tr>\n",
       "      <th>19</th>\n",
       "      <td>Tamil Nadu</td>\n",
       "      <td>projected_sales2030</td>\n",
       "      <td>1579547.0</td>\n",
       "    </tr>\n",
       "  </tbody>\n",
       "</table>\n",
       "</div>"
      ],
      "text/plain": [
       "          state                 year       Sales\n",
       "0    Chandigarh            EV_sold24      2877.0\n",
       "1         Delhi            EV_sold24     46724.0\n",
       "2           Goa            EV_sold24     10799.0\n",
       "3       Gujarat            EV_sold24     84359.0\n",
       "4     Karnataka            EV_sold24    160989.0\n",
       "5        Kerala            EV_sold24     73938.0\n",
       "6   Maharashtra            EV_sold24    197169.0\n",
       "7        Odisha            EV_sold24     39118.0\n",
       "8     Rajasthan            EV_sold24     66444.0\n",
       "9    Tamil Nadu            EV_sold24     94314.0\n",
       "10   Chandigarh  projected_sales2030    986811.0\n",
       "11        Delhi  projected_sales2030   1054259.0\n",
       "12          Goa  projected_sales2030   2419574.0\n",
       "13      Gujarat  projected_sales2030   8646246.0\n",
       "14    Karnataka  projected_sales2030   8383406.0\n",
       "15       Kerala  projected_sales2030  11779401.0\n",
       "16  Maharashtra  projected_sales2030  13351146.0\n",
       "17       Odisha  projected_sales2030   2732814.0\n",
       "18    Rajasthan  projected_sales2030   2404794.0\n",
       "19   Tamil Nadu  projected_sales2030   1579547.0"
      ]
     },
     "execution_count": 88,
     "metadata": {},
     "output_type": "execute_result"
    }
   ],
   "source": [
    "state_melt=state_top10c.melt(id_vars='state', value_vars=['EV_sold24', 'projected_sales2030'],var_name='year', value_name='Sales')\n",
    "state_melt"
   ]
  },
  {
   "cell_type": "code",
   "execution_count": 96,
   "id": "a3f9b117",
   "metadata": {},
   "outputs": [
    {
     "data": {
      "application/vnd.plotly.v1+json": {
       "config": {
        "plotlyServerURL": "https://plot.ly"
       },
       "data": [
        {
         "alignmentgroup": "True",
         "hovertemplate": "year=EV_sold24<br>state=%{x}<br>Sales=%{y}<extra></extra>",
         "legendgroup": "EV_sold24",
         "marker": {
          "color": "#636efa",
          "pattern": {
           "shape": ""
          }
         },
         "name": "EV_sold24",
         "offsetgroup": "EV_sold24",
         "orientation": "v",
         "showlegend": true,
         "textposition": "auto",
         "texttemplate": "%{y}",
         "type": "bar",
         "x": [
          "Chandigarh",
          "Delhi",
          "Goa",
          "Gujarat",
          "Karnataka",
          "Kerala",
          "Maharashtra",
          "Odisha",
          "Rajasthan",
          "Tamil Nadu"
         ],
         "xaxis": "x",
         "y": [
          2877,
          46724,
          10799,
          84359,
          160989,
          73938,
          197169,
          39118,
          66444,
          94314
         ],
         "yaxis": "y"
        },
        {
         "alignmentgroup": "True",
         "hovertemplate": "year=projected_sales2030<br>state=%{x}<br>Sales=%{y}<extra></extra>",
         "legendgroup": "projected_sales2030",
         "marker": {
          "color": "#EF553B",
          "pattern": {
           "shape": ""
          }
         },
         "name": "projected_sales2030",
         "offsetgroup": "projected_sales2030",
         "orientation": "v",
         "showlegend": true,
         "textposition": "auto",
         "texttemplate": "%{y}",
         "type": "bar",
         "x": [
          "Chandigarh",
          "Delhi",
          "Goa",
          "Gujarat",
          "Karnataka",
          "Kerala",
          "Maharashtra",
          "Odisha",
          "Rajasthan",
          "Tamil Nadu"
         ],
         "xaxis": "x",
         "y": [
          986811,
          1054259,
          2419574,
          8646246,
          8383406,
          11779401,
          13351146,
          2732814,
          2404794,
          1579547
         ],
         "yaxis": "y"
        }
       ],
       "layout": {
        "barmode": "group",
        "legend": {
         "title": {
          "text": "year"
         },
         "tracegroupgap": 0
        },
        "template": {
         "data": {
          "bar": [
           {
            "error_x": {
             "color": "#2a3f5f"
            },
            "error_y": {
             "color": "#2a3f5f"
            },
            "marker": {
             "line": {
              "color": "#E5ECF6",
              "width": 0.5
             },
             "pattern": {
              "fillmode": "overlay",
              "size": 10,
              "solidity": 0.2
             }
            },
            "type": "bar"
           }
          ],
          "barpolar": [
           {
            "marker": {
             "line": {
              "color": "#E5ECF6",
              "width": 0.5
             },
             "pattern": {
              "fillmode": "overlay",
              "size": 10,
              "solidity": 0.2
             }
            },
            "type": "barpolar"
           }
          ],
          "carpet": [
           {
            "aaxis": {
             "endlinecolor": "#2a3f5f",
             "gridcolor": "white",
             "linecolor": "white",
             "minorgridcolor": "white",
             "startlinecolor": "#2a3f5f"
            },
            "baxis": {
             "endlinecolor": "#2a3f5f",
             "gridcolor": "white",
             "linecolor": "white",
             "minorgridcolor": "white",
             "startlinecolor": "#2a3f5f"
            },
            "type": "carpet"
           }
          ],
          "choropleth": [
           {
            "colorbar": {
             "outlinewidth": 0,
             "ticks": ""
            },
            "type": "choropleth"
           }
          ],
          "contour": [
           {
            "colorbar": {
             "outlinewidth": 0,
             "ticks": ""
            },
            "colorscale": [
             [
              0,
              "#0d0887"
             ],
             [
              0.1111111111111111,
              "#46039f"
             ],
             [
              0.2222222222222222,
              "#7201a8"
             ],
             [
              0.3333333333333333,
              "#9c179e"
             ],
             [
              0.4444444444444444,
              "#bd3786"
             ],
             [
              0.5555555555555556,
              "#d8576b"
             ],
             [
              0.6666666666666666,
              "#ed7953"
             ],
             [
              0.7777777777777778,
              "#fb9f3a"
             ],
             [
              0.8888888888888888,
              "#fdca26"
             ],
             [
              1,
              "#f0f921"
             ]
            ],
            "type": "contour"
           }
          ],
          "contourcarpet": [
           {
            "colorbar": {
             "outlinewidth": 0,
             "ticks": ""
            },
            "type": "contourcarpet"
           }
          ],
          "heatmap": [
           {
            "colorbar": {
             "outlinewidth": 0,
             "ticks": ""
            },
            "colorscale": [
             [
              0,
              "#0d0887"
             ],
             [
              0.1111111111111111,
              "#46039f"
             ],
             [
              0.2222222222222222,
              "#7201a8"
             ],
             [
              0.3333333333333333,
              "#9c179e"
             ],
             [
              0.4444444444444444,
              "#bd3786"
             ],
             [
              0.5555555555555556,
              "#d8576b"
             ],
             [
              0.6666666666666666,
              "#ed7953"
             ],
             [
              0.7777777777777778,
              "#fb9f3a"
             ],
             [
              0.8888888888888888,
              "#fdca26"
             ],
             [
              1,
              "#f0f921"
             ]
            ],
            "type": "heatmap"
           }
          ],
          "heatmapgl": [
           {
            "colorbar": {
             "outlinewidth": 0,
             "ticks": ""
            },
            "colorscale": [
             [
              0,
              "#0d0887"
             ],
             [
              0.1111111111111111,
              "#46039f"
             ],
             [
              0.2222222222222222,
              "#7201a8"
             ],
             [
              0.3333333333333333,
              "#9c179e"
             ],
             [
              0.4444444444444444,
              "#bd3786"
             ],
             [
              0.5555555555555556,
              "#d8576b"
             ],
             [
              0.6666666666666666,
              "#ed7953"
             ],
             [
              0.7777777777777778,
              "#fb9f3a"
             ],
             [
              0.8888888888888888,
              "#fdca26"
             ],
             [
              1,
              "#f0f921"
             ]
            ],
            "type": "heatmapgl"
           }
          ],
          "histogram": [
           {
            "marker": {
             "pattern": {
              "fillmode": "overlay",
              "size": 10,
              "solidity": 0.2
             }
            },
            "type": "histogram"
           }
          ],
          "histogram2d": [
           {
            "colorbar": {
             "outlinewidth": 0,
             "ticks": ""
            },
            "colorscale": [
             [
              0,
              "#0d0887"
             ],
             [
              0.1111111111111111,
              "#46039f"
             ],
             [
              0.2222222222222222,
              "#7201a8"
             ],
             [
              0.3333333333333333,
              "#9c179e"
             ],
             [
              0.4444444444444444,
              "#bd3786"
             ],
             [
              0.5555555555555556,
              "#d8576b"
             ],
             [
              0.6666666666666666,
              "#ed7953"
             ],
             [
              0.7777777777777778,
              "#fb9f3a"
             ],
             [
              0.8888888888888888,
              "#fdca26"
             ],
             [
              1,
              "#f0f921"
             ]
            ],
            "type": "histogram2d"
           }
          ],
          "histogram2dcontour": [
           {
            "colorbar": {
             "outlinewidth": 0,
             "ticks": ""
            },
            "colorscale": [
             [
              0,
              "#0d0887"
             ],
             [
              0.1111111111111111,
              "#46039f"
             ],
             [
              0.2222222222222222,
              "#7201a8"
             ],
             [
              0.3333333333333333,
              "#9c179e"
             ],
             [
              0.4444444444444444,
              "#bd3786"
             ],
             [
              0.5555555555555556,
              "#d8576b"
             ],
             [
              0.6666666666666666,
              "#ed7953"
             ],
             [
              0.7777777777777778,
              "#fb9f3a"
             ],
             [
              0.8888888888888888,
              "#fdca26"
             ],
             [
              1,
              "#f0f921"
             ]
            ],
            "type": "histogram2dcontour"
           }
          ],
          "mesh3d": [
           {
            "colorbar": {
             "outlinewidth": 0,
             "ticks": ""
            },
            "type": "mesh3d"
           }
          ],
          "parcoords": [
           {
            "line": {
             "colorbar": {
              "outlinewidth": 0,
              "ticks": ""
             }
            },
            "type": "parcoords"
           }
          ],
          "pie": [
           {
            "automargin": true,
            "type": "pie"
           }
          ],
          "scatter": [
           {
            "fillpattern": {
             "fillmode": "overlay",
             "size": 10,
             "solidity": 0.2
            },
            "type": "scatter"
           }
          ],
          "scatter3d": [
           {
            "line": {
             "colorbar": {
              "outlinewidth": 0,
              "ticks": ""
             }
            },
            "marker": {
             "colorbar": {
              "outlinewidth": 0,
              "ticks": ""
             }
            },
            "type": "scatter3d"
           }
          ],
          "scattercarpet": [
           {
            "marker": {
             "colorbar": {
              "outlinewidth": 0,
              "ticks": ""
             }
            },
            "type": "scattercarpet"
           }
          ],
          "scattergeo": [
           {
            "marker": {
             "colorbar": {
              "outlinewidth": 0,
              "ticks": ""
             }
            },
            "type": "scattergeo"
           }
          ],
          "scattergl": [
           {
            "marker": {
             "colorbar": {
              "outlinewidth": 0,
              "ticks": ""
             }
            },
            "type": "scattergl"
           }
          ],
          "scattermapbox": [
           {
            "marker": {
             "colorbar": {
              "outlinewidth": 0,
              "ticks": ""
             }
            },
            "type": "scattermapbox"
           }
          ],
          "scatterpolar": [
           {
            "marker": {
             "colorbar": {
              "outlinewidth": 0,
              "ticks": ""
             }
            },
            "type": "scatterpolar"
           }
          ],
          "scatterpolargl": [
           {
            "marker": {
             "colorbar": {
              "outlinewidth": 0,
              "ticks": ""
             }
            },
            "type": "scatterpolargl"
           }
          ],
          "scatterternary": [
           {
            "marker": {
             "colorbar": {
              "outlinewidth": 0,
              "ticks": ""
             }
            },
            "type": "scatterternary"
           }
          ],
          "surface": [
           {
            "colorbar": {
             "outlinewidth": 0,
             "ticks": ""
            },
            "colorscale": [
             [
              0,
              "#0d0887"
             ],
             [
              0.1111111111111111,
              "#46039f"
             ],
             [
              0.2222222222222222,
              "#7201a8"
             ],
             [
              0.3333333333333333,
              "#9c179e"
             ],
             [
              0.4444444444444444,
              "#bd3786"
             ],
             [
              0.5555555555555556,
              "#d8576b"
             ],
             [
              0.6666666666666666,
              "#ed7953"
             ],
             [
              0.7777777777777778,
              "#fb9f3a"
             ],
             [
              0.8888888888888888,
              "#fdca26"
             ],
             [
              1,
              "#f0f921"
             ]
            ],
            "type": "surface"
           }
          ],
          "table": [
           {
            "cells": {
             "fill": {
              "color": "#EBF0F8"
             },
             "line": {
              "color": "white"
             }
            },
            "header": {
             "fill": {
              "color": "#C8D4E3"
             },
             "line": {
              "color": "white"
             }
            },
            "type": "table"
           }
          ]
         },
         "layout": {
          "annotationdefaults": {
           "arrowcolor": "#2a3f5f",
           "arrowhead": 0,
           "arrowwidth": 1
          },
          "autotypenumbers": "strict",
          "coloraxis": {
           "colorbar": {
            "outlinewidth": 0,
            "ticks": ""
           }
          },
          "colorscale": {
           "diverging": [
            [
             0,
             "#8e0152"
            ],
            [
             0.1,
             "#c51b7d"
            ],
            [
             0.2,
             "#de77ae"
            ],
            [
             0.3,
             "#f1b6da"
            ],
            [
             0.4,
             "#fde0ef"
            ],
            [
             0.5,
             "#f7f7f7"
            ],
            [
             0.6,
             "#e6f5d0"
            ],
            [
             0.7,
             "#b8e186"
            ],
            [
             0.8,
             "#7fbc41"
            ],
            [
             0.9,
             "#4d9221"
            ],
            [
             1,
             "#276419"
            ]
           ],
           "sequential": [
            [
             0,
             "#0d0887"
            ],
            [
             0.1111111111111111,
             "#46039f"
            ],
            [
             0.2222222222222222,
             "#7201a8"
            ],
            [
             0.3333333333333333,
             "#9c179e"
            ],
            [
             0.4444444444444444,
             "#bd3786"
            ],
            [
             0.5555555555555556,
             "#d8576b"
            ],
            [
             0.6666666666666666,
             "#ed7953"
            ],
            [
             0.7777777777777778,
             "#fb9f3a"
            ],
            [
             0.8888888888888888,
             "#fdca26"
            ],
            [
             1,
             "#f0f921"
            ]
           ],
           "sequentialminus": [
            [
             0,
             "#0d0887"
            ],
            [
             0.1111111111111111,
             "#46039f"
            ],
            [
             0.2222222222222222,
             "#7201a8"
            ],
            [
             0.3333333333333333,
             "#9c179e"
            ],
            [
             0.4444444444444444,
             "#bd3786"
            ],
            [
             0.5555555555555556,
             "#d8576b"
            ],
            [
             0.6666666666666666,
             "#ed7953"
            ],
            [
             0.7777777777777778,
             "#fb9f3a"
            ],
            [
             0.8888888888888888,
             "#fdca26"
            ],
            [
             1,
             "#f0f921"
            ]
           ]
          },
          "colorway": [
           "#636efa",
           "#EF553B",
           "#00cc96",
           "#ab63fa",
           "#FFA15A",
           "#19d3f3",
           "#FF6692",
           "#B6E880",
           "#FF97FF",
           "#FECB52"
          ],
          "font": {
           "color": "#2a3f5f"
          },
          "geo": {
           "bgcolor": "white",
           "lakecolor": "white",
           "landcolor": "#E5ECF6",
           "showlakes": true,
           "showland": true,
           "subunitcolor": "white"
          },
          "hoverlabel": {
           "align": "left"
          },
          "hovermode": "closest",
          "mapbox": {
           "style": "light"
          },
          "paper_bgcolor": "white",
          "plot_bgcolor": "#E5ECF6",
          "polar": {
           "angularaxis": {
            "gridcolor": "white",
            "linecolor": "white",
            "ticks": ""
           },
           "bgcolor": "#E5ECF6",
           "radialaxis": {
            "gridcolor": "white",
            "linecolor": "white",
            "ticks": ""
           }
          },
          "scene": {
           "xaxis": {
            "backgroundcolor": "#E5ECF6",
            "gridcolor": "white",
            "gridwidth": 2,
            "linecolor": "white",
            "showbackground": true,
            "ticks": "",
            "zerolinecolor": "white"
           },
           "yaxis": {
            "backgroundcolor": "#E5ECF6",
            "gridcolor": "white",
            "gridwidth": 2,
            "linecolor": "white",
            "showbackground": true,
            "ticks": "",
            "zerolinecolor": "white"
           },
           "zaxis": {
            "backgroundcolor": "#E5ECF6",
            "gridcolor": "white",
            "gridwidth": 2,
            "linecolor": "white",
            "showbackground": true,
            "ticks": "",
            "zerolinecolor": "white"
           }
          },
          "shapedefaults": {
           "line": {
            "color": "#2a3f5f"
           }
          },
          "ternary": {
           "aaxis": {
            "gridcolor": "white",
            "linecolor": "white",
            "ticks": ""
           },
           "baxis": {
            "gridcolor": "white",
            "linecolor": "white",
            "ticks": ""
           },
           "bgcolor": "#E5ECF6",
           "caxis": {
            "gridcolor": "white",
            "linecolor": "white",
            "ticks": ""
           }
          },
          "title": {
           "x": 0.05
          },
          "xaxis": {
           "automargin": true,
           "gridcolor": "white",
           "linecolor": "white",
           "ticks": "",
           "title": {
            "standoff": 15
           },
           "zerolinecolor": "white",
           "zerolinewidth": 2
          },
          "yaxis": {
           "automargin": true,
           "gridcolor": "white",
           "linecolor": "white",
           "ticks": "",
           "title": {
            "standoff": 15
           },
           "zerolinecolor": "white",
           "zerolinewidth": 2
          }
         }
        },
        "title": {
         "text": "Top 10 states current sales vs projected sales"
        },
        "xaxis": {
         "anchor": "y",
         "domain": [
          0,
          1
         ],
         "title": {
          "text": "state"
         }
        },
        "yaxis": {
         "anchor": "x",
         "domain": [
          0,
          1
         ],
         "title": {
          "text": "Sales"
         }
        }
       }
      },
      "text/html": [
       "<div>                            <div id=\"a7ead5a7-18c4-4584-bfb4-1fa600eadc40\" class=\"plotly-graph-div\" style=\"height:525px; width:100%;\"></div>            <script type=\"text/javascript\">                require([\"plotly\"], function(Plotly) {                    window.PLOTLYENV=window.PLOTLYENV || {};                                    if (document.getElementById(\"a7ead5a7-18c4-4584-bfb4-1fa600eadc40\")) {                    Plotly.newPlot(                        \"a7ead5a7-18c4-4584-bfb4-1fa600eadc40\",                        [{\"alignmentgroup\":\"True\",\"hovertemplate\":\"year=EV_sold24<br>state=%{x}<br>Sales=%{y}<extra></extra>\",\"legendgroup\":\"EV_sold24\",\"marker\":{\"color\":\"#636efa\",\"pattern\":{\"shape\":\"\"}},\"name\":\"EV_sold24\",\"offsetgroup\":\"EV_sold24\",\"orientation\":\"v\",\"showlegend\":true,\"textposition\":\"auto\",\"texttemplate\":\"%{y}\",\"x\":[\"Chandigarh\",\"Delhi\",\"Goa\",\"Gujarat\",\"Karnataka\",\"Kerala\",\"Maharashtra\",\"Odisha\",\"Rajasthan\",\"Tamil Nadu\"],\"xaxis\":\"x\",\"y\":[2877.0,46724.0,10799.0,84359.0,160989.0,73938.0,197169.0,39118.0,66444.0,94314.0],\"yaxis\":\"y\",\"type\":\"bar\"},{\"alignmentgroup\":\"True\",\"hovertemplate\":\"year=projected_sales2030<br>state=%{x}<br>Sales=%{y}<extra></extra>\",\"legendgroup\":\"projected_sales2030\",\"marker\":{\"color\":\"#EF553B\",\"pattern\":{\"shape\":\"\"}},\"name\":\"projected_sales2030\",\"offsetgroup\":\"projected_sales2030\",\"orientation\":\"v\",\"showlegend\":true,\"textposition\":\"auto\",\"texttemplate\":\"%{y}\",\"x\":[\"Chandigarh\",\"Delhi\",\"Goa\",\"Gujarat\",\"Karnataka\",\"Kerala\",\"Maharashtra\",\"Odisha\",\"Rajasthan\",\"Tamil Nadu\"],\"xaxis\":\"x\",\"y\":[986811.0,1054259.0,2419574.0,8646246.0,8383406.0,11779401.0,13351146.0,2732814.0,2404794.0,1579547.0],\"yaxis\":\"y\",\"type\":\"bar\"}],                        {\"template\":{\"data\":{\"histogram2dcontour\":[{\"type\":\"histogram2dcontour\",\"colorbar\":{\"outlinewidth\":0,\"ticks\":\"\"},\"colorscale\":[[0.0,\"#0d0887\"],[0.1111111111111111,\"#46039f\"],[0.2222222222222222,\"#7201a8\"],[0.3333333333333333,\"#9c179e\"],[0.4444444444444444,\"#bd3786\"],[0.5555555555555556,\"#d8576b\"],[0.6666666666666666,\"#ed7953\"],[0.7777777777777778,\"#fb9f3a\"],[0.8888888888888888,\"#fdca26\"],[1.0,\"#f0f921\"]]}],\"choropleth\":[{\"type\":\"choropleth\",\"colorbar\":{\"outlinewidth\":0,\"ticks\":\"\"}}],\"histogram2d\":[{\"type\":\"histogram2d\",\"colorbar\":{\"outlinewidth\":0,\"ticks\":\"\"},\"colorscale\":[[0.0,\"#0d0887\"],[0.1111111111111111,\"#46039f\"],[0.2222222222222222,\"#7201a8\"],[0.3333333333333333,\"#9c179e\"],[0.4444444444444444,\"#bd3786\"],[0.5555555555555556,\"#d8576b\"],[0.6666666666666666,\"#ed7953\"],[0.7777777777777778,\"#fb9f3a\"],[0.8888888888888888,\"#fdca26\"],[1.0,\"#f0f921\"]]}],\"heatmap\":[{\"type\":\"heatmap\",\"colorbar\":{\"outlinewidth\":0,\"ticks\":\"\"},\"colorscale\":[[0.0,\"#0d0887\"],[0.1111111111111111,\"#46039f\"],[0.2222222222222222,\"#7201a8\"],[0.3333333333333333,\"#9c179e\"],[0.4444444444444444,\"#bd3786\"],[0.5555555555555556,\"#d8576b\"],[0.6666666666666666,\"#ed7953\"],[0.7777777777777778,\"#fb9f3a\"],[0.8888888888888888,\"#fdca26\"],[1.0,\"#f0f921\"]]}],\"heatmapgl\":[{\"type\":\"heatmapgl\",\"colorbar\":{\"outlinewidth\":0,\"ticks\":\"\"},\"colorscale\":[[0.0,\"#0d0887\"],[0.1111111111111111,\"#46039f\"],[0.2222222222222222,\"#7201a8\"],[0.3333333333333333,\"#9c179e\"],[0.4444444444444444,\"#bd3786\"],[0.5555555555555556,\"#d8576b\"],[0.6666666666666666,\"#ed7953\"],[0.7777777777777778,\"#fb9f3a\"],[0.8888888888888888,\"#fdca26\"],[1.0,\"#f0f921\"]]}],\"contourcarpet\":[{\"type\":\"contourcarpet\",\"colorbar\":{\"outlinewidth\":0,\"ticks\":\"\"}}],\"contour\":[{\"type\":\"contour\",\"colorbar\":{\"outlinewidth\":0,\"ticks\":\"\"},\"colorscale\":[[0.0,\"#0d0887\"],[0.1111111111111111,\"#46039f\"],[0.2222222222222222,\"#7201a8\"],[0.3333333333333333,\"#9c179e\"],[0.4444444444444444,\"#bd3786\"],[0.5555555555555556,\"#d8576b\"],[0.6666666666666666,\"#ed7953\"],[0.7777777777777778,\"#fb9f3a\"],[0.8888888888888888,\"#fdca26\"],[1.0,\"#f0f921\"]]}],\"surface\":[{\"type\":\"surface\",\"colorbar\":{\"outlinewidth\":0,\"ticks\":\"\"},\"colorscale\":[[0.0,\"#0d0887\"],[0.1111111111111111,\"#46039f\"],[0.2222222222222222,\"#7201a8\"],[0.3333333333333333,\"#9c179e\"],[0.4444444444444444,\"#bd3786\"],[0.5555555555555556,\"#d8576b\"],[0.6666666666666666,\"#ed7953\"],[0.7777777777777778,\"#fb9f3a\"],[0.8888888888888888,\"#fdca26\"],[1.0,\"#f0f921\"]]}],\"mesh3d\":[{\"type\":\"mesh3d\",\"colorbar\":{\"outlinewidth\":0,\"ticks\":\"\"}}],\"scatter\":[{\"fillpattern\":{\"fillmode\":\"overlay\",\"size\":10,\"solidity\":0.2},\"type\":\"scatter\"}],\"parcoords\":[{\"type\":\"parcoords\",\"line\":{\"colorbar\":{\"outlinewidth\":0,\"ticks\":\"\"}}}],\"scatterpolargl\":[{\"type\":\"scatterpolargl\",\"marker\":{\"colorbar\":{\"outlinewidth\":0,\"ticks\":\"\"}}}],\"bar\":[{\"error_x\":{\"color\":\"#2a3f5f\"},\"error_y\":{\"color\":\"#2a3f5f\"},\"marker\":{\"line\":{\"color\":\"#E5ECF6\",\"width\":0.5},\"pattern\":{\"fillmode\":\"overlay\",\"size\":10,\"solidity\":0.2}},\"type\":\"bar\"}],\"scattergeo\":[{\"type\":\"scattergeo\",\"marker\":{\"colorbar\":{\"outlinewidth\":0,\"ticks\":\"\"}}}],\"scatterpolar\":[{\"type\":\"scatterpolar\",\"marker\":{\"colorbar\":{\"outlinewidth\":0,\"ticks\":\"\"}}}],\"histogram\":[{\"marker\":{\"pattern\":{\"fillmode\":\"overlay\",\"size\":10,\"solidity\":0.2}},\"type\":\"histogram\"}],\"scattergl\":[{\"type\":\"scattergl\",\"marker\":{\"colorbar\":{\"outlinewidth\":0,\"ticks\":\"\"}}}],\"scatter3d\":[{\"type\":\"scatter3d\",\"line\":{\"colorbar\":{\"outlinewidth\":0,\"ticks\":\"\"}},\"marker\":{\"colorbar\":{\"outlinewidth\":0,\"ticks\":\"\"}}}],\"scattermapbox\":[{\"type\":\"scattermapbox\",\"marker\":{\"colorbar\":{\"outlinewidth\":0,\"ticks\":\"\"}}}],\"scatterternary\":[{\"type\":\"scatterternary\",\"marker\":{\"colorbar\":{\"outlinewidth\":0,\"ticks\":\"\"}}}],\"scattercarpet\":[{\"type\":\"scattercarpet\",\"marker\":{\"colorbar\":{\"outlinewidth\":0,\"ticks\":\"\"}}}],\"carpet\":[{\"aaxis\":{\"endlinecolor\":\"#2a3f5f\",\"gridcolor\":\"white\",\"linecolor\":\"white\",\"minorgridcolor\":\"white\",\"startlinecolor\":\"#2a3f5f\"},\"baxis\":{\"endlinecolor\":\"#2a3f5f\",\"gridcolor\":\"white\",\"linecolor\":\"white\",\"minorgridcolor\":\"white\",\"startlinecolor\":\"#2a3f5f\"},\"type\":\"carpet\"}],\"table\":[{\"cells\":{\"fill\":{\"color\":\"#EBF0F8\"},\"line\":{\"color\":\"white\"}},\"header\":{\"fill\":{\"color\":\"#C8D4E3\"},\"line\":{\"color\":\"white\"}},\"type\":\"table\"}],\"barpolar\":[{\"marker\":{\"line\":{\"color\":\"#E5ECF6\",\"width\":0.5},\"pattern\":{\"fillmode\":\"overlay\",\"size\":10,\"solidity\":0.2}},\"type\":\"barpolar\"}],\"pie\":[{\"automargin\":true,\"type\":\"pie\"}]},\"layout\":{\"autotypenumbers\":\"strict\",\"colorway\":[\"#636efa\",\"#EF553B\",\"#00cc96\",\"#ab63fa\",\"#FFA15A\",\"#19d3f3\",\"#FF6692\",\"#B6E880\",\"#FF97FF\",\"#FECB52\"],\"font\":{\"color\":\"#2a3f5f\"},\"hovermode\":\"closest\",\"hoverlabel\":{\"align\":\"left\"},\"paper_bgcolor\":\"white\",\"plot_bgcolor\":\"#E5ECF6\",\"polar\":{\"bgcolor\":\"#E5ECF6\",\"angularaxis\":{\"gridcolor\":\"white\",\"linecolor\":\"white\",\"ticks\":\"\"},\"radialaxis\":{\"gridcolor\":\"white\",\"linecolor\":\"white\",\"ticks\":\"\"}},\"ternary\":{\"bgcolor\":\"#E5ECF6\",\"aaxis\":{\"gridcolor\":\"white\",\"linecolor\":\"white\",\"ticks\":\"\"},\"baxis\":{\"gridcolor\":\"white\",\"linecolor\":\"white\",\"ticks\":\"\"},\"caxis\":{\"gridcolor\":\"white\",\"linecolor\":\"white\",\"ticks\":\"\"}},\"coloraxis\":{\"colorbar\":{\"outlinewidth\":0,\"ticks\":\"\"}},\"colorscale\":{\"sequential\":[[0.0,\"#0d0887\"],[0.1111111111111111,\"#46039f\"],[0.2222222222222222,\"#7201a8\"],[0.3333333333333333,\"#9c179e\"],[0.4444444444444444,\"#bd3786\"],[0.5555555555555556,\"#d8576b\"],[0.6666666666666666,\"#ed7953\"],[0.7777777777777778,\"#fb9f3a\"],[0.8888888888888888,\"#fdca26\"],[1.0,\"#f0f921\"]],\"sequentialminus\":[[0.0,\"#0d0887\"],[0.1111111111111111,\"#46039f\"],[0.2222222222222222,\"#7201a8\"],[0.3333333333333333,\"#9c179e\"],[0.4444444444444444,\"#bd3786\"],[0.5555555555555556,\"#d8576b\"],[0.6666666666666666,\"#ed7953\"],[0.7777777777777778,\"#fb9f3a\"],[0.8888888888888888,\"#fdca26\"],[1.0,\"#f0f921\"]],\"diverging\":[[0,\"#8e0152\"],[0.1,\"#c51b7d\"],[0.2,\"#de77ae\"],[0.3,\"#f1b6da\"],[0.4,\"#fde0ef\"],[0.5,\"#f7f7f7\"],[0.6,\"#e6f5d0\"],[0.7,\"#b8e186\"],[0.8,\"#7fbc41\"],[0.9,\"#4d9221\"],[1,\"#276419\"]]},\"xaxis\":{\"gridcolor\":\"white\",\"linecolor\":\"white\",\"ticks\":\"\",\"title\":{\"standoff\":15},\"zerolinecolor\":\"white\",\"automargin\":true,\"zerolinewidth\":2},\"yaxis\":{\"gridcolor\":\"white\",\"linecolor\":\"white\",\"ticks\":\"\",\"title\":{\"standoff\":15},\"zerolinecolor\":\"white\",\"automargin\":true,\"zerolinewidth\":2},\"scene\":{\"xaxis\":{\"backgroundcolor\":\"#E5ECF6\",\"gridcolor\":\"white\",\"linecolor\":\"white\",\"showbackground\":true,\"ticks\":\"\",\"zerolinecolor\":\"white\",\"gridwidth\":2},\"yaxis\":{\"backgroundcolor\":\"#E5ECF6\",\"gridcolor\":\"white\",\"linecolor\":\"white\",\"showbackground\":true,\"ticks\":\"\",\"zerolinecolor\":\"white\",\"gridwidth\":2},\"zaxis\":{\"backgroundcolor\":\"#E5ECF6\",\"gridcolor\":\"white\",\"linecolor\":\"white\",\"showbackground\":true,\"ticks\":\"\",\"zerolinecolor\":\"white\",\"gridwidth\":2}},\"shapedefaults\":{\"line\":{\"color\":\"#2a3f5f\"}},\"annotationdefaults\":{\"arrowcolor\":\"#2a3f5f\",\"arrowhead\":0,\"arrowwidth\":1},\"geo\":{\"bgcolor\":\"white\",\"landcolor\":\"#E5ECF6\",\"subunitcolor\":\"white\",\"showland\":true,\"showlakes\":true,\"lakecolor\":\"white\"},\"title\":{\"x\":0.05},\"mapbox\":{\"style\":\"light\"}}},\"xaxis\":{\"anchor\":\"y\",\"domain\":[0.0,1.0],\"title\":{\"text\":\"state\"}},\"yaxis\":{\"anchor\":\"x\",\"domain\":[0.0,1.0],\"title\":{\"text\":\"Sales\"}},\"legend\":{\"title\":{\"text\":\"year\"},\"tracegroupgap\":0},\"title\":{\"text\":\"Top 10 states current sales vs projected sales\"},\"barmode\":\"group\"},                        {\"responsive\": true}                    ).then(function(){\n",
       "                            \n",
       "var gd = document.getElementById('a7ead5a7-18c4-4584-bfb4-1fa600eadc40');\n",
       "var x = new MutationObserver(function (mutations, observer) {{\n",
       "        var display = window.getComputedStyle(gd).display;\n",
       "        if (!display || display === 'none') {{\n",
       "            console.log([gd, 'removed!']);\n",
       "            Plotly.purge(gd);\n",
       "            observer.disconnect();\n",
       "        }}\n",
       "}});\n",
       "\n",
       "// Listen for the removal of the full notebook cells\n",
       "var notebookContainer = gd.closest('#notebook-container');\n",
       "if (notebookContainer) {{\n",
       "    x.observe(notebookContainer, {childList: true});\n",
       "}}\n",
       "\n",
       "// Listen for the clearing of the current output cell\n",
       "var outputEl = gd.closest('.output');\n",
       "if (outputEl) {{\n",
       "    x.observe(outputEl, {childList: true});\n",
       "}}\n",
       "\n",
       "                        })                };                });            </script>        </div>"
      ]
     },
     "metadata": {},
     "output_type": "display_data"
    }
   ],
   "source": [
    "fig=px.bar(state_melt,x='state',y='Sales',text_auto=True,\n",
    "        title='Top 10 states current sales vs projected sales',color='year',barmode='group')\n",
    "fig.show()"
   ]
  },
  {
   "cell_type": "markdown",
   "id": "af7d638f",
   "metadata": {},
   "source": [
    "# Estimate the revenue growth rate of 4-wheeler and 2-wheelers EVs in India for 2022 vs 2024 and 2023 vs 2024,assuming an average unit price.2w 85000 4w 1500000"
   ]
  },
  {
   "cell_type": "code",
   "execution_count": 102,
   "id": "b2734508",
   "metadata": {},
   "outputs": [
    {
     "data": {
      "text/plain": [
       "392033780000"
      ]
     },
     "execution_count": 102,
     "metadata": {},
     "output_type": "execute_result"
    }
   ],
   "source": [
    "import numpy as np\n",
    "\n",
    "new_m['Revenue']=np.where(\n",
    "new_m['vehicle_category']=='4-Wheelers',new_m['electric_vehicles_sold']*1500000,new_m['electric_vehicles_sold']*85000)\n",
    "Total_rev_maker=sum(new_m['Revenue'])\n",
    "Total_rev_maker"
   ]
  },
  {
   "cell_type": "code",
   "execution_count": 103,
   "id": "512238b3",
   "metadata": {},
   "outputs": [
    {
     "data": {
      "text/html": [
       "<div>\n",
       "<style scoped>\n",
       "    .dataframe tbody tr th:only-of-type {\n",
       "        vertical-align: middle;\n",
       "    }\n",
       "\n",
       "    .dataframe tbody tr th {\n",
       "        vertical-align: top;\n",
       "    }\n",
       "\n",
       "    .dataframe thead th {\n",
       "        text-align: right;\n",
       "    }\n",
       "</style>\n",
       "<table border=\"1\" class=\"dataframe\">\n",
       "  <thead>\n",
       "    <tr style=\"text-align: right;\">\n",
       "      <th></th>\n",
       "      <th>date</th>\n",
       "      <th>fiscal_year</th>\n",
       "      <th>quarter</th>\n",
       "      <th>vehicle_category</th>\n",
       "      <th>maker</th>\n",
       "      <th>electric_vehicles_sold</th>\n",
       "      <th>Revenue</th>\n",
       "    </tr>\n",
       "  </thead>\n",
       "  <tbody>\n",
       "    <tr>\n",
       "      <th>0</th>\n",
       "      <td>2021-04-01</td>\n",
       "      <td>2022</td>\n",
       "      <td>Q1</td>\n",
       "      <td>2-Wheelers</td>\n",
       "      <td>OLA ELECTRIC</td>\n",
       "      <td>0</td>\n",
       "      <td>0</td>\n",
       "    </tr>\n",
       "    <tr>\n",
       "      <th>1</th>\n",
       "      <td>2021-04-01</td>\n",
       "      <td>2022</td>\n",
       "      <td>Q1</td>\n",
       "      <td>4-Wheelers</td>\n",
       "      <td>BYD India</td>\n",
       "      <td>0</td>\n",
       "      <td>0</td>\n",
       "    </tr>\n",
       "    <tr>\n",
       "      <th>2</th>\n",
       "      <td>2021-04-01</td>\n",
       "      <td>2022</td>\n",
       "      <td>Q1</td>\n",
       "      <td>4-Wheelers</td>\n",
       "      <td>PCA Automobiles</td>\n",
       "      <td>0</td>\n",
       "      <td>0</td>\n",
       "    </tr>\n",
       "    <tr>\n",
       "      <th>3</th>\n",
       "      <td>2021-04-01</td>\n",
       "      <td>2022</td>\n",
       "      <td>Q1</td>\n",
       "      <td>4-Wheelers</td>\n",
       "      <td>BMW India</td>\n",
       "      <td>0</td>\n",
       "      <td>0</td>\n",
       "    </tr>\n",
       "    <tr>\n",
       "      <th>4</th>\n",
       "      <td>2021-04-01</td>\n",
       "      <td>2022</td>\n",
       "      <td>Q1</td>\n",
       "      <td>4-Wheelers</td>\n",
       "      <td>Volvo Auto India</td>\n",
       "      <td>0</td>\n",
       "      <td>0</td>\n",
       "    </tr>\n",
       "    <tr>\n",
       "      <th>...</th>\n",
       "      <td>...</td>\n",
       "      <td>...</td>\n",
       "      <td>...</td>\n",
       "      <td>...</td>\n",
       "      <td>...</td>\n",
       "      <td>...</td>\n",
       "      <td>...</td>\n",
       "    </tr>\n",
       "    <tr>\n",
       "      <th>811</th>\n",
       "      <td>2024-03-01</td>\n",
       "      <td>2024</td>\n",
       "      <td>Q4</td>\n",
       "      <td>2-Wheelers</td>\n",
       "      <td>BGAUSS</td>\n",
       "      <td>3070</td>\n",
       "      <td>260950000</td>\n",
       "    </tr>\n",
       "    <tr>\n",
       "      <th>812</th>\n",
       "      <td>2024-03-01</td>\n",
       "      <td>2024</td>\n",
       "      <td>Q4</td>\n",
       "      <td>2-Wheelers</td>\n",
       "      <td>BATTRE ELECTRIC</td>\n",
       "      <td>625</td>\n",
       "      <td>53125000</td>\n",
       "    </tr>\n",
       "    <tr>\n",
       "      <th>813</th>\n",
       "      <td>2024-03-01</td>\n",
       "      <td>2024</td>\n",
       "      <td>Q4</td>\n",
       "      <td>2-Wheelers</td>\n",
       "      <td>KINETIC GREEN</td>\n",
       "      <td>3915</td>\n",
       "      <td>332775000</td>\n",
       "    </tr>\n",
       "    <tr>\n",
       "      <th>814</th>\n",
       "      <td>2024-03-01</td>\n",
       "      <td>2024</td>\n",
       "      <td>Q4</td>\n",
       "      <td>2-Wheelers</td>\n",
       "      <td>REVOLT</td>\n",
       "      <td>585</td>\n",
       "      <td>49725000</td>\n",
       "    </tr>\n",
       "    <tr>\n",
       "      <th>815</th>\n",
       "      <td>2024-03-01</td>\n",
       "      <td>2024</td>\n",
       "      <td>Q4</td>\n",
       "      <td>2-Wheelers</td>\n",
       "      <td>OTHERS</td>\n",
       "      <td>10579</td>\n",
       "      <td>899215000</td>\n",
       "    </tr>\n",
       "  </tbody>\n",
       "</table>\n",
       "<p>816 rows × 7 columns</p>\n",
       "</div>"
      ],
      "text/plain": [
       "          date  fiscal_year quarter vehicle_category             maker  \\\n",
       "0   2021-04-01         2022      Q1       2-Wheelers      OLA ELECTRIC   \n",
       "1   2021-04-01         2022      Q1       4-Wheelers         BYD India   \n",
       "2   2021-04-01         2022      Q1       4-Wheelers   PCA Automobiles   \n",
       "3   2021-04-01         2022      Q1       4-Wheelers         BMW India   \n",
       "4   2021-04-01         2022      Q1       4-Wheelers  Volvo Auto India   \n",
       "..         ...          ...     ...              ...               ...   \n",
       "811 2024-03-01         2024      Q4       2-Wheelers            BGAUSS   \n",
       "812 2024-03-01         2024      Q4       2-Wheelers   BATTRE ELECTRIC   \n",
       "813 2024-03-01         2024      Q4       2-Wheelers     KINETIC GREEN   \n",
       "814 2024-03-01         2024      Q4       2-Wheelers            REVOLT   \n",
       "815 2024-03-01         2024      Q4       2-Wheelers            OTHERS   \n",
       "\n",
       "     electric_vehicles_sold    Revenue  \n",
       "0                         0          0  \n",
       "1                         0          0  \n",
       "2                         0          0  \n",
       "3                         0          0  \n",
       "4                         0          0  \n",
       "..                      ...        ...  \n",
       "811                    3070  260950000  \n",
       "812                     625   53125000  \n",
       "813                    3915  332775000  \n",
       "814                     585   49725000  \n",
       "815                   10579  899215000  \n",
       "\n",
       "[816 rows x 7 columns]"
      ]
     },
     "execution_count": 103,
     "metadata": {},
     "output_type": "execute_result"
    }
   ],
   "source": [
    "new_m"
   ]
  },
  {
   "cell_type": "code",
   "execution_count": 121,
   "id": "f5692928",
   "metadata": {},
   "outputs": [
    {
     "data": {
      "text/html": [
       "<div>\n",
       "<style scoped>\n",
       "    .dataframe tbody tr th:only-of-type {\n",
       "        vertical-align: middle;\n",
       "    }\n",
       "\n",
       "    .dataframe tbody tr th {\n",
       "        vertical-align: top;\n",
       "    }\n",
       "\n",
       "    .dataframe thead th {\n",
       "        text-align: right;\n",
       "    }\n",
       "</style>\n",
       "<table border=\"1\" class=\"dataframe\">\n",
       "  <thead>\n",
       "    <tr style=\"text-align: right;\">\n",
       "      <th></th>\n",
       "      <th>vehicle_category</th>\n",
       "      <th>fiscal_year</th>\n",
       "      <th>electric_vehicles_sold</th>\n",
       "      <th>Revenue</th>\n",
       "    </tr>\n",
       "  </thead>\n",
       "  <tbody>\n",
       "    <tr>\n",
       "      <th>0</th>\n",
       "      <td>2-Wheelers</td>\n",
       "      <td>2022</td>\n",
       "      <td>252573</td>\n",
       "      <td>21468705000</td>\n",
       "    </tr>\n",
       "    <tr>\n",
       "      <th>1</th>\n",
       "      <td>2-Wheelers</td>\n",
       "      <td>2023</td>\n",
       "      <td>727903</td>\n",
       "      <td>61871755000</td>\n",
       "    </tr>\n",
       "    <tr>\n",
       "      <th>2</th>\n",
       "      <td>2-Wheelers</td>\n",
       "      <td>2024</td>\n",
       "      <td>932692</td>\n",
       "      <td>79278820000</td>\n",
       "    </tr>\n",
       "    <tr>\n",
       "      <th>3</th>\n",
       "      <td>4-Wheelers</td>\n",
       "      <td>2022</td>\n",
       "      <td>18577</td>\n",
       "      <td>27865500000</td>\n",
       "    </tr>\n",
       "    <tr>\n",
       "      <th>4</th>\n",
       "      <td>4-Wheelers</td>\n",
       "      <td>2023</td>\n",
       "      <td>47465</td>\n",
       "      <td>71197500000</td>\n",
       "    </tr>\n",
       "    <tr>\n",
       "      <th>5</th>\n",
       "      <td>4-Wheelers</td>\n",
       "      <td>2024</td>\n",
       "      <td>86901</td>\n",
       "      <td>130351500000</td>\n",
       "    </tr>\n",
       "  </tbody>\n",
       "</table>\n",
       "</div>"
      ],
      "text/plain": [
       "  vehicle_category  fiscal_year  electric_vehicles_sold       Revenue\n",
       "0       2-Wheelers         2022                  252573   21468705000\n",
       "1       2-Wheelers         2023                  727903   61871755000\n",
       "2       2-Wheelers         2024                  932692   79278820000\n",
       "3       4-Wheelers         2022                   18577   27865500000\n",
       "4       4-Wheelers         2023                   47465   71197500000\n",
       "5       4-Wheelers         2024                   86901  130351500000"
      ]
     },
     "execution_count": 121,
     "metadata": {},
     "output_type": "execute_result"
    }
   ],
   "source": [
    "rev_maker=new_m.groupby(['vehicle_category','fiscal_year']).sum('Revenue').reset_index()\n",
    "rev_maker"
   ]
  },
  {
   "cell_type": "code",
   "execution_count": 123,
   "id": "c258b633",
   "metadata": {},
   "outputs": [
    {
     "data": {
      "text/html": [
       "<div>\n",
       "<style scoped>\n",
       "    .dataframe tbody tr th:only-of-type {\n",
       "        vertical-align: middle;\n",
       "    }\n",
       "\n",
       "    .dataframe tbody tr th {\n",
       "        vertical-align: top;\n",
       "    }\n",
       "\n",
       "    .dataframe thead th {\n",
       "        text-align: right;\n",
       "    }\n",
       "</style>\n",
       "<table border=\"1\" class=\"dataframe\">\n",
       "  <thead>\n",
       "    <tr style=\"text-align: right;\">\n",
       "      <th>fiscal_year</th>\n",
       "      <th>vehicle_category</th>\n",
       "      <th>rev22</th>\n",
       "      <th>rev23</th>\n",
       "      <th>rev24</th>\n",
       "    </tr>\n",
       "  </thead>\n",
       "  <tbody>\n",
       "    <tr>\n",
       "      <th>0</th>\n",
       "      <td>2-Wheelers</td>\n",
       "      <td>21468705000</td>\n",
       "      <td>61871755000</td>\n",
       "      <td>79278820000</td>\n",
       "    </tr>\n",
       "    <tr>\n",
       "      <th>1</th>\n",
       "      <td>4-Wheelers</td>\n",
       "      <td>27865500000</td>\n",
       "      <td>71197500000</td>\n",
       "      <td>130351500000</td>\n",
       "    </tr>\n",
       "  </tbody>\n",
       "</table>\n",
       "</div>"
      ],
      "text/plain": [
       "fiscal_year vehicle_category        rev22        rev23         rev24\n",
       "0                 2-Wheelers  21468705000  61871755000   79278820000\n",
       "1                 4-Wheelers  27865500000  71197500000  130351500000"
      ]
     },
     "execution_count": 123,
     "metadata": {},
     "output_type": "execute_result"
    }
   ],
   "source": [
    "rev_pivot=pd.pivot_table(rev_maker,index='vehicle_category',columns='fiscal_year',values='Revenue')\n",
    "rev_pivot.rename(columns={2022: 'rev22', 2023: 'rev23', 2024: 'rev24'}, inplace=True)\n",
    "#rev_pivot=rev_pivot.fillna(0)\n",
    "rev_pivot.reset_index()"
   ]
  },
  {
   "cell_type": "code",
   "execution_count": 124,
   "id": "2399901e",
   "metadata": {},
   "outputs": [
    {
     "data": {
      "text/html": [
       "<div>\n",
       "<style scoped>\n",
       "    .dataframe tbody tr th:only-of-type {\n",
       "        vertical-align: middle;\n",
       "    }\n",
       "\n",
       "    .dataframe tbody tr th {\n",
       "        vertical-align: top;\n",
       "    }\n",
       "\n",
       "    .dataframe thead th {\n",
       "        text-align: right;\n",
       "    }\n",
       "</style>\n",
       "<table border=\"1\" class=\"dataframe\">\n",
       "  <thead>\n",
       "    <tr style=\"text-align: right;\">\n",
       "      <th>fiscal_year</th>\n",
       "      <th>rev22</th>\n",
       "      <th>rev23</th>\n",
       "      <th>rev24</th>\n",
       "      <th>rev22_24</th>\n",
       "      <th>rev23_24</th>\n",
       "    </tr>\n",
       "    <tr>\n",
       "      <th>vehicle_category</th>\n",
       "      <th></th>\n",
       "      <th></th>\n",
       "      <th></th>\n",
       "      <th></th>\n",
       "      <th></th>\n",
       "    </tr>\n",
       "  </thead>\n",
       "  <tbody>\n",
       "    <tr>\n",
       "      <th>2-Wheelers</th>\n",
       "      <td>21468705000</td>\n",
       "      <td>61871755000</td>\n",
       "      <td>79278820000</td>\n",
       "      <td>269.276209</td>\n",
       "      <td>28.134106</td>\n",
       "    </tr>\n",
       "    <tr>\n",
       "      <th>4-Wheelers</th>\n",
       "      <td>27865500000</td>\n",
       "      <td>71197500000</td>\n",
       "      <td>130351500000</td>\n",
       "      <td>367.788125</td>\n",
       "      <td>83.084378</td>\n",
       "    </tr>\n",
       "  </tbody>\n",
       "</table>\n",
       "</div>"
      ],
      "text/plain": [
       "fiscal_year             rev22        rev23         rev24    rev22_24  \\\n",
       "vehicle_category                                                       \n",
       "2-Wheelers        21468705000  61871755000   79278820000  269.276209   \n",
       "4-Wheelers        27865500000  71197500000  130351500000  367.788125   \n",
       "\n",
       "fiscal_year        rev23_24  \n",
       "vehicle_category             \n",
       "2-Wheelers        28.134106  \n",
       "4-Wheelers        83.084378  "
      ]
     },
     "execution_count": 124,
     "metadata": {},
     "output_type": "execute_result"
    }
   ],
   "source": [
    "rev_pivot['rev22_24']=((rev_pivot['rev24']-rev_pivot['rev22'])/rev_pivot['rev22'])*100\n",
    "rev_pivot['rev23_24']=((rev_pivot['rev24']-rev_pivot['rev23'])/rev_pivot['rev23'])*100\n",
    "rev_pivot"
   ]
  },
  {
   "cell_type": "code",
   "execution_count": 127,
   "id": "012860cb",
   "metadata": {},
   "outputs": [
    {
     "data": {
      "text/html": [
       "<div>\n",
       "<style scoped>\n",
       "    .dataframe tbody tr th:only-of-type {\n",
       "        vertical-align: middle;\n",
       "    }\n",
       "\n",
       "    .dataframe tbody tr th {\n",
       "        vertical-align: top;\n",
       "    }\n",
       "\n",
       "    .dataframe thead th {\n",
       "        text-align: right;\n",
       "    }\n",
       "</style>\n",
       "<table border=\"1\" class=\"dataframe\">\n",
       "  <thead>\n",
       "    <tr style=\"text-align: right;\">\n",
       "      <th></th>\n",
       "      <th>vehicle_category</th>\n",
       "      <th>year</th>\n",
       "      <th>Revenue Growth</th>\n",
       "    </tr>\n",
       "  </thead>\n",
       "  <tbody>\n",
       "    <tr>\n",
       "      <th>0</th>\n",
       "      <td>2-Wheelers</td>\n",
       "      <td>rev22_24</td>\n",
       "      <td>269.276209</td>\n",
       "    </tr>\n",
       "    <tr>\n",
       "      <th>1</th>\n",
       "      <td>4-Wheelers</td>\n",
       "      <td>rev22_24</td>\n",
       "      <td>367.788125</td>\n",
       "    </tr>\n",
       "    <tr>\n",
       "      <th>2</th>\n",
       "      <td>2-Wheelers</td>\n",
       "      <td>rev23_24</td>\n",
       "      <td>28.134106</td>\n",
       "    </tr>\n",
       "    <tr>\n",
       "      <th>3</th>\n",
       "      <td>4-Wheelers</td>\n",
       "      <td>rev23_24</td>\n",
       "      <td>83.084378</td>\n",
       "    </tr>\n",
       "  </tbody>\n",
       "</table>\n",
       "</div>"
      ],
      "text/plain": [
       "  vehicle_category      year  Revenue Growth\n",
       "0       2-Wheelers  rev22_24      269.276209\n",
       "1       4-Wheelers  rev22_24      367.788125\n",
       "2       2-Wheelers  rev23_24       28.134106\n",
       "3       4-Wheelers  rev23_24       83.084378"
      ]
     },
     "execution_count": 127,
     "metadata": {},
     "output_type": "execute_result"
    }
   ],
   "source": [
    "rev_pivot=rev_pivot.reset_index()\n",
    "rev_melt=rev_pivot.melt(id_vars='vehicle_category',value_vars=['rev22_24','rev23_24'],var_name='year',value_name='Revenue Growth')\n",
    "rev_melt\n"
   ]
  },
  {
   "cell_type": "code",
   "execution_count": 134,
   "id": "8945c4ca",
   "metadata": {},
   "outputs": [
    {
     "data": {
      "image/png": "[encoded data removed]",
      "text/plain": [
       "<Figure size 800x800 with 1 Axes>"
      ]
     },
     "metadata": {},
     "output_type": "display_data"
    }
   ],
   "source": [
    "fig,ax=plt.subplots(figsize=(8,8))\n",
    "sns.barplot(rev_melt,x='vehicle_category',y='Revenue Growth',hue='year',palette=sns.hls_palette())\n",
    "container=0\n",
    "for container in ax.containers:\n",
    "    ax.bar_label(container,fmt='%.2f')\n",
    "ax.set_title('Revenue Growth by Vehicle Category and Year')\n",
    "plt.show() "
   ]
  },
  {
   "cell_type": "code",
   "execution_count": null,
   "id": "c8c601ce",
   "metadata": {},
   "outputs": [],
   "source": []
  }
 ],
 "metadata": {
  "kernelspec": {
   "display_name": "Python 3 (ipykernel)",
   "language": "python",
   "name": "python3"
  },
  "language_info": {
   "codemirror_mode": {
    "name": "ipython",
    "version": 3
   },
   "file_extension": ".py",
   "mimetype": "text/x-python",
   "name": "python",
   "nbconvert_exporter": "python",
   "pygments_lexer": "ipython3",
   "version": "3.11.5"
  }
 },
 "nbformat": 4,
 "nbformat_minor": 5
}
